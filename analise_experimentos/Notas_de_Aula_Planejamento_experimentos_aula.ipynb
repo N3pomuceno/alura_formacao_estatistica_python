{
 "cells": [
  {
   "cell_type": "markdown",
   "metadata": {},
   "source": [
    "<h1 style='color: blue; font-size: 34px; font-weight: bold;'> Planejamento de Experimentos \n",
    "</h1>\n"
   ]
  },
  {
   "cell_type": "markdown",
   "metadata": {},
   "source": [
    "# <font color='red' style='font-size: 30px;'>1.0 Introdução   </font>\n",
    "<hr style='border: 2px solid red;'>\n",
    "\n",
    "\n",
    "\n",
    "\n",
    "<p style='font-size: 18px; line-height: 2; margin: 0px 0px; text-align: justify; text-indent: 0px;'>    \n",
    "<i> “Chamar um especialista em estatística depois que o experimento foi feito pode ser o mesmo que pedir para ele fazer um exame post-mortem. Talvez ele consiga dizer do que foi que o experimento morreu.”  </i>     \n",
    "</p>    \n",
    "\n",
    "<p style='font-size: 18px; line-height: 2; margin: 0px 0px; text-align: right; text-indent: 0px;'>    \n",
    "    <b>Sir Ronald Fisher</b>  \n",
    "\n",
    "<hr>\n",
    "\n",
    "\n",
    "\n",
    "\n"
   ]
  },
  {
   "cell_type": "markdown",
   "metadata": {},
   "source": [
    "# <font color='red' style='font-size: 30px;'> Introdução à análise de experimentos   </font>\n",
    "<hr style='border: 2px solid red;'>"
   ]
  },
  {
   "cell_type": "markdown",
   "metadata": {},
   "source": [
    "# <font color = 'purple'> Inserindo o experimento num Data Frame </font>\n",
    "\n",
    "\n",
    "<p style='margin: 30px 30px;'>\n",
    "    \n",
    "<hr style = 'border: 1px solid purple;'>"
   ]
  },
  {
   "cell_type": "markdown",
   "metadata": {},
   "source": [
    "## Importando as bibliotecas "
   ]
  },
  {
   "cell_type": "markdown",
   "metadata": {},
   "source": [
    "### Pandas\n",
    "\n",
    "https://pandas.pydata.org/"
   ]
  },
  {
   "cell_type": "code",
   "execution_count": 1,
   "metadata": {},
   "outputs": [],
   "source": [
    "import pandas as pd"
   ]
  },
  {
   "cell_type": "markdown",
   "metadata": {},
   "source": [
    "### Numpy\n",
    "\n",
    "http://www.numpy.org/"
   ]
  },
  {
   "cell_type": "code",
   "execution_count": 2,
   "metadata": {},
   "outputs": [],
   "source": [
    "import numpy as np"
   ]
  },
  {
   "cell_type": "markdown",
   "metadata": {},
   "source": [
    "\n",
    "\n",
    "<p style='font-size: 18px; line-height: 2; margin: 0px 0px; text-align: justify; text-indent: 0px;'>\n",
    "    <font color=\"red\"> <b>Ensaios realizados na forma normalizada</b> \n",
    "\n",
    "\n",
    "<img width='800px' src='figuras/Figura_2.png'>\n",
    "\n",
    " \n",
    "   \n",
    "   \n",
    "    "
   ]
  },
  {
   "cell_type": "markdown",
   "metadata": {},
   "source": [
    "\n",
    "<p style='font-size: 18px; line-height: 2; margin: 0px 0px; text-align: justify; text-indent: 0px;'>\n",
    "<font color=\"MidnightBlue\"> Construindo uma matriz representando todos os ensaios realizados:\n"
   ]
  },
  {
   "cell_type": "code",
   "execution_count": 3,
   "metadata": {},
   "outputs": [],
   "source": [
    "ensaios = np.array([[-1.,-1.],[1.,-1.],[-1.,1.],[1.,1.]])"
   ]
  },
  {
   "cell_type": "markdown",
   "metadata": {},
   "source": [
    "### pyDOE2\n",
    "\n",
    "https://pypi.org/project/pyDOE2/"
   ]
  },
  {
   "cell_type": "code",
   "execution_count": 4,
   "metadata": {},
   "outputs": [],
   "source": [
    "#Ajuda no planejamento fatorial, bom quando tiver muitas variáveis.\n",
    "#import pyDOE2 as doe"
   ]
  },
  {
   "cell_type": "markdown",
   "metadata": {},
   "source": [
    "## Costruindo um planejamento fatorial de 2²\n"
   ]
  },
  {
   "cell_type": "code",
   "execution_count": 5,
   "metadata": {},
   "outputs": [],
   "source": [
    "# ensaios = doe.ff2n(2)"
   ]
  },
  {
   "cell_type": "code",
   "execution_count": 6,
   "metadata": {},
   "outputs": [
    {
     "data": {
      "text/plain": [
       "array([[-1., -1.],\n",
       "       [ 1., -1.],\n",
       "       [-1.,  1.],\n",
       "       [ 1.,  1.]])"
      ]
     },
     "execution_count": 6,
     "metadata": {},
     "output_type": "execute_result"
    }
   ],
   "source": [
    "ensaios"
   ]
  },
  {
   "cell_type": "markdown",
   "metadata": {},
   "source": [
    "## Incerindo o planejamento em um Data Frame"
   ]
  },
  {
   "cell_type": "code",
   "execution_count": 7,
   "metadata": {},
   "outputs": [],
   "source": [
    "experimento = pd.DataFrame(ensaios, columns = ['Farinha', 'Chocolate'])"
   ]
  },
  {
   "cell_type": "code",
   "execution_count": 8,
   "metadata": {},
   "outputs": [
    {
     "data": {
      "text/html": [
       "<div>\n",
       "<style scoped>\n",
       "    .dataframe tbody tr th:only-of-type {\n",
       "        vertical-align: middle;\n",
       "    }\n",
       "\n",
       "    .dataframe tbody tr th {\n",
       "        vertical-align: top;\n",
       "    }\n",
       "\n",
       "    .dataframe thead th {\n",
       "        text-align: right;\n",
       "    }\n",
       "</style>\n",
       "<table border=\"1\" class=\"dataframe\">\n",
       "  <thead>\n",
       "    <tr style=\"text-align: right;\">\n",
       "      <th></th>\n",
       "      <th>Farinha</th>\n",
       "      <th>Chocolate</th>\n",
       "    </tr>\n",
       "  </thead>\n",
       "  <tbody>\n",
       "    <tr>\n",
       "      <th>0</th>\n",
       "      <td>-1.0</td>\n",
       "      <td>-1.0</td>\n",
       "    </tr>\n",
       "    <tr>\n",
       "      <th>1</th>\n",
       "      <td>1.0</td>\n",
       "      <td>-1.0</td>\n",
       "    </tr>\n",
       "    <tr>\n",
       "      <th>2</th>\n",
       "      <td>-1.0</td>\n",
       "      <td>1.0</td>\n",
       "    </tr>\n",
       "    <tr>\n",
       "      <th>3</th>\n",
       "      <td>1.0</td>\n",
       "      <td>1.0</td>\n",
       "    </tr>\n",
       "  </tbody>\n",
       "</table>\n",
       "</div>"
      ],
      "text/plain": [
       "   Farinha  Chocolate\n",
       "0     -1.0       -1.0\n",
       "1      1.0       -1.0\n",
       "2     -1.0        1.0\n",
       "3      1.0        1.0"
      ]
     },
     "execution_count": 8,
     "metadata": {},
     "output_type": "execute_result"
    }
   ],
   "source": [
    "experimento"
   ]
  },
  {
   "cell_type": "markdown",
   "metadata": {},
   "source": [
    "### Inserindo coluna com os resultados "
   ]
  },
  {
   "cell_type": "code",
   "execution_count": 9,
   "metadata": {},
   "outputs": [],
   "source": [
    "experimento['Porcoes'] = [19,37,24,49]"
   ]
  },
  {
   "cell_type": "code",
   "execution_count": 10,
   "metadata": {},
   "outputs": [
    {
     "data": {
      "text/html": [
       "<div>\n",
       "<style scoped>\n",
       "    .dataframe tbody tr th:only-of-type {\n",
       "        vertical-align: middle;\n",
       "    }\n",
       "\n",
       "    .dataframe tbody tr th {\n",
       "        vertical-align: top;\n",
       "    }\n",
       "\n",
       "    .dataframe thead th {\n",
       "        text-align: right;\n",
       "    }\n",
       "</style>\n",
       "<table border=\"1\" class=\"dataframe\">\n",
       "  <thead>\n",
       "    <tr style=\"text-align: right;\">\n",
       "      <th></th>\n",
       "      <th>Farinha</th>\n",
       "      <th>Chocolate</th>\n",
       "      <th>Porcoes</th>\n",
       "    </tr>\n",
       "  </thead>\n",
       "  <tbody>\n",
       "    <tr>\n",
       "      <th>0</th>\n",
       "      <td>-1.0</td>\n",
       "      <td>-1.0</td>\n",
       "      <td>19</td>\n",
       "    </tr>\n",
       "    <tr>\n",
       "      <th>1</th>\n",
       "      <td>1.0</td>\n",
       "      <td>-1.0</td>\n",
       "      <td>37</td>\n",
       "    </tr>\n",
       "    <tr>\n",
       "      <th>2</th>\n",
       "      <td>-1.0</td>\n",
       "      <td>1.0</td>\n",
       "      <td>24</td>\n",
       "    </tr>\n",
       "    <tr>\n",
       "      <th>3</th>\n",
       "      <td>1.0</td>\n",
       "      <td>1.0</td>\n",
       "      <td>49</td>\n",
       "    </tr>\n",
       "  </tbody>\n",
       "</table>\n",
       "</div>"
      ],
      "text/plain": [
       "   Farinha  Chocolate  Porcoes\n",
       "0     -1.0       -1.0       19\n",
       "1      1.0       -1.0       37\n",
       "2     -1.0        1.0       24\n",
       "3      1.0        1.0       49"
      ]
     },
     "execution_count": 10,
     "metadata": {},
     "output_type": "execute_result"
    }
   ],
   "source": [
    "experimento"
   ]
  },
  {
   "cell_type": "markdown",
   "metadata": {},
   "source": [
    "<hr>\n",
    "<p style='font-size: 18px; line-height: 2; margin: 0px 0px; text-align: justify; text-indent: 0px;'>\n",
    "    <font color=\"MidnightBlue\"> <b>Conclusão:</b> Temos, por fim, nosso experimento representado por um <i>DataFrame</i> do Pandas. Usaremos este <i>DataFrame</i> para iniciarmos a análise do nosso experimento. \n",
    "    \n",
    "<hr>   "
   ]
  },
  {
   "cell_type": "markdown",
   "metadata": {},
   "source": [
    "# <font color = 'purple'> Analisando graficamente o experimento   </font>\n",
    "\n",
    "\n",
    "<p style='margin: 30px 30px;'>\n",
    "    \n",
    "<hr style = 'border: 1px solid purple;'>"
   ]
  },
  {
   "cell_type": "markdown",
   "metadata": {},
   "source": [
    "###  Importando o Seaborn\n",
    "\n",
    "https://seaborn.pydata.org"
   ]
  },
  {
   "cell_type": "code",
   "execution_count": 11,
   "metadata": {},
   "outputs": [],
   "source": [
    "import seaborn as sns"
   ]
  },
  {
   "cell_type": "code",
   "execution_count": 12,
   "metadata": {},
   "outputs": [],
   "source": [
    "# paletas -> Accent, Accent_r, Blues, Blues_r, BrBG, BrBG_r, BuGn, BuGn_r, BuPu, BuPu_r, CMRmap, CMRmap_r, Dark2, Dark2_r, GnBu, GnBu_r, Greens, Greens_r, Greys, Greys_r, OrRd, OrRd_r, Oranges, Oranges_r, PRGn, PRGn_r, Paired, Paired_r, Pastel1, Pastel1_r, Pastel2, Pastel2_r, PiYG, PiYG_r, PuBu, PuBuGn, PuBuGn_r, PuBu_r, PuOr, PuOr_r, PuRd, PuRd_r, Purples, Purples_r, RdBu, RdBu_r, RdGy, RdGy_r, RdPu, RdPu_r, RdYlBu, RdYlBu_r, RdYlGn, RdYlGn_r, Reds, Reds_r, Set1, Set1_r, Set2, Set2_r, Set3, Set3_r, Spectral, Spectral_r, Wistia, Wistia_r, YlGn, YlGnBu, YlGnBu_r, YlGn_r, YlOrBr, YlOrBr_r, YlOrRd, YlOrRd_r, afmhot, afmhot_r, autumn, autumn_r, binary, binary_r, bone, bone_r, brg, brg_r, bwr, bwr_r, cividis, cividis_r, cool, cool_r, coolwarm, coolwarm_r, copper, copper_r, cubehelix, cubehelix_r, flag, flag_r, gist_earth, gist_earth_r, gist_gray, gist_gray_r, gist_heat, gist_heat_r, gist_ncar, gist_ncar_r, gist_rainbow, gist_rainbow_r, gist_stern, gist_stern_r, gist_yarg, gist_yarg_r, gnuplot, gnuplot2, gnuplot2_r, gnuplot_r, gray, gray_r, hot, hot_r, hsv, hsv_r, icefire, icefire_r, inferno, inferno_r, jet, jet_r, magma, magma_r, mako, mako_r, nipy_spectral, nipy_spectral_r, ocean, ocean_r, pink, pink_r, plasma, plasma_r, prism, prism_r, rainbow, rainbow_r, rocket, rocket_r, seismic, seismic_r, spring, spring_r, summer, summer_r, tab10, tab10_r, tab20, tab20_r, tab20b, tab20b_r, tab20c, tab20c_r, terrain, terrain_r, viridis, viridis_r, vlag, vlag_r, winter, winter_r\n",
    "sns.set_palette('terrain')\n",
    "\n",
    "# estilo -> white, dark, whitegrid, darkgrid, ticks\n",
    "sns.set_style('darkgrid')"
   ]
  },
  {
   "cell_type": "markdown",
   "metadata": {},
   "source": [
    "### Para a farinha"
   ]
  },
  {
   "cell_type": "code",
   "execution_count": 13,
   "metadata": {},
   "outputs": [
    {
     "data": {
      "text/plain": [
       "<seaborn.axisgrid.FacetGrid at 0x7f7a38fdb700>"
      ]
     },
     "execution_count": 13,
     "metadata": {},
     "output_type": "execute_result"
    },
    {
     "data": {
      "image/png": "[encoded data removed]",
      "text/plain": [
       "<Figure size 417.75x360 with 1 Axes>"
      ]
     },
     "metadata": {},
     "output_type": "display_data"
    }
   ],
   "source": [
    "ax = sns.lmplot(data=experimento, x='Farinha', y=\"Porcoes\", ci = None, hue = \"Chocolate\")\n",
    "ax .set(xticks = (-1,1))"
   ]
  },
  {
   "cell_type": "markdown",
   "metadata": {},
   "source": [
    "### Para o chocolate"
   ]
  },
  {
   "cell_type": "code",
   "execution_count": 14,
   "metadata": {},
   "outputs": [
    {
     "data": {
      "text/plain": [
       "<seaborn.axisgrid.FacetGrid at 0x7f7a36f2cd00>"
      ]
     },
     "execution_count": 14,
     "metadata": {},
     "output_type": "execute_result"
    },
    {
     "data": {
      "image/png": "[encoded data removed]",
      "text/plain": [
       "<Figure size 415.5x360 with 1 Axes>"
      ]
     },
     "metadata": {},
     "output_type": "display_data"
    }
   ],
   "source": [
    "ax = sns.lmplot(data=experimento, x='Chocolate', y=\"Porcoes\", ci = None, hue = \"Farinha\")\n",
    "ax .set(xticks = (-1,1))"
   ]
  },
  {
   "cell_type": "markdown",
   "metadata": {},
   "source": [
    "# <font color = 'purple'> Ajustando o modelo estatístico </font>\n",
    "\n",
    "\n",
    "<p style='margin: 30px 30px;'>\n",
    "    \n",
    "<hr style = 'border: 1px solid purple;'>"
   ]
  },
  {
   "cell_type": "markdown",
   "metadata": {},
   "source": [
    "<hr>\n",
    "\n",
    "<img width='800px' src='figuras/Figura_3.png'>\n",
    "\n",
    "<p style='margin: 30px 30px;'> \n",
    "\n",
    "<hr>\n"
   ]
  },
  {
   "cell_type": "markdown",
   "metadata": {},
   "source": [
    "### Bibliotecas  Stats Model\n"
   ]
  },
  {
   "cell_type": "code",
   "execution_count": 15,
   "metadata": {},
   "outputs": [],
   "source": [
    "import statsmodels.api as sms\n",
    "import statsmodels.formula.api as smf"
   ]
  },
  {
   "cell_type": "markdown",
   "metadata": {},
   "source": [
    "### ."
   ]
  },
  {
   "cell_type": "code",
   "execution_count": 16,
   "metadata": {},
   "outputs": [],
   "source": [
    "modelo = smf.ols( data = experimento, formula= 'Porcoes ~ Farinha + Chocolate + Farinha:Chocolate')"
   ]
  },
  {
   "cell_type": "code",
   "execution_count": 17,
   "metadata": {},
   "outputs": [],
   "source": [
    "modelo_ajustado = modelo.fit()"
   ]
  },
  {
   "cell_type": "code",
   "execution_count": 18,
   "metadata": {
    "scrolled": false
   },
   "outputs": [
    {
     "name": "stdout",
     "output_type": "stream",
     "text": [
      "                            OLS Regression Results                            \n",
      "==============================================================================\n",
      "Dep. Variable:                Porcoes   R-squared:                       1.000\n",
      "Model:                            OLS   Adj. R-squared:                    nan\n",
      "Method:                 Least Squares   F-statistic:                       nan\n",
      "Date:                Mon, 09 Jan 2023   Prob (F-statistic):                nan\n",
      "Time:                        11:52:49   Log-Likelihood:                 127.41\n",
      "No. Observations:                   4   AIC:                            -246.8\n",
      "Df Residuals:                       0   BIC:                            -249.3\n",
      "Df Model:                           3                                         \n",
      "Covariance Type:            nonrobust                                         \n",
      "=====================================================================================\n",
      "                        coef    std err          t      P>|t|      [0.025      0.975]\n",
      "-------------------------------------------------------------------------------------\n",
      "Intercept            32.2500        inf          0        nan         nan         nan\n",
      "Farinha              10.7500        inf          0        nan         nan         nan\n",
      "Chocolate             4.2500        inf          0        nan         nan         nan\n",
      "Farinha:Chocolate     1.7500        inf          0        nan         nan         nan\n",
      "==============================================================================\n",
      "Omnibus:                          nan   Durbin-Watson:                   2.000\n",
      "Prob(Omnibus):                    nan   Jarque-Bera (JB):                0.963\n",
      "Skew:                           1.155   Prob(JB):                        0.618\n",
      "Kurtosis:                       2.333   Cond. No.                         1.00\n",
      "==============================================================================\n",
      "\n",
      "Notes:\n",
      "[1] Standard Errors assume that the covariance matrix of the errors is correctly specified.\n"
     ]
    },
    {
     "name": "stderr",
     "output_type": "stream",
     "text": [
      "/home/n3po/.local/lib/python3.8/site-packages/statsmodels/stats/stattools.py:74: ValueWarning: omni_normtest is not valid with less than 8 observations; 4 samples were given.\n",
      "  warn(\"omni_normtest is not valid with less than 8 observations; %i \"\n",
      "/home/n3po/.local/lib/python3.8/site-packages/statsmodels/regression/linear_model.py:1749: RuntimeWarning: divide by zero encountered in true_divide\n",
      "  return 1 - (np.divide(self.nobs - self.k_constant, self.df_resid)\n",
      "/home/n3po/.local/lib/python3.8/site-packages/statsmodels/regression/linear_model.py:1749: RuntimeWarning: invalid value encountered in double_scalars\n",
      "  return 1 - (np.divide(self.nobs - self.k_constant, self.df_resid)\n",
      "/home/n3po/.local/lib/python3.8/site-packages/statsmodels/regression/linear_model.py:1671: RuntimeWarning: divide by zero encountered in double_scalars\n",
      "  return np.dot(wresid, wresid) / self.df_resid\n",
      "/home/n3po/.local/lib/python3.8/site-packages/statsmodels/base/model.py:1512: RuntimeWarning: invalid value encountered in multiply\n",
      "  cov_p = self.normalized_cov_params * scale\n"
     ]
    }
   ],
   "source": [
    "print(modelo_ajustado.summary())"
   ]
  },
  {
   "cell_type": "markdown",
   "metadata": {},
   "source": [
    "# <font color = 'purple'> Aumentando os Graus de liberdade  </font>\n",
    "\n",
    "\n",
    "<p style='margin: 30px 30px;'>\n",
    "    \n",
    "<hr style = 'border: 1px solid purple;'>\n",
    "\n",
    "\n",
    "\n",
    "<p style='margin: 30px 30px;'>     \n",
    "    \n"
   ]
  },
  {
   "cell_type": "markdown",
   "metadata": {},
   "source": [
    "<hr>\n",
    "\n",
    "\n",
    "<p style='font-size: 18px; line-height: 2; margin: 0px 0px; text-align: justify; text-indent: 0px;'>\n",
    "    <font color=\"red\"> <b>Replicatas no centro</b>\n",
    "\n",
    "\n",
    "<img width='800px' src='figuras/Figura_5.png'> \n",
    "\n",
    "\n",
    "<p style='margin: 30px 30px;'> \n",
    "    \n",
    "    \n",
    " \n",
    "    \n",
    "\n",
    "    \n",
    "<hr>    "
   ]
  },
  {
   "cell_type": "code",
   "execution_count": 19,
   "metadata": {},
   "outputs": [],
   "source": [
    "centro = np.array([[0,0,29],\n",
    "                  [0,0,30],\n",
    "                  [0,0,29],\n",
    "                  [0,0,30], ])"
   ]
  },
  {
   "cell_type": "code",
   "execution_count": 20,
   "metadata": {},
   "outputs": [],
   "source": [
    "centro_dataframe = pd.DataFrame(centro, columns = ['Farinha', 'Chocolate', 'Porcoes'], index =[4,5,6,7])"
   ]
  },
  {
   "cell_type": "code",
   "execution_count": 21,
   "metadata": {},
   "outputs": [
    {
     "data": {
      "text/html": [
       "<div>\n",
       "<style scoped>\n",
       "    .dataframe tbody tr th:only-of-type {\n",
       "        vertical-align: middle;\n",
       "    }\n",
       "\n",
       "    .dataframe tbody tr th {\n",
       "        vertical-align: top;\n",
       "    }\n",
       "\n",
       "    .dataframe thead th {\n",
       "        text-align: right;\n",
       "    }\n",
       "</style>\n",
       "<table border=\"1\" class=\"dataframe\">\n",
       "  <thead>\n",
       "    <tr style=\"text-align: right;\">\n",
       "      <th></th>\n",
       "      <th>Farinha</th>\n",
       "      <th>Chocolate</th>\n",
       "      <th>Porcoes</th>\n",
       "    </tr>\n",
       "  </thead>\n",
       "  <tbody>\n",
       "    <tr>\n",
       "      <th>4</th>\n",
       "      <td>0</td>\n",
       "      <td>0</td>\n",
       "      <td>29</td>\n",
       "    </tr>\n",
       "    <tr>\n",
       "      <th>5</th>\n",
       "      <td>0</td>\n",
       "      <td>0</td>\n",
       "      <td>30</td>\n",
       "    </tr>\n",
       "    <tr>\n",
       "      <th>6</th>\n",
       "      <td>0</td>\n",
       "      <td>0</td>\n",
       "      <td>29</td>\n",
       "    </tr>\n",
       "    <tr>\n",
       "      <th>7</th>\n",
       "      <td>0</td>\n",
       "      <td>0</td>\n",
       "      <td>30</td>\n",
       "    </tr>\n",
       "  </tbody>\n",
       "</table>\n",
       "</div>"
      ],
      "text/plain": [
       "   Farinha  Chocolate  Porcoes\n",
       "4        0          0       29\n",
       "5        0          0       30\n",
       "6        0          0       29\n",
       "7        0          0       30"
      ]
     },
     "execution_count": 21,
     "metadata": {},
     "output_type": "execute_result"
    }
   ],
   "source": [
    "centro_dataframe"
   ]
  },
  {
   "cell_type": "markdown",
   "metadata": {},
   "source": [
    "### ."
   ]
  },
  {
   "cell_type": "code",
   "execution_count": 22,
   "metadata": {},
   "outputs": [],
   "source": [
    "experimento = pd.concat([experimento, centro_dataframe])"
   ]
  },
  {
   "cell_type": "code",
   "execution_count": 23,
   "metadata": {},
   "outputs": [
    {
     "data": {
      "text/html": [
       "<div>\n",
       "<style scoped>\n",
       "    .dataframe tbody tr th:only-of-type {\n",
       "        vertical-align: middle;\n",
       "    }\n",
       "\n",
       "    .dataframe tbody tr th {\n",
       "        vertical-align: top;\n",
       "    }\n",
       "\n",
       "    .dataframe thead th {\n",
       "        text-align: right;\n",
       "    }\n",
       "</style>\n",
       "<table border=\"1\" class=\"dataframe\">\n",
       "  <thead>\n",
       "    <tr style=\"text-align: right;\">\n",
       "      <th></th>\n",
       "      <th>Farinha</th>\n",
       "      <th>Chocolate</th>\n",
       "      <th>Porcoes</th>\n",
       "    </tr>\n",
       "  </thead>\n",
       "  <tbody>\n",
       "    <tr>\n",
       "      <th>0</th>\n",
       "      <td>-1.0</td>\n",
       "      <td>-1.0</td>\n",
       "      <td>19</td>\n",
       "    </tr>\n",
       "    <tr>\n",
       "      <th>1</th>\n",
       "      <td>1.0</td>\n",
       "      <td>-1.0</td>\n",
       "      <td>37</td>\n",
       "    </tr>\n",
       "    <tr>\n",
       "      <th>2</th>\n",
       "      <td>-1.0</td>\n",
       "      <td>1.0</td>\n",
       "      <td>24</td>\n",
       "    </tr>\n",
       "    <tr>\n",
       "      <th>3</th>\n",
       "      <td>1.0</td>\n",
       "      <td>1.0</td>\n",
       "      <td>49</td>\n",
       "    </tr>\n",
       "    <tr>\n",
       "      <th>4</th>\n",
       "      <td>0.0</td>\n",
       "      <td>0.0</td>\n",
       "      <td>29</td>\n",
       "    </tr>\n",
       "    <tr>\n",
       "      <th>5</th>\n",
       "      <td>0.0</td>\n",
       "      <td>0.0</td>\n",
       "      <td>30</td>\n",
       "    </tr>\n",
       "    <tr>\n",
       "      <th>6</th>\n",
       "      <td>0.0</td>\n",
       "      <td>0.0</td>\n",
       "      <td>29</td>\n",
       "    </tr>\n",
       "    <tr>\n",
       "      <th>7</th>\n",
       "      <td>0.0</td>\n",
       "      <td>0.0</td>\n",
       "      <td>30</td>\n",
       "    </tr>\n",
       "  </tbody>\n",
       "</table>\n",
       "</div>"
      ],
      "text/plain": [
       "   Farinha  Chocolate  Porcoes\n",
       "0     -1.0       -1.0       19\n",
       "1      1.0       -1.0       37\n",
       "2     -1.0        1.0       24\n",
       "3      1.0        1.0       49\n",
       "4      0.0        0.0       29\n",
       "5      0.0        0.0       30\n",
       "6      0.0        0.0       29\n",
       "7      0.0        0.0       30"
      ]
     },
     "execution_count": 23,
     "metadata": {},
     "output_type": "execute_result"
    }
   ],
   "source": [
    "experimento"
   ]
  },
  {
   "cell_type": "markdown",
   "metadata": {},
   "source": [
    "# <font color = 'purple'>  Análise de significância estatística   </font>\n",
    "\n",
    "\n",
    "<p style='margin: 30px 30px;'>\n",
    "    \n",
    "<hr style = 'border: 1px solid purple;'>"
   ]
  },
  {
   "cell_type": "code",
   "execution_count": 24,
   "metadata": {},
   "outputs": [],
   "source": [
    "modelo = smf.ols(data = experimento, formula = 'Porcoes ~ Farinha + Chocolate + Farinha:Chocolate')"
   ]
  },
  {
   "cell_type": "code",
   "execution_count": 25,
   "metadata": {},
   "outputs": [
    {
     "name": "stdout",
     "output_type": "stream",
     "text": [
      "                            OLS Regression Results                            \n",
      "==============================================================================\n",
      "Dep. Variable:                Porcoes   R-squared:                       0.971\n",
      "Model:                            OLS   Adj. R-squared:                  0.950\n",
      "Method:                 Least Squares   F-statistic:                     45.21\n",
      "Date:                Mon, 09 Jan 2023   Prob (F-statistic):            0.00152\n",
      "Time:                        11:52:49   Log-Likelihood:                -14.155\n",
      "No. Observations:                   8   AIC:                             36.31\n",
      "Df Residuals:                       4   BIC:                             36.63\n",
      "Df Model:                           3                                         \n",
      "Covariance Type:            nonrobust                                         \n",
      "=====================================================================================\n",
      "                        coef    std err          t      P>|t|      [0.025      0.975]\n",
      "-------------------------------------------------------------------------------------\n",
      "Intercept            30.8750      0.710     43.494      0.000      28.904      32.846\n",
      "Farinha              10.7500      1.004     10.708      0.000       7.963      13.537\n",
      "Chocolate             4.2500      1.004      4.233      0.013       1.463       7.037\n",
      "Farinha:Chocolate     1.7500      1.004      1.743      0.156      -1.037       4.537\n",
      "==============================================================================\n",
      "Omnibus:                        4.655   Durbin-Watson:                   0.841\n",
      "Prob(Omnibus):                  0.098   Jarque-Bera (JB):                1.080\n",
      "Skew:                          -0.180   Prob(JB):                        0.583\n",
      "Kurtosis:                       1.237   Cond. No.                         1.41\n",
      "==============================================================================\n",
      "\n",
      "Notes:\n",
      "[1] Standard Errors assume that the covariance matrix of the errors is correctly specified.\n"
     ]
    },
    {
     "name": "stderr",
     "output_type": "stream",
     "text": [
      "/home/n3po/.local/lib/python3.8/site-packages/scipy/stats/_stats_py.py:1477: UserWarning: kurtosistest only valid for n>=20 ... continuing anyway, n=8\n",
      "  warnings.warn(\"kurtosistest only valid for n>=20 ... continuing \"\n"
     ]
    }
   ],
   "source": [
    "modelo_ajustado = modelo.fit()\n",
    "print(modelo_ajustado.summary())"
   ]
  },
  {
   "cell_type": "code",
   "execution_count": null,
   "metadata": {},
   "outputs": [],
   "source": []
  },
  {
   "cell_type": "markdown",
   "metadata": {},
   "source": [
    "<p style='margin: 200px 200px;'>    \n",
    "\n",
    "\n",
    "<hr>\n",
    "\n",
    "\n",
    "    \n",
    " <img width='400px' src='figuras/Figura_6.png'> \n",
    "\n",
    "\n",
    "<p style='margin: 30px 30px;'>    \n",
    "\n",
    "<hr>\n",
    "\n",
    "\n",
    " <img width='600px' src='figuras/Figura_7.png'> \n",
    "\n",
    "\n",
    "<p style='margin: 30px 30px;'>        \n",
    "    \n",
    "    \n",
    " <hr>   \n",
    "    \n",
    "\n",
    "  \n",
    " <img width='600px' src='figuras/Figura_10.png'> \n",
    "\n",
    "\n",
    "<p style='margin: 30px 30px;'>       \n",
    "  \n",
    "<hr>        "
   ]
  },
  {
   "cell_type": "markdown",
   "metadata": {},
   "source": [
    "\n",
    "# <font color = 'purple'> Teste de significância estatística usando o <b>t<b>    </font>\n",
    "\n",
    "\n",
    "<p style='margin: 30px 30px;'>\n",
    "    \n",
    "<hr style = 'border: 1px solid purple;'>\n",
    "\n",
    "\n",
    "\n"
   ]
  },
  {
   "cell_type": "markdown",
   "metadata": {},
   "source": [
    "<hr>\n",
    "<img width='600px' src='figuras/Figura_11.png'> \n",
    "\n",
    "\n",
    "<hr>\n",
    "  <p style='margin: 30px 30px;'>     \n",
    "<img width='900px' src='figuras/Figura_8.png'> \n",
    "\n",
    "\n",
    "<hr>\n",
    "\n"
   ]
  },
  {
   "cell_type": "markdown",
   "metadata": {},
   "source": [
    "<p style='margin: 150px 150px;'>     \n",
    "<img width='1000px' src='figuras/Figura_20.png'\n",
    "\n",
    "\n",
    "\n",
    "<hr>\n",
    "<p style='margin: 150px 150px;'>    "
   ]
  },
  {
   "cell_type": "code",
   "execution_count": 26,
   "metadata": {},
   "outputs": [],
   "source": [
    "t_valores = modelo_ajustado.tvalues"
   ]
  },
  {
   "cell_type": "code",
   "execution_count": 27,
   "metadata": {},
   "outputs": [
    {
     "data": {
      "text/plain": [
       "Intercept            43.494275\n",
       "Farinha              10.708252\n",
       "Chocolate             4.233495\n",
       "Farinha:Chocolate     1.743204\n",
       "dtype: float64"
      ]
     },
     "execution_count": 27,
     "metadata": {},
     "output_type": "execute_result"
    }
   ],
   "source": [
    "t_valores"
   ]
  },
  {
   "cell_type": "code",
   "execution_count": 28,
   "metadata": {},
   "outputs": [],
   "source": [
    "nome = t_valores.index.tolist()"
   ]
  },
  {
   "cell_type": "code",
   "execution_count": 29,
   "metadata": {},
   "outputs": [
    {
     "data": {
      "text/plain": [
       "['Intercept', 'Farinha', 'Chocolate', 'Farinha:Chocolate']"
      ]
     },
     "execution_count": 29,
     "metadata": {},
     "output_type": "execute_result"
    }
   ],
   "source": [
    "nome"
   ]
  },
  {
   "cell_type": "markdown",
   "metadata": {},
   "source": [
    "### ."
   ]
  },
  {
   "cell_type": "code",
   "execution_count": 30,
   "metadata": {},
   "outputs": [],
   "source": [
    "from scipy import stats"
   ]
  },
  {
   "cell_type": "markdown",
   "metadata": {},
   "source": [
    "### .\n"
   ]
  },
  {
   "cell_type": "code",
   "execution_count": 31,
   "metadata": {},
   "outputs": [],
   "source": [
    "distribuicao = stats.t(df = 4)"
   ]
  },
  {
   "cell_type": "code",
   "execution_count": 32,
   "metadata": {},
   "outputs": [
    {
     "data": {
      "text/plain": [
       "2.7764451051977987"
      ]
     },
     "execution_count": 32,
     "metadata": {},
     "output_type": "execute_result"
    }
   ],
   "source": [
    "distribuicao.ppf( q = 1 - 0.025)"
   ]
  },
  {
   "cell_type": "code",
   "execution_count": 33,
   "metadata": {},
   "outputs": [],
   "source": [
    "limite = [distribuicao.ppf(q = 1- 0.025)]*len(nome)"
   ]
  },
  {
   "cell_type": "code",
   "execution_count": 34,
   "metadata": {},
   "outputs": [
    {
     "data": {
      "text/plain": [
       "[2.7764451051977987,\n",
       " 2.7764451051977987,\n",
       " 2.7764451051977987,\n",
       " 2.7764451051977987]"
      ]
     },
     "execution_count": 34,
     "metadata": {},
     "output_type": "execute_result"
    }
   ],
   "source": [
    "limite"
   ]
  },
  {
   "cell_type": "markdown",
   "metadata": {},
   "source": [
    "### Plotando o gráfico "
   ]
  },
  {
   "cell_type": "code",
   "execution_count": 35,
   "metadata": {
    "scrolled": true
   },
   "outputs": [
    {
     "data": {
      "text/plain": [
       "[<matplotlib.lines.Line2D at 0x7f7a35560880>]"
      ]
     },
     "execution_count": 35,
     "metadata": {},
     "output_type": "execute_result"
    },
    {
     "data": {
      "image/png": "[encoded data removed]",
      "text/plain": [
       "<Figure size 1080x432 with 1 Axes>"
      ]
     },
     "metadata": {},
     "output_type": "display_data"
    }
   ],
   "source": [
    "pareto = sns.barplot(x = t_valores, y = nome)\n",
    "pareto.figure.set_size_inches(15,6)\n",
    "pareto.tick_params(labelsize = 20)\n",
    "pareto.set_xlabel('t-valores', fontsize = 20)\n",
    "pareto.plot(limite, nome, 'red')"
   ]
  },
  {
   "cell_type": "markdown",
   "metadata": {},
   "source": [
    "# <font color = 'purple'> Propondo um novo modelo   </font>\n",
    "\n",
    "\n",
    "<p style='margin: 30px 30px;'>\n",
    "    \n",
    "<hr style = 'border: 1px solid purple;'>\n"
   ]
  },
  {
   "cell_type": "markdown",
   "metadata": {},
   "source": [
    "<hr>\n",
    "\n",
    "<img width='800px' src='figuras/Figura_3.png'>\n",
    "\n",
    "<p style='margin: 30px 30px;'> \n",
    "\n",
    "<hr>"
   ]
  },
  {
   "cell_type": "markdown",
   "metadata": {},
   "source": [
    "<p style='margin: 200px 200px;'>\n",
    "\n",
    "\n",
    "<hr>\n",
    "\n",
    "<img width='600px' src='figuras/Figura_9.png'> \n",
    "\n",
    "<p style='font-size: 18px; line-height: 2; margin: 0px 0px; text-align: justify; text-indent: 0px;'>\n",
    "\n",
    "\n",
    "<p style='margin: 30px 30px;'>\n",
    "\n",
    "    \n",
    "<hr>    \n"
   ]
  },
  {
   "cell_type": "code",
   "execution_count": 36,
   "metadata": {},
   "outputs": [],
   "source": [
    "modelo_2 = modelo = smf.ols(data = experimento, formula = 'Porcoes ~ Farinha + Chocolate')"
   ]
  },
  {
   "cell_type": "code",
   "execution_count": 37,
   "metadata": {},
   "outputs": [],
   "source": [
    "modelo_ajustado_2 = modelo_2.fit()"
   ]
  },
  {
   "cell_type": "code",
   "execution_count": 38,
   "metadata": {},
   "outputs": [
    {
     "name": "stdout",
     "output_type": "stream",
     "text": [
      "                            OLS Regression Results                            \n",
      "==============================================================================\n",
      "Dep. Variable:                Porcoes   R-squared:                       0.950\n",
      "Model:                            OLS   Adj. R-squared:                  0.929\n",
      "Method:                 Least Squares   F-statistic:                     47.09\n",
      "Date:                Mon, 09 Jan 2023   Prob (F-statistic):           0.000571\n",
      "Time:                        11:52:49   Log-Likelihood:                -16.416\n",
      "No. Observations:                   8   AIC:                             38.83\n",
      "Df Residuals:                       5   BIC:                             39.07\n",
      "Df Model:                           2                                         \n",
      "Covariance Type:            nonrobust                                         \n",
      "==============================================================================\n",
      "                 coef    std err          t      P>|t|      [0.025      0.975]\n",
      "------------------------------------------------------------------------------\n",
      "Intercept     30.8750      0.842     36.658      0.000      28.710      33.040\n",
      "Farinha       10.7500      1.191      9.025      0.000       7.688      13.812\n",
      "Chocolate      4.2500      1.191      3.568      0.016       1.188       7.312\n",
      "==============================================================================\n",
      "Omnibus:                        2.106   Durbin-Watson:                   1.850\n",
      "Prob(Omnibus):                  0.349   Jarque-Bera (JB):                1.245\n",
      "Skew:                           0.868   Prob(JB):                        0.537\n",
      "Kurtosis:                       2.153   Cond. No.                         1.41\n",
      "==============================================================================\n",
      "\n",
      "Notes:\n",
      "[1] Standard Errors assume that the covariance matrix of the errors is correctly specified.\n"
     ]
    },
    {
     "name": "stderr",
     "output_type": "stream",
     "text": [
      "/home/n3po/.local/lib/python3.8/site-packages/scipy/stats/_stats_py.py:1477: UserWarning: kurtosistest only valid for n>=20 ... continuing anyway, n=8\n",
      "  warnings.warn(\"kurtosistest only valid for n>=20 ... continuing \"\n"
     ]
    }
   ],
   "source": [
    "print(modelo_ajustado_2.summary())"
   ]
  },
  {
   "cell_type": "markdown",
   "metadata": {},
   "source": [
    "<hr>"
   ]
  },
  {
   "cell_type": "markdown",
   "metadata": {},
   "source": [
    "# <font color = 'purple'> Gráfico Padronizado de Pareto do novo modelo    </font>\n",
    "\n",
    "\n",
    "<p style='margin: 30px 30px;'>\n",
    "    \n",
    "<hr style = 'border: 1px solid purple;'>\n"
   ]
  },
  {
   "cell_type": "code",
   "execution_count": 39,
   "metadata": {},
   "outputs": [],
   "source": [
    "t_valores = modelo_ajustado_2.tvalues"
   ]
  },
  {
   "cell_type": "code",
   "execution_count": 40,
   "metadata": {},
   "outputs": [
    {
     "data": {
      "text/plain": [
       "Intercept    36.658022\n",
       "Farinha       9.025173\n",
       "Chocolate     3.568092\n",
       "dtype: float64"
      ]
     },
     "execution_count": 40,
     "metadata": {},
     "output_type": "execute_result"
    }
   ],
   "source": [
    "t_valores"
   ]
  },
  {
   "cell_type": "code",
   "execution_count": 41,
   "metadata": {},
   "outputs": [],
   "source": [
    "nome = t_valores.index.tolist()"
   ]
  },
  {
   "cell_type": "code",
   "execution_count": 42,
   "metadata": {},
   "outputs": [
    {
     "data": {
      "text/plain": [
       "['Intercept', 'Farinha', 'Chocolate']"
      ]
     },
     "execution_count": 42,
     "metadata": {},
     "output_type": "execute_result"
    }
   ],
   "source": [
    "nome"
   ]
  },
  {
   "cell_type": "markdown",
   "metadata": {},
   "source": [
    "### ."
   ]
  },
  {
   "cell_type": "code",
   "execution_count": 43,
   "metadata": {},
   "outputs": [],
   "source": [
    "distribuicao = stats.t(df = 5)"
   ]
  },
  {
   "cell_type": "code",
   "execution_count": 44,
   "metadata": {},
   "outputs": [
    {
     "data": {
      "text/plain": [
       "2.5705818366147395"
      ]
     },
     "execution_count": 44,
     "metadata": {},
     "output_type": "execute_result"
    }
   ],
   "source": [
    "distribuicao.ppf(q = 1 - 0.025)"
   ]
  },
  {
   "cell_type": "code",
   "execution_count": 45,
   "metadata": {},
   "outputs": [],
   "source": [
    "limite = [distribuicao.ppf(q=1-0.025)]*len(nome)"
   ]
  },
  {
   "cell_type": "markdown",
   "metadata": {},
   "source": [
    "### Plotando o gráfico"
   ]
  },
  {
   "cell_type": "code",
   "execution_count": 46,
   "metadata": {},
   "outputs": [
    {
     "data": {
      "text/plain": [
       "[<matplotlib.lines.Line2D at 0x7f7a35305ac0>]"
      ]
     },
     "execution_count": 46,
     "metadata": {},
     "output_type": "execute_result"
    },
    {
     "data": {
      "image/png": "[encoded data removed]",
      "text/plain": [
       "<Figure size 1080x432 with 1 Axes>"
      ]
     },
     "metadata": {},
     "output_type": "display_data"
    }
   ],
   "source": [
    "pareto = sns.barplot(x=t_valores, y = nome)\n",
    "pareto.figure.set_size_inches(15,6)\n",
    "pareto.tick_params(labelsize = 20)\n",
    "pareto.set_xlabel('t-valor', fontsize = 20)\n",
    "\n",
    "pareto.plot(limite, nome, 'red')"
   ]
  },
  {
   "cell_type": "markdown",
   "metadata": {},
   "source": [
    "<font color='red' style='font-size: 30px;'> Preditos por observados  </font>\n",
    "<hr style='border: 2px solid red;'>"
   ]
  },
  {
   "cell_type": "code",
   "execution_count": 47,
   "metadata": {},
   "outputs": [],
   "source": [
    "observados = experimento['Porcoes']"
   ]
  },
  {
   "cell_type": "code",
   "execution_count": 48,
   "metadata": {},
   "outputs": [
    {
     "data": {
      "text/plain": [
       "0    19\n",
       "1    37\n",
       "2    24\n",
       "3    49\n",
       "4    29\n",
       "5    30\n",
       "6    29\n",
       "7    30\n",
       "Name: Porcoes, dtype: int64"
      ]
     },
     "execution_count": 48,
     "metadata": {},
     "output_type": "execute_result"
    }
   ],
   "source": [
    "observados"
   ]
  },
  {
   "cell_type": "markdown",
   "metadata": {},
   "source": [
    "### ."
   ]
  },
  {
   "cell_type": "code",
   "execution_count": 49,
   "metadata": {},
   "outputs": [],
   "source": [
    "preditos = modelo_ajustado_2.predict()"
   ]
  },
  {
   "cell_type": "code",
   "execution_count": 50,
   "metadata": {},
   "outputs": [
    {
     "data": {
      "text/plain": [
       "array([15.875, 37.375, 24.375, 45.875, 30.875, 30.875, 30.875, 30.875])"
      ]
     },
     "execution_count": 50,
     "metadata": {},
     "output_type": "execute_result"
    }
   ],
   "source": [
    "preditos"
   ]
  },
  {
   "cell_type": "markdown",
   "metadata": {},
   "source": [
    "### ."
   ]
  },
  {
   "cell_type": "code",
   "execution_count": 51,
   "metadata": {},
   "outputs": [],
   "source": [
    "import matplotlib.pyplot as plt"
   ]
  },
  {
   "cell_type": "code",
   "execution_count": 52,
   "metadata": {},
   "outputs": [
    {
     "data": {
      "text/plain": [
       "<matplotlib.collections.PathCollection at 0x7f7a3529ebb0>"
      ]
     },
     "execution_count": 52,
     "metadata": {},
     "output_type": "execute_result"
    },
    {
     "data": {
      "image/png": "[encoded data removed]",
      "text/plain": [
       "<Figure size 720x360 with 1 Axes>"
      ]
     },
     "metadata": {},
     "output_type": "display_data"
    }
   ],
   "source": [
    "plt.figure(figsize = (10,5))\n",
    "plt.xlabel('Preditos', fontsize = 16)\n",
    "plt.ylabel('Observados', fontsize = 16)\n",
    "\n",
    "\n",
    "#Linha de guia\n",
    "x = np.linspace(start = 15, stop = 50, num = 10)\n",
    "y = np.linspace(start = 15, stop = 50, num = 10)\n",
    "plt.plot(x,y,'r')\n",
    "\n",
    "#Comparação\n",
    "plt.scatter(preditos, observados)"
   ]
  },
  {
   "cell_type": "markdown",
   "metadata": {},
   "source": [
    "<hr>"
   ]
  },
  {
   "cell_type": "code",
   "execution_count": 53,
   "metadata": {},
   "outputs": [
    {
     "name": "stdout",
     "output_type": "stream",
     "text": [
      "                            OLS Regression Results                            \n",
      "==============================================================================\n",
      "Dep. Variable:                Porcoes   R-squared:                       0.950\n",
      "Model:                            OLS   Adj. R-squared:                  0.929\n",
      "Method:                 Least Squares   F-statistic:                     47.09\n",
      "Date:                Mon, 09 Jan 2023   Prob (F-statistic):           0.000571\n",
      "Time:                        11:52:50   Log-Likelihood:                -16.416\n",
      "No. Observations:                   8   AIC:                             38.83\n",
      "Df Residuals:                       5   BIC:                             39.07\n",
      "Df Model:                           2                                         \n",
      "Covariance Type:            nonrobust                                         \n",
      "==============================================================================\n",
      "                 coef    std err          t      P>|t|      [0.025      0.975]\n",
      "------------------------------------------------------------------------------\n",
      "Intercept     30.8750      0.842     36.658      0.000      28.710      33.040\n",
      "Farinha       10.7500      1.191      9.025      0.000       7.688      13.812\n",
      "Chocolate      4.2500      1.191      3.568      0.016       1.188       7.312\n",
      "==============================================================================\n",
      "Omnibus:                        2.106   Durbin-Watson:                   1.850\n",
      "Prob(Omnibus):                  0.349   Jarque-Bera (JB):                1.245\n",
      "Skew:                           0.868   Prob(JB):                        0.537\n",
      "Kurtosis:                       2.153   Cond. No.                         1.41\n",
      "==============================================================================\n",
      "\n",
      "Notes:\n",
      "[1] Standard Errors assume that the covariance matrix of the errors is correctly specified.\n"
     ]
    },
    {
     "name": "stderr",
     "output_type": "stream",
     "text": [
      "/home/n3po/.local/lib/python3.8/site-packages/scipy/stats/_stats_py.py:1477: UserWarning: kurtosistest only valid for n>=20 ... continuing anyway, n=8\n",
      "  warnings.warn(\"kurtosistest only valid for n>=20 ... continuing \"\n"
     ]
    }
   ],
   "source": [
    "print(modelo_ajustado_2.summary())"
   ]
  },
  {
   "cell_type": "markdown",
   "metadata": {},
   "source": [
    "### ."
   ]
  },
  {
   "cell_type": "markdown",
   "metadata": {},
   "source": [
    "# <font color = 'purple'> Explorando o modelo   </font>\n",
    "\n",
    "\n",
    "<p style='margin: 30px 30px;'>\n",
    "    \n",
    "<hr style = 'border: 1px solid purple;'>"
   ]
  },
  {
   "cell_type": "code",
   "execution_count": 54,
   "metadata": {},
   "outputs": [],
   "source": [
    "parametros = modelo_ajustado_2.params"
   ]
  },
  {
   "cell_type": "code",
   "execution_count": 55,
   "metadata": {},
   "outputs": [
    {
     "data": {
      "text/plain": [
       "Intercept    30.875\n",
       "Farinha      10.750\n",
       "Chocolate     4.250\n",
       "dtype: float64"
      ]
     },
     "execution_count": 55,
     "metadata": {},
     "output_type": "execute_result"
    }
   ],
   "source": [
    "parametros"
   ]
  },
  {
   "cell_type": "markdown",
   "metadata": {},
   "source": [
    "### ."
   ]
  },
  {
   "cell_type": "markdown",
   "metadata": {},
   "source": [
    "### Definindo a função"
   ]
  },
  {
   "cell_type": "code",
   "execution_count": 56,
   "metadata": {},
   "outputs": [],
   "source": [
    "def modelo_receita(x_f, x_c):\n",
    "    #limites\n",
    "    limite_normalizado = [-1, 1]\n",
    "    limite_farinha = [0.5, 1.5]\n",
    "    limite_chocolate = [0.1, 0.5]\n",
    "    \n",
    "    #Converter\n",
    "    \n",
    "    x_f_convertido = np.interp(x_f, limite_farinha, limite_normalizado)\n",
    "    \n",
    "    x_c_convertido = np.interp(x_c, limite_chocolate, limite_normalizado)\n",
    "    \n",
    "    porcoes = parametros['Intercept'] + parametros['Farinha']*x_f_convertido + parametros['Chocolate']*x_c_convertido\n",
    "    return round(porcoes)"
   ]
  },
  {
   "cell_type": "code",
   "execution_count": 57,
   "metadata": {},
   "outputs": [
    {
     "data": {
      "text/plain": [
       "16"
      ]
     },
     "execution_count": 57,
     "metadata": {},
     "output_type": "execute_result"
    }
   ],
   "source": [
    "modelo_receita(0.5, 0.1)"
   ]
  },
  {
   "cell_type": "markdown",
   "metadata": {},
   "source": [
    "\n",
    "<p style='margin: 150px 150px;'>\n",
    "\n",
    "\n",
    "<hr>\n",
    "\n",
    "<img width='700px' src='figuras/Figura_22.png'> \n",
    "\n",
    "\n",
    "<hr>"
   ]
  },
  {
   "cell_type": "markdown",
   "metadata": {},
   "source": [
    "# <font color = 'purple'> Mapa de cores   </font>\n",
    "\n",
    "\n",
    "<p style='margin: 30px 30px;'>\n",
    "    \n",
    "<hr style = 'border: 1px solid purple;'>"
   ]
  },
  {
   "cell_type": "markdown",
   "metadata": {},
   "source": [
    "\n",
    "<p style='margin: 150px 150px;'>\n",
    "\n",
    "\n",
    "<hr>\n",
    "\n",
    "<img width='700px' src='figuras/Figura_23.jpg'> \n",
    "\n",
    "#### Fonte: National Centers for Environmental Prediction\n",
    "\n",
    "\n",
    "<hr>\n",
    "\n",
    "\n",
    "\n",
    "<p style='margin: 50px 50px;'>\n"
   ]
  },
  {
   "cell_type": "markdown",
   "metadata": {},
   "source": [
    "\n",
    "\n",
    "<p style='margin: 150px 150px;'>\n",
    "\n",
    "\n",
    "<hr>\n",
    "\n",
    "<img width='600px' src='figuras/Figura_24.png'> \n",
    "\n",
    "\n",
    "<hr>\n",
    "\n",
    "\n",
    "\n",
    "<p style='margin: 30px 30px;'>"
   ]
  },
  {
   "cell_type": "code",
   "execution_count": 58,
   "metadata": {},
   "outputs": [
    {
     "data": {
      "text/plain": [
       "array([0.5       , 0.61111111, 0.72222222, 0.83333333, 0.94444444,\n",
       "       1.05555556, 1.16666667, 1.27777778, 1.38888889, 1.5       ])"
      ]
     },
     "execution_count": 58,
     "metadata": {},
     "output_type": "execute_result"
    }
   ],
   "source": [
    "x_farinha = np.linspace(start = 0.5, stop = 1.5, num = 10)\n",
    "x_farinha"
   ]
  },
  {
   "cell_type": "code",
   "execution_count": 59,
   "metadata": {},
   "outputs": [
    {
     "data": {
      "text/plain": [
       "array([0.1       , 0.14444444, 0.18888889, 0.23333333, 0.27777778,\n",
       "       0.32222222, 0.36666667, 0.41111111, 0.45555556, 0.5       ])"
      ]
     },
     "execution_count": 59,
     "metadata": {},
     "output_type": "execute_result"
    }
   ],
   "source": [
    "x_chocolate = np.linspace(start = 0.1, stop = 0.5, num = 10)\n",
    "x_chocolate"
   ]
  },
  {
   "cell_type": "markdown",
   "metadata": {},
   "source": [
    "### . "
   ]
  },
  {
   "cell_type": "code",
   "execution_count": 60,
   "metadata": {},
   "outputs": [],
   "source": [
    "pontos = []\n",
    "\n",
    "for cont1 in x_farinha:\n",
    "    temp = []\n",
    "    for cont2 in x_chocolate:\n",
    "        temp.append(modelo_receita(cont1, cont2))\n",
    "    pontos.append(temp)"
   ]
  },
  {
   "cell_type": "code",
   "execution_count": 61,
   "metadata": {},
   "outputs": [
    {
     "data": {
      "text/plain": [
       "[[16, 17, 18, 19, 20, 21, 22, 22, 23, 24],\n",
       " [18, 19, 20, 21, 22, 23, 24, 25, 26, 27],\n",
       " [21, 22, 23, 23, 24, 25, 26, 27, 28, 29],\n",
       " [23, 24, 25, 26, 27, 28, 29, 30, 31, 32],\n",
       " [25, 26, 27, 28, 29, 30, 31, 32, 33, 34],\n",
       " [28, 29, 30, 31, 32, 33, 33, 34, 35, 36],\n",
       " [30, 31, 32, 33, 34, 35, 36, 37, 38, 39],\n",
       " [33, 34, 34, 35, 36, 37, 38, 39, 40, 41],\n",
       " [35, 36, 37, 38, 39, 40, 41, 42, 43, 43],\n",
       " [37, 38, 39, 40, 41, 42, 43, 44, 45, 46]]"
      ]
     },
     "execution_count": 61,
     "metadata": {},
     "output_type": "execute_result"
    }
   ],
   "source": [
    "pontos"
   ]
  },
  {
   "cell_type": "markdown",
   "metadata": {},
   "source": [
    "### ."
   ]
  },
  {
   "cell_type": "markdown",
   "metadata": {},
   "source": [
    "### Construindo a superfície de resposta"
   ]
  },
  {
   "cell_type": "code",
   "execution_count": 62,
   "metadata": {},
   "outputs": [],
   "source": [
    "import matplotlib.cm as cm"
   ]
  },
  {
   "cell_type": "markdown",
   "metadata": {},
   "source": [
    "https://matplotlib.org/users/colormaps.html"
   ]
  },
  {
   "cell_type": "code",
   "execution_count": 63,
   "metadata": {},
   "outputs": [
    {
     "name": "stderr",
     "output_type": "stream",
     "text": [
      "/tmp/ipykernel_470/2572888180.py:10: MatplotlibDeprecationWarning: Auto-removal of grids by pcolor() and pcolormesh() is deprecated since 3.5 and will be removed two minor releases later; please call grid(False) first.\n",
      "  plt.colorbar().set_label('Porcoes', fontsize = 16)\n"
     ]
    },
    {
     "data": {
      "text/plain": [
       "<a list of 7 text.Text objects>"
      ]
     },
     "execution_count": 63,
     "metadata": {},
     "output_type": "execute_result"
    },
    {
     "data": {
      "image/png": "[encoded data removed]",
      "text/plain": [
       "<Figure size 1152x432 with 2 Axes>"
      ]
     },
     "metadata": {},
     "output_type": "display_data"
    }
   ],
   "source": [
    "#Base \n",
    "plt.figure(figsize = (16,6))\n",
    "plt.xlabel('Farinha(kg)', fontsize = 16)\n",
    "plt.ylabel('Chocolate(kg)', fontsize = 16)\n",
    "\n",
    "#Mapa de Cores\n",
    "mapa_cor = plt.imshow(pontos, origin = 'lower', cmap = cm.rainbow, interpolation = 'quadric', extent = (0.5, 1.5, 0.1, 0.5))\n",
    "\n",
    "#Barra de cor\n",
    "plt.colorbar().set_label('Porcoes', fontsize = 16)\n",
    "\n",
    "\n",
    "#Linhas de guia\n",
    "linhas = plt.contour(x_farinha, x_chocolate, pontos, colors = 'k', linewidths = 1.5)\n",
    "plt.clabel(linhas, inline = True, fontsize = 15.0, inline_spacing = 10)"
   ]
  },
  {
   "cell_type": "code",
   "execution_count": null,
   "metadata": {},
   "outputs": [],
   "source": []
  }
 ],
 "metadata": {
  "kernelspec": {
   "display_name": "Python 3 (ipykernel)",
   "language": "python",
   "name": "python3"
  },
  "language_info": {
   "codemirror_mode": {
    "name": "ipython",
    "version": 3
   },
   "file_extension": ".py",
   "mimetype": "text/x-python",
   "name": "python",
   "nbconvert_exporter": "python",
   "pygments_lexer": "ipython3",
   "version": "3.8.10"
  }
 },
 "nbformat": 4,
 "nbformat_minor": 2
}
