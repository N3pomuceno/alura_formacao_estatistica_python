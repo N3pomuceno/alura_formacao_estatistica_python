{
 "cells": [
  {
   "cell_type": "markdown",
   "id": "ae2666a7",
   "metadata": {},
   "source": [
    "# Aula 1\n",
    "\n",
    "Utilizaremos de 3 fontes de dados, sobre notas de filmes, e informações sobre os filmes.\n",
    "\n",
    "Aprenderemos a fazer a limpeza de dados!"
   ]
  },
  {
   "cell_type": "code",
   "execution_count": 1,
   "id": "242fe983",
   "metadata": {},
   "outputs": [],
   "source": [
    "import pandas as pd\n",
    "import seaborn as sns\n",
    "import numpy as np\n",
    "import matplotlib.pyplot as plt"
   ]
  },
  {
   "cell_type": "code",
   "execution_count": 2,
   "id": "17cc46aa",
   "metadata": {},
   "outputs": [
    {
     "data": {
      "text/html": [
       "<div>\n",
       "<style scoped>\n",
       "    .dataframe tbody tr th:only-of-type {\n",
       "        vertical-align: middle;\n",
       "    }\n",
       "\n",
       "    .dataframe tbody tr th {\n",
       "        vertical-align: top;\n",
       "    }\n",
       "\n",
       "    .dataframe thead th {\n",
       "        text-align: right;\n",
       "    }\n",
       "</style>\n",
       "<table border=\"1\" class=\"dataframe\">\n",
       "  <thead>\n",
       "    <tr style=\"text-align: right;\">\n",
       "      <th></th>\n",
       "      <th>budget</th>\n",
       "      <th>genres</th>\n",
       "      <th>homepage</th>\n",
       "      <th>id</th>\n",
       "      <th>keywords</th>\n",
       "      <th>original_language</th>\n",
       "      <th>original_title</th>\n",
       "      <th>overview</th>\n",
       "      <th>popularity</th>\n",
       "      <th>production_companies</th>\n",
       "      <th>production_countries</th>\n",
       "      <th>release_date</th>\n",
       "      <th>revenue</th>\n",
       "      <th>runtime</th>\n",
       "      <th>spoken_languages</th>\n",
       "      <th>status</th>\n",
       "      <th>tagline</th>\n",
       "      <th>title</th>\n",
       "      <th>vote_average</th>\n",
       "      <th>vote_count</th>\n",
       "    </tr>\n",
       "  </thead>\n",
       "  <tbody>\n",
       "    <tr>\n",
       "      <th>0</th>\n",
       "      <td>237000000</td>\n",
       "      <td>[{\"id\": 28, \"name\": \"Action\"}, {\"id\": 12, \"nam...</td>\n",
       "      <td>http://www.avatarmovie.com/</td>\n",
       "      <td>19995</td>\n",
       "      <td>[{\"id\": 1463, \"name\": \"culture clash\"}, {\"id\":...</td>\n",
       "      <td>en</td>\n",
       "      <td>Avatar</td>\n",
       "      <td>In the 22nd century, a paraplegic Marine is di...</td>\n",
       "      <td>150.437577</td>\n",
       "      <td>[{\"name\": \"Ingenious Film Partners\", \"id\": 289...</td>\n",
       "      <td>[{\"iso_3166_1\": \"US\", \"name\": \"United States o...</td>\n",
       "      <td>2009-12-10</td>\n",
       "      <td>2787965087</td>\n",
       "      <td>162.0</td>\n",
       "      <td>[{\"iso_639_1\": \"en\", \"name\": \"English\"}, {\"iso...</td>\n",
       "      <td>Released</td>\n",
       "      <td>Enter the World of Pandora.</td>\n",
       "      <td>Avatar</td>\n",
       "      <td>7.2</td>\n",
       "      <td>11800</td>\n",
       "    </tr>\n",
       "    <tr>\n",
       "      <th>1</th>\n",
       "      <td>300000000</td>\n",
       "      <td>[{\"id\": 12, \"name\": \"Adventure\"}, {\"id\": 14, \"...</td>\n",
       "      <td>http://disney.go.com/disneypictures/pirates/</td>\n",
       "      <td>285</td>\n",
       "      <td>[{\"id\": 270, \"name\": \"ocean\"}, {\"id\": 726, \"na...</td>\n",
       "      <td>en</td>\n",
       "      <td>Pirates of the Caribbean: At World's End</td>\n",
       "      <td>Captain Barbossa, long believed to be dead, ha...</td>\n",
       "      <td>139.082615</td>\n",
       "      <td>[{\"name\": \"Walt Disney Pictures\", \"id\": 2}, {\"...</td>\n",
       "      <td>[{\"iso_3166_1\": \"US\", \"name\": \"United States o...</td>\n",
       "      <td>2007-05-19</td>\n",
       "      <td>961000000</td>\n",
       "      <td>169.0</td>\n",
       "      <td>[{\"iso_639_1\": \"en\", \"name\": \"English\"}]</td>\n",
       "      <td>Released</td>\n",
       "      <td>At the end of the world, the adventure begins.</td>\n",
       "      <td>Pirates of the Caribbean: At World's End</td>\n",
       "      <td>6.9</td>\n",
       "      <td>4500</td>\n",
       "    </tr>\n",
       "    <tr>\n",
       "      <th>2</th>\n",
       "      <td>245000000</td>\n",
       "      <td>[{\"id\": 28, \"name\": \"Action\"}, {\"id\": 12, \"nam...</td>\n",
       "      <td>http://www.sonypictures.com/movies/spectre/</td>\n",
       "      <td>206647</td>\n",
       "      <td>[{\"id\": 470, \"name\": \"spy\"}, {\"id\": 818, \"name...</td>\n",
       "      <td>en</td>\n",
       "      <td>Spectre</td>\n",
       "      <td>A cryptic message from Bond’s past sends him o...</td>\n",
       "      <td>107.376788</td>\n",
       "      <td>[{\"name\": \"Columbia Pictures\", \"id\": 5}, {\"nam...</td>\n",
       "      <td>[{\"iso_3166_1\": \"GB\", \"name\": \"United Kingdom\"...</td>\n",
       "      <td>2015-10-26</td>\n",
       "      <td>880674609</td>\n",
       "      <td>148.0</td>\n",
       "      <td>[{\"iso_639_1\": \"fr\", \"name\": \"Fran\\u00e7ais\"},...</td>\n",
       "      <td>Released</td>\n",
       "      <td>A Plan No One Escapes</td>\n",
       "      <td>Spectre</td>\n",
       "      <td>6.3</td>\n",
       "      <td>4466</td>\n",
       "    </tr>\n",
       "    <tr>\n",
       "      <th>3</th>\n",
       "      <td>250000000</td>\n",
       "      <td>[{\"id\": 28, \"name\": \"Action\"}, {\"id\": 80, \"nam...</td>\n",
       "      <td>http://www.thedarkknightrises.com/</td>\n",
       "      <td>49026</td>\n",
       "      <td>[{\"id\": 849, \"name\": \"dc comics\"}, {\"id\": 853,...</td>\n",
       "      <td>en</td>\n",
       "      <td>The Dark Knight Rises</td>\n",
       "      <td>Following the death of District Attorney Harve...</td>\n",
       "      <td>112.312950</td>\n",
       "      <td>[{\"name\": \"Legendary Pictures\", \"id\": 923}, {\"...</td>\n",
       "      <td>[{\"iso_3166_1\": \"US\", \"name\": \"United States o...</td>\n",
       "      <td>2012-07-16</td>\n",
       "      <td>1084939099</td>\n",
       "      <td>165.0</td>\n",
       "      <td>[{\"iso_639_1\": \"en\", \"name\": \"English\"}]</td>\n",
       "      <td>Released</td>\n",
       "      <td>The Legend Ends</td>\n",
       "      <td>The Dark Knight Rises</td>\n",
       "      <td>7.6</td>\n",
       "      <td>9106</td>\n",
       "    </tr>\n",
       "    <tr>\n",
       "      <th>4</th>\n",
       "      <td>260000000</td>\n",
       "      <td>[{\"id\": 28, \"name\": \"Action\"}, {\"id\": 12, \"nam...</td>\n",
       "      <td>http://movies.disney.com/john-carter</td>\n",
       "      <td>49529</td>\n",
       "      <td>[{\"id\": 818, \"name\": \"based on novel\"}, {\"id\":...</td>\n",
       "      <td>en</td>\n",
       "      <td>John Carter</td>\n",
       "      <td>John Carter is a war-weary, former military ca...</td>\n",
       "      <td>43.926995</td>\n",
       "      <td>[{\"name\": \"Walt Disney Pictures\", \"id\": 2}]</td>\n",
       "      <td>[{\"iso_3166_1\": \"US\", \"name\": \"United States o...</td>\n",
       "      <td>2012-03-07</td>\n",
       "      <td>284139100</td>\n",
       "      <td>132.0</td>\n",
       "      <td>[{\"iso_639_1\": \"en\", \"name\": \"English\"}]</td>\n",
       "      <td>Released</td>\n",
       "      <td>Lost in our world, found in another.</td>\n",
       "      <td>John Carter</td>\n",
       "      <td>6.1</td>\n",
       "      <td>2124</td>\n",
       "    </tr>\n",
       "  </tbody>\n",
       "</table>\n",
       "</div>"
      ],
      "text/plain": [
       "      budget                                             genres  \\\n",
       "0  237000000  [{\"id\": 28, \"name\": \"Action\"}, {\"id\": 12, \"nam...   \n",
       "1  300000000  [{\"id\": 12, \"name\": \"Adventure\"}, {\"id\": 14, \"...   \n",
       "2  245000000  [{\"id\": 28, \"name\": \"Action\"}, {\"id\": 12, \"nam...   \n",
       "3  250000000  [{\"id\": 28, \"name\": \"Action\"}, {\"id\": 80, \"nam...   \n",
       "4  260000000  [{\"id\": 28, \"name\": \"Action\"}, {\"id\": 12, \"nam...   \n",
       "\n",
       "                                       homepage      id  \\\n",
       "0                   http://www.avatarmovie.com/   19995   \n",
       "1  http://disney.go.com/disneypictures/pirates/     285   \n",
       "2   http://www.sonypictures.com/movies/spectre/  206647   \n",
       "3            http://www.thedarkknightrises.com/   49026   \n",
       "4          http://movies.disney.com/john-carter   49529   \n",
       "\n",
       "                                            keywords original_language  \\\n",
       "0  [{\"id\": 1463, \"name\": \"culture clash\"}, {\"id\":...                en   \n",
       "1  [{\"id\": 270, \"name\": \"ocean\"}, {\"id\": 726, \"na...                en   \n",
       "2  [{\"id\": 470, \"name\": \"spy\"}, {\"id\": 818, \"name...                en   \n",
       "3  [{\"id\": 849, \"name\": \"dc comics\"}, {\"id\": 853,...                en   \n",
       "4  [{\"id\": 818, \"name\": \"based on novel\"}, {\"id\":...                en   \n",
       "\n",
       "                             original_title  \\\n",
       "0                                    Avatar   \n",
       "1  Pirates of the Caribbean: At World's End   \n",
       "2                                   Spectre   \n",
       "3                     The Dark Knight Rises   \n",
       "4                               John Carter   \n",
       "\n",
       "                                            overview  popularity  \\\n",
       "0  In the 22nd century, a paraplegic Marine is di...  150.437577   \n",
       "1  Captain Barbossa, long believed to be dead, ha...  139.082615   \n",
       "2  A cryptic message from Bond’s past sends him o...  107.376788   \n",
       "3  Following the death of District Attorney Harve...  112.312950   \n",
       "4  John Carter is a war-weary, former military ca...   43.926995   \n",
       "\n",
       "                                production_companies  \\\n",
       "0  [{\"name\": \"Ingenious Film Partners\", \"id\": 289...   \n",
       "1  [{\"name\": \"Walt Disney Pictures\", \"id\": 2}, {\"...   \n",
       "2  [{\"name\": \"Columbia Pictures\", \"id\": 5}, {\"nam...   \n",
       "3  [{\"name\": \"Legendary Pictures\", \"id\": 923}, {\"...   \n",
       "4        [{\"name\": \"Walt Disney Pictures\", \"id\": 2}]   \n",
       "\n",
       "                                production_countries release_date     revenue  \\\n",
       "0  [{\"iso_3166_1\": \"US\", \"name\": \"United States o...   2009-12-10  2787965087   \n",
       "1  [{\"iso_3166_1\": \"US\", \"name\": \"United States o...   2007-05-19   961000000   \n",
       "2  [{\"iso_3166_1\": \"GB\", \"name\": \"United Kingdom\"...   2015-10-26   880674609   \n",
       "3  [{\"iso_3166_1\": \"US\", \"name\": \"United States o...   2012-07-16  1084939099   \n",
       "4  [{\"iso_3166_1\": \"US\", \"name\": \"United States o...   2012-03-07   284139100   \n",
       "\n",
       "   runtime                                   spoken_languages    status  \\\n",
       "0    162.0  [{\"iso_639_1\": \"en\", \"name\": \"English\"}, {\"iso...  Released   \n",
       "1    169.0           [{\"iso_639_1\": \"en\", \"name\": \"English\"}]  Released   \n",
       "2    148.0  [{\"iso_639_1\": \"fr\", \"name\": \"Fran\\u00e7ais\"},...  Released   \n",
       "3    165.0           [{\"iso_639_1\": \"en\", \"name\": \"English\"}]  Released   \n",
       "4    132.0           [{\"iso_639_1\": \"en\", \"name\": \"English\"}]  Released   \n",
       "\n",
       "                                          tagline  \\\n",
       "0                     Enter the World of Pandora.   \n",
       "1  At the end of the world, the adventure begins.   \n",
       "2                           A Plan No One Escapes   \n",
       "3                                 The Legend Ends   \n",
       "4            Lost in our world, found in another.   \n",
       "\n",
       "                                      title  vote_average  vote_count  \n",
       "0                                    Avatar           7.2       11800  \n",
       "1  Pirates of the Caribbean: At World's End           6.9        4500  \n",
       "2                                   Spectre           6.3        4466  \n",
       "3                     The Dark Knight Rises           7.6        9106  \n",
       "4                               John Carter           6.1        2124  "
      ]
     },
     "execution_count": 2,
     "metadata": {},
     "output_type": "execute_result"
    }
   ],
   "source": [
    "tmdb = pd.read_csv(\"./dados/tmdb_5000_movies.csv\")\n",
    "tmdb.head()"
   ]
  },
  {
   "cell_type": "code",
   "execution_count": 3,
   "id": "00928932",
   "metadata": {},
   "outputs": [
    {
     "data": {
      "text/html": [
       "<div>\n",
       "<style scoped>\n",
       "    .dataframe tbody tr th:only-of-type {\n",
       "        vertical-align: middle;\n",
       "    }\n",
       "\n",
       "    .dataframe tbody tr th {\n",
       "        vertical-align: top;\n",
       "    }\n",
       "\n",
       "    .dataframe thead th {\n",
       "        text-align: right;\n",
       "    }\n",
       "</style>\n",
       "<table border=\"1\" class=\"dataframe\">\n",
       "  <thead>\n",
       "    <tr style=\"text-align: right;\">\n",
       "      <th></th>\n",
       "      <th>budget</th>\n",
       "      <th>id</th>\n",
       "      <th>popularity</th>\n",
       "      <th>revenue</th>\n",
       "      <th>runtime</th>\n",
       "      <th>vote_average</th>\n",
       "      <th>vote_count</th>\n",
       "    </tr>\n",
       "  </thead>\n",
       "  <tbody>\n",
       "    <tr>\n",
       "      <th>count</th>\n",
       "      <td>4.803000e+03</td>\n",
       "      <td>4803.000000</td>\n",
       "      <td>4803.000000</td>\n",
       "      <td>4.803000e+03</td>\n",
       "      <td>4801.000000</td>\n",
       "      <td>4803.000000</td>\n",
       "      <td>4803.000000</td>\n",
       "    </tr>\n",
       "    <tr>\n",
       "      <th>mean</th>\n",
       "      <td>2.904504e+07</td>\n",
       "      <td>57165.484281</td>\n",
       "      <td>21.492301</td>\n",
       "      <td>8.226064e+07</td>\n",
       "      <td>106.875859</td>\n",
       "      <td>6.092172</td>\n",
       "      <td>690.217989</td>\n",
       "    </tr>\n",
       "    <tr>\n",
       "      <th>std</th>\n",
       "      <td>4.072239e+07</td>\n",
       "      <td>88694.614033</td>\n",
       "      <td>31.816650</td>\n",
       "      <td>1.628571e+08</td>\n",
       "      <td>22.611935</td>\n",
       "      <td>1.194612</td>\n",
       "      <td>1234.585891</td>\n",
       "    </tr>\n",
       "    <tr>\n",
       "      <th>min</th>\n",
       "      <td>0.000000e+00</td>\n",
       "      <td>5.000000</td>\n",
       "      <td>0.000000</td>\n",
       "      <td>0.000000e+00</td>\n",
       "      <td>0.000000</td>\n",
       "      <td>0.000000</td>\n",
       "      <td>0.000000</td>\n",
       "    </tr>\n",
       "    <tr>\n",
       "      <th>25%</th>\n",
       "      <td>7.900000e+05</td>\n",
       "      <td>9014.500000</td>\n",
       "      <td>4.668070</td>\n",
       "      <td>0.000000e+00</td>\n",
       "      <td>94.000000</td>\n",
       "      <td>5.600000</td>\n",
       "      <td>54.000000</td>\n",
       "    </tr>\n",
       "    <tr>\n",
       "      <th>50%</th>\n",
       "      <td>1.500000e+07</td>\n",
       "      <td>14629.000000</td>\n",
       "      <td>12.921594</td>\n",
       "      <td>1.917000e+07</td>\n",
       "      <td>103.000000</td>\n",
       "      <td>6.200000</td>\n",
       "      <td>235.000000</td>\n",
       "    </tr>\n",
       "    <tr>\n",
       "      <th>75%</th>\n",
       "      <td>4.000000e+07</td>\n",
       "      <td>58610.500000</td>\n",
       "      <td>28.313505</td>\n",
       "      <td>9.291719e+07</td>\n",
       "      <td>118.000000</td>\n",
       "      <td>6.800000</td>\n",
       "      <td>737.000000</td>\n",
       "    </tr>\n",
       "    <tr>\n",
       "      <th>max</th>\n",
       "      <td>3.800000e+08</td>\n",
       "      <td>459488.000000</td>\n",
       "      <td>875.581305</td>\n",
       "      <td>2.787965e+09</td>\n",
       "      <td>338.000000</td>\n",
       "      <td>10.000000</td>\n",
       "      <td>13752.000000</td>\n",
       "    </tr>\n",
       "  </tbody>\n",
       "</table>\n",
       "</div>"
      ],
      "text/plain": [
       "             budget             id   popularity       revenue      runtime  \\\n",
       "count  4.803000e+03    4803.000000  4803.000000  4.803000e+03  4801.000000   \n",
       "mean   2.904504e+07   57165.484281    21.492301  8.226064e+07   106.875859   \n",
       "std    4.072239e+07   88694.614033    31.816650  1.628571e+08    22.611935   \n",
       "min    0.000000e+00       5.000000     0.000000  0.000000e+00     0.000000   \n",
       "25%    7.900000e+05    9014.500000     4.668070  0.000000e+00    94.000000   \n",
       "50%    1.500000e+07   14629.000000    12.921594  1.917000e+07   103.000000   \n",
       "75%    4.000000e+07   58610.500000    28.313505  9.291719e+07   118.000000   \n",
       "max    3.800000e+08  459488.000000   875.581305  2.787965e+09   338.000000   \n",
       "\n",
       "       vote_average    vote_count  \n",
       "count   4803.000000   4803.000000  \n",
       "mean       6.092172    690.217989  \n",
       "std        1.194612   1234.585891  \n",
       "min        0.000000      0.000000  \n",
       "25%        5.600000     54.000000  \n",
       "50%        6.200000    235.000000  \n",
       "75%        6.800000    737.000000  \n",
       "max       10.000000  13752.000000  "
      ]
     },
     "execution_count": 3,
     "metadata": {},
     "output_type": "execute_result"
    }
   ],
   "source": [
    "tmdb.describe()"
   ]
  },
  {
   "cell_type": "code",
   "execution_count": 4,
   "id": "c9171d56",
   "metadata": {},
   "outputs": [
    {
     "data": {
      "text/plain": [
       "Text(0.5, 1.0, 'Média de votos em filmes no TMDB 5000')"
      ]
     },
     "execution_count": 4,
     "metadata": {},
     "output_type": "execute_result"
    },
    {
     "data": {
      "image/png": "[encoded data removed]",
      "text/plain": [
       "<Figure size 432x288 with 1 Axes>"
      ]
     },
     "metadata": {},
     "output_type": "display_data"
    }
   ],
   "source": [
    "#Usando seaborn para fazer um histograma relacionado \n",
    "# com as médias de votos.\n",
    "sns.set()\n",
    "\n",
    "# O parâmetro stat por padrão vem no 'count', mas para ver\n",
    "# o eixo y em porcentagem, basta colocar como \"proportion\".\n",
    "ax = sns.histplot(tmdb.vote_average, kde = True, stat = 'proportion')\n",
    "\n",
    "#Outra forma de dar nome aos labels.\n",
    "#ax.set_xlabel...\n",
    "ax.set(xlabel = \"Nota média\", ylabel =\"Densidade\")\n",
    "ax.set_title(\"Média de votos em filmes no TMDB 5000\")"
   ]
  },
  {
   "cell_type": "code",
   "execution_count": 5,
   "id": "71613178",
   "metadata": {},
   "outputs": [
    {
     "data": {
      "text/plain": [
       "Text(0.5, 1.0, 'Média de votos em filmes no TMDB 5000')"
      ]
     },
     "execution_count": 5,
     "metadata": {},
     "output_type": "execute_result"
    },
    {
     "data": {
      "image/png": "[encoded data removed]",
      "text/plain": [
       "<Figure size 432x288 with 1 Axes>"
      ]
     },
     "metadata": {},
     "output_type": "display_data"
    }
   ],
   "source": [
    "ax = sns.histplot(tmdb.vote_average, kde = True)\n",
    "ax.set(xlabel = \"Nota média\", ylabel =\"Frequência\")\n",
    "ax.set_title(\"Média de votos em filmes no TMDB 5000\")"
   ]
  },
  {
   "cell_type": "code",
   "execution_count": 6,
   "id": "6c0215f8",
   "metadata": {},
   "outputs": [
    {
     "data": {
      "text/plain": [
       "Text(0.5, 0, 'Nota média do filme')"
      ]
     },
     "execution_count": 6,
     "metadata": {},
     "output_type": "execute_result"
    },
    {
     "data": {
      "image/png": "[encoded data removed]",
      "text/plain": [
       "<Figure size 432x288 with 1 Axes>"
      ]
     },
     "metadata": {},
     "output_type": "display_data"
    }
   ],
   "source": [
    "ax = sns.boxplot(x = 'vote_average', data = tmdb)\n",
    "ax.set_title(\"Distribuição de nota média dos filmes do TMDB 5000\")\n",
    "ax.set_xlabel(\"Nota média do filme\")"
   ]
  },
  {
   "cell_type": "markdown",
   "id": "52a5f5ab",
   "metadata": {},
   "source": [
    "Tanto pelo método describe quanto pelo histograma e o boxplot podemos enxergar que há pessoas que dão a nota zero para alguns filmes, mas das 3 opções, qual é o melhor para identificar quantas pessoas deram essa nota?\n",
    "\n",
    "Pelo describe a única coisa que podemos descobrir é que foi dado como mínimo a nota zero, contudo não é possível saber quantas pessoas deram.\n",
    "\n",
    "Já pela boxplot, vemos que tem o outlier na reta do zero, mas não temos algo para comparar além de perceber que o ponto está mais \"gordinho\" que no ponto de 1 e outros maiores.\n",
    "\n",
    "No entanto pelo histograma conseguimos ter uma ideia melhor uma vez que colocamos para ver a frequência de votos e não a sua densidade. Dando um valor próximo de 60 e poucos."
   ]
  },
  {
   "cell_type": "markdown",
   "id": "4bfd49c8",
   "metadata": {},
   "source": [
    "> Em cada momento precisaremos de informações diferentes, cabe a gente achar a melhor ferramenta."
   ]
  },
  {
   "cell_type": "markdown",
   "id": "25c3b85a",
   "metadata": {},
   "source": [
    "É muito estranho ver filme em que a média é 0 ou 10, nos extremos, basta um que voto que altere seu valor, logo temos que dar uma olhada nesses casos."
   ]
  },
  {
   "cell_type": "code",
   "execution_count": 7,
   "id": "b66cfd2b",
   "metadata": {},
   "outputs": [
    {
     "data": {
      "text/html": [
       "<div>\n",
       "<style scoped>\n",
       "    .dataframe tbody tr th:only-of-type {\n",
       "        vertical-align: middle;\n",
       "    }\n",
       "\n",
       "    .dataframe tbody tr th {\n",
       "        vertical-align: top;\n",
       "    }\n",
       "\n",
       "    .dataframe thead th {\n",
       "        text-align: right;\n",
       "    }\n",
       "</style>\n",
       "<table border=\"1\" class=\"dataframe\">\n",
       "  <thead>\n",
       "    <tr style=\"text-align: right;\">\n",
       "      <th></th>\n",
       "      <th>budget</th>\n",
       "      <th>genres</th>\n",
       "      <th>homepage</th>\n",
       "      <th>id</th>\n",
       "      <th>keywords</th>\n",
       "      <th>original_language</th>\n",
       "      <th>original_title</th>\n",
       "      <th>overview</th>\n",
       "      <th>popularity</th>\n",
       "      <th>production_companies</th>\n",
       "      <th>production_countries</th>\n",
       "      <th>release_date</th>\n",
       "      <th>revenue</th>\n",
       "      <th>runtime</th>\n",
       "      <th>spoken_languages</th>\n",
       "      <th>status</th>\n",
       "      <th>tagline</th>\n",
       "      <th>title</th>\n",
       "      <th>vote_average</th>\n",
       "      <th>vote_count</th>\n",
       "    </tr>\n",
       "  </thead>\n",
       "  <tbody>\n",
       "    <tr>\n",
       "      <th>1464</th>\n",
       "      <td>0</td>\n",
       "      <td>[{\"id\": 18, \"name\": \"Drama\"}, {\"id\": 80, \"name...</td>\n",
       "      <td>NaN</td>\n",
       "      <td>310706</td>\n",
       "      <td>[]</td>\n",
       "      <td>en</td>\n",
       "      <td>Black Water Transit</td>\n",
       "      <td>In this action thriller set in post-Katrina Ne...</td>\n",
       "      <td>0.126738</td>\n",
       "      <td>[{\"name\": \"Capitol Films\", \"id\": 826}]</td>\n",
       "      <td>[{\"iso_3166_1\": \"US\", \"name\": \"United States o...</td>\n",
       "      <td>2009-05-13</td>\n",
       "      <td>0</td>\n",
       "      <td>100.0</td>\n",
       "      <td>[{\"iso_639_1\": \"en\", \"name\": \"English\"}]</td>\n",
       "      <td>Released</td>\n",
       "      <td>NaN</td>\n",
       "      <td>Black Water Transit</td>\n",
       "      <td>0.0</td>\n",
       "      <td>0</td>\n",
       "    </tr>\n",
       "    <tr>\n",
       "      <th>3669</th>\n",
       "      <td>0</td>\n",
       "      <td>[{\"id\": 35, \"name\": \"Comedy\"}, {\"id\": 18, \"nam...</td>\n",
       "      <td>http://www.romeothemovie.com/</td>\n",
       "      <td>113406</td>\n",
       "      <td>[]</td>\n",
       "      <td>en</td>\n",
       "      <td>Should've Been Romeo</td>\n",
       "      <td>A self-centered, middle-aged pitchman for a po...</td>\n",
       "      <td>0.407030</td>\n",
       "      <td>[{\"name\": \"Phillybrook Films\", \"id\": 65147}]</td>\n",
       "      <td>[{\"iso_3166_1\": \"US\", \"name\": \"United States o...</td>\n",
       "      <td>2012-04-28</td>\n",
       "      <td>0</td>\n",
       "      <td>0.0</td>\n",
       "      <td>[{\"iso_639_1\": \"en\", \"name\": \"English\"}]</td>\n",
       "      <td>Released</td>\n",
       "      <td>Even Shakespeare didn't see this one coming.</td>\n",
       "      <td>Should've Been Romeo</td>\n",
       "      <td>0.0</td>\n",
       "      <td>0</td>\n",
       "    </tr>\n",
       "    <tr>\n",
       "      <th>3670</th>\n",
       "      <td>0</td>\n",
       "      <td>[{\"id\": 10751, \"name\": \"Family\"}]</td>\n",
       "      <td>NaN</td>\n",
       "      <td>447027</td>\n",
       "      <td>[]</td>\n",
       "      <td>en</td>\n",
       "      <td>Running Forever</td>\n",
       "      <td>After being estranged since her mother's death...</td>\n",
       "      <td>0.028756</td>\n",
       "      <td>[{\"name\": \"New Kingdom Pictures\", \"id\": 41671}]</td>\n",
       "      <td>[{\"iso_3166_1\": \"US\", \"name\": \"United States o...</td>\n",
       "      <td>2015-10-27</td>\n",
       "      <td>0</td>\n",
       "      <td>88.0</td>\n",
       "      <td>[]</td>\n",
       "      <td>Released</td>\n",
       "      <td>NaN</td>\n",
       "      <td>Running Forever</td>\n",
       "      <td>0.0</td>\n",
       "      <td>0</td>\n",
       "    </tr>\n",
       "    <tr>\n",
       "      <th>3852</th>\n",
       "      <td>0</td>\n",
       "      <td>[{\"id\": 18, \"name\": \"Drama\"}]</td>\n",
       "      <td>NaN</td>\n",
       "      <td>395766</td>\n",
       "      <td>[{\"id\": 11162, \"name\": \"miniseries\"}]</td>\n",
       "      <td>en</td>\n",
       "      <td>The Secret</td>\n",
       "      <td>The Secret is the story of a real-life double ...</td>\n",
       "      <td>0.042346</td>\n",
       "      <td>[]</td>\n",
       "      <td>[]</td>\n",
       "      <td>2016-04-29</td>\n",
       "      <td>0</td>\n",
       "      <td>200.0</td>\n",
       "      <td>[]</td>\n",
       "      <td>Released</td>\n",
       "      <td>NaN</td>\n",
       "      <td>The Secret</td>\n",
       "      <td>0.0</td>\n",
       "      <td>0</td>\n",
       "    </tr>\n",
       "    <tr>\n",
       "      <th>3855</th>\n",
       "      <td>3500000</td>\n",
       "      <td>[{\"id\": 99, \"name\": \"Documentary\"}]</td>\n",
       "      <td>http://www.timetochoose.com</td>\n",
       "      <td>370662</td>\n",
       "      <td>[{\"id\": 2210, \"name\": \"climate change\"}, {\"id\"...</td>\n",
       "      <td>en</td>\n",
       "      <td>Time to Choose</td>\n",
       "      <td>Academy Award® winning director Charles Fergus...</td>\n",
       "      <td>1.618138</td>\n",
       "      <td>[{\"name\": \"Representational Pictures\", \"id\": 8...</td>\n",
       "      <td>[{\"iso_3166_1\": \"US\", \"name\": \"United States o...</td>\n",
       "      <td>2015-09-04</td>\n",
       "      <td>0</td>\n",
       "      <td>100.0</td>\n",
       "      <td>[{\"iso_639_1\": \"en\", \"name\": \"English\"}]</td>\n",
       "      <td>Released</td>\n",
       "      <td>Climate change for good.</td>\n",
       "      <td>Time to Choose</td>\n",
       "      <td>0.0</td>\n",
       "      <td>0</td>\n",
       "    </tr>\n",
       "  </tbody>\n",
       "</table>\n",
       "</div>"
      ],
      "text/plain": [
       "       budget                                             genres  \\\n",
       "1464        0  [{\"id\": 18, \"name\": \"Drama\"}, {\"id\": 80, \"name...   \n",
       "3669        0  [{\"id\": 35, \"name\": \"Comedy\"}, {\"id\": 18, \"nam...   \n",
       "3670        0                  [{\"id\": 10751, \"name\": \"Family\"}]   \n",
       "3852        0                      [{\"id\": 18, \"name\": \"Drama\"}]   \n",
       "3855  3500000                [{\"id\": 99, \"name\": \"Documentary\"}]   \n",
       "\n",
       "                           homepage      id  \\\n",
       "1464                            NaN  310706   \n",
       "3669  http://www.romeothemovie.com/  113406   \n",
       "3670                            NaN  447027   \n",
       "3852                            NaN  395766   \n",
       "3855    http://www.timetochoose.com  370662   \n",
       "\n",
       "                                               keywords original_language  \\\n",
       "1464                                                 []                en   \n",
       "3669                                                 []                en   \n",
       "3670                                                 []                en   \n",
       "3852              [{\"id\": 11162, \"name\": \"miniseries\"}]                en   \n",
       "3855  [{\"id\": 2210, \"name\": \"climate change\"}, {\"id\"...                en   \n",
       "\n",
       "            original_title                                           overview  \\\n",
       "1464   Black Water Transit  In this action thriller set in post-Katrina Ne...   \n",
       "3669  Should've Been Romeo  A self-centered, middle-aged pitchman for a po...   \n",
       "3670       Running Forever  After being estranged since her mother's death...   \n",
       "3852            The Secret  The Secret is the story of a real-life double ...   \n",
       "3855        Time to Choose  Academy Award® winning director Charles Fergus...   \n",
       "\n",
       "      popularity                               production_companies  \\\n",
       "1464    0.126738             [{\"name\": \"Capitol Films\", \"id\": 826}]   \n",
       "3669    0.407030       [{\"name\": \"Phillybrook Films\", \"id\": 65147}]   \n",
       "3670    0.028756    [{\"name\": \"New Kingdom Pictures\", \"id\": 41671}]   \n",
       "3852    0.042346                                                 []   \n",
       "3855    1.618138  [{\"name\": \"Representational Pictures\", \"id\": 8...   \n",
       "\n",
       "                                   production_countries release_date  revenue  \\\n",
       "1464  [{\"iso_3166_1\": \"US\", \"name\": \"United States o...   2009-05-13        0   \n",
       "3669  [{\"iso_3166_1\": \"US\", \"name\": \"United States o...   2012-04-28        0   \n",
       "3670  [{\"iso_3166_1\": \"US\", \"name\": \"United States o...   2015-10-27        0   \n",
       "3852                                                 []   2016-04-29        0   \n",
       "3855  [{\"iso_3166_1\": \"US\", \"name\": \"United States o...   2015-09-04        0   \n",
       "\n",
       "      runtime                          spoken_languages    status  \\\n",
       "1464    100.0  [{\"iso_639_1\": \"en\", \"name\": \"English\"}]  Released   \n",
       "3669      0.0  [{\"iso_639_1\": \"en\", \"name\": \"English\"}]  Released   \n",
       "3670     88.0                                        []  Released   \n",
       "3852    200.0                                        []  Released   \n",
       "3855    100.0  [{\"iso_639_1\": \"en\", \"name\": \"English\"}]  Released   \n",
       "\n",
       "                                           tagline                 title  \\\n",
       "1464                                           NaN   Black Water Transit   \n",
       "3669  Even Shakespeare didn't see this one coming.  Should've Been Romeo   \n",
       "3670                                           NaN       Running Forever   \n",
       "3852                                           NaN            The Secret   \n",
       "3855                      Climate change for good.        Time to Choose   \n",
       "\n",
       "      vote_average  vote_count  \n",
       "1464           0.0           0  \n",
       "3669           0.0           0  \n",
       "3670           0.0           0  \n",
       "3852           0.0           0  \n",
       "3855           0.0           0  "
      ]
     },
     "execution_count": 7,
     "metadata": {},
     "output_type": "execute_result"
    }
   ],
   "source": [
    "tmdb.query(\"vote_average == 0\").head()"
   ]
  },
  {
   "cell_type": "markdown",
   "id": "de2b66da",
   "metadata": {},
   "source": [
    "Quando olhando para a média de votos e a quantidade de votos chegamos num dilema, como um filme pode ter a média 0, se ninguém votou nele?!\n",
    "Provavelmente isso é algo feito para dar um valor, feito pela pessoa que fez o dataset, mas não deveríamos olhar para esses gráficos e tabela que fizemos anteriormente pensando que existe esses filmes, pois eles não deveriam estar lá!\n",
    "\n",
    "Vamos limpar os dados então pois eles não deveriam constar em nossa análise de dados. Definindo que o mínimo de votos para nossa base de dados seja 10.\n",
    "\n",
    "Obs: existe filmes aí no meio que também tem número de votos maiores que zero, contudo são 1 ou 2 votos, não representam um valor definido que nos interessa uma vez que quando aumentar o número de votos, é muito provável que esse valor altere.\n",
    "\n"
   ]
  },
  {
   "cell_type": "code",
   "execution_count": 8,
   "id": "9eac6334",
   "metadata": {},
   "outputs": [
    {
     "data": {
      "text/html": [
       "<div>\n",
       "<style scoped>\n",
       "    .dataframe tbody tr th:only-of-type {\n",
       "        vertical-align: middle;\n",
       "    }\n",
       "\n",
       "    .dataframe tbody tr th {\n",
       "        vertical-align: top;\n",
       "    }\n",
       "\n",
       "    .dataframe thead th {\n",
       "        text-align: right;\n",
       "    }\n",
       "</style>\n",
       "<table border=\"1\" class=\"dataframe\">\n",
       "  <thead>\n",
       "    <tr style=\"text-align: right;\">\n",
       "      <th></th>\n",
       "      <th>budget</th>\n",
       "      <th>id</th>\n",
       "      <th>popularity</th>\n",
       "      <th>revenue</th>\n",
       "      <th>runtime</th>\n",
       "      <th>vote_average</th>\n",
       "      <th>vote_count</th>\n",
       "    </tr>\n",
       "  </thead>\n",
       "  <tbody>\n",
       "    <tr>\n",
       "      <th>count</th>\n",
       "      <td>4.392000e+03</td>\n",
       "      <td>4392.000000</td>\n",
       "      <td>4392.000000</td>\n",
       "      <td>4.392000e+03</td>\n",
       "      <td>4391.000000</td>\n",
       "      <td>4392.000000</td>\n",
       "      <td>4392.000000</td>\n",
       "    </tr>\n",
       "    <tr>\n",
       "      <th>mean</th>\n",
       "      <td>3.164545e+07</td>\n",
       "      <td>49204.119991</td>\n",
       "      <td>23.448815</td>\n",
       "      <td>8.990969e+07</td>\n",
       "      <td>108.430881</td>\n",
       "      <td>6.226935</td>\n",
       "      <td>754.441712</td>\n",
       "    </tr>\n",
       "    <tr>\n",
       "      <th>std</th>\n",
       "      <td>4.162736e+07</td>\n",
       "      <td>80136.249777</td>\n",
       "      <td>32.592158</td>\n",
       "      <td>1.682870e+08</td>\n",
       "      <td>21.014719</td>\n",
       "      <td>0.893215</td>\n",
       "      <td>1272.263761</td>\n",
       "    </tr>\n",
       "    <tr>\n",
       "      <th>min</th>\n",
       "      <td>0.000000e+00</td>\n",
       "      <td>5.000000</td>\n",
       "      <td>0.011697</td>\n",
       "      <td>0.000000e+00</td>\n",
       "      <td>0.000000</td>\n",
       "      <td>1.900000</td>\n",
       "      <td>10.000000</td>\n",
       "    </tr>\n",
       "    <tr>\n",
       "      <th>25%</th>\n",
       "      <td>2.895962e+06</td>\n",
       "      <td>8403.500000</td>\n",
       "      <td>6.512166</td>\n",
       "      <td>1.365700e+04</td>\n",
       "      <td>95.000000</td>\n",
       "      <td>5.700000</td>\n",
       "      <td>83.750000</td>\n",
       "    </tr>\n",
       "    <tr>\n",
       "      <th>50%</th>\n",
       "      <td>1.700000e+07</td>\n",
       "      <td>13084.500000</td>\n",
       "      <td>14.827784</td>\n",
       "      <td>2.685837e+07</td>\n",
       "      <td>105.000000</td>\n",
       "      <td>6.300000</td>\n",
       "      <td>288.500000</td>\n",
       "    </tr>\n",
       "    <tr>\n",
       "      <th>75%</th>\n",
       "      <td>4.200000e+07</td>\n",
       "      <td>46831.250000</td>\n",
       "      <td>30.258282</td>\n",
       "      <td>1.022818e+08</td>\n",
       "      <td>118.500000</td>\n",
       "      <td>6.800000</td>\n",
       "      <td>831.000000</td>\n",
       "    </tr>\n",
       "    <tr>\n",
       "      <th>max</th>\n",
       "      <td>3.800000e+08</td>\n",
       "      <td>417859.000000</td>\n",
       "      <td>875.581305</td>\n",
       "      <td>2.787965e+09</td>\n",
       "      <td>338.000000</td>\n",
       "      <td>8.500000</td>\n",
       "      <td>13752.000000</td>\n",
       "    </tr>\n",
       "  </tbody>\n",
       "</table>\n",
       "</div>"
      ],
      "text/plain": [
       "             budget             id   popularity       revenue      runtime  \\\n",
       "count  4.392000e+03    4392.000000  4392.000000  4.392000e+03  4391.000000   \n",
       "mean   3.164545e+07   49204.119991    23.448815  8.990969e+07   108.430881   \n",
       "std    4.162736e+07   80136.249777    32.592158  1.682870e+08    21.014719   \n",
       "min    0.000000e+00       5.000000     0.011697  0.000000e+00     0.000000   \n",
       "25%    2.895962e+06    8403.500000     6.512166  1.365700e+04    95.000000   \n",
       "50%    1.700000e+07   13084.500000    14.827784  2.685837e+07   105.000000   \n",
       "75%    4.200000e+07   46831.250000    30.258282  1.022818e+08   118.500000   \n",
       "max    3.800000e+08  417859.000000   875.581305  2.787965e+09   338.000000   \n",
       "\n",
       "       vote_average    vote_count  \n",
       "count   4392.000000   4392.000000  \n",
       "mean       6.226935    754.441712  \n",
       "std        0.893215   1272.263761  \n",
       "min        1.900000     10.000000  \n",
       "25%        5.700000     83.750000  \n",
       "50%        6.300000    288.500000  \n",
       "75%        6.800000    831.000000  \n",
       "max        8.500000  13752.000000  "
      ]
     },
     "execution_count": 8,
     "metadata": {},
     "output_type": "execute_result"
    }
   ],
   "source": [
    "tmdb_com_mais_de_10_votos = tmdb.query(\"vote_count >=10\")\n",
    "tmdb_com_mais_de_10_votos.describe()"
   ]
  },
  {
   "cell_type": "markdown",
   "id": "c84ab77a",
   "metadata": {},
   "source": [
    "Repare que não só o mínimo aumentou, mas o máximo também diminuiu! Porque tanto os filmes que tinham média 0 ou 10, eram aqueles que tinham menos de 10 votos.\n",
    "\n",
    "Na minha cabeça, era só tirar os filmes que tinham média 0 ou 10, mas na verdade é mais esperto, por assim dizer, somente tirar os filmes com poucos votos, é mais simples assim."
   ]
  },
  {
   "cell_type": "code",
   "execution_count": 9,
   "id": "bbd6d0db",
   "metadata": {},
   "outputs": [
    {
     "data": {
      "text/plain": [
       "Text(0.5, 1.0, 'Média de votos em filmes no TMDB 5000 dentre os filmes com 10 ou mais votos.')"
      ]
     },
     "execution_count": 9,
     "metadata": {},
     "output_type": "execute_result"
    },
    {
     "data": {
      "image/png": "[encoded data removed]",
      "text/plain": [
       "<Figure size 432x288 with 1 Axes>"
      ]
     },
     "metadata": {},
     "output_type": "display_data"
    }
   ],
   "source": [
    "#Olhando agora o histograma nesse novo grupo de análise, pela frequência.\n",
    "ax = sns.histplot(tmdb_com_mais_de_10_votos.vote_average, kde = True)\n",
    "ax.set(xlabel = \"Nota média\", ylabel =\"Frequência\")\n",
    "ax.set_title(\"Média de votos em filmes no TMDB 5000 dentre os filmes com 10 ou mais votos.\")"
   ]
  },
  {
   "cell_type": "code",
   "execution_count": 10,
   "id": "13e9a79e",
   "metadata": {},
   "outputs": [
    {
     "data": {
      "text/plain": [
       "Text(0.5, 1.0, 'Média de votos em filmes no TMDB 5000 dentre os filmes com 10 ou mais votos.')"
      ]
     },
     "execution_count": 10,
     "metadata": {},
     "output_type": "execute_result"
    },
    {
     "data": {
      "image/png": "[encoded data removed]",
      "text/plain": [
       "<Figure size 432x288 with 1 Axes>"
      ]
     },
     "metadata": {},
     "output_type": "display_data"
    }
   ],
   "source": [
    "#E agora pela densidade\n",
    "ax = sns.histplot(tmdb_com_mais_de_10_votos.vote_average, kde = True, stat = \"proportion\")\n",
    "ax.set(xlabel = \"Nota média\", ylabel =\"Densidade\")\n",
    "ax.set_title(\"Média de votos em filmes no TMDB 5000 dentre os filmes com 10 ou mais votos.\")"
   ]
  },
  {
   "cell_type": "code",
   "execution_count": 11,
   "id": "1330a9ee",
   "metadata": {},
   "outputs": [
    {
     "data": {
      "text/plain": [
       "Text(0.5, 1.0, 'Média de votos em filmes no TMDB 5000 dentre os filmes com 10 ou mais votos.')"
      ]
     },
     "execution_count": 11,
     "metadata": {},
     "output_type": "execute_result"
    },
    {
     "data": {
      "image/png": "[encoded data removed]",
      "text/plain": [
       "<Figure size 432x288 with 1 Axes>"
      ]
     },
     "metadata": {},
     "output_type": "display_data"
    }
   ],
   "source": [
    "# Versão cumulativa\n",
    "ax = sns.histplot(tmdb_com_mais_de_10_votos.vote_average, \n",
    "                  kde = True, stat = \"proportion\", cumulative = True)\n",
    "ax.set(xlabel = \"Nota média\", ylabel =\"Densidade\")\n",
    "ax.set_title(\"Média de votos em filmes no TMDB 5000 dentre os filmes com 10 ou mais votos.\")"
   ]
  },
  {
   "cell_type": "markdown",
   "id": "54629c4c",
   "metadata": {},
   "source": [
    "Então pegamos nossa base de dados e compreendemos como ela estava se comportando e assim alteramos as informações que não eram de nosso interesse, que iria compremeter a interpretação do resultado final.\n",
    "\n",
    "Acredito que o termo \"alterar\" parece muito manipulador, mas a ideia é que esses registros que não temos interesse não acrescentam nos dados e eles próprios alteram já de antemão informações vitais. Por exemplo o caso da média de notas pelo tmdb, quando tiramos os filmes que tem menos de 10 votos, o valor da média ficou no lugar 'correto' pois era influenciado pelos zeros que tinham zero votos, que não faziam sentido constar no cálculo."
   ]
  },
  {
   "cell_type": "code",
   "execution_count": 12,
   "id": "1baa8099",
   "metadata": {},
   "outputs": [
    {
     "data": {
      "text/plain": [
       "Text(0.5, 0, 'Nota média do filme')"
      ]
     },
     "execution_count": 12,
     "metadata": {},
     "output_type": "execute_result"
    },
    {
     "data": {
      "image/png": "[encoded data removed]",
      "text/plain": [
       "<Figure size 432x288 with 1 Axes>"
      ]
     },
     "metadata": {},
     "output_type": "display_data"
    }
   ],
   "source": [
    "#Pelo box_plot\n",
    "ax = sns.boxplot(x = 'vote_average', data = tmdb_com_mais_de_10_votos)\n",
    "ax.set_title(\"Distribuição de nota média dos filmes do TMDB 5000\")\n",
    "ax.set_xlabel(\"Nota média do filme\")"
   ]
  },
  {
   "cell_type": "markdown",
   "id": "a7b1a643",
   "metadata": {},
   "source": [
    "Queremos agora entender se a base se comportar como uma distribuição de dados conhecida. Para podermos tirar melhores conclusões."
   ]
  },
  {
   "cell_type": "code",
   "execution_count": 13,
   "id": "dcfa03f3",
   "metadata": {},
   "outputs": [
    {
     "data": {
      "text/html": [
       "<div>\n",
       "<style scoped>\n",
       "    .dataframe tbody tr th:only-of-type {\n",
       "        vertical-align: middle;\n",
       "    }\n",
       "\n",
       "    .dataframe tbody tr th {\n",
       "        vertical-align: top;\n",
       "    }\n",
       "\n",
       "    .dataframe thead th {\n",
       "        text-align: right;\n",
       "    }\n",
       "</style>\n",
       "<table border=\"1\" class=\"dataframe\">\n",
       "  <thead>\n",
       "    <tr style=\"text-align: right;\">\n",
       "      <th></th>\n",
       "      <th>userId</th>\n",
       "      <th>movieId</th>\n",
       "      <th>rating</th>\n",
       "      <th>timestamp</th>\n",
       "    </tr>\n",
       "  </thead>\n",
       "  <tbody>\n",
       "    <tr>\n",
       "      <th>0</th>\n",
       "      <td>1</td>\n",
       "      <td>1</td>\n",
       "      <td>4.0</td>\n",
       "      <td>964982703</td>\n",
       "    </tr>\n",
       "    <tr>\n",
       "      <th>1</th>\n",
       "      <td>1</td>\n",
       "      <td>3</td>\n",
       "      <td>4.0</td>\n",
       "      <td>964981247</td>\n",
       "    </tr>\n",
       "    <tr>\n",
       "      <th>2</th>\n",
       "      <td>1</td>\n",
       "      <td>6</td>\n",
       "      <td>4.0</td>\n",
       "      <td>964982224</td>\n",
       "    </tr>\n",
       "    <tr>\n",
       "      <th>3</th>\n",
       "      <td>1</td>\n",
       "      <td>47</td>\n",
       "      <td>5.0</td>\n",
       "      <td>964983815</td>\n",
       "    </tr>\n",
       "    <tr>\n",
       "      <th>4</th>\n",
       "      <td>1</td>\n",
       "      <td>50</td>\n",
       "      <td>5.0</td>\n",
       "      <td>964982931</td>\n",
       "    </tr>\n",
       "  </tbody>\n",
       "</table>\n",
       "</div>"
      ],
      "text/plain": [
       "   userId  movieId  rating  timestamp\n",
       "0       1        1     4.0  964982703\n",
       "1       1        3     4.0  964981247\n",
       "2       1        6     4.0  964982224\n",
       "3       1       47     5.0  964983815\n",
       "4       1       50     5.0  964982931"
      ]
     },
     "execution_count": 13,
     "metadata": {},
     "output_type": "execute_result"
    }
   ],
   "source": [
    "#Analisando também o movielens\n",
    "notas = pd.read_csv(\"./dados/ratings.csv\")\n",
    "notas.head()"
   ]
  },
  {
   "cell_type": "code",
   "execution_count": 14,
   "id": "ab353cbf",
   "metadata": {},
   "outputs": [
    {
     "data": {
      "text/plain": [
       "movieId\n",
       "1    3.920930\n",
       "2    3.431818\n",
       "3    3.259615\n",
       "4    2.357143\n",
       "5    3.071429\n",
       "Name: rating, dtype: float64"
      ]
     },
     "execution_count": 14,
     "metadata": {},
     "output_type": "execute_result"
    }
   ],
   "source": [
    "nota_media_por_filme = notas.groupby(\"movieId\").mean()[\"rating\"]\n",
    "nota_media_por_filme.head()"
   ]
  },
  {
   "cell_type": "code",
   "execution_count": 15,
   "id": "065151d4",
   "metadata": {},
   "outputs": [
    {
     "data": {
      "text/plain": [
       "Text(0.5, 1.0, 'Média de votos em filmes do MovieLens 100k')"
      ]
     },
     "execution_count": 15,
     "metadata": {},
     "output_type": "execute_result"
    },
    {
     "data": {
      "image/png": "[encoded data removed]",
      "text/plain": [
       "<Figure size 432x288 with 1 Axes>"
      ]
     },
     "metadata": {},
     "output_type": "display_data"
    }
   ],
   "source": [
    "ax = sns.histplot(nota_media_por_filme.values, kde = True, stat = \"proportion\")\n",
    "ax.set(xlabel = \"Nota média\", ylabel =\"Densidade\")\n",
    "ax.set_title(\"Média de votos em filmes do MovieLens 100k\")"
   ]
  },
  {
   "cell_type": "code",
   "execution_count": 16,
   "id": "1cb9db49",
   "metadata": {},
   "outputs": [
    {
     "data": {
      "text/plain": [
       "array([     1,      2,      3, ..., 177765, 179819, 187593])"
      ]
     },
     "execution_count": 16,
     "metadata": {},
     "output_type": "execute_result"
    }
   ],
   "source": [
    "quantidade_de_votos_por_filme = notas.groupby(\"movieId\").count()\n",
    "filmes_com_pelo_menos_10_votos = quantidade_de_votos_por_filme.query(\"rating >= 10\").index\n",
    "filmes_com_pelo_menos_10_votos.values"
   ]
  },
  {
   "cell_type": "markdown",
   "id": "918e35ed",
   "metadata": {},
   "source": [
    "Pegando agora as notas dos filmes com mais de 10 votos:"
   ]
  },
  {
   "cell_type": "code",
   "execution_count": 17,
   "id": "9d0724d7",
   "metadata": {},
   "outputs": [],
   "source": [
    "nota_media_por_filme_com_pelo_menos_10_votos = nota_media_por_filme.loc[filmes_com_pelo_menos_10_votos]"
   ]
  },
  {
   "cell_type": "code",
   "execution_count": 18,
   "id": "20749e38",
   "metadata": {},
   "outputs": [
    {
     "data": {
      "text/plain": [
       "Text(0.5, 1.0, 'Média de votos em filmes com pelo menos 10 votos do MovieLens 100k')"
      ]
     },
     "execution_count": 18,
     "metadata": {},
     "output_type": "execute_result"
    },
    {
     "data": {
      "image/png": "[encoded data removed]",
      "text/plain": [
       "<Figure size 432x288 with 1 Axes>"
      ]
     },
     "metadata": {},
     "output_type": "display_data"
    }
   ],
   "source": [
    "ax = sns.histplot(nota_media_por_filme_com_pelo_menos_10_votos.values, kde = True, stat = \"proportion\")\n",
    "ax.set(xlabel = \"Nota média\", ylabel =\"Densidade\")\n",
    "ax.set_title(\"Média de votos em filmes com pelo menos 10 votos do MovieLens 100k\")"
   ]
  },
  {
   "cell_type": "code",
   "execution_count": 19,
   "id": "897bf111",
   "metadata": {},
   "outputs": [
    {
     "data": {
      "text/plain": [
       "Text(0.5, 0, 'Nota média do filme')"
      ]
     },
     "execution_count": 19,
     "metadata": {},
     "output_type": "execute_result"
    },
    {
     "data": {
      "image/png": "[encoded data removed]",
      "text/plain": [
       "<Figure size 432x288 with 1 Axes>"
      ]
     },
     "metadata": {},
     "output_type": "display_data"
    }
   ],
   "source": [
    "#Pelo box_plot\n",
    "ax = sns.boxplot(data = nota_media_por_filme_com_pelo_menos_10_votos.values, orient= \"h\")\n",
    "ax.set_title(\"Distribuição de nota média dos filmes do MovieLens com mais de 10 votos\")\n",
    "ax.set_xlabel(\"Nota média do filme\")"
   ]
  },
  {
   "cell_type": "markdown",
   "id": "01ba3e18",
   "metadata": {},
   "source": [
    "Agora como uma nota específica entra no meio dessa distribuição?"
   ]
  },
  {
   "cell_type": "code",
   "execution_count": 20,
   "id": "fb13ec8f",
   "metadata": {},
   "outputs": [
    {
     "data": {
      "text/plain": [
       "Text(0.5, 1.0, 'Média de votos em filmes com pelo menos 10 votos do MovieLens 100k')"
      ]
     },
     "execution_count": 20,
     "metadata": {},
     "output_type": "execute_result"
    },
    {
     "data": {
      "image/png": "[encoded data removed]",
      "text/plain": [
       "<Figure size 432x288 with 1 Axes>"
      ]
     },
     "metadata": {},
     "output_type": "display_data"
    }
   ],
   "source": [
    "#Adicionando a ideia d acumulação no histograma, \n",
    "#para facilitar a vizualização da porcentagem.\n",
    "ax = sns.histplot(nota_media_por_filme_com_pelo_menos_10_votos.values, \n",
    "                  kde = True, stat = \"proportion\", cumulative = True)\n",
    "ax.set(xlabel = \"Nota média\", ylabel =\"% acumulada de filmes\")\n",
    "ax.set_title(\"Média de votos em filmes com pelo menos 10 votos do MovieLens 100k\")"
   ]
  },
  {
   "cell_type": "markdown",
   "id": "485fddd1",
   "metadata": {},
   "source": [
    "# Aula 2\n",
    "Visuzalizando outras informações e quartis quaisquer de forma numérica."
   ]
  },
  {
   "cell_type": "code",
   "execution_count": 21,
   "id": "66fb0a67",
   "metadata": {},
   "outputs": [
    {
     "data": {
      "text/html": [
       "<div>\n",
       "<style scoped>\n",
       "    .dataframe tbody tr th:only-of-type {\n",
       "        vertical-align: middle;\n",
       "    }\n",
       "\n",
       "    .dataframe tbody tr th {\n",
       "        vertical-align: top;\n",
       "    }\n",
       "\n",
       "    .dataframe thead th {\n",
       "        text-align: right;\n",
       "    }\n",
       "</style>\n",
       "<table border=\"1\" class=\"dataframe\">\n",
       "  <thead>\n",
       "    <tr style=\"text-align: right;\">\n",
       "      <th></th>\n",
       "      <th>budget</th>\n",
       "      <th>genres</th>\n",
       "      <th>homepage</th>\n",
       "      <th>id</th>\n",
       "      <th>keywords</th>\n",
       "      <th>original_language</th>\n",
       "      <th>original_title</th>\n",
       "      <th>overview</th>\n",
       "      <th>popularity</th>\n",
       "      <th>production_companies</th>\n",
       "      <th>production_countries</th>\n",
       "      <th>release_date</th>\n",
       "      <th>revenue</th>\n",
       "      <th>runtime</th>\n",
       "      <th>spoken_languages</th>\n",
       "      <th>status</th>\n",
       "      <th>tagline</th>\n",
       "      <th>title</th>\n",
       "      <th>vote_average</th>\n",
       "      <th>vote_count</th>\n",
       "    </tr>\n",
       "  </thead>\n",
       "  <tbody>\n",
       "    <tr>\n",
       "      <th>0</th>\n",
       "      <td>237000000</td>\n",
       "      <td>[{\"id\": 28, \"name\": \"Action\"}, {\"id\": 12, \"nam...</td>\n",
       "      <td>http://www.avatarmovie.com/</td>\n",
       "      <td>19995</td>\n",
       "      <td>[{\"id\": 1463, \"name\": \"culture clash\"}, {\"id\":...</td>\n",
       "      <td>en</td>\n",
       "      <td>Avatar</td>\n",
       "      <td>In the 22nd century, a paraplegic Marine is di...</td>\n",
       "      <td>150.437577</td>\n",
       "      <td>[{\"name\": \"Ingenious Film Partners\", \"id\": 289...</td>\n",
       "      <td>[{\"iso_3166_1\": \"US\", \"name\": \"United States o...</td>\n",
       "      <td>2009-12-10</td>\n",
       "      <td>2787965087</td>\n",
       "      <td>162.0</td>\n",
       "      <td>[{\"iso_639_1\": \"en\", \"name\": \"English\"}, {\"iso...</td>\n",
       "      <td>Released</td>\n",
       "      <td>Enter the World of Pandora.</td>\n",
       "      <td>Avatar</td>\n",
       "      <td>7.2</td>\n",
       "      <td>11800</td>\n",
       "    </tr>\n",
       "    <tr>\n",
       "      <th>1</th>\n",
       "      <td>300000000</td>\n",
       "      <td>[{\"id\": 12, \"name\": \"Adventure\"}, {\"id\": 14, \"...</td>\n",
       "      <td>http://disney.go.com/disneypictures/pirates/</td>\n",
       "      <td>285</td>\n",
       "      <td>[{\"id\": 270, \"name\": \"ocean\"}, {\"id\": 726, \"na...</td>\n",
       "      <td>en</td>\n",
       "      <td>Pirates of the Caribbean: At World's End</td>\n",
       "      <td>Captain Barbossa, long believed to be dead, ha...</td>\n",
       "      <td>139.082615</td>\n",
       "      <td>[{\"name\": \"Walt Disney Pictures\", \"id\": 2}, {\"...</td>\n",
       "      <td>[{\"iso_3166_1\": \"US\", \"name\": \"United States o...</td>\n",
       "      <td>2007-05-19</td>\n",
       "      <td>961000000</td>\n",
       "      <td>169.0</td>\n",
       "      <td>[{\"iso_639_1\": \"en\", \"name\": \"English\"}]</td>\n",
       "      <td>Released</td>\n",
       "      <td>At the end of the world, the adventure begins.</td>\n",
       "      <td>Pirates of the Caribbean: At World's End</td>\n",
       "      <td>6.9</td>\n",
       "      <td>4500</td>\n",
       "    </tr>\n",
       "    <tr>\n",
       "      <th>2</th>\n",
       "      <td>245000000</td>\n",
       "      <td>[{\"id\": 28, \"name\": \"Action\"}, {\"id\": 12, \"nam...</td>\n",
       "      <td>http://www.sonypictures.com/movies/spectre/</td>\n",
       "      <td>206647</td>\n",
       "      <td>[{\"id\": 470, \"name\": \"spy\"}, {\"id\": 818, \"name...</td>\n",
       "      <td>en</td>\n",
       "      <td>Spectre</td>\n",
       "      <td>A cryptic message from Bond’s past sends him o...</td>\n",
       "      <td>107.376788</td>\n",
       "      <td>[{\"name\": \"Columbia Pictures\", \"id\": 5}, {\"nam...</td>\n",
       "      <td>[{\"iso_3166_1\": \"GB\", \"name\": \"United Kingdom\"...</td>\n",
       "      <td>2015-10-26</td>\n",
       "      <td>880674609</td>\n",
       "      <td>148.0</td>\n",
       "      <td>[{\"iso_639_1\": \"fr\", \"name\": \"Fran\\u00e7ais\"},...</td>\n",
       "      <td>Released</td>\n",
       "      <td>A Plan No One Escapes</td>\n",
       "      <td>Spectre</td>\n",
       "      <td>6.3</td>\n",
       "      <td>4466</td>\n",
       "    </tr>\n",
       "    <tr>\n",
       "      <th>3</th>\n",
       "      <td>250000000</td>\n",
       "      <td>[{\"id\": 28, \"name\": \"Action\"}, {\"id\": 80, \"nam...</td>\n",
       "      <td>http://www.thedarkknightrises.com/</td>\n",
       "      <td>49026</td>\n",
       "      <td>[{\"id\": 849, \"name\": \"dc comics\"}, {\"id\": 853,...</td>\n",
       "      <td>en</td>\n",
       "      <td>The Dark Knight Rises</td>\n",
       "      <td>Following the death of District Attorney Harve...</td>\n",
       "      <td>112.312950</td>\n",
       "      <td>[{\"name\": \"Legendary Pictures\", \"id\": 923}, {\"...</td>\n",
       "      <td>[{\"iso_3166_1\": \"US\", \"name\": \"United States o...</td>\n",
       "      <td>2012-07-16</td>\n",
       "      <td>1084939099</td>\n",
       "      <td>165.0</td>\n",
       "      <td>[{\"iso_639_1\": \"en\", \"name\": \"English\"}]</td>\n",
       "      <td>Released</td>\n",
       "      <td>The Legend Ends</td>\n",
       "      <td>The Dark Knight Rises</td>\n",
       "      <td>7.6</td>\n",
       "      <td>9106</td>\n",
       "    </tr>\n",
       "    <tr>\n",
       "      <th>4</th>\n",
       "      <td>260000000</td>\n",
       "      <td>[{\"id\": 28, \"name\": \"Action\"}, {\"id\": 12, \"nam...</td>\n",
       "      <td>http://movies.disney.com/john-carter</td>\n",
       "      <td>49529</td>\n",
       "      <td>[{\"id\": 818, \"name\": \"based on novel\"}, {\"id\":...</td>\n",
       "      <td>en</td>\n",
       "      <td>John Carter</td>\n",
       "      <td>John Carter is a war-weary, former military ca...</td>\n",
       "      <td>43.926995</td>\n",
       "      <td>[{\"name\": \"Walt Disney Pictures\", \"id\": 2}]</td>\n",
       "      <td>[{\"iso_3166_1\": \"US\", \"name\": \"United States o...</td>\n",
       "      <td>2012-03-07</td>\n",
       "      <td>284139100</td>\n",
       "      <td>132.0</td>\n",
       "      <td>[{\"iso_639_1\": \"en\", \"name\": \"English\"}]</td>\n",
       "      <td>Released</td>\n",
       "      <td>Lost in our world, found in another.</td>\n",
       "      <td>John Carter</td>\n",
       "      <td>6.1</td>\n",
       "      <td>2124</td>\n",
       "    </tr>\n",
       "  </tbody>\n",
       "</table>\n",
       "</div>"
      ],
      "text/plain": [
       "      budget                                             genres  \\\n",
       "0  237000000  [{\"id\": 28, \"name\": \"Action\"}, {\"id\": 12, \"nam...   \n",
       "1  300000000  [{\"id\": 12, \"name\": \"Adventure\"}, {\"id\": 14, \"...   \n",
       "2  245000000  [{\"id\": 28, \"name\": \"Action\"}, {\"id\": 12, \"nam...   \n",
       "3  250000000  [{\"id\": 28, \"name\": \"Action\"}, {\"id\": 80, \"nam...   \n",
       "4  260000000  [{\"id\": 28, \"name\": \"Action\"}, {\"id\": 12, \"nam...   \n",
       "\n",
       "                                       homepage      id  \\\n",
       "0                   http://www.avatarmovie.com/   19995   \n",
       "1  http://disney.go.com/disneypictures/pirates/     285   \n",
       "2   http://www.sonypictures.com/movies/spectre/  206647   \n",
       "3            http://www.thedarkknightrises.com/   49026   \n",
       "4          http://movies.disney.com/john-carter   49529   \n",
       "\n",
       "                                            keywords original_language  \\\n",
       "0  [{\"id\": 1463, \"name\": \"culture clash\"}, {\"id\":...                en   \n",
       "1  [{\"id\": 270, \"name\": \"ocean\"}, {\"id\": 726, \"na...                en   \n",
       "2  [{\"id\": 470, \"name\": \"spy\"}, {\"id\": 818, \"name...                en   \n",
       "3  [{\"id\": 849, \"name\": \"dc comics\"}, {\"id\": 853,...                en   \n",
       "4  [{\"id\": 818, \"name\": \"based on novel\"}, {\"id\":...                en   \n",
       "\n",
       "                             original_title  \\\n",
       "0                                    Avatar   \n",
       "1  Pirates of the Caribbean: At World's End   \n",
       "2                                   Spectre   \n",
       "3                     The Dark Knight Rises   \n",
       "4                               John Carter   \n",
       "\n",
       "                                            overview  popularity  \\\n",
       "0  In the 22nd century, a paraplegic Marine is di...  150.437577   \n",
       "1  Captain Barbossa, long believed to be dead, ha...  139.082615   \n",
       "2  A cryptic message from Bond’s past sends him o...  107.376788   \n",
       "3  Following the death of District Attorney Harve...  112.312950   \n",
       "4  John Carter is a war-weary, former military ca...   43.926995   \n",
       "\n",
       "                                production_companies  \\\n",
       "0  [{\"name\": \"Ingenious Film Partners\", \"id\": 289...   \n",
       "1  [{\"name\": \"Walt Disney Pictures\", \"id\": 2}, {\"...   \n",
       "2  [{\"name\": \"Columbia Pictures\", \"id\": 5}, {\"nam...   \n",
       "3  [{\"name\": \"Legendary Pictures\", \"id\": 923}, {\"...   \n",
       "4        [{\"name\": \"Walt Disney Pictures\", \"id\": 2}]   \n",
       "\n",
       "                                production_countries release_date     revenue  \\\n",
       "0  [{\"iso_3166_1\": \"US\", \"name\": \"United States o...   2009-12-10  2787965087   \n",
       "1  [{\"iso_3166_1\": \"US\", \"name\": \"United States o...   2007-05-19   961000000   \n",
       "2  [{\"iso_3166_1\": \"GB\", \"name\": \"United Kingdom\"...   2015-10-26   880674609   \n",
       "3  [{\"iso_3166_1\": \"US\", \"name\": \"United States o...   2012-07-16  1084939099   \n",
       "4  [{\"iso_3166_1\": \"US\", \"name\": \"United States o...   2012-03-07   284139100   \n",
       "\n",
       "   runtime                                   spoken_languages    status  \\\n",
       "0    162.0  [{\"iso_639_1\": \"en\", \"name\": \"English\"}, {\"iso...  Released   \n",
       "1    169.0           [{\"iso_639_1\": \"en\", \"name\": \"English\"}]  Released   \n",
       "2    148.0  [{\"iso_639_1\": \"fr\", \"name\": \"Fran\\u00e7ais\"},...  Released   \n",
       "3    165.0           [{\"iso_639_1\": \"en\", \"name\": \"English\"}]  Released   \n",
       "4    132.0           [{\"iso_639_1\": \"en\", \"name\": \"English\"}]  Released   \n",
       "\n",
       "                                          tagline  \\\n",
       "0                     Enter the World of Pandora.   \n",
       "1  At the end of the world, the adventure begins.   \n",
       "2                           A Plan No One Escapes   \n",
       "3                                 The Legend Ends   \n",
       "4            Lost in our world, found in another.   \n",
       "\n",
       "                                      title  vote_average  vote_count  \n",
       "0                                    Avatar           7.2       11800  \n",
       "1  Pirates of the Caribbean: At World's End           6.9        4500  \n",
       "2                                   Spectre           6.3        4466  \n",
       "3                     The Dark Knight Rises           7.6        9106  \n",
       "4                               John Carter           6.1        2124  "
      ]
     },
     "execution_count": 21,
     "metadata": {},
     "output_type": "execute_result"
    }
   ],
   "source": [
    "tmdb_com_mais_de_10_votos.head()"
   ]
  },
  {
   "cell_type": "code",
   "execution_count": 22,
   "id": "fcf4ef18",
   "metadata": {},
   "outputs": [
    {
     "data": {
      "text/plain": [
       "0       11800\n",
       "1        4500\n",
       "2        4466\n",
       "3        9106\n",
       "4        2124\n",
       "        ...  \n",
       "4790       17\n",
       "4792       63\n",
       "4796      658\n",
       "4798      238\n",
       "4802       16\n",
       "Name: vote_count, Length: 4392, dtype: int64"
      ]
     },
     "execution_count": 22,
     "metadata": {},
     "output_type": "execute_result"
    }
   ],
   "source": [
    "tmdb_com_mais_de_10_votos.vote_count"
   ]
  },
  {
   "cell_type": "code",
   "execution_count": 23,
   "id": "b63f8d9e",
   "metadata": {},
   "outputs": [
    {
     "data": {
      "text/plain": [
       "Text(0.5, 1.0, 'Número de votos em filmes do TMDB 5000')"
      ]
     },
     "execution_count": 23,
     "metadata": {},
     "output_type": "execute_result"
    },
    {
     "data": {
      "image/png": "[encoded data removed]",
      "text/plain": [
       "<Figure size 432x288 with 1 Axes>"
      ]
     },
     "metadata": {},
     "output_type": "display_data"
    }
   ],
   "source": [
    "ax = sns.histplot(tmdb_com_mais_de_10_votos.vote_count, kde = True, stat = \"proportion\")\n",
    "ax.set(xlabel = \"Númeo de Votos\", ylabel =\"Densidade\")\n",
    "ax.set_title(\"Número de votos em filmes do TMDB 5000\")"
   ]
  },
  {
   "cell_type": "code",
   "execution_count": 24,
   "id": "6741e6c1",
   "metadata": {},
   "outputs": [
    {
     "data": {
      "text/plain": [
       "0       237000000\n",
       "1       300000000\n",
       "2       245000000\n",
       "3       250000000\n",
       "4       260000000\n",
       "          ...    \n",
       "4798       220000\n",
       "4799         9000\n",
       "4800            0\n",
       "4801            0\n",
       "4802            0\n",
       "Name: budget, Length: 4803, dtype: int64"
      ]
     },
     "execution_count": 24,
     "metadata": {},
     "output_type": "execute_result"
    }
   ],
   "source": [
    "#outro campo\n",
    "tmdb.budget"
   ]
  },
  {
   "cell_type": "code",
   "execution_count": 25,
   "id": "5df981a5",
   "metadata": {},
   "outputs": [
    {
     "data": {
      "text/plain": [
       "0       237000000\n",
       "1       300000000\n",
       "2       245000000\n",
       "3       250000000\n",
       "4       260000000\n",
       "          ...    \n",
       "4791           13\n",
       "4792        20000\n",
       "4796         7000\n",
       "4798       220000\n",
       "4799         9000\n",
       "Name: budget, Length: 3766, dtype: int64"
      ]
     },
     "execution_count": 25,
     "metadata": {},
     "output_type": "execute_result"
    }
   ],
   "source": [
    "tmdb.query(\"budget > 0\").budget"
   ]
  },
  {
   "cell_type": "code",
   "execution_count": 26,
   "id": "b783edc7",
   "metadata": {},
   "outputs": [
    {
     "data": {
      "text/plain": [
       "Text(0.5, 1.0, 'Gastos em filmes do TMDB 5000')"
      ]
     },
     "execution_count": 26,
     "metadata": {},
     "output_type": "execute_result"
    },
    {
     "data": {
      "image/png": "[encoded data removed]",
      "text/plain": [
       "<Figure size 432x288 with 1 Axes>"
      ]
     },
     "metadata": {},
     "output_type": "display_data"
    }
   ],
   "source": [
    "ax = sns.histplot(tmdb.query(\"budget > 0\").budget, kde = True, stat = \"proportion\")\n",
    "ax.set(xlabel = \"Budget (Orçamento)\", ylabel =\"Densidade\")\n",
    "ax.set_title(\"Gastos em filmes do TMDB 5000\")"
   ]
  },
  {
   "cell_type": "code",
   "execution_count": 27,
   "id": "a0ca19db",
   "metadata": {},
   "outputs": [
    {
     "data": {
      "text/plain": [
       "0       150.437577\n",
       "1       139.082615\n",
       "2       107.376788\n",
       "3       112.312950\n",
       "4        43.926995\n",
       "           ...    \n",
       "4798     14.269792\n",
       "4799      0.642552\n",
       "4800      1.444476\n",
       "4801      0.857008\n",
       "4802      1.929883\n",
       "Name: popularity, Length: 4803, dtype: float64"
      ]
     },
     "execution_count": 27,
     "metadata": {},
     "output_type": "execute_result"
    }
   ],
   "source": [
    "#Outro campo:\n",
    "tmdb.popularity"
   ]
  },
  {
   "cell_type": "code",
   "execution_count": 28,
   "id": "0bc709d7",
   "metadata": {},
   "outputs": [
    {
     "data": {
      "text/html": [
       "<div>\n",
       "<style scoped>\n",
       "    .dataframe tbody tr th:only-of-type {\n",
       "        vertical-align: middle;\n",
       "    }\n",
       "\n",
       "    .dataframe tbody tr th {\n",
       "        vertical-align: top;\n",
       "    }\n",
       "\n",
       "    .dataframe thead th {\n",
       "        text-align: right;\n",
       "    }\n",
       "</style>\n",
       "<table border=\"1\" class=\"dataframe\">\n",
       "  <thead>\n",
       "    <tr style=\"text-align: right;\">\n",
       "      <th></th>\n",
       "      <th>budget</th>\n",
       "      <th>genres</th>\n",
       "      <th>homepage</th>\n",
       "      <th>id</th>\n",
       "      <th>keywords</th>\n",
       "      <th>original_language</th>\n",
       "      <th>original_title</th>\n",
       "      <th>overview</th>\n",
       "      <th>popularity</th>\n",
       "      <th>production_companies</th>\n",
       "      <th>production_countries</th>\n",
       "      <th>release_date</th>\n",
       "      <th>revenue</th>\n",
       "      <th>runtime</th>\n",
       "      <th>spoken_languages</th>\n",
       "      <th>status</th>\n",
       "      <th>tagline</th>\n",
       "      <th>title</th>\n",
       "      <th>vote_average</th>\n",
       "      <th>vote_count</th>\n",
       "    </tr>\n",
       "  </thead>\n",
       "  <tbody>\n",
       "    <tr>\n",
       "      <th>4553</th>\n",
       "      <td>0</td>\n",
       "      <td>[]</td>\n",
       "      <td>NaN</td>\n",
       "      <td>380097</td>\n",
       "      <td>[]</td>\n",
       "      <td>en</td>\n",
       "      <td>America Is Still the Place</td>\n",
       "      <td>1971 post civil rights San Francisco seemed li...</td>\n",
       "      <td>0.0</td>\n",
       "      <td>[]</td>\n",
       "      <td>[]</td>\n",
       "      <td>NaN</td>\n",
       "      <td>0</td>\n",
       "      <td>0.0</td>\n",
       "      <td>[]</td>\n",
       "      <td>Released</td>\n",
       "      <td>NaN</td>\n",
       "      <td>America Is Still the Place</td>\n",
       "      <td>0.0</td>\n",
       "      <td>0</td>\n",
       "    </tr>\n",
       "  </tbody>\n",
       "</table>\n",
       "</div>"
      ],
      "text/plain": [
       "      budget genres homepage      id keywords original_language  \\\n",
       "4553       0     []      NaN  380097       []                en   \n",
       "\n",
       "                  original_title  \\\n",
       "4553  America Is Still the Place   \n",
       "\n",
       "                                               overview  popularity  \\\n",
       "4553  1971 post civil rights San Francisco seemed li...         0.0   \n",
       "\n",
       "     production_companies production_countries release_date  revenue  runtime  \\\n",
       "4553                   []                   []          NaN        0      0.0   \n",
       "\n",
       "     spoken_languages    status tagline                       title  \\\n",
       "4553               []  Released     NaN  America Is Still the Place   \n",
       "\n",
       "      vote_average  vote_count  \n",
       "4553           0.0           0  "
      ]
     },
     "execution_count": 28,
     "metadata": {},
     "output_type": "execute_result"
    }
   ],
   "source": [
    "#Tem algum que seja de popularidade zero?\n",
    "tmdb.query(\"popularity == 0\")"
   ]
  },
  {
   "cell_type": "markdown",
   "id": "f795cd5a",
   "metadata": {},
   "source": [
    "Tem um!\n",
    "Podemos presumir que isso não seja um erro, somente um caso que realmente aconteça."
   ]
  },
  {
   "cell_type": "code",
   "execution_count": 29,
   "id": "850cf263",
   "metadata": {},
   "outputs": [
    {
     "data": {
      "text/plain": [
       "Text(0.5, 1.0, 'Popularidade em filmes do TMDB 5000')"
      ]
     },
     "execution_count": 29,
     "metadata": {},
     "output_type": "execute_result"
    },
    {
     "data": {
      "image/png": "[encoded data removed]",
      "text/plain": [
       "<Figure size 432x288 with 1 Axes>"
      ]
     },
     "metadata": {},
     "output_type": "display_data"
    }
   ],
   "source": [
    "ax = sns.histplot(tmdb.popularity, kde = True, stat = \"proportion\")\n",
    "ax.set(xlabel = \"Popularidade\", ylabel =\"Densidade\")\n",
    "ax.set_title(\"Popularidade em filmes do TMDB 5000\")"
   ]
  },
  {
   "cell_type": "code",
   "execution_count": 30,
   "id": "e697f363",
   "metadata": {},
   "outputs": [
    {
     "data": {
      "text/plain": [
       "0       162.0\n",
       "1       169.0\n",
       "2       148.0\n",
       "3       165.0\n",
       "4       132.0\n",
       "        ...  \n",
       "4798     81.0\n",
       "4799     85.0\n",
       "4800    120.0\n",
       "4801     98.0\n",
       "4802     90.0\n",
       "Name: runtime, Length: 4803, dtype: float64"
      ]
     },
     "execution_count": 30,
     "metadata": {},
     "output_type": "execute_result"
    }
   ],
   "source": [
    "tmdb.runtime"
   ]
  },
  {
   "cell_type": "code",
   "execution_count": 31,
   "id": "1089ca59",
   "metadata": {},
   "outputs": [
    {
     "data": {
      "text/plain": [
       "Text(0.5, 1.0, 'Tempo de duração em filmes do TMDB 5000')"
      ]
     },
     "execution_count": 31,
     "metadata": {},
     "output_type": "execute_result"
    },
    {
     "data": {
      "image/png": "[encoded data removed]",
      "text/plain": [
       "<Figure size 432x288 with 1 Axes>"
      ]
     },
     "metadata": {},
     "output_type": "display_data"
    }
   ],
   "source": [
    "ax = sns.histplot(tmdb.runtime, kde = True, stat = \"proportion\")\n",
    "ax.set(xlabel = \"Tempo de duração de filme\", ylabel =\"Densidade\")\n",
    "ax.set_title(\"Tempo de duração em filmes do TMDB 5000\")"
   ]
  },
  {
   "cell_type": "code",
   "execution_count": 32,
   "id": "38113d9a",
   "metadata": {},
   "outputs": [
    {
     "data": {
      "text/plain": [
       "count    4801.000000\n",
       "mean      106.875859\n",
       "std        22.611935\n",
       "min         0.000000\n",
       "25%        94.000000\n",
       "50%       103.000000\n",
       "75%       118.000000\n",
       "max       338.000000\n",
       "Name: runtime, dtype: float64"
      ]
     },
     "execution_count": 32,
     "metadata": {},
     "output_type": "execute_result"
    }
   ],
   "source": [
    "tmdb.runtime.describe()"
   ]
  },
  {
   "cell_type": "code",
   "execution_count": 33,
   "id": "38e0d68b",
   "metadata": {},
   "outputs": [
    {
     "data": {
      "text/html": [
       "<div>\n",
       "<style scoped>\n",
       "    .dataframe tbody tr th:only-of-type {\n",
       "        vertical-align: middle;\n",
       "    }\n",
       "\n",
       "    .dataframe tbody tr th {\n",
       "        vertical-align: top;\n",
       "    }\n",
       "\n",
       "    .dataframe thead th {\n",
       "        text-align: right;\n",
       "    }\n",
       "</style>\n",
       "<table border=\"1\" class=\"dataframe\">\n",
       "  <thead>\n",
       "    <tr style=\"text-align: right;\">\n",
       "      <th></th>\n",
       "      <th>budget</th>\n",
       "      <th>genres</th>\n",
       "      <th>homepage</th>\n",
       "      <th>id</th>\n",
       "      <th>keywords</th>\n",
       "      <th>original_language</th>\n",
       "      <th>original_title</th>\n",
       "      <th>overview</th>\n",
       "      <th>popularity</th>\n",
       "      <th>production_companies</th>\n",
       "      <th>production_countries</th>\n",
       "      <th>release_date</th>\n",
       "      <th>revenue</th>\n",
       "      <th>runtime</th>\n",
       "      <th>spoken_languages</th>\n",
       "      <th>status</th>\n",
       "      <th>tagline</th>\n",
       "      <th>title</th>\n",
       "      <th>vote_average</th>\n",
       "      <th>vote_count</th>\n",
       "    </tr>\n",
       "  </thead>\n",
       "  <tbody>\n",
       "    <tr>\n",
       "      <th>2384</th>\n",
       "      <td>18000000</td>\n",
       "      <td>[{\"id\": 80, \"name\": \"Crime\"}, {\"id\": 18, \"name...</td>\n",
       "      <td>NaN</td>\n",
       "      <td>43434</td>\n",
       "      <td>[{\"id\": 1419, \"name\": \"gun\"}, {\"id\": 7336, \"na...</td>\n",
       "      <td>en</td>\n",
       "      <td>Carlos</td>\n",
       "      <td>The story of Venezuelan revolutionary, Ilich R...</td>\n",
       "      <td>1.138383</td>\n",
       "      <td>[{\"name\": \"Egoli Tossell Film AG\", \"id\": 2254}...</td>\n",
       "      <td>[{\"iso_3166_1\": \"FR\", \"name\": \"France\"}, {\"iso...</td>\n",
       "      <td>2010-05-19</td>\n",
       "      <td>871279</td>\n",
       "      <td>338.0</td>\n",
       "      <td>[{\"iso_639_1\": \"fr\", \"name\": \"Fran\\u00e7ais\"},...</td>\n",
       "      <td>Released</td>\n",
       "      <td>The man who hijacked the world</td>\n",
       "      <td>Carlos</td>\n",
       "      <td>6.7</td>\n",
       "      <td>50</td>\n",
       "    </tr>\n",
       "  </tbody>\n",
       "</table>\n",
       "</div>"
      ],
      "text/plain": [
       "        budget                                             genres homepage  \\\n",
       "2384  18000000  [{\"id\": 80, \"name\": \"Crime\"}, {\"id\": 18, \"name...      NaN   \n",
       "\n",
       "         id                                           keywords  \\\n",
       "2384  43434  [{\"id\": 1419, \"name\": \"gun\"}, {\"id\": 7336, \"na...   \n",
       "\n",
       "     original_language original_title  \\\n",
       "2384                en         Carlos   \n",
       "\n",
       "                                               overview  popularity  \\\n",
       "2384  The story of Venezuelan revolutionary, Ilich R...    1.138383   \n",
       "\n",
       "                                   production_companies  \\\n",
       "2384  [{\"name\": \"Egoli Tossell Film AG\", \"id\": 2254}...   \n",
       "\n",
       "                                   production_countries release_date  revenue  \\\n",
       "2384  [{\"iso_3166_1\": \"FR\", \"name\": \"France\"}, {\"iso...   2010-05-19   871279   \n",
       "\n",
       "      runtime                                   spoken_languages    status  \\\n",
       "2384    338.0  [{\"iso_639_1\": \"fr\", \"name\": \"Fran\\u00e7ais\"},...  Released   \n",
       "\n",
       "                             tagline   title  vote_average  vote_count  \n",
       "2384  The man who hijacked the world  Carlos           6.7          50  "
      ]
     },
     "execution_count": 33,
     "metadata": {},
     "output_type": "execute_result"
    }
   ],
   "source": [
    "#Qual é o filme de mais de 4h de duração??\n",
    "tmdb.query(\"runtime > 300\")"
   ]
  },
  {
   "cell_type": "code",
   "execution_count": 34,
   "id": "98c1fc3d",
   "metadata": {},
   "outputs": [
    {
     "name": "stdout",
     "output_type": "stream",
     "text": [
      "<class 'pandas.core.frame.DataFrame'>\n",
      "RangeIndex: 4803 entries, 0 to 4802\n",
      "Data columns (total 20 columns):\n",
      " #   Column                Non-Null Count  Dtype  \n",
      "---  ------                --------------  -----  \n",
      " 0   budget                4803 non-null   int64  \n",
      " 1   genres                4803 non-null   object \n",
      " 2   homepage              1712 non-null   object \n",
      " 3   id                    4803 non-null   int64  \n",
      " 4   keywords              4803 non-null   object \n",
      " 5   original_language     4803 non-null   object \n",
      " 6   original_title        4803 non-null   object \n",
      " 7   overview              4800 non-null   object \n",
      " 8   popularity            4803 non-null   float64\n",
      " 9   production_companies  4803 non-null   object \n",
      " 10  production_countries  4803 non-null   object \n",
      " 11  release_date          4802 non-null   object \n",
      " 12  revenue               4803 non-null   int64  \n",
      " 13  runtime               4801 non-null   float64\n",
      " 14  spoken_languages      4803 non-null   object \n",
      " 15  status                4803 non-null   object \n",
      " 16  tagline               3959 non-null   object \n",
      " 17  title                 4803 non-null   object \n",
      " 18  vote_average          4803 non-null   float64\n",
      " 19  vote_count            4803 non-null   int64  \n",
      "dtypes: float64(3), int64(4), object(13)\n",
      "memory usage: 750.6+ KB\n"
     ]
    }
   ],
   "source": [
    "#Forma de ver o geral do dataset.\n",
    "tmdb.info()"
   ]
  },
  {
   "cell_type": "markdown",
   "id": "526ed9ab",
   "metadata": {},
   "source": [
    "No exemplo do professor, ele mostra que tem alguns valores que são nulos, então ele faz uma limpeza de forma que possa fazer o histograma do tmdb runtime (tempo de duraçao) com os seguines comandos:\n",
    "\n",
    "tmdb.runtime.isnull()\n",
    "\n",
    "tmdb.runtime.dropna()\n",
    "\n",
    "e tem que tirar aqueles com duração 0\n",
    "\n",
    "tmdb.query(\"runtime>0\").runtime.dropna()\n"
   ]
  },
  {
   "cell_type": "code",
   "execution_count": 35,
   "id": "de79f8d7",
   "metadata": {},
   "outputs": [
    {
     "data": {
      "text/plain": [
       "35"
      ]
     },
     "execution_count": 35,
     "metadata": {},
     "output_type": "execute_result"
    }
   ],
   "source": [
    "#Como no meu não tem isso, \n",
    "#eu já farei algo a diante, tirarei os casos que tenham a duração nula\n",
    "\n",
    "len(tmdb.query(\"runtime == 0\"))"
   ]
  },
  {
   "cell_type": "code",
   "execution_count": 36,
   "id": "8faa7dbb",
   "metadata": {},
   "outputs": [],
   "source": [
    "#Fazendo a limpeza\n",
    "tmdb_com_duracao_maior_q_zero = tmdb.query(\"runtime > 0\")"
   ]
  },
  {
   "cell_type": "code",
   "execution_count": 37,
   "id": "dfcc6076",
   "metadata": {},
   "outputs": [
    {
     "data": {
      "text/plain": [
       "Text(0.5, 1.0, 'Tempo de duração em filmes do TMDB 5000')"
      ]
     },
     "execution_count": 37,
     "metadata": {},
     "output_type": "execute_result"
    },
    {
     "data": {
      "image/png": "[encoded data removed]",
      "text/plain": [
       "<Figure size 432x288 with 1 Axes>"
      ]
     },
     "metadata": {},
     "output_type": "display_data"
    }
   ],
   "source": [
    "ax = sns.histplot(tmdb_com_duracao_maior_q_zero.runtime, kde = True,\n",
    "                  stat = \"proportion\")\n",
    "ax.set(xlabel = \"Tempo de duração\", ylabel =\"Densidade\")\n",
    "ax.set_title(\"Tempo de duração em filmes do TMDB 5000\")"
   ]
  },
  {
   "cell_type": "code",
   "execution_count": 38,
   "id": "b4a54be0",
   "metadata": {},
   "outputs": [
    {
     "data": {
      "text/plain": [
       "Text(0.5, 1.0, 'Tempo de duração em filmes do TMDB 5000')"
      ]
     },
     "execution_count": 38,
     "metadata": {},
     "output_type": "execute_result"
    },
    {
     "data": {
      "image/png": "[encoded data removed]",
      "text/plain": [
       "<Figure size 432x288 with 1 Axes>"
      ]
     },
     "metadata": {},
     "output_type": "display_data"
    }
   ],
   "source": [
    "#analisando de forma cumulativa\n",
    "ax = sns.histplot(tmdb_com_duracao_maior_q_zero.runtime, kde = True,\n",
    "                  stat = \"proportion\", cumulative = True)\n",
    "ax.set(xlabel = \"Tempo de duração\", ylabel =\"Porcentagem de filmes\")\n",
    "ax.set_title(\"Tempo de duração em filmes do TMDB 5000\")"
   ]
  },
  {
   "cell_type": "code",
   "execution_count": 39,
   "id": "dd2fc4c7",
   "metadata": {},
   "outputs": [
    {
     "data": {
      "text/plain": [
       "121.0"
      ]
     },
     "execution_count": 39,
     "metadata": {},
     "output_type": "execute_result"
    }
   ],
   "source": [
    "#Vendo qual valor se encontra em 80% do casos\n",
    "\n",
    "tmdb_com_duracao_maior_q_zero.runtime.quantile(0.8)"
   ]
  },
  {
   "cell_type": "markdown",
   "id": "f7036976",
   "metadata": {},
   "source": [
    "Ou seja, em 121 minutos é o quantil de 80% dos filmes, o que quer dizer que 80% dos filmes tem menos que 121 minutos!"
   ]
  },
  {
   "cell_type": "markdown",
   "id": "45e744a9",
   "metadata": {},
   "source": [
    "# Aula 3\n",
    "\n",
    "## O efeito do tamanho da amostra\n",
    "\n",
    "Vamos voltar para a base de dados do Movie Lens, vamos trabalhar em cima dos dados que tem acima de 10 votos:"
   ]
  },
  {
   "cell_type": "code",
   "execution_count": 40,
   "id": "c5478089",
   "metadata": {},
   "outputs": [
    {
     "name": "stdout",
     "output_type": "stream",
     "text": [
      "Média da nota dos filmes com pelo menos 10 votos: 3.4320503405352594\n"
     ]
    }
   ],
   "source": [
    "#Vamos pegar a média\n",
    "print(\"Média da nota dos filmes com pelo menos 10 votos:\",nota_media_por_filme_com_pelo_menos_10_votos.mean())"
   ]
  },
  {
   "cell_type": "code",
   "execution_count": 41,
   "id": "19a13333",
   "metadata": {},
   "outputs": [
    {
     "data": {
      "text/plain": [
       "[<matplotlib.lines.Line2D at 0x7f5943518ee0>]"
      ]
     },
     "execution_count": 41,
     "metadata": {},
     "output_type": "execute_result"
    },
    {
     "data": {
      "image/png": "[encoded data removed]",
      "text/plain": [
       "<Figure size 432x288 with 1 Axes>"
      ]
     },
     "metadata": {},
     "output_type": "display_data"
    }
   ],
   "source": [
    "medias=[]\n",
    "for i in range(1, len(nota_media_por_filme_com_pelo_menos_10_votos)):\n",
    "    medias.append(nota_media_por_filme_com_pelo_menos_10_votos[0:i].mean())\n",
    "\n",
    "plt.plot(medias)"
   ]
  },
  {
   "cell_type": "markdown",
   "id": "e11b17c2",
   "metadata": {},
   "source": [
    "Isso é bom para ter a noção de peso em relação a quantidade de registros na amostra: Quanto menos registro tiver, mais terá impacto um valor discrepante em relação ao resto.\n",
    "\n",
    "Isso que a gente pode ver no gráfico anterior de forma bem clara, no começo do eixo x, podemos ver uma quantidade de variações muito grande, contudo com o passar da quantidade de registro vai aumentando, seu valor se torna mais estável.\n"
   ]
  },
  {
   "cell_type": "markdown",
   "id": "c3dc4291",
   "metadata": {},
   "source": [
    "Vamos fazer a mesma coisa!\n",
    "Só que agora vamos tornar aleatório a ordem que veio do dataset, pode haver alguma manipulação junta da ordem que nos foi dada, contudo fazendo dessa forma podemos chegar em algum lugar sem efeito disso:"
   ]
  },
  {
   "cell_type": "code",
   "execution_count": 42,
   "id": "e0aa48ff",
   "metadata": {},
   "outputs": [
    {
     "data": {
      "text/plain": [
       "[<matplotlib.lines.Line2D at 0x7f59434fadc0>]"
      ]
     },
     "execution_count": 42,
     "metadata": {},
     "output_type": "execute_result"
    },
    {
     "data": {
      "image/png": "[encoded data removed]",
      "text/plain": [
       "<Figure size 432x288 with 1 Axes>"
      ]
     },
     "metadata": {},
     "output_type": "display_data"
    }
   ],
   "source": [
    "np.random.seed(75243)\n",
    "\n",
    "temp = nota_media_por_filme_com_pelo_menos_10_votos.sample(frac=1)\n",
    "\n",
    "\n",
    "medias = []\n",
    "for i in range(1, len(temp)):\n",
    "    medias.append(temp[0:i].mean())\n",
    "\n",
    "plt.plot(medias)"
   ]
  },
  {
   "cell_type": "code",
   "execution_count": 43,
   "id": "e549e8be",
   "metadata": {},
   "outputs": [
    {
     "data": {
      "text/plain": [
       "[<matplotlib.lines.Line2D at 0x7f5943454d00>]"
      ]
     },
     "execution_count": 43,
     "metadata": {},
     "output_type": "execute_result"
    },
    {
     "data": {
      "image/png": "[encoded data removed]",
      "text/plain": [
       "<Figure size 432x288 with 1 Axes>"
      ]
     },
     "metadata": {},
     "output_type": "display_data"
    }
   ],
   "source": [
    "#Usando list comprehension para fazer o for\n",
    "medias = []\n",
    "medias = [temp[0:i].mean() for i in range(1,len(temp))]\n",
    "\n",
    "plt.plot(medias)"
   ]
  },
  {
   "cell_type": "markdown",
   "id": "23c89395",
   "metadata": {},
   "source": [
    "Usando testes paramétricos para tentar generalizar para casos maiores e trazendo com Valores de confiança bem definidos para chegar em algum valor numérico bom. "
   ]
  },
  {
   "cell_type": "code",
   "execution_count": 44,
   "id": "c071dee8",
   "metadata": {},
   "outputs": [
    {
     "data": {
      "text/plain": [
       "(3.4112459477469557, 3.452854733323563)"
      ]
     },
     "execution_count": 44,
     "metadata": {},
     "output_type": "execute_result"
    }
   ],
   "source": [
    "#confiança de 95%\n",
    "from statsmodels.stats.weightstats import zconfint\n",
    "\n",
    "zconfint(nota_media_por_filme_com_pelo_menos_10_votos)"
   ]
  },
  {
   "cell_type": "markdown",
   "id": "65e3586e",
   "metadata": {},
   "source": [
    "Um link MUITO bom para estudar depois, ver com calma e estudar em cima dele. Colocar as imagens aqui para a revisão e estudar melhor.\n",
    "\n",
    "link [aqui](https://keydifferences.com/difference-between-t-test-and-z-test.html)"
   ]
  },
  {
   "cell_type": "code",
   "execution_count": 45,
   "id": "74f154d9",
   "metadata": {},
   "outputs": [
    {
     "data": {
      "text/plain": [
       "<statsmodels.stats.weightstats.DescrStatsW at 0x7f5943426640>"
      ]
     },
     "execution_count": 45,
     "metadata": {},
     "output_type": "execute_result"
    }
   ],
   "source": [
    "from statsmodels.stats.weightstats import DescrStatsW\n",
    "\n",
    "descr_todos_com_10_votos = DescrStatsW(nota_media_por_filme_com_pelo_menos_10_votos)\n",
    "descr_todos_com_10_votos"
   ]
  },
  {
   "cell_type": "code",
   "execution_count": 46,
   "id": "948683fa",
   "metadata": {},
   "outputs": [
    {
     "data": {
      "text/plain": [
       "(3.411234839229381, 3.4528658418411395)"
      ]
     },
     "execution_count": 46,
     "metadata": {},
     "output_type": "execute_result"
    }
   ],
   "source": [
    "descr_todos_com_10_votos.tconfint_mean()"
   ]
  },
  {
   "cell_type": "markdown",
   "id": "338958a7",
   "metadata": {},
   "source": [
    "# Aula 4\n",
    "\n",
    "## Ztest para uma amostra"
   ]
  },
  {
   "cell_type": "code",
   "execution_count": 47,
   "id": "e3fed244",
   "metadata": {},
   "outputs": [
    {
     "data": {
      "text/html": [
       "<div>\n",
       "<style scoped>\n",
       "    .dataframe tbody tr th:only-of-type {\n",
       "        vertical-align: middle;\n",
       "    }\n",
       "\n",
       "    .dataframe tbody tr th {\n",
       "        vertical-align: top;\n",
       "    }\n",
       "\n",
       "    .dataframe thead th {\n",
       "        text-align: right;\n",
       "    }\n",
       "</style>\n",
       "<table border=\"1\" class=\"dataframe\">\n",
       "  <thead>\n",
       "    <tr style=\"text-align: right;\">\n",
       "      <th></th>\n",
       "      <th>movieId</th>\n",
       "      <th>title</th>\n",
       "      <th>genres</th>\n",
       "    </tr>\n",
       "  </thead>\n",
       "  <tbody>\n",
       "    <tr>\n",
       "      <th>0</th>\n",
       "      <td>1</td>\n",
       "      <td>Toy Story (1995)</td>\n",
       "      <td>Adventure|Animation|Children|Comedy|Fantasy</td>\n",
       "    </tr>\n",
       "  </tbody>\n",
       "</table>\n",
       "</div>"
      ],
      "text/plain": [
       "   movieId             title                                       genres\n",
       "0        1  Toy Story (1995)  Adventure|Animation|Children|Comedy|Fantasy"
      ]
     },
     "execution_count": 47,
     "metadata": {},
     "output_type": "execute_result"
    }
   ],
   "source": [
    "#Analisando um filme específico para comparar médias:\n",
    "filmes = pd.read_csv(\"./dados/movies.csv\")\n",
    "filmes.query(\"movieId==1\")"
   ]
  },
  {
   "cell_type": "code",
   "execution_count": 48,
   "id": "4d535d39",
   "metadata": {},
   "outputs": [
    {
     "data": {
      "text/html": [
       "<div>\n",
       "<style scoped>\n",
       "    .dataframe tbody tr th:only-of-type {\n",
       "        vertical-align: middle;\n",
       "    }\n",
       "\n",
       "    .dataframe tbody tr th {\n",
       "        vertical-align: top;\n",
       "    }\n",
       "\n",
       "    .dataframe thead th {\n",
       "        text-align: right;\n",
       "    }\n",
       "</style>\n",
       "<table border=\"1\" class=\"dataframe\">\n",
       "  <thead>\n",
       "    <tr style=\"text-align: right;\">\n",
       "      <th></th>\n",
       "      <th>userId</th>\n",
       "      <th>movieId</th>\n",
       "      <th>rating</th>\n",
       "      <th>timestamp</th>\n",
       "    </tr>\n",
       "  </thead>\n",
       "  <tbody>\n",
       "    <tr>\n",
       "      <th>0</th>\n",
       "      <td>1</td>\n",
       "      <td>1</td>\n",
       "      <td>4.0</td>\n",
       "      <td>964982703</td>\n",
       "    </tr>\n",
       "    <tr>\n",
       "      <th>516</th>\n",
       "      <td>5</td>\n",
       "      <td>1</td>\n",
       "      <td>4.0</td>\n",
       "      <td>847434962</td>\n",
       "    </tr>\n",
       "    <tr>\n",
       "      <th>874</th>\n",
       "      <td>7</td>\n",
       "      <td>1</td>\n",
       "      <td>4.5</td>\n",
       "      <td>1106635946</td>\n",
       "    </tr>\n",
       "    <tr>\n",
       "      <th>1434</th>\n",
       "      <td>15</td>\n",
       "      <td>1</td>\n",
       "      <td>2.5</td>\n",
       "      <td>1510577970</td>\n",
       "    </tr>\n",
       "    <tr>\n",
       "      <th>1667</th>\n",
       "      <td>17</td>\n",
       "      <td>1</td>\n",
       "      <td>4.5</td>\n",
       "      <td>1305696483</td>\n",
       "    </tr>\n",
       "  </tbody>\n",
       "</table>\n",
       "</div>"
      ],
      "text/plain": [
       "      userId  movieId  rating   timestamp\n",
       "0          1        1     4.0   964982703\n",
       "516        5        1     4.0   847434962\n",
       "874        7        1     4.5  1106635946\n",
       "1434      15        1     2.5  1510577970\n",
       "1667      17        1     4.5  1305696483"
      ]
     },
     "execution_count": 48,
     "metadata": {},
     "output_type": "execute_result"
    }
   ],
   "source": [
    "notas1 = notas.query(\"movieId==1\")\n",
    "notas1.head()"
   ]
  },
  {
   "cell_type": "code",
   "execution_count": 49,
   "id": "c4d619ee",
   "metadata": {},
   "outputs": [
    {
     "data": {
      "text/plain": [
       "Text(0.5, 1.0, 'Nota para o Toy Story')"
      ]
     },
     "execution_count": 49,
     "metadata": {},
     "output_type": "execute_result"
    },
    {
     "data": {
      "image/png": "[encoded data removed]",
      "text/plain": [
       "<Figure size 432x288 with 1 Axes>"
      ]
     },
     "metadata": {},
     "output_type": "display_data"
    }
   ],
   "source": [
    "#Vamos visualizar isso, fazendo um histograma:\n",
    "ax = sns.histplot(notas1.rating, kde=True)\n",
    "ax.set(xlabel = \"Nota\", ylabel = \"Densidade\")\n",
    "ax.set_title(\"Nota para o Toy Story\")\n",
    "#ax.set_xlim(0, max(notas1.rating+1))"
   ]
  },
  {
   "cell_type": "code",
   "execution_count": 50,
   "id": "909eeaa6",
   "metadata": {},
   "outputs": [
    {
     "data": {
      "text/plain": [
       "Text(0.5, 1.0, 'Notas do filme Toy Story')"
      ]
     },
     "execution_count": 50,
     "metadata": {},
     "output_type": "execute_result"
    },
    {
     "data": {
      "image/png": "[encoded data removed]",
      "text/plain": [
       "<Figure size 432x288 with 1 Axes>"
      ]
     },
     "metadata": {},
     "output_type": "display_data"
    }
   ],
   "source": [
    "#Vamos fazer pelo boxplot para ver se \n",
    "#a visualização está melhor para visualizar.\n",
    "\n",
    "ax = sns.boxplot(x = notas1.rating)\n",
    "ax.set(xlabel = \"Notas\")\n",
    "ax.set_title(\"Notas do filme Toy Story\")\n"
   ]
  },
  {
   "cell_type": "markdown",
   "id": "4078ec57",
   "metadata": {},
   "source": [
    "Com isso podemos ver que pelo amostra do Toy Story tem uma mediana mais perto de 4 do que a média dos filmes da base de dados.\n",
    "\n",
    "Mas como isso se relaciona com os casos de azar e sorte que temos com as notas de filmes? Como sabemos se as notas estão dependentes ou não?\n"
   ]
  },
  {
   "cell_type": "code",
   "execution_count": 51,
   "id": "09f018e8",
   "metadata": {},
   "outputs": [
    {
     "data": {
      "text/plain": [
       "3.9209302325581397"
      ]
     },
     "execution_count": 51,
     "metadata": {},
     "output_type": "execute_result"
    }
   ],
   "source": [
    "notas1.rating.mean()"
   ]
  },
  {
   "cell_type": "markdown",
   "id": "9e3c6308",
   "metadata": {},
   "source": [
    "Logo essa média é maior, para esse caso, mas isso pode ser representado para todo o real?\n",
    "\n",
    "Como um caso a parte, pode haver outro que faça o contrário e seja menor que o valor médio encontrado para todo o grupo, mas isso dependerá do tamanho da amostra, de quais registros estão na amostras, se são dependentes ou não. Muita coisa tem que ser levada em consideração."
   ]
  },
  {
   "cell_type": "code",
   "execution_count": 52,
   "id": "1ebc8c44",
   "metadata": {},
   "outputs": [
    {
     "data": {
      "text/plain": [
       "215"
      ]
     },
     "execution_count": 52,
     "metadata": {},
     "output_type": "execute_result"
    }
   ],
   "source": [
    "notas1.rating.count()"
   ]
  },
  {
   "cell_type": "markdown",
   "id": "d699c8ac",
   "metadata": {},
   "source": [
    "Podemos aplicar o intervalo de confiança para esse dado coletado:"
   ]
  },
  {
   "cell_type": "code",
   "execution_count": 53,
   "id": "87f7a08a",
   "metadata": {},
   "outputs": [
    {
     "data": {
      "text/plain": [
       "(3.8093359183563402, 4.032524546759939)"
      ]
     },
     "execution_count": 53,
     "metadata": {},
     "output_type": "execute_result"
    }
   ],
   "source": [
    "zconfint(notas1.rating)"
   ]
  },
  {
   "cell_type": "markdown",
   "id": "6aef9ad8",
   "metadata": {},
   "source": [
    "Então para o filme de Toy Story, o intervalo de confiança para suas notas fica em torno desses valores. Maiores do que os valores de confiança da média de todas as notas."
   ]
  },
  {
   "cell_type": "code",
   "execution_count": 54,
   "id": "c3b7352d",
   "metadata": {},
   "outputs": [
    {
     "data": {
      "text/plain": [
       "(8.586342305916716, 8.978190401886942e-18)"
      ]
     },
     "execution_count": 54,
     "metadata": {},
     "output_type": "execute_result"
    }
   ],
   "source": [
    "#Ao invés do intervalo, podemos afirmar que a média é igual a média dos filmes\n",
    "\n",
    "from statsmodels.stats.weightstats import ztest\n",
    "\n",
    "ztest(notas1.rating, value = 3.4320503405352603)"
   ]
  },
  {
   "cell_type": "markdown",
   "id": "d57c4c50",
   "metadata": {},
   "source": [
    "Repare que o p-value é muito pequeno, e por ser muito pequeno, implica descartar a hipótese de que a média seja igual."
   ]
  },
  {
   "cell_type": "markdown",
   "id": "8effc611",
   "metadata": {},
   "source": [
    "Formas de visualização de comportamento de média dos dados:\n",
    "1. Visualização através de gráficos;\n",
    "2. Utilizando do intervalo de confiança para checar como se comporta;\n",
    "3. Afirmar que seu valor é igual ao ztest e aplicar o ztest para confirmar (olhando para o p-value);"
   ]
  },
  {
   "cell_type": "code",
   "execution_count": 55,
   "id": "49c7bcda",
   "metadata": {},
   "outputs": [
    {
     "data": {
      "text/plain": [
       "[<matplotlib.lines.Line2D at 0x7f594332cc70>]"
      ]
     },
     "execution_count": 55,
     "metadata": {},
     "output_type": "execute_result"
    },
    {
     "data": {
      "image/png": "[encoded data removed]",
      "text/plain": [
       "<Figure size 432x288 with 1 Axes>"
      ]
     },
     "metadata": {},
     "output_type": "display_data"
    }
   ],
   "source": [
    "np.random.seed(75241)\n",
    "temp = notas1.sample(frac=1).rating\n",
    "\n",
    "medias = [temp[0:i].mean() for i in range(1, len(temp))]\n",
    "\n",
    "plt.plot(medias)"
   ]
  },
  {
   "cell_type": "code",
   "execution_count": 56,
   "id": "266c0b4e",
   "metadata": {},
   "outputs": [
    {
     "data": {
      "text/plain": [
       "[(2, 4.5, 0.032687621135204896),\n",
       " (3, 4.0, 0.3252543510880489),\n",
       " (4, 3.875, 0.29952196979944745),\n",
       " (5, 3.9, 0.15826781784711086),\n",
       " (6, 3.9166666666666665, 0.07406936464331344),\n",
       " (7, 3.9285714285714284, 0.03058372185045264),\n",
       " (8, 4.0625, 0.008546846816661634),\n",
       " (9, 3.9444444444444446, 0.034351369792154834),\n",
       " (10, 3.6, 0.6797757440816464),\n",
       " (11, 3.590909090909091, 0.6661040559180447),\n",
       " (12, 3.5, 0.8452594429449549),\n",
       " (13, 3.5, 0.8319722700425317),\n",
       " (14, 3.5357142857142856, 0.7285036535608292),\n",
       " (15, 3.6, 0.5561564945645507),\n",
       " (16, 3.5625, 0.6284166359766319),\n",
       " (17, 3.6470588235294117, 0.42056196093078513),\n",
       " (18, 3.7222222222222223, 0.2692718087435868),\n",
       " (19, 3.6842105263157894, 0.3157395629293568),\n",
       " (20, 3.65, 0.36558117183067695),\n",
       " (21, 3.5714285714285716, 0.5650170364597873),\n",
       " (22, 3.590909090909091, 0.4930885087384419),\n",
       " (23, 3.608695652173913, 0.4265824656611449),\n",
       " (24, 3.625, 0.36578337526912086),\n",
       " (25, 3.64, 0.3108287352909964),\n",
       " (26, 3.6538461538461537, 0.26171758950670954),\n",
       " (27, 3.6481481481481484, 0.2559999054486449),\n",
       " (28, 3.6964285714285716, 0.16314137427171593),\n",
       " (29, 3.7413793103448274, 0.10054986793464257),\n",
       " (30, 3.7333333333333334, 0.09812718831667805),\n",
       " (31, 3.7419354838709675, 0.07894877889458934),\n",
       " (32, 3.671875, 0.19389049416761317),\n",
       " (33, 3.6666666666666665, 0.18994435269346233),\n",
       " (34, 3.7058823529411766, 0.12400478766945784),\n",
       " (35, 3.742857142857143, 0.07870821336871098),\n",
       " (36, 3.7222222222222223, 0.09353576061527746),\n",
       " (37, 3.7027027027027026, 0.11013590254134484),\n",
       " (38, 3.736842105263158, 0.070293980214127),\n",
       " (39, 3.7435897435897436, 0.057719600728433226),\n",
       " (40, 3.725, 0.06895669959313765),\n",
       " (41, 3.7560975609756095, 0.043027696867534854),\n",
       " (42, 3.7857142857142856, 0.026192682251694282),\n",
       " (43, 3.813953488372093, 0.015559932099710492),\n",
       " (44, 3.8181818181818183, 0.01233272538941352),\n",
       " (45, 3.8222222222222224, 0.00971325069982623),\n",
       " (46, 3.8043478260869565, 0.012260404094830826),\n",
       " (47, 3.7872340425531914, 0.015299059283941084),\n",
       " (48, 3.8125, 0.008966188879749698),\n",
       " (49, 3.806122448979592, 0.008766884002523942),\n",
       " (50, 3.81, 0.006897537294395224),\n",
       " (51, 3.8137254901960786, 0.005394516156167565),\n",
       " (52, 3.8173076923076925, 0.004193844231736312),\n",
       " (53, 3.80188679245283, 0.005385212289644282),\n",
       " (54, 3.8055555555555554, 0.004195763368449785),\n",
       " (55, 3.790909090909091, 0.005368352947838337),\n",
       " (56, 3.7767857142857144, 0.006794205663451532),\n",
       " (57, 3.763157894736842, 0.008512220201001898),\n",
       " (58, 3.7844827586206895, 0.004975558567317606),\n",
       " (59, 3.788135593220339, 0.003904050433428437),\n",
       " (60, 3.808333333333333, 0.0022169155153936113),\n",
       " (61, 3.8114754098360657, 0.0017134856636438817),\n",
       " (62, 3.7983870967741935, 0.0022185468321933607),\n",
       " (63, 3.7936507936507935, 0.0021667091142656882),\n",
       " (64, 3.7890625, 0.0021155742986059037),\n",
       " (65, 3.792307692307692, 0.001638169688311084),\n",
       " (66, 3.7803030303030303, 0.002112904717074153),\n",
       " (67, 3.783582089552239, 0.0016391796508841768),\n",
       " (68, 3.7720588235294117, 0.002107877006211813),\n",
       " (69, 3.7753623188405796, 0.001638208006937132),\n",
       " (70, 3.7785714285714285, 0.0012667046775475992),\n",
       " (71, 3.76056338028169, 0.0022426047709492537),\n",
       " (72, 3.763888888888889, 0.0017525084760790894),\n",
       " (73, 3.7739726027397262, 0.0011365250751412),\n",
       " (74, 3.7905405405405403, 0.0006361085905667348),\n",
       " (75, 3.8066666666666666, 0.00035042445221225517),\n",
       " (76, 3.8157894736842106, 0.00021841519783205381),\n",
       " (77, 3.811688311688312, 0.0002133389727594162),\n",
       " (78, 3.8141025641025643, 0.0001607423772756106),\n",
       " (79, 3.8164556962025316, 0.00012053616176043722),\n",
       " (80, 3.83125, 6.355135417245393e-05),\n",
       " (81, 3.845679012345679, 3.300722928041108e-05),\n",
       " (82, 3.841463414634146, 3.2304003745802037e-05),\n",
       " (83, 3.8433734939759034, 2.374556884407959e-05),\n",
       " (84, 3.857142857142857, 1.2077073301628071e-05),\n",
       " (85, 3.847058823529412, 1.7088673225760976e-05),\n",
       " (86, 3.8313953488372094, 3.608185615666001e-05),\n",
       " (87, 3.8333333333333335, 2.681257612846113e-05),\n",
       " (88, 3.8238636363636362, 3.681562512354262e-05),\n",
       " (89, 3.808988764044944, 7.313870608516293e-05),\n",
       " (90, 3.811111111111111, 5.525606847923858e-05),\n",
       " (91, 3.8131868131868134, 4.1572170968967595e-05),\n",
       " (92, 3.8206521739130435, 2.540508532221419e-05),\n",
       " (93, 3.8225806451612905, 1.891161316381205e-05),\n",
       " (94, 3.824468085106383, 1.4019284811900051e-05),\n",
       " (95, 3.8157894736842106, 1.9300245184706242e-05),\n",
       " (96, 3.8177083333333335, 1.4337154349835086e-05),\n",
       " (97, 3.829896907216495, 7.470440358184904e-06),\n",
       " (98, 3.8418367346938775, 3.843679820388642e-06),\n",
       " (99, 3.823232323232323, 1.3101881021708747e-05),\n",
       " (100, 3.815, 1.773810320525232e-05),\n",
       " (101, 3.797029702970297, 5.156319239792069e-05),\n",
       " (102, 3.799019607843137, 3.956916550250529e-05),\n",
       " (103, 3.7815533980582523, 0.00010532490098882295),\n",
       " (104, 3.7836538461538463, 8.207340957567451e-05),\n",
       " (105, 3.7857142857142856, 6.373666797007717e-05),\n",
       " (106, 3.7877358490566038, 4.9327620681370155e-05),\n",
       " (107, 3.794392523364486, 3.158510492524062e-05),\n",
       " (108, 3.7824074074074074, 5.741195652105531e-05),\n",
       " (109, 3.7844036697247705, 4.452063805181686e-05),\n",
       " (110, 3.7954545454545454, 2.5034997999585643e-05),\n",
       " (111, 3.8018018018018016, 1.593383648900579e-05),\n",
       " (112, 3.8035714285714284, 1.2181676067708934e-05),\n",
       " (113, 3.8053097345132745, 9.282385148662153e-06),\n",
       " (114, 3.807017543859649, 7.049800097807919e-06),\n",
       " (115, 3.8086956521739133, 5.336512954125956e-06),\n",
       " (116, 3.8017241379310347, 7.132420343988585e-06),\n",
       " (117, 3.8119658119658117, 3.8777239631651985e-06),\n",
       " (118, 3.809322033898305, 3.789024541840527e-06),\n",
       " (119, 3.80672268907563, 3.701652394675697e-06),\n",
       " (120, 3.8041666666666667, 3.6156244484077226e-06),\n",
       " (121, 3.809917355371901, 2.234409015059164e-06),\n",
       " (122, 3.819672131147541, 1.1935921381583365e-06),\n",
       " (123, 3.821138211382114, 8.907771906449635e-07),\n",
       " (124, 3.814516129032258, 1.2165528009735344e-06),\n",
       " (125, 3.808, 1.6492029231809994e-06),\n",
       " (126, 3.8095238095238093, 1.2383902023580329e-06),\n",
       " (127, 3.7992125984251968, 2.4447090501870245e-06),\n",
       " (128, 3.80859375, 1.3259626346058774e-06),\n",
       " (129, 3.802325581395349, 1.7799716841358229e-06),\n",
       " (130, 3.7884615384615383, 5.106740278151876e-06),\n",
       " (131, 3.786259541984733, 4.986913728968981e-06),\n",
       " (132, 3.7954545454545454, 2.7799402746913627e-06),\n",
       " (133, 3.793233082706767, 2.715247214619515e-06),\n",
       " (134, 3.794776119402985, 2.075872794199074e-06),\n",
       " (135, 3.785185185185185, 3.869818273690176e-06),\n",
       " (136, 3.786764705882353, 2.9771501112494567e-06),\n",
       " (137, 3.7846715328467155, 2.906855295169462e-06),\n",
       " (138, 3.786231884057971, 2.229978257172786e-06),\n",
       " (139, 3.7805755395683454, 2.923020543496903e-06),\n",
       " (140, 3.7857142857142856, 1.861736987479408e-06),\n",
       " (141, 3.780141843971631, 2.441850783063681e-06),\n",
       " (142, 3.7816901408450705, 1.8743496554091788e-06),\n",
       " (143, 3.7832167832167833, 1.4348129269825041e-06),\n",
       " (144, 3.7847222222222223, 1.0953489095524478e-06),\n",
       " (145, 3.786206896551724, 8.33914593413763e-07),\n",
       " (146, 3.7945205479452055, 4.5654100105346796e-07),\n",
       " (147, 3.802721088435374, 2.4781068087348057e-07),\n",
       " (148, 3.804054054054054, 1.8647631467675183e-07),\n",
       " (149, 3.8053691275167787, 1.3994497318116365e-07),\n",
       " (150, 3.8066666666666666, 1.0474187906210276e-07),\n",
       " (151, 3.814569536423841, 5.5638738167742754e-08),\n",
       " (152, 3.8223684210526314, 2.9310557354650833e-08),\n",
       " (153, 3.823529411764706, 2.169106984430368e-08),\n",
       " (154, 3.8279220779220777, 1.296533237512879e-08),\n",
       " (155, 3.835483870967742, 6.69721358751862e-09),\n",
       " (156, 3.8365384615384617, 4.90242789582791e-09),\n",
       " (157, 3.837579617834395, 3.579198670373318e-09),\n",
       " (158, 3.8322784810126582, 5.065038279328382e-09),\n",
       " (159, 3.839622641509434, 2.593122661980238e-09),\n",
       " (160, 3.840625, 1.888254008877338e-09),\n",
       " (161, 3.829192546583851, 6.89862648428305e-09),\n",
       " (162, 3.830246913580247, 5.088654193995244e-09),\n",
       " (163, 3.831288343558282, 3.744165106538347e-09),\n",
       " (164, 3.826219512195122, 5.23409616911476e-09),\n",
       " (165, 3.8333333333333335, 2.715045381204715e-09),\n",
       " (166, 3.8343373493975905, 1.9924856311040464e-09),\n",
       " (167, 3.841317365269461, 1.021658248002295e-09),\n",
       " (168, 3.8452380952380953, 5.986014433616568e-10),\n",
       " (169, 3.8520710059171597, 3.026046512497991e-10),\n",
       " (170, 3.85, 2.9667891226340393e-10),\n",
       " (171, 3.8508771929824563, 2.1473424779915278e-10),\n",
       " (172, 3.8459302325581395, 3.087411923363227e-10),\n",
       " (173, 3.8497109826589595, 1.7917893544489147e-10),\n",
       " (174, 3.8505747126436782, 1.2939702905988413e-10),\n",
       " (175, 3.854285714285714, 7.437375301814674e-11),\n",
       " (176, 3.8607954545454546, 3.68536489501502e-11),\n",
       " (177, 3.867231638418079, 1.8128994549484078e-11),\n",
       " (178, 3.8707865168539324, 1.0226884113071301e-11),\n",
       " (179, 3.863128491620112, 2.476407211840968e-11),\n",
       " (180, 3.863888888888889, 1.7738569534234892e-11),\n",
       " (181, 3.8701657458563536, 8.709233016873075e-12),\n",
       " (182, 3.870879120879121, 6.201886620364462e-12),\n",
       " (183, 3.866120218579235, 9.186029818083115e-12),\n",
       " (184, 3.8668478260869565, 6.5513651601619266e-12),\n",
       " (185, 3.8702702702702703, 3.688482306426001e-12),\n",
       " (186, 3.8763440860215055, 1.787257905280176e-12),\n",
       " (187, 3.8823529411764706, 8.600037830948384e-13),\n",
       " (188, 3.882978723404255, 6.056150219694947e-13),\n",
       " (189, 3.8835978835978837, 4.2551292144889585e-13),\n",
       " (190, 3.886842105263158, 2.3370424038676717e-13),\n",
       " (191, 3.887434554973822, 1.6326985261947053e-13),\n",
       " (192, 3.8880208333333335, 1.1380629973295943e-13),\n",
       " (193, 3.88860103626943, 7.91493424125946e-14),\n",
       " (194, 3.8917525773195876, 4.278258438283099e-14),\n",
       " (195, 3.8923076923076922, 2.958555465053198e-14),\n",
       " (196, 3.8877551020408165, 4.623476152843946e-14),\n",
       " (197, 3.8908629441624365, 2.493280074064741e-14),\n",
       " (198, 3.893939393939394, 1.3370684043107038e-14),\n",
       " (199, 3.899497487437186, 6.160613753635314e-15),\n",
       " (200, 3.895, 9.749074156510373e-15),\n",
       " (201, 3.8955223880597014, 6.7127681104016146e-15),\n",
       " (202, 3.896039603960396, 4.6119520070165714e-15),\n",
       " (203, 3.896551724137931, 3.1616414709692205e-15),\n",
       " (204, 3.9019607843137254, 1.443848995257856e-15),\n",
       " (205, 3.897560975609756, 2.309845735394206e-15),\n",
       " (206, 3.9029126213592233, 1.0555998801123747e-15),\n",
       " (207, 3.9082125603864735, 4.793088683620973e-16),\n",
       " (208, 3.9086538461538463, 3.2609910418318076e-16),\n",
       " (209, 3.9138755980861246, 1.466694033719233e-16),\n",
       " (210, 3.914285714285714, 9.927030087378508e-17),\n",
       " (211, 3.914691943127962, 6.704625749290763e-17),\n",
       " (212, 3.9150943396226414, 4.518611521397103e-17),\n",
       " (213, 3.915492957746479, 3.038859398683116e-17),\n",
       " (214, 3.9205607476635516, 1.3418325209316871e-17)]"
      ]
     },
     "execution_count": 56,
     "metadata": {},
     "output_type": "execute_result"
    }
   ],
   "source": [
    "np.random.seed(75241)\n",
    "temp = notas1.sample(frac=1).rating\n",
    "\n",
    "def calcula_teste(i):\n",
    "    media = temp[0:i].mean()\n",
    "    stat, p = ztest(temp[0:i], value = 3.4320503405352603) \n",
    "    return (i, media, p)\n",
    "\n",
    "medias = [calcula_teste(i) for i in range(2, len(temp))]\n",
    "medias"
   ]
  },
  {
   "cell_type": "code",
   "execution_count": 57,
   "id": "717b0d18",
   "metadata": {},
   "outputs": [
    {
     "data": {
      "text/plain": [
       "[<matplotlib.lines.Line2D at 0x7f594329b370>]"
      ]
     },
     "execution_count": 57,
     "metadata": {},
     "output_type": "execute_result"
    },
    {
     "data": {
      "image/png": "[encoded data removed]",
      "text/plain": [
       "<Figure size 432x288 with 1 Axes>"
      ]
     },
     "metadata": {},
     "output_type": "display_data"
    }
   ],
   "source": [
    "valores = np.array([calcula_teste(i) for i in range(2, len(temp))])\n",
    "\n",
    "plt.plot(valores[:,1])"
   ]
  },
  {
   "cell_type": "code",
   "execution_count": 58,
   "id": "ae11c793",
   "metadata": {},
   "outputs": [
    {
     "data": {
      "text/plain": [
       "array([[2.00000000e+00, 4.50000000e+00, 3.26876211e-02],\n",
       "       [3.00000000e+00, 4.00000000e+00, 3.25254351e-01],\n",
       "       [4.00000000e+00, 3.87500000e+00, 2.99521970e-01],\n",
       "       [5.00000000e+00, 3.90000000e+00, 1.58267818e-01],\n",
       "       [6.00000000e+00, 3.91666667e+00, 7.40693646e-02],\n",
       "       [7.00000000e+00, 3.92857143e+00, 3.05837219e-02],\n",
       "       [8.00000000e+00, 4.06250000e+00, 8.54684682e-03],\n",
       "       [9.00000000e+00, 3.94444444e+00, 3.43513698e-02],\n",
       "       [1.00000000e+01, 3.60000000e+00, 6.79775744e-01],\n",
       "       [1.10000000e+01, 3.59090909e+00, 6.66104056e-01],\n",
       "       [1.20000000e+01, 3.50000000e+00, 8.45259443e-01],\n",
       "       [1.30000000e+01, 3.50000000e+00, 8.31972270e-01],\n",
       "       [1.40000000e+01, 3.53571429e+00, 7.28503654e-01],\n",
       "       [1.50000000e+01, 3.60000000e+00, 5.56156495e-01],\n",
       "       [1.60000000e+01, 3.56250000e+00, 6.28416636e-01],\n",
       "       [1.70000000e+01, 3.64705882e+00, 4.20561961e-01],\n",
       "       [1.80000000e+01, 3.72222222e+00, 2.69271809e-01],\n",
       "       [1.90000000e+01, 3.68421053e+00, 3.15739563e-01],\n",
       "       [2.00000000e+01, 3.65000000e+00, 3.65581172e-01],\n",
       "       [2.10000000e+01, 3.57142857e+00, 5.65017036e-01],\n",
       "       [2.20000000e+01, 3.59090909e+00, 4.93088509e-01],\n",
       "       [2.30000000e+01, 3.60869565e+00, 4.26582466e-01],\n",
       "       [2.40000000e+01, 3.62500000e+00, 3.65783375e-01],\n",
       "       [2.50000000e+01, 3.64000000e+00, 3.10828735e-01],\n",
       "       [2.60000000e+01, 3.65384615e+00, 2.61717590e-01],\n",
       "       [2.70000000e+01, 3.64814815e+00, 2.55999905e-01],\n",
       "       [2.80000000e+01, 3.69642857e+00, 1.63141374e-01],\n",
       "       [2.90000000e+01, 3.74137931e+00, 1.00549868e-01],\n",
       "       [3.00000000e+01, 3.73333333e+00, 9.81271883e-02],\n",
       "       [3.10000000e+01, 3.74193548e+00, 7.89487789e-02],\n",
       "       [3.20000000e+01, 3.67187500e+00, 1.93890494e-01],\n",
       "       [3.30000000e+01, 3.66666667e+00, 1.89944353e-01],\n",
       "       [3.40000000e+01, 3.70588235e+00, 1.24004788e-01],\n",
       "       [3.50000000e+01, 3.74285714e+00, 7.87082134e-02],\n",
       "       [3.60000000e+01, 3.72222222e+00, 9.35357606e-02],\n",
       "       [3.70000000e+01, 3.70270270e+00, 1.10135903e-01],\n",
       "       [3.80000000e+01, 3.73684211e+00, 7.02939802e-02],\n",
       "       [3.90000000e+01, 3.74358974e+00, 5.77196007e-02],\n",
       "       [4.00000000e+01, 3.72500000e+00, 6.89566996e-02],\n",
       "       [4.10000000e+01, 3.75609756e+00, 4.30276969e-02],\n",
       "       [4.20000000e+01, 3.78571429e+00, 2.61926823e-02],\n",
       "       [4.30000000e+01, 3.81395349e+00, 1.55599321e-02],\n",
       "       [4.40000000e+01, 3.81818182e+00, 1.23327254e-02],\n",
       "       [4.50000000e+01, 3.82222222e+00, 9.71325070e-03],\n",
       "       [4.60000000e+01, 3.80434783e+00, 1.22604041e-02],\n",
       "       [4.70000000e+01, 3.78723404e+00, 1.52990593e-02],\n",
       "       [4.80000000e+01, 3.81250000e+00, 8.96618888e-03],\n",
       "       [4.90000000e+01, 3.80612245e+00, 8.76688400e-03],\n",
       "       [5.00000000e+01, 3.81000000e+00, 6.89753729e-03],\n",
       "       [5.10000000e+01, 3.81372549e+00, 5.39451616e-03],\n",
       "       [5.20000000e+01, 3.81730769e+00, 4.19384423e-03],\n",
       "       [5.30000000e+01, 3.80188679e+00, 5.38521229e-03],\n",
       "       [5.40000000e+01, 3.80555556e+00, 4.19576337e-03],\n",
       "       [5.50000000e+01, 3.79090909e+00, 5.36835295e-03],\n",
       "       [5.60000000e+01, 3.77678571e+00, 6.79420566e-03],\n",
       "       [5.70000000e+01, 3.76315789e+00, 8.51222020e-03],\n",
       "       [5.80000000e+01, 3.78448276e+00, 4.97555857e-03],\n",
       "       [5.90000000e+01, 3.78813559e+00, 3.90405043e-03],\n",
       "       [6.00000000e+01, 3.80833333e+00, 2.21691552e-03],\n",
       "       [6.10000000e+01, 3.81147541e+00, 1.71348566e-03],\n",
       "       [6.20000000e+01, 3.79838710e+00, 2.21854683e-03],\n",
       "       [6.30000000e+01, 3.79365079e+00, 2.16670911e-03],\n",
       "       [6.40000000e+01, 3.78906250e+00, 2.11557430e-03],\n",
       "       [6.50000000e+01, 3.79230769e+00, 1.63816969e-03],\n",
       "       [6.60000000e+01, 3.78030303e+00, 2.11290472e-03],\n",
       "       [6.70000000e+01, 3.78358209e+00, 1.63917965e-03],\n",
       "       [6.80000000e+01, 3.77205882e+00, 2.10787701e-03],\n",
       "       [6.90000000e+01, 3.77536232e+00, 1.63820801e-03],\n",
       "       [7.00000000e+01, 3.77857143e+00, 1.26670468e-03],\n",
       "       [7.10000000e+01, 3.76056338e+00, 2.24260477e-03],\n",
       "       [7.20000000e+01, 3.76388889e+00, 1.75250848e-03],\n",
       "       [7.30000000e+01, 3.77397260e+00, 1.13652508e-03],\n",
       "       [7.40000000e+01, 3.79054054e+00, 6.36108591e-04],\n",
       "       [7.50000000e+01, 3.80666667e+00, 3.50424452e-04],\n",
       "       [7.60000000e+01, 3.81578947e+00, 2.18415198e-04],\n",
       "       [7.70000000e+01, 3.81168831e+00, 2.13338973e-04],\n",
       "       [7.80000000e+01, 3.81410256e+00, 1.60742377e-04],\n",
       "       [7.90000000e+01, 3.81645570e+00, 1.20536162e-04],\n",
       "       [8.00000000e+01, 3.83125000e+00, 6.35513542e-05],\n",
       "       [8.10000000e+01, 3.84567901e+00, 3.30072293e-05],\n",
       "       [8.20000000e+01, 3.84146341e+00, 3.23040037e-05],\n",
       "       [8.30000000e+01, 3.84337349e+00, 2.37455688e-05],\n",
       "       [8.40000000e+01, 3.85714286e+00, 1.20770733e-05],\n",
       "       [8.50000000e+01, 3.84705882e+00, 1.70886732e-05],\n",
       "       [8.60000000e+01, 3.83139535e+00, 3.60818562e-05],\n",
       "       [8.70000000e+01, 3.83333333e+00, 2.68125761e-05],\n",
       "       [8.80000000e+01, 3.82386364e+00, 3.68156251e-05],\n",
       "       [8.90000000e+01, 3.80898876e+00, 7.31387061e-05],\n",
       "       [9.00000000e+01, 3.81111111e+00, 5.52560685e-05],\n",
       "       [9.10000000e+01, 3.81318681e+00, 4.15721710e-05],\n",
       "       [9.20000000e+01, 3.82065217e+00, 2.54050853e-05],\n",
       "       [9.30000000e+01, 3.82258065e+00, 1.89116132e-05],\n",
       "       [9.40000000e+01, 3.82446809e+00, 1.40192848e-05],\n",
       "       [9.50000000e+01, 3.81578947e+00, 1.93002452e-05],\n",
       "       [9.60000000e+01, 3.81770833e+00, 1.43371543e-05],\n",
       "       [9.70000000e+01, 3.82989691e+00, 7.47044036e-06],\n",
       "       [9.80000000e+01, 3.84183673e+00, 3.84367982e-06],\n",
       "       [9.90000000e+01, 3.82323232e+00, 1.31018810e-05],\n",
       "       [1.00000000e+02, 3.81500000e+00, 1.77381032e-05],\n",
       "       [1.01000000e+02, 3.79702970e+00, 5.15631924e-05],\n",
       "       [1.02000000e+02, 3.79901961e+00, 3.95691655e-05],\n",
       "       [1.03000000e+02, 3.78155340e+00, 1.05324901e-04],\n",
       "       [1.04000000e+02, 3.78365385e+00, 8.20734096e-05],\n",
       "       [1.05000000e+02, 3.78571429e+00, 6.37366680e-05],\n",
       "       [1.06000000e+02, 3.78773585e+00, 4.93276207e-05],\n",
       "       [1.07000000e+02, 3.79439252e+00, 3.15851049e-05],\n",
       "       [1.08000000e+02, 3.78240741e+00, 5.74119565e-05],\n",
       "       [1.09000000e+02, 3.78440367e+00, 4.45206381e-05],\n",
       "       [1.10000000e+02, 3.79545455e+00, 2.50349980e-05],\n",
       "       [1.11000000e+02, 3.80180180e+00, 1.59338365e-05],\n",
       "       [1.12000000e+02, 3.80357143e+00, 1.21816761e-05],\n",
       "       [1.13000000e+02, 3.80530973e+00, 9.28238515e-06],\n",
       "       [1.14000000e+02, 3.80701754e+00, 7.04980010e-06],\n",
       "       [1.15000000e+02, 3.80869565e+00, 5.33651295e-06],\n",
       "       [1.16000000e+02, 3.80172414e+00, 7.13242034e-06],\n",
       "       [1.17000000e+02, 3.81196581e+00, 3.87772396e-06],\n",
       "       [1.18000000e+02, 3.80932203e+00, 3.78902454e-06],\n",
       "       [1.19000000e+02, 3.80672269e+00, 3.70165239e-06],\n",
       "       [1.20000000e+02, 3.80416667e+00, 3.61562445e-06],\n",
       "       [1.21000000e+02, 3.80991736e+00, 2.23440902e-06],\n",
       "       [1.22000000e+02, 3.81967213e+00, 1.19359214e-06],\n",
       "       [1.23000000e+02, 3.82113821e+00, 8.90777191e-07],\n",
       "       [1.24000000e+02, 3.81451613e+00, 1.21655280e-06],\n",
       "       [1.25000000e+02, 3.80800000e+00, 1.64920292e-06],\n",
       "       [1.26000000e+02, 3.80952381e+00, 1.23839020e-06],\n",
       "       [1.27000000e+02, 3.79921260e+00, 2.44470905e-06],\n",
       "       [1.28000000e+02, 3.80859375e+00, 1.32596263e-06],\n",
       "       [1.29000000e+02, 3.80232558e+00, 1.77997168e-06],\n",
       "       [1.30000000e+02, 3.78846154e+00, 5.10674028e-06],\n",
       "       [1.31000000e+02, 3.78625954e+00, 4.98691373e-06],\n",
       "       [1.32000000e+02, 3.79545455e+00, 2.77994027e-06],\n",
       "       [1.33000000e+02, 3.79323308e+00, 2.71524721e-06],\n",
       "       [1.34000000e+02, 3.79477612e+00, 2.07587279e-06],\n",
       "       [1.35000000e+02, 3.78518519e+00, 3.86981827e-06],\n",
       "       [1.36000000e+02, 3.78676471e+00, 2.97715011e-06],\n",
       "       [1.37000000e+02, 3.78467153e+00, 2.90685530e-06],\n",
       "       [1.38000000e+02, 3.78623188e+00, 2.22997826e-06],\n",
       "       [1.39000000e+02, 3.78057554e+00, 2.92302054e-06],\n",
       "       [1.40000000e+02, 3.78571429e+00, 1.86173699e-06],\n",
       "       [1.41000000e+02, 3.78014184e+00, 2.44185078e-06],\n",
       "       [1.42000000e+02, 3.78169014e+00, 1.87434966e-06],\n",
       "       [1.43000000e+02, 3.78321678e+00, 1.43481293e-06],\n",
       "       [1.44000000e+02, 3.78472222e+00, 1.09534891e-06],\n",
       "       [1.45000000e+02, 3.78620690e+00, 8.33914593e-07],\n",
       "       [1.46000000e+02, 3.79452055e+00, 4.56541001e-07],\n",
       "       [1.47000000e+02, 3.80272109e+00, 2.47810681e-07],\n",
       "       [1.48000000e+02, 3.80405405e+00, 1.86476315e-07],\n",
       "       [1.49000000e+02, 3.80536913e+00, 1.39944973e-07],\n",
       "       [1.50000000e+02, 3.80666667e+00, 1.04741879e-07],\n",
       "       [1.51000000e+02, 3.81456954e+00, 5.56387382e-08],\n",
       "       [1.52000000e+02, 3.82236842e+00, 2.93105574e-08],\n",
       "       [1.53000000e+02, 3.82352941e+00, 2.16910698e-08],\n",
       "       [1.54000000e+02, 3.82792208e+00, 1.29653324e-08],\n",
       "       [1.55000000e+02, 3.83548387e+00, 6.69721359e-09],\n",
       "       [1.56000000e+02, 3.83653846e+00, 4.90242790e-09],\n",
       "       [1.57000000e+02, 3.83757962e+00, 3.57919867e-09],\n",
       "       [1.58000000e+02, 3.83227848e+00, 5.06503828e-09],\n",
       "       [1.59000000e+02, 3.83962264e+00, 2.59312266e-09],\n",
       "       [1.60000000e+02, 3.84062500e+00, 1.88825401e-09],\n",
       "       [1.61000000e+02, 3.82919255e+00, 6.89862648e-09],\n",
       "       [1.62000000e+02, 3.83024691e+00, 5.08865419e-09],\n",
       "       [1.63000000e+02, 3.83128834e+00, 3.74416511e-09],\n",
       "       [1.64000000e+02, 3.82621951e+00, 5.23409617e-09],\n",
       "       [1.65000000e+02, 3.83333333e+00, 2.71504538e-09],\n",
       "       [1.66000000e+02, 3.83433735e+00, 1.99248563e-09],\n",
       "       [1.67000000e+02, 3.84131737e+00, 1.02165825e-09],\n",
       "       [1.68000000e+02, 3.84523810e+00, 5.98601443e-10],\n",
       "       [1.69000000e+02, 3.85207101e+00, 3.02604651e-10],\n",
       "       [1.70000000e+02, 3.85000000e+00, 2.96678912e-10],\n",
       "       [1.71000000e+02, 3.85087719e+00, 2.14734248e-10],\n",
       "       [1.72000000e+02, 3.84593023e+00, 3.08741192e-10],\n",
       "       [1.73000000e+02, 3.84971098e+00, 1.79178935e-10],\n",
       "       [1.74000000e+02, 3.85057471e+00, 1.29397029e-10],\n",
       "       [1.75000000e+02, 3.85428571e+00, 7.43737530e-11],\n",
       "       [1.76000000e+02, 3.86079545e+00, 3.68536490e-11],\n",
       "       [1.77000000e+02, 3.86723164e+00, 1.81289945e-11],\n",
       "       [1.78000000e+02, 3.87078652e+00, 1.02268841e-11],\n",
       "       [1.79000000e+02, 3.86312849e+00, 2.47640721e-11],\n",
       "       [1.80000000e+02, 3.86388889e+00, 1.77385695e-11],\n",
       "       [1.81000000e+02, 3.87016575e+00, 8.70923302e-12],\n",
       "       [1.82000000e+02, 3.87087912e+00, 6.20188662e-12],\n",
       "       [1.83000000e+02, 3.86612022e+00, 9.18602982e-12],\n",
       "       [1.84000000e+02, 3.86684783e+00, 6.55136516e-12],\n",
       "       [1.85000000e+02, 3.87027027e+00, 3.68848231e-12],\n",
       "       [1.86000000e+02, 3.87634409e+00, 1.78725791e-12],\n",
       "       [1.87000000e+02, 3.88235294e+00, 8.60003783e-13],\n",
       "       [1.88000000e+02, 3.88297872e+00, 6.05615022e-13],\n",
       "       [1.89000000e+02, 3.88359788e+00, 4.25512921e-13],\n",
       "       [1.90000000e+02, 3.88684211e+00, 2.33704240e-13],\n",
       "       [1.91000000e+02, 3.88743455e+00, 1.63269853e-13],\n",
       "       [1.92000000e+02, 3.88802083e+00, 1.13806300e-13],\n",
       "       [1.93000000e+02, 3.88860104e+00, 7.91493424e-14],\n",
       "       [1.94000000e+02, 3.89175258e+00, 4.27825844e-14],\n",
       "       [1.95000000e+02, 3.89230769e+00, 2.95855547e-14],\n",
       "       [1.96000000e+02, 3.88775510e+00, 4.62347615e-14],\n",
       "       [1.97000000e+02, 3.89086294e+00, 2.49328007e-14],\n",
       "       [1.98000000e+02, 3.89393939e+00, 1.33706840e-14],\n",
       "       [1.99000000e+02, 3.89949749e+00, 6.16061375e-15],\n",
       "       [2.00000000e+02, 3.89500000e+00, 9.74907416e-15],\n",
       "       [2.01000000e+02, 3.89552239e+00, 6.71276811e-15],\n",
       "       [2.02000000e+02, 3.89603960e+00, 4.61195201e-15],\n",
       "       [2.03000000e+02, 3.89655172e+00, 3.16164147e-15],\n",
       "       [2.04000000e+02, 3.90196078e+00, 1.44384900e-15],\n",
       "       [2.05000000e+02, 3.89756098e+00, 2.30984574e-15],\n",
       "       [2.06000000e+02, 3.90291262e+00, 1.05559988e-15],\n",
       "       [2.07000000e+02, 3.90821256e+00, 4.79308868e-16],\n",
       "       [2.08000000e+02, 3.90865385e+00, 3.26099104e-16],\n",
       "       [2.09000000e+02, 3.91387560e+00, 1.46669403e-16],\n",
       "       [2.10000000e+02, 3.91428571e+00, 9.92703009e-17],\n",
       "       [2.11000000e+02, 3.91469194e+00, 6.70462575e-17],\n",
       "       [2.12000000e+02, 3.91509434e+00, 4.51861152e-17],\n",
       "       [2.13000000e+02, 3.91549296e+00, 3.03885940e-17],\n",
       "       [2.14000000e+02, 3.92056075e+00, 1.34183252e-17]])"
      ]
     },
     "execution_count": 58,
     "metadata": {},
     "output_type": "execute_result"
    }
   ],
   "source": [
    "valores"
   ]
  },
  {
   "cell_type": "code",
   "execution_count": 59,
   "id": "6603a420",
   "metadata": {},
   "outputs": [
    {
     "data": {
      "text/plain": [
       "<matplotlib.collections.LineCollection at 0x7f594327c040>"
      ]
     },
     "execution_count": 59,
     "metadata": {},
     "output_type": "execute_result"
    },
    {
     "data": {
      "image/png": "[encoded data removed]",
      "text/plain": [
       "<Figure size 432x288 with 1 Axes>"
      ]
     },
     "metadata": {},
     "output_type": "display_data"
    }
   ],
   "source": [
    "plt.plot(valores[:,0], valores[:,1])\n",
    "plt.plot(valores[:,0], valores[:,2])\n",
    "plt.hlines(y = 0.05, xmin = 2, xmax = len(temp), colors = \"purple\")"
   ]
  },
  {
   "cell_type": "markdown",
   "id": "6a6cb501",
   "metadata": {},
   "source": [
    "O importante desse gráfico é mostrar que o p-value do ztest só consegue provar que a hipótese nula deve ser descartada a partir de uma certa quantidade de registros na amostra.\n",
    "\n",
    "Ou seja, abaixo desse valor não se tem evidência de que a hipótese é inválida ou não há dados suficientes para tirar um conclusão, e depende da sorte ou do azar do conjunto (pequeno) de registros escolhidos podendo fazer afirmações precipitadas sobre médias do grupo maior, para isso não se usa o ztest e sim o ttest.\n",
    "\n",
    "Por isso tem que coletar mais samples, e a partir daí poderá usar o ztest."
   ]
  },
  {
   "cell_type": "markdown",
   "id": "43239ba1",
   "metadata": {},
   "source": [
    "# Aula 5\n",
    "\n",
    "## Comparando a média de duas amostras."
   ]
  },
  {
   "cell_type": "code",
   "execution_count": 60,
   "id": "3115a4ce",
   "metadata": {},
   "outputs": [
    {
     "data": {
      "text/plain": [
       "(0.2799245129192442, 0.5588219849631111)"
      ]
     },
     "execution_count": 60,
     "metadata": {},
     "output_type": "execute_result"
    }
   ],
   "source": [
    "#distribuição do filme toy story e todos os filmes.\n",
    "zconfint(notas1.rating, notas.rating)"
   ]
  },
  {
   "cell_type": "markdown",
   "id": "3031ab18",
   "metadata": {},
   "source": [
    "A diferença entre os dois valores se dá entre os valores de 0.28 e 0.56. O intervalor de diferença. Se fizermos o zconfint na ordem contrária, os valores seriam iguais adicionados do sinal negativo."
   ]
  },
  {
   "cell_type": "markdown",
   "id": "40132af1",
   "metadata": {},
   "source": [
    "Também posso imprimir o p-value através do ztest."
   ]
  },
  {
   "cell_type": "code",
   "execution_count": 61,
   "id": "a43e2504",
   "metadata": {},
   "outputs": [
    {
     "name": "stdout",
     "output_type": "stream",
     "text": [
      "(5.894327101501841, 3.762112778881965e-09)\n"
     ]
    }
   ],
   "source": [
    "print(ztest(notas1.rating, notas.rating))"
   ]
  },
  {
   "cell_type": "markdown",
   "id": "ae3335e3",
   "metadata": {},
   "source": [
    "O p-value é muito pequeno e implica na diferença significante entre os dois valores.\n",
    "\n",
    "\n",
    "Mas e se fizermos o ttest com dois samples? Lembrando de ir na documentação para entender as condições para usar a função:\n"
   ]
  },
  {
   "cell_type": "code",
   "execution_count": 62,
   "id": "322b9b21",
   "metadata": {},
   "outputs": [
    {
     "data": {
      "text/plain": [
       "Ttest_indResult(statistic=5.894327101501841, pvalue=3.774003138720876e-09)"
      ]
     },
     "execution_count": 62,
     "metadata": {},
     "output_type": "execute_result"
    }
   ],
   "source": [
    "from scipy.stats import ttest_ind\n",
    "\n",
    "ttest_ind(notas1.rating, notas.rating)"
   ]
  },
  {
   "cell_type": "markdown",
   "id": "04243b97",
   "metadata": {},
   "source": [
    "Note que o p-value é muito parecido com o ztest. Mas pelo ttest não conseguimos ter o intervalo de confiança, temos que obter através do statsmodels."
   ]
  },
  {
   "cell_type": "code",
   "execution_count": 63,
   "id": "c0f58fdc",
   "metadata": {},
   "outputs": [
    {
     "data": {
      "text/html": [
       "<table class=\"simpletable\">\n",
       "<caption>Test for equality of means</caption>\n",
       "<tr>\n",
       "      <td></td>         <th>coef</th>     <th>std err</th>      <th>t</th>      <th>P>|t|</th>  <th>[0.025</th>    <th>0.975]</th>  \n",
       "</tr>\n",
       "<tr>\n",
       "  <th>subset #1</th> <td>   -0.4194</td> <td>    0.071</td> <td>   -5.894</td> <td> 0.000</td> <td>   -0.559</td> <td>   -0.280</td>\n",
       "</tr>\n",
       "</table>"
      ],
      "text/plain": [
       "<class 'statsmodels.iolib.table.SimpleTable'>"
      ]
     },
     "execution_count": 63,
     "metadata": {},
     "output_type": "execute_result"
    }
   ],
   "source": [
    "descr_todas_as_notas =  DescrStatsW(notas.rating)\n",
    "descr_toystory = DescrStatsW(notas1.rating)\n",
    "comparacao = descr_todas_as_notas.get_compare(descr_toystory)\n",
    "comparacao.summary()"
   ]
  },
  {
   "cell_type": "markdown",
   "id": "01741e2f",
   "metadata": {},
   "source": [
    "O p-value é muito pequeno logo mostra que a diferença é muito grande.\n",
    "O intervalo de confiança é parecido com os valores da diferença que fizemos quando utilizamos o zconfint das duas amostras. \n",
    "\n",
    "Essa forma do statsmodels também funciona quando utilizando o ttest. Basta adicionar um parâmetro:\n",
    "\n",
    "Obs: Por padrão  use_t é True. Use_t falso retorna z test."
   ]
  },
  {
   "cell_type": "code",
   "execution_count": 64,
   "id": "db976f5a",
   "metadata": {},
   "outputs": [
    {
     "data": {
      "text/html": [
       "<table class=\"simpletable\">\n",
       "<caption>Test for equality of means</caption>\n",
       "<tr>\n",
       "      <td></td>         <th>coef</th>     <th>std err</th>      <th>t</th>      <th>P>|t|</th>  <th>[0.025</th>    <th>0.975]</th>  \n",
       "</tr>\n",
       "<tr>\n",
       "  <th>subset #1</th> <td>   -0.4194</td> <td>    0.071</td> <td>   -5.894</td> <td> 0.000</td> <td>   -0.559</td> <td>   -0.280</td>\n",
       "</tr>\n",
       "</table>"
      ],
      "text/plain": [
       "<class 'statsmodels.iolib.table.SimpleTable'>"
      ]
     },
     "execution_count": 64,
     "metadata": {},
     "output_type": "execute_result"
    }
   ],
   "source": [
    "comparacao.summary(use_t=True)"
   ]
  },
  {
   "cell_type": "markdown",
   "id": "73cdb15b",
   "metadata": {},
   "source": [
    "É importante visualizar as duas notas para ter uma noção."
   ]
  },
  {
   "cell_type": "code",
   "execution_count": 65,
   "id": "f652a4e7",
   "metadata": {},
   "outputs": [
    {
     "data": {
      "text/plain": [
       "{'whiskers': [<matplotlib.lines.Line2D at 0x7f594319ba30>,\n",
       "  <matplotlib.lines.Line2D at 0x7f594319bd00>,\n",
       "  <matplotlib.lines.Line2D at 0x7f59431a8e20>,\n",
       "  <matplotlib.lines.Line2D at 0x7f59431b7130>],\n",
       " 'caps': [<matplotlib.lines.Line2D at 0x7f594319bfd0>,\n",
       "  <matplotlib.lines.Line2D at 0x7f59431a82e0>,\n",
       "  <matplotlib.lines.Line2D at 0x7f59431b7400>,\n",
       "  <matplotlib.lines.Line2D at 0x7f59431b76d0>],\n",
       " 'boxes': [<matplotlib.lines.Line2D at 0x7f594319b760>,\n",
       "  <matplotlib.lines.Line2D at 0x7f59431a8b50>],\n",
       " 'medians': [<matplotlib.lines.Line2D at 0x7f59431a85b0>,\n",
       "  <matplotlib.lines.Line2D at 0x7f59431b79a0>],\n",
       " 'fliers': [<matplotlib.lines.Line2D at 0x7f59431a8880>,\n",
       "  <matplotlib.lines.Line2D at 0x7f59431b7c70>],\n",
       " 'means': []}"
      ]
     },
     "execution_count": 65,
     "metadata": {},
     "output_type": "execute_result"
    },
    {
     "data": {
      "image/png": "[encoded data removed]",
      "text/plain": [
       "<Figure size 432x288 with 1 Axes>"
      ]
     },
     "metadata": {},
     "output_type": "display_data"
    }
   ],
   "source": [
    "plt.boxplot([notas.rating, notas1.rating], labels=[\"Todas as notas\", \"Toy Story\"])\n",
    "#plt.title(\"Distribuição das notas de acordo com filmes\")"
   ]
  },
  {
   "cell_type": "markdown",
   "id": "2a771bfa",
   "metadata": {},
   "source": [
    "Tomar cuidado com a quantidade de dados! Com pequenas quantidades, é mais fácil achar uma situação no qual possamos manter a hiótese nula, sendo que temos muitos poucos dados para avaliar.\n",
    "\n",
    "Espere ter uma quantidade de dados considerável. Analise visualmente e através de dados estatísticos, aí pode se checar a conclusões com mais confiança e valores de p-value com mais sentido."
   ]
  },
  {
   "cell_type": "markdown",
   "id": "b7dd19fb",
   "metadata": {},
   "source": [
    "# Aula 6: \n",
    "\n",
    "## Não paramétricos"
   ]
  },
  {
   "cell_type": "markdown",
   "id": "ee9bf104",
   "metadata": {},
   "source": [
    "Comparar a média de dois filmes analisando as médias deles."
   ]
  },
  {
   "cell_type": "code",
   "execution_count": 66,
   "id": "1ac2f9f4",
   "metadata": {},
   "outputs": [
    {
     "data": {
      "text/html": [
       "<div>\n",
       "<style scoped>\n",
       "    .dataframe tbody tr th:only-of-type {\n",
       "        vertical-align: middle;\n",
       "    }\n",
       "\n",
       "    .dataframe tbody tr th {\n",
       "        vertical-align: top;\n",
       "    }\n",
       "\n",
       "    .dataframe thead th {\n",
       "        text-align: right;\n",
       "    }\n",
       "</style>\n",
       "<table border=\"1\" class=\"dataframe\">\n",
       "  <thead>\n",
       "    <tr style=\"text-align: right;\">\n",
       "      <th></th>\n",
       "      <th>movieId</th>\n",
       "      <th>title</th>\n",
       "      <th>genres</th>\n",
       "    </tr>\n",
       "  </thead>\n",
       "  <tbody>\n",
       "    <tr>\n",
       "      <th>0</th>\n",
       "      <td>1</td>\n",
       "      <td>Toy Story (1995)</td>\n",
       "      <td>Adventure|Animation|Children|Comedy|Fantasy</td>\n",
       "    </tr>\n",
       "    <tr>\n",
       "      <th>510</th>\n",
       "      <td>593</td>\n",
       "      <td>Silence of the Lambs, The (1991)</td>\n",
       "      <td>Crime|Horror|Thriller</td>\n",
       "    </tr>\n",
       "    <tr>\n",
       "      <th>7180</th>\n",
       "      <td>72226</td>\n",
       "      <td>Fantastic Mr. Fox (2009)</td>\n",
       "      <td>Adventure|Animation|Children|Comedy|Crime</td>\n",
       "    </tr>\n",
       "  </tbody>\n",
       "</table>\n",
       "</div>"
      ],
      "text/plain": [
       "      movieId                             title  \\\n",
       "0           1                  Toy Story (1995)   \n",
       "510       593  Silence of the Lambs, The (1991)   \n",
       "7180    72226          Fantastic Mr. Fox (2009)   \n",
       "\n",
       "                                           genres  \n",
       "0     Adventure|Animation|Children|Comedy|Fantasy  \n",
       "510                         Crime|Horror|Thriller  \n",
       "7180    Adventure|Animation|Children|Comedy|Crime  "
      ]
     },
     "execution_count": 66,
     "metadata": {},
     "output_type": "execute_result"
    }
   ],
   "source": [
    "filmes.query(\"movieId == [1, 593, 72226]\")"
   ]
  },
  {
   "cell_type": "code",
   "execution_count": 67,
   "id": "d326d8cd",
   "metadata": {},
   "outputs": [
    {
     "data": {
      "text/plain": [
       "Text(0.5, 1.0, 'Distribuição das notas de acordo com filmes')"
      ]
     },
     "execution_count": 67,
     "metadata": {},
     "output_type": "execute_result"
    },
    {
     "data": {
      "image/png": "[encoded data removed]",
      "text/plain": [
       "<Figure size 432x288 with 1 Axes>"
      ]
     },
     "metadata": {},
     "output_type": "display_data"
    }
   ],
   "source": [
    "#Analise visual dos 3 filmes\n",
    "\n",
    "notas1 = notas.query(\"movieId == 1\")\n",
    "notas593 = notas.query(\"movieId == 593\")\n",
    "notas72226 = notas.query(\"movieId == 72226\")\n",
    "\n",
    "plt.boxplot([notas1.rating, notas593.rating, notas72226.rating],\n",
    "            labels=[\"Toy Story\", \"The Silence of the Lambs\", \"Fantastic Mr. Fox\"])\n",
    "plt.title(\"Distribuição das notas de acordo com filmes\")\n"
   ]
  },
  {
   "cell_type": "code",
   "execution_count": 68,
   "id": "21fad529",
   "metadata": {},
   "outputs": [
    {
     "data": {
      "text/html": [
       "<div>\n",
       "<style scoped>\n",
       "    .dataframe tbody tr th:only-of-type {\n",
       "        vertical-align: middle;\n",
       "    }\n",
       "\n",
       "    .dataframe tbody tr th {\n",
       "        vertical-align: top;\n",
       "    }\n",
       "\n",
       "    .dataframe thead th {\n",
       "        text-align: right;\n",
       "    }\n",
       "</style>\n",
       "<table border=\"1\" class=\"dataframe\">\n",
       "  <thead>\n",
       "    <tr style=\"text-align: right;\">\n",
       "      <th></th>\n",
       "      <th>userId</th>\n",
       "      <th>movieId</th>\n",
       "      <th>rating</th>\n",
       "      <th>timestamp</th>\n",
       "    </tr>\n",
       "  </thead>\n",
       "  <tbody>\n",
       "    <tr>\n",
       "      <th>count</th>\n",
       "      <td>18.000000</td>\n",
       "      <td>18.0</td>\n",
       "      <td>18.000000</td>\n",
       "      <td>1.800000e+01</td>\n",
       "    </tr>\n",
       "    <tr>\n",
       "      <th>mean</th>\n",
       "      <td>329.722222</td>\n",
       "      <td>72226.0</td>\n",
       "      <td>4.083333</td>\n",
       "      <td>1.395218e+09</td>\n",
       "    </tr>\n",
       "    <tr>\n",
       "      <th>std</th>\n",
       "      <td>174.748157</td>\n",
       "      <td>0.0</td>\n",
       "      <td>0.895249</td>\n",
       "      <td>9.459862e+07</td>\n",
       "    </tr>\n",
       "    <tr>\n",
       "      <th>min</th>\n",
       "      <td>73.000000</td>\n",
       "      <td>72226.0</td>\n",
       "      <td>1.500000</td>\n",
       "      <td>1.262899e+09</td>\n",
       "    </tr>\n",
       "    <tr>\n",
       "      <th>25%</th>\n",
       "      <td>167.000000</td>\n",
       "      <td>72226.0</td>\n",
       "      <td>4.000000</td>\n",
       "      <td>1.279706e+09</td>\n",
       "    </tr>\n",
       "    <tr>\n",
       "      <th>50%</th>\n",
       "      <td>326.000000</td>\n",
       "      <td>72226.0</td>\n",
       "      <td>4.250000</td>\n",
       "      <td>1.441777e+09</td>\n",
       "    </tr>\n",
       "    <tr>\n",
       "      <th>75%</th>\n",
       "      <td>466.250000</td>\n",
       "      <td>72226.0</td>\n",
       "      <td>4.500000</td>\n",
       "      <td>1.471770e+09</td>\n",
       "    </tr>\n",
       "    <tr>\n",
       "      <th>max</th>\n",
       "      <td>610.000000</td>\n",
       "      <td>72226.0</td>\n",
       "      <td>5.000000</td>\n",
       "      <td>1.498522e+09</td>\n",
       "    </tr>\n",
       "  </tbody>\n",
       "</table>\n",
       "</div>"
      ],
      "text/plain": [
       "           userId  movieId     rating     timestamp\n",
       "count   18.000000     18.0  18.000000  1.800000e+01\n",
       "mean   329.722222  72226.0   4.083333  1.395218e+09\n",
       "std    174.748157      0.0   0.895249  9.459862e+07\n",
       "min     73.000000  72226.0   1.500000  1.262899e+09\n",
       "25%    167.000000  72226.0   4.000000  1.279706e+09\n",
       "50%    326.000000  72226.0   4.250000  1.441777e+09\n",
       "75%    466.250000  72226.0   4.500000  1.471770e+09\n",
       "max    610.000000  72226.0   5.000000  1.498522e+09"
      ]
     },
     "execution_count": 68,
     "metadata": {},
     "output_type": "execute_result"
    }
   ],
   "source": [
    "#achando os valores específicos do terceiro filme:\n",
    "notas72226.describe()"
   ]
  },
  {
   "cell_type": "code",
   "execution_count": 69,
   "id": "e43986d8",
   "metadata": {},
   "outputs": [
    {
     "data": {
      "text/html": [
       "<div>\n",
       "<style scoped>\n",
       "    .dataframe tbody tr th:only-of-type {\n",
       "        vertical-align: middle;\n",
       "    }\n",
       "\n",
       "    .dataframe tbody tr th {\n",
       "        vertical-align: top;\n",
       "    }\n",
       "\n",
       "    .dataframe thead th {\n",
       "        text-align: right;\n",
       "    }\n",
       "</style>\n",
       "<table border=\"1\" class=\"dataframe\">\n",
       "  <thead>\n",
       "    <tr style=\"text-align: right;\">\n",
       "      <th></th>\n",
       "      <th>userId</th>\n",
       "      <th>movieId</th>\n",
       "      <th>rating</th>\n",
       "      <th>timestamp</th>\n",
       "    </tr>\n",
       "  </thead>\n",
       "  <tbody>\n",
       "    <tr>\n",
       "      <th>count</th>\n",
       "      <td>279.000000</td>\n",
       "      <td>279.0</td>\n",
       "      <td>279.000000</td>\n",
       "      <td>2.790000e+02</td>\n",
       "    </tr>\n",
       "    <tr>\n",
       "      <th>mean</th>\n",
       "      <td>306.577061</td>\n",
       "      <td>593.0</td>\n",
       "      <td>4.161290</td>\n",
       "      <td>1.147081e+09</td>\n",
       "    </tr>\n",
       "    <tr>\n",
       "      <th>std</th>\n",
       "      <td>179.731115</td>\n",
       "      <td>0.0</td>\n",
       "      <td>0.853983</td>\n",
       "      <td>2.444652e+08</td>\n",
       "    </tr>\n",
       "    <tr>\n",
       "      <th>min</th>\n",
       "      <td>1.000000</td>\n",
       "      <td>593.0</td>\n",
       "      <td>0.500000</td>\n",
       "      <td>8.319402e+08</td>\n",
       "    </tr>\n",
       "    <tr>\n",
       "      <th>25%</th>\n",
       "      <td>141.000000</td>\n",
       "      <td>593.0</td>\n",
       "      <td>4.000000</td>\n",
       "      <td>9.393810e+08</td>\n",
       "    </tr>\n",
       "    <tr>\n",
       "      <th>50%</th>\n",
       "      <td>313.000000</td>\n",
       "      <td>593.0</td>\n",
       "      <td>4.000000</td>\n",
       "      <td>1.123891e+09</td>\n",
       "    </tr>\n",
       "    <tr>\n",
       "      <th>75%</th>\n",
       "      <td>454.000000</td>\n",
       "      <td>593.0</td>\n",
       "      <td>5.000000</td>\n",
       "      <td>1.405808e+09</td>\n",
       "    </tr>\n",
       "    <tr>\n",
       "      <th>max</th>\n",
       "      <td>610.000000</td>\n",
       "      <td>593.0</td>\n",
       "      <td>5.000000</td>\n",
       "      <td>1.537158e+09</td>\n",
       "    </tr>\n",
       "  </tbody>\n",
       "</table>\n",
       "</div>"
      ],
      "text/plain": [
       "           userId  movieId      rating     timestamp\n",
       "count  279.000000    279.0  279.000000  2.790000e+02\n",
       "mean   306.577061    593.0    4.161290  1.147081e+09\n",
       "std    179.731115      0.0    0.853983  2.444652e+08\n",
       "min      1.000000    593.0    0.500000  8.319402e+08\n",
       "25%    141.000000    593.0    4.000000  9.393810e+08\n",
       "50%    313.000000    593.0    4.000000  1.123891e+09\n",
       "75%    454.000000    593.0    5.000000  1.405808e+09\n",
       "max    610.000000    593.0    5.000000  1.537158e+09"
      ]
     },
     "execution_count": 69,
     "metadata": {},
     "output_type": "execute_result"
    }
   ],
   "source": [
    "#Segundo filme me chamou atenção pelo quartil inferior.\n",
    "notas593.describe()"
   ]
  },
  {
   "cell_type": "markdown",
   "id": "c0228414",
   "metadata": {},
   "source": [
    "Fazendo o boxplot pelo seaborn:\n"
   ]
  },
  {
   "cell_type": "code",
   "execution_count": 72,
   "id": "67674e39",
   "metadata": {},
   "outputs": [
    {
     "data": {
      "text/plain": [
       "<AxesSubplot:xlabel='movieId', ylabel='rating'>"
      ]
     },
     "execution_count": 72,
     "metadata": {},
     "output_type": "execute_result"
    },
    {
     "data": {
      "image/png": "[encoded data removed]",
      "text/plain": [
       "<Figure size 432x288 with 1 Axes>"
      ]
     },
     "metadata": {},
     "output_type": "display_data"
    }
   ],
   "source": [
    "sns.boxplot(x = \"movieId\", y = \"rating\", data = notas.query(\"movieId == [1, 593, 72226]\"))"
   ]
  },
  {
   "cell_type": "code",
   "execution_count": 83,
   "id": "92d6fd17",
   "metadata": {},
   "outputs": [
    {
     "data": {
      "text/html": [
       "<table class=\"simpletable\">\n",
       "<caption>Test for equality of means</caption>\n",
       "<tr>\n",
       "      <td></td>         <th>coef</th>     <th>std err</th>      <th>z</th>      <th>P>|z|</th>  <th>[0.025</th>    <th>0.975]</th>  \n",
       "</tr>\n",
       "<tr>\n",
       "  <th>subset #1</th> <td>   -0.2404</td> <td>    0.077</td> <td>   -3.132</td> <td> 0.002</td> <td>   -0.391</td> <td>   -0.090</td>\n",
       "</tr>\n",
       "</table>"
      ],
      "text/plain": [
       "<class 'statsmodels.iolib.table.SimpleTable'>"
      ]
     },
     "execution_count": 83,
     "metadata": {},
     "output_type": "execute_result"
    }
   ],
   "source": [
    "descr_1 =  DescrStatsW(notas1.rating)\n",
    "descr_593 = DescrStatsW(notas593.rating)\n",
    "comparacao = descr_1.get_compare(descr_593)\n",
    "comparacao.summary(use_t = False)"
   ]
  },
  {
   "cell_type": "code",
   "execution_count": 80,
   "id": "5726383f",
   "metadata": {},
   "outputs": [
    {
     "data": {
      "text/html": [
       "<table class=\"simpletable\">\n",
       "<caption>Test for equality of means</caption>\n",
       "<tr>\n",
       "      <td></td>         <th>coef</th>     <th>std err</th>      <th>t</th>      <th>P>|t|</th>  <th>[0.025</th>    <th>0.975]</th>  \n",
       "</tr>\n",
       "<tr>\n",
       "  <th>subset #1</th> <td>   -0.0780</td> <td>    0.208</td> <td>   -0.374</td> <td> 0.708</td> <td>   -0.488</td> <td>    0.332</td>\n",
       "</tr>\n",
       "</table>"
      ],
      "text/plain": [
       "<class 'statsmodels.iolib.table.SimpleTable'>"
      ]
     },
     "execution_count": 80,
     "metadata": {},
     "output_type": "execute_result"
    }
   ],
   "source": [
    "descr_72226 =  DescrStatsW(notas72226.rating)\n",
    "descr_593 = DescrStatsW(notas593.rating)\n",
    "comparacao = descr_72226.get_compare(descr_593)\n",
    "comparacao.summary(use_t = True)"
   ]
  },
  {
   "cell_type": "code",
   "execution_count": 79,
   "id": "66ce3f60",
   "metadata": {},
   "outputs": [
    {
     "data": {
      "text/html": [
       "<table class=\"simpletable\">\n",
       "<caption>Test for equality of means</caption>\n",
       "<tr>\n",
       "      <td></td>         <th>coef</th>     <th>std err</th>      <th>t</th>      <th>P>|t|</th>  <th>[0.025</th>    <th>0.975]</th>  \n",
       "</tr>\n",
       "<tr>\n",
       "  <th>subset #1</th> <td>   -0.1624</td> <td>    0.206</td> <td>   -0.788</td> <td> 0.431</td> <td>   -0.568</td> <td>    0.243</td>\n",
       "</tr>\n",
       "</table>"
      ],
      "text/plain": [
       "<class 'statsmodels.iolib.table.SimpleTable'>"
      ]
     },
     "execution_count": 79,
     "metadata": {},
     "output_type": "execute_result"
    }
   ],
   "source": [
    "comparacao = descr_1.get_compare(descr_72226)\n",
    "comparacao.summary(use_t = True)"
   ]
  },
  {
   "cell_type": "markdown",
   "id": "dbb32e7c",
   "metadata": {},
   "source": [
    "Um detalhe importante: Quantidade de registros: votos.\n",
    "\n",
    "Temos que saber se temos uma amostragem de quantidade boa para ter seu valor definido."
   ]
  },
  {
   "cell_type": "code",
   "execution_count": 77,
   "id": "58aaaaea",
   "metadata": {},
   "outputs": [
    {
     "data": {
      "text/html": [
       "<div>\n",
       "<style scoped>\n",
       "    .dataframe tbody tr th:only-of-type {\n",
       "        vertical-align: middle;\n",
       "    }\n",
       "\n",
       "    .dataframe tbody tr th {\n",
       "        vertical-align: top;\n",
       "    }\n",
       "\n",
       "    .dataframe thead th {\n",
       "        text-align: right;\n",
       "    }\n",
       "</style>\n",
       "<table border=\"1\" class=\"dataframe\">\n",
       "  <thead>\n",
       "    <tr style=\"text-align: right;\">\n",
       "      <th></th>\n",
       "      <th>userId</th>\n",
       "      <th>rating</th>\n",
       "      <th>timestamp</th>\n",
       "    </tr>\n",
       "    <tr>\n",
       "      <th>movieId</th>\n",
       "      <th></th>\n",
       "      <th></th>\n",
       "      <th></th>\n",
       "    </tr>\n",
       "  </thead>\n",
       "  <tbody>\n",
       "    <tr>\n",
       "      <th>1</th>\n",
       "      <td>215</td>\n",
       "      <td>215</td>\n",
       "      <td>215</td>\n",
       "    </tr>\n",
       "    <tr>\n",
       "      <th>593</th>\n",
       "      <td>279</td>\n",
       "      <td>279</td>\n",
       "      <td>279</td>\n",
       "    </tr>\n",
       "    <tr>\n",
       "      <th>72226</th>\n",
       "      <td>18</td>\n",
       "      <td>18</td>\n",
       "      <td>18</td>\n",
       "    </tr>\n",
       "  </tbody>\n",
       "</table>\n",
       "</div>"
      ],
      "text/plain": [
       "         userId  rating  timestamp\n",
       "movieId                           \n",
       "1           215     215        215\n",
       "593         279     279        279\n",
       "72226        18      18         18"
      ]
     },
     "execution_count": 77,
     "metadata": {},
     "output_type": "execute_result"
    }
   ],
   "source": [
    "notas.query(\"movieId in (1,593,72226)\").groupby(\"movieId\").count()"
   ]
  },
  {
   "cell_type": "markdown",
   "id": "1bcb6723",
   "metadata": {},
   "source": [
    "Note que os dois primeiros filmes tem uma quantidade de votos, boa. Contudo o terceiro filme não tem. Então para fazer os cálculos do terceiro filme, teria que trabalhar com o ttest.\n",
    "\n",
    "Então para trabalhar com isso primeiro precisa verificar com o que a gente pode trabalhar!\n",
    "\n",
    "Primeiro olhar se podemos rodar o ztest, e depois aí sim, usamos o ztest.\n"
   ]
  },
  {
   "cell_type": "code",
   "execution_count": 85,
   "id": "32b8ebcc",
   "metadata": {},
   "outputs": [
    {
     "data": {
      "text/plain": [
       "0.00011053430732728716"
      ]
     },
     "execution_count": 85,
     "metadata": {},
     "output_type": "execute_result"
    }
   ],
   "source": [
    "from scipy.stats import normaltest\n",
    "_, p = normaltest(notas1.rating)\n",
    "p"
   ]
  },
  {
   "cell_type": "markdown",
   "id": "83cb2e9f",
   "metadata": {},
   "source": [
    "Como é menor que 0.05 não é normal.\n",
    "\n",
    "Como não é uma distribuição normal, não podemos utilizar o ztest e o ttest. Devemos utilizar testes não paramétricos.\n",
    "\n",
    "Faremos o teste ranksums"
   ]
  },
  {
   "cell_type": "code",
   "execution_count": 87,
   "id": "1fbebe09",
   "metadata": {},
   "outputs": [
    {
     "data": {
      "text/plain": [
       "0.0003267718756440693"
      ]
     },
     "execution_count": 87,
     "metadata": {},
     "output_type": "execute_result"
    }
   ],
   "source": [
    "from scipy.stats import ranksums\n",
    "\n",
    "_, p = ranksums(notas1.rating, notas593.rating)\n",
    "p"
   ]
  },
  {
   "cell_type": "markdown",
   "id": "143e939e",
   "metadata": {},
   "source": [
    "A primeira alternativa, se o valor for maior que 0,05 implica em dizer que as amostras vem da mesma distribuição, caso contrário é que uma amostra tem valores maior que o outro. Para o nosso caso teremos a alternativa secundária."
   ]
  },
  {
   "cell_type": "markdown",
   "id": "12d28745",
   "metadata": {},
   "source": []
  }
 ],
 "metadata": {
  "kernelspec": {
   "display_name": "Python 3 (ipykernel)",
   "language": "python",
   "name": "python3"
  },
  "language_info": {
   "codemirror_mode": {
    "name": "ipython",
    "version": 3
   },
   "file_extension": ".py",
   "mimetype": "text/x-python",
   "name": "python",
   "nbconvert_exporter": "python",
   "pygments_lexer": "ipython3",
   "version": "3.8.10"
  }
 },
 "nbformat": 4,
 "nbformat_minor": 5
}
