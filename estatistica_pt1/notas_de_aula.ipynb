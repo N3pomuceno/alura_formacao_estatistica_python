{
 "cells": [
  {
   "cell_type": "markdown",
   "id": "b55da3ce",
   "metadata": {},
   "source": [
    "# Testes: Aula 1\n",
    "\n",
    "Testando puxar arquivos e brincar em cima do que aprendeu até agora."
   ]
  },
  {
   "cell_type": "code",
   "execution_count": 1,
   "id": "0c93412e",
   "metadata": {},
   "outputs": [],
   "source": [
    "import pandas as pd\n",
    "import numpy as np # Será necessario lá na frente!\n",
    "import seaborn as sns # Será necessario lá na frente!\n",
    "dados = pd.read_csv(\"base/dados.csv\")"
   ]
  },
  {
   "cell_type": "code",
   "execution_count": 2,
   "id": "e2771f61",
   "metadata": {},
   "outputs": [
    {
     "data": {
      "text/html": [
       "<div>\n",
       "<style scoped>\n",
       "    .dataframe tbody tr th:only-of-type {\n",
       "        vertical-align: middle;\n",
       "    }\n",
       "\n",
       "    .dataframe tbody tr th {\n",
       "        vertical-align: top;\n",
       "    }\n",
       "\n",
       "    .dataframe thead th {\n",
       "        text-align: right;\n",
       "    }\n",
       "</style>\n",
       "<table border=\"1\" class=\"dataframe\">\n",
       "  <thead>\n",
       "    <tr style=\"text-align: right;\">\n",
       "      <th></th>\n",
       "      <th>UF</th>\n",
       "      <th>Sexo</th>\n",
       "      <th>Idade</th>\n",
       "      <th>Cor</th>\n",
       "      <th>Anos de Estudo</th>\n",
       "      <th>Renda</th>\n",
       "      <th>Altura</th>\n",
       "    </tr>\n",
       "  </thead>\n",
       "  <tbody>\n",
       "    <tr>\n",
       "      <th>0</th>\n",
       "      <td>11</td>\n",
       "      <td>0</td>\n",
       "      <td>23</td>\n",
       "      <td>8</td>\n",
       "      <td>12</td>\n",
       "      <td>800</td>\n",
       "      <td>1.603808</td>\n",
       "    </tr>\n",
       "    <tr>\n",
       "      <th>1</th>\n",
       "      <td>11</td>\n",
       "      <td>1</td>\n",
       "      <td>23</td>\n",
       "      <td>2</td>\n",
       "      <td>12</td>\n",
       "      <td>1150</td>\n",
       "      <td>1.739790</td>\n",
       "    </tr>\n",
       "    <tr>\n",
       "      <th>2</th>\n",
       "      <td>11</td>\n",
       "      <td>1</td>\n",
       "      <td>35</td>\n",
       "      <td>8</td>\n",
       "      <td>15</td>\n",
       "      <td>880</td>\n",
       "      <td>1.760444</td>\n",
       "    </tr>\n",
       "    <tr>\n",
       "      <th>3</th>\n",
       "      <td>11</td>\n",
       "      <td>0</td>\n",
       "      <td>46</td>\n",
       "      <td>2</td>\n",
       "      <td>6</td>\n",
       "      <td>3500</td>\n",
       "      <td>1.783158</td>\n",
       "    </tr>\n",
       "    <tr>\n",
       "      <th>4</th>\n",
       "      <td>11</td>\n",
       "      <td>1</td>\n",
       "      <td>47</td>\n",
       "      <td>8</td>\n",
       "      <td>9</td>\n",
       "      <td>150</td>\n",
       "      <td>1.690631</td>\n",
       "    </tr>\n",
       "  </tbody>\n",
       "</table>\n",
       "</div>"
      ],
      "text/plain": [
       "   UF  Sexo  Idade  Cor  Anos de Estudo  Renda    Altura\n",
       "0  11     0     23    8              12    800  1.603808\n",
       "1  11     1     23    2              12   1150  1.739790\n",
       "2  11     1     35    8              15    880  1.760444\n",
       "3  11     0     46    2               6   3500  1.783158\n",
       "4  11     1     47    8               9    150  1.690631"
      ]
     },
     "execution_count": 2,
     "metadata": {},
     "output_type": "execute_result"
    }
   ],
   "source": [
    "dados.head()"
   ]
  },
  {
   "cell_type": "markdown",
   "id": "c91544ea",
   "metadata": {},
   "source": [
    "## Trabalhando com o sexo"
   ]
  },
  {
   "cell_type": "code",
   "execution_count": 3,
   "id": "29364f51",
   "metadata": {},
   "outputs": [
    {
     "data": {
      "text/plain": [
       "0        0\n",
       "1        1\n",
       "2        1\n",
       "3        0\n",
       "4        1\n",
       "        ..\n",
       "76835    1\n",
       "76836    0\n",
       "76837    0\n",
       "76838    0\n",
       "76839    0\n",
       "Name: Sexo, Length: 76840, dtype: int64"
      ]
     },
     "execution_count": 3,
     "metadata": {},
     "output_type": "execute_result"
    }
   ],
   "source": [
    "dados[\"Sexo\"]"
   ]
  },
  {
   "cell_type": "code",
   "execution_count": 4,
   "id": "947e5519",
   "metadata": {},
   "outputs": [
    {
     "data": {
      "text/plain": [
       "[0, 1]"
      ]
     },
     "execution_count": 4,
     "metadata": {},
     "output_type": "execute_result"
    }
   ],
   "source": [
    "sorted(dados.Sexo.unique())"
   ]
  },
  {
   "cell_type": "markdown",
   "id": "7089f443",
   "metadata": {},
   "source": [
    "# Aula2\n",
    "## Método 1: DataFrame"
   ]
  },
  {
   "cell_type": "code",
   "execution_count": 5,
   "id": "656e74ed",
   "metadata": {},
   "outputs": [
    {
     "data": {
      "text/plain": [
       "0    53250\n",
       "1    23590\n",
       "Name: Sexo, dtype: int64"
      ]
     },
     "execution_count": 5,
     "metadata": {},
     "output_type": "execute_result"
    }
   ],
   "source": [
    "# Value_counts() passa pelo csv e mostra quantos tem para cada um dos valores da coluna escolhida.\n",
    "dados.Sexo.value_counts()"
   ]
  },
  {
   "cell_type": "code",
   "execution_count": 6,
   "id": "e9688b5d",
   "metadata": {},
   "outputs": [
    {
     "data": {
      "text/plain": [
       "0    0.692998\n",
       "1    0.307002\n",
       "Name: Sexo, dtype: float64"
      ]
     },
     "execution_count": 6,
     "metadata": {},
     "output_type": "execute_result"
    }
   ],
   "source": [
    "dados['Sexo'].value_counts(normalize = True) "
   ]
  },
  {
   "cell_type": "code",
   "execution_count": 7,
   "id": "10f164ff",
   "metadata": {},
   "outputs": [
    {
     "data": {
      "text/plain": [
       "0    69.299844\n",
       "1    30.700156\n",
       "Name: Sexo, dtype: float64"
      ]
     },
     "execution_count": 7,
     "metadata": {},
     "output_type": "execute_result"
    }
   ],
   "source": [
    "dados['Sexo'].value_counts(normalize = True) * 100\n"
   ]
  },
  {
   "cell_type": "code",
   "execution_count": 8,
   "id": "bb25fd3f",
   "metadata": {},
   "outputs": [],
   "source": [
    "# Definindo em variáveis os valores que foram contados e suas porcentagens.\n",
    "frequencia = dados[\"Sexo\"].value_counts()\n",
    "percentual = dados[\"Sexo\"].value_counts(normalize = True) * 100"
   ]
  },
  {
   "cell_type": "code",
   "execution_count": 9,
   "id": "d72e84c0",
   "metadata": {},
   "outputs": [
    {
     "data": {
      "text/html": [
       "<div>\n",
       "<style scoped>\n",
       "    .dataframe tbody tr th:only-of-type {\n",
       "        vertical-align: middle;\n",
       "    }\n",
       "\n",
       "    .dataframe tbody tr th {\n",
       "        vertical-align: top;\n",
       "    }\n",
       "\n",
       "    .dataframe thead th {\n",
       "        text-align: right;\n",
       "    }\n",
       "</style>\n",
       "<table border=\"1\" class=\"dataframe\">\n",
       "  <thead>\n",
       "    <tr style=\"text-align: right;\">\n",
       "      <th></th>\n",
       "      <th>Frequência</th>\n",
       "      <th>Percentual</th>\n",
       "    </tr>\n",
       "  </thead>\n",
       "  <tbody>\n",
       "    <tr>\n",
       "      <th>0</th>\n",
       "      <td>53250</td>\n",
       "      <td>69.299844</td>\n",
       "    </tr>\n",
       "    <tr>\n",
       "      <th>1</th>\n",
       "      <td>23590</td>\n",
       "      <td>30.700156</td>\n",
       "    </tr>\n",
       "  </tbody>\n",
       "</table>\n",
       "</div>"
      ],
      "text/plain": [
       "   Frequência  Percentual\n",
       "0       53250   69.299844\n",
       "1       23590   30.700156"
      ]
     },
     "execution_count": 9,
     "metadata": {},
     "output_type": "execute_result"
    }
   ],
   "source": [
    "# Criando o data frame que juntará as informações com pd.DataFrame\n",
    "dist_freq_qualitativa = pd.DataFrame({\"Frequência\": frequencia, \"Percentual\": percentual})\n",
    "dist_freq_qualitativa"
   ]
  },
  {
   "cell_type": "code",
   "execution_count": 10,
   "id": "404b6f2c",
   "metadata": {},
   "outputs": [
    {
     "data": {
      "text/html": [
       "<div>\n",
       "<style scoped>\n",
       "    .dataframe tbody tr th:only-of-type {\n",
       "        vertical-align: middle;\n",
       "    }\n",
       "\n",
       "    .dataframe tbody tr th {\n",
       "        vertical-align: top;\n",
       "    }\n",
       "\n",
       "    .dataframe thead th {\n",
       "        text-align: right;\n",
       "    }\n",
       "</style>\n",
       "<table border=\"1\" class=\"dataframe\">\n",
       "  <thead>\n",
       "    <tr style=\"text-align: right;\">\n",
       "      <th></th>\n",
       "      <th>Frequência</th>\n",
       "      <th>Percentual</th>\n",
       "    </tr>\n",
       "  </thead>\n",
       "  <tbody>\n",
       "    <tr>\n",
       "      <th>Masculino</th>\n",
       "      <td>53250</td>\n",
       "      <td>69.299844</td>\n",
       "    </tr>\n",
       "    <tr>\n",
       "      <th>Feminino</th>\n",
       "      <td>23590</td>\n",
       "      <td>30.700156</td>\n",
       "    </tr>\n",
       "  </tbody>\n",
       "</table>\n",
       "</div>"
      ],
      "text/plain": [
       "           Frequência  Percentual\n",
       "Masculino       53250   69.299844\n",
       "Feminino        23590   30.700156"
      ]
     },
     "execution_count": 10,
     "metadata": {},
     "output_type": "execute_result"
    }
   ],
   "source": [
    "# Alteração de nome:\n",
    "# Notas:\n",
    "# Index define quais índices serão trocados, aqueles que ficam na coluna.\n",
    "# Caso não coloque inplace = True, não será salvo a alteração do nome, e só aparecerá a alteração quando \n",
    "# executado a linha de código, com inplace alterará de fato.\n",
    "\n",
    "#De forma mais prática podemos definir o dicionário antes para não colocar tudo na linha de uma vez só.\n",
    "sexo = {0: \"Masculino\", 1: \"Feminino\"}\n",
    "\n",
    "dist_freq_qualitativa.rename(index = sexo, inplace = True) \n",
    "dist_freq_qualitativa"
   ]
  },
  {
   "cell_type": "code",
   "execution_count": 11,
   "id": "224f726b",
   "metadata": {},
   "outputs": [
    {
     "data": {
      "text/html": [
       "<div>\n",
       "<style scoped>\n",
       "    .dataframe tbody tr th:only-of-type {\n",
       "        vertical-align: middle;\n",
       "    }\n",
       "\n",
       "    .dataframe tbody tr th {\n",
       "        vertical-align: top;\n",
       "    }\n",
       "\n",
       "    .dataframe thead th {\n",
       "        text-align: right;\n",
       "    }\n",
       "</style>\n",
       "<table border=\"1\" class=\"dataframe\">\n",
       "  <thead>\n",
       "    <tr style=\"text-align: right;\">\n",
       "      <th></th>\n",
       "      <th>Frequência</th>\n",
       "      <th>Percentual</th>\n",
       "    </tr>\n",
       "    <tr>\n",
       "      <th>Sexo</th>\n",
       "      <th></th>\n",
       "      <th></th>\n",
       "    </tr>\n",
       "  </thead>\n",
       "  <tbody>\n",
       "    <tr>\n",
       "      <th>Masculino</th>\n",
       "      <td>53250</td>\n",
       "      <td>69.299844</td>\n",
       "    </tr>\n",
       "    <tr>\n",
       "      <th>Feminino</th>\n",
       "      <td>23590</td>\n",
       "      <td>30.700156</td>\n",
       "    </tr>\n",
       "  </tbody>\n",
       "</table>\n",
       "</div>"
      ],
      "text/plain": [
       "           Frequência  Percentual\n",
       "Sexo                             \n",
       "Masculino       53250   69.299844\n",
       "Feminino        23590   30.700156"
      ]
     },
     "execution_count": 11,
     "metadata": {},
     "output_type": "execute_result"
    }
   ],
   "source": [
    "# Dando um nome para a área vazia da tabela, com rename_axis.\n",
    "# Colocando de forma errada de forma proposital o eixo como de linha fica na seguinte forma.\n",
    "dist_freq_qualitativa.rename_axis(\"Sexo\", axis=\"rows\")"
   ]
  },
  {
   "cell_type": "code",
   "execution_count": 12,
   "id": "66c9957d",
   "metadata": {},
   "outputs": [
    {
     "data": {
      "text/html": [
       "<div>\n",
       "<style scoped>\n",
       "    .dataframe tbody tr th:only-of-type {\n",
       "        vertical-align: middle;\n",
       "    }\n",
       "\n",
       "    .dataframe tbody tr th {\n",
       "        vertical-align: top;\n",
       "    }\n",
       "\n",
       "    .dataframe thead th {\n",
       "        text-align: right;\n",
       "    }\n",
       "</style>\n",
       "<table border=\"1\" class=\"dataframe\">\n",
       "  <thead>\n",
       "    <tr style=\"text-align: right;\">\n",
       "      <th>Sexo</th>\n",
       "      <th>Frequência</th>\n",
       "      <th>Percentual</th>\n",
       "    </tr>\n",
       "  </thead>\n",
       "  <tbody>\n",
       "    <tr>\n",
       "      <th>Masculino</th>\n",
       "      <td>53250</td>\n",
       "      <td>69.299844</td>\n",
       "    </tr>\n",
       "    <tr>\n",
       "      <th>Feminino</th>\n",
       "      <td>23590</td>\n",
       "      <td>30.700156</td>\n",
       "    </tr>\n",
       "  </tbody>\n",
       "</table>\n",
       "</div>"
      ],
      "text/plain": [
       "Sexo       Frequência  Percentual\n",
       "Masculino       53250   69.299844\n",
       "Feminino        23590   30.700156"
      ]
     },
     "execution_count": 12,
     "metadata": {},
     "output_type": "execute_result"
    }
   ],
   "source": [
    "# Colocando agora como o eixo de colunas, e lembrando do inplace.\n",
    "dist_freq_qualitativa.rename_axis(\"Sexo\", axis=\"columns\", inplace = True)\n",
    "dist_freq_qualitativa"
   ]
  },
  {
   "cell_type": "markdown",
   "id": "af7cc39d",
   "metadata": {},
   "source": [
    "Isso é a base da aula, agora vamos trabalhar em cima das outras colunas que antes não tinhamos trabalhado."
   ]
  },
  {
   "cell_type": "code",
   "execution_count": 13,
   "id": "0fe5e4ab",
   "metadata": {},
   "outputs": [],
   "source": [
    "media = dados[\"Renda\"].mean()\n",
    "mediana = dados[\"Renda\"].median()"
   ]
  },
  {
   "cell_type": "code",
   "execution_count": 14,
   "id": "838a6fb7",
   "metadata": {},
   "outputs": [
    {
     "name": "stdout",
     "output_type": "stream",
     "text": [
      "2000.3831988547631\n",
      "1200.0\n"
     ]
    }
   ],
   "source": [
    "print(media)\n",
    "print(mediana)"
   ]
  },
  {
   "cell_type": "code",
   "execution_count": 15,
   "id": "a73903eb",
   "metadata": {},
   "outputs": [],
   "source": [
    "#não sei mais o que fazer com renda agora vou para cor.\n",
    "freq = dados[\"Cor\"].value_counts()\n",
    "perc = dados[\"Cor\"].value_counts(normalize = True) * 100\n",
    "cor = {8: \"Parda\", 6: \"Amarela\", 4: \"Preta\", 2: \"Branca\", 0:\"Indígena\", 9: \"Sem declaração\"}\n",
    "\n",
    "dist_freq_qualitativa_cor = pd.DataFrame({\"Frequência\": freq, \"Percentual (%)\": perc})\n",
    "dist_freq_qualitativa_cor.rename(cor , inplace = True)\n",
    "dist_freq_qualitativa_cor.rename_axis(\"Cor\", axis = \"columns\", inplace = True)"
   ]
  },
  {
   "cell_type": "code",
   "execution_count": 16,
   "id": "f88faf89",
   "metadata": {},
   "outputs": [
    {
     "data": {
      "text/html": [
       "<div>\n",
       "<style scoped>\n",
       "    .dataframe tbody tr th:only-of-type {\n",
       "        vertical-align: middle;\n",
       "    }\n",
       "\n",
       "    .dataframe tbody tr th {\n",
       "        vertical-align: top;\n",
       "    }\n",
       "\n",
       "    .dataframe thead th {\n",
       "        text-align: right;\n",
       "    }\n",
       "</style>\n",
       "<table border=\"1\" class=\"dataframe\">\n",
       "  <thead>\n",
       "    <tr style=\"text-align: right;\">\n",
       "      <th>Cor</th>\n",
       "      <th>Frequência</th>\n",
       "      <th>Percentual (%)</th>\n",
       "    </tr>\n",
       "  </thead>\n",
       "  <tbody>\n",
       "    <tr>\n",
       "      <th>Parda</th>\n",
       "      <td>35925</td>\n",
       "      <td>46.752993</td>\n",
       "    </tr>\n",
       "    <tr>\n",
       "      <th>Branca</th>\n",
       "      <td>31815</td>\n",
       "      <td>41.404217</td>\n",
       "    </tr>\n",
       "    <tr>\n",
       "      <th>Preta</th>\n",
       "      <td>8391</td>\n",
       "      <td>10.920094</td>\n",
       "    </tr>\n",
       "    <tr>\n",
       "      <th>Indígena</th>\n",
       "      <td>357</td>\n",
       "      <td>0.464602</td>\n",
       "    </tr>\n",
       "    <tr>\n",
       "      <th>Amarela</th>\n",
       "      <td>352</td>\n",
       "      <td>0.458095</td>\n",
       "    </tr>\n",
       "  </tbody>\n",
       "</table>\n",
       "</div>"
      ],
      "text/plain": [
       "Cor       Frequência  Percentual (%)\n",
       "Parda          35925       46.752993\n",
       "Branca         31815       41.404217\n",
       "Preta           8391       10.920094\n",
       "Indígena         357        0.464602\n",
       "Amarela          352        0.458095"
      ]
     },
     "execution_count": 16,
     "metadata": {},
     "output_type": "execute_result"
    }
   ],
   "source": [
    "dist_freq_qualitativa_cor"
   ]
  },
  {
   "cell_type": "markdown",
   "id": "de8fb14e",
   "metadata": {},
   "source": [
    "\n",
    "## Método 2: Crosstab\n",
    "Um outro método que a gente pode usar é o de crosstab, que associa os valores/qualidade de duas colunas, como exemplo:"
   ]
  },
  {
   "cell_type": "code",
   "execution_count": 17,
   "id": "c5c1f781",
   "metadata": {},
   "outputs": [
    {
     "data": {
      "text/html": [
       "<div>\n",
       "<style scoped>\n",
       "    .dataframe tbody tr th:only-of-type {\n",
       "        vertical-align: middle;\n",
       "    }\n",
       "\n",
       "    .dataframe tbody tr th {\n",
       "        vertical-align: top;\n",
       "    }\n",
       "\n",
       "    .dataframe thead th {\n",
       "        text-align: right;\n",
       "    }\n",
       "</style>\n",
       "<table border=\"1\" class=\"dataframe\">\n",
       "  <thead>\n",
       "    <tr style=\"text-align: right;\">\n",
       "      <th>Cor</th>\n",
       "      <th>0</th>\n",
       "      <th>2</th>\n",
       "      <th>4</th>\n",
       "      <th>6</th>\n",
       "      <th>8</th>\n",
       "    </tr>\n",
       "    <tr>\n",
       "      <th>Sexo</th>\n",
       "      <th></th>\n",
       "      <th></th>\n",
       "      <th></th>\n",
       "      <th></th>\n",
       "      <th></th>\n",
       "    </tr>\n",
       "  </thead>\n",
       "  <tbody>\n",
       "    <tr>\n",
       "      <th>0</th>\n",
       "      <td>256</td>\n",
       "      <td>22194</td>\n",
       "      <td>5502</td>\n",
       "      <td>235</td>\n",
       "      <td>25063</td>\n",
       "    </tr>\n",
       "    <tr>\n",
       "      <th>1</th>\n",
       "      <td>101</td>\n",
       "      <td>9621</td>\n",
       "      <td>2889</td>\n",
       "      <td>117</td>\n",
       "      <td>10862</td>\n",
       "    </tr>\n",
       "  </tbody>\n",
       "</table>\n",
       "</div>"
      ],
      "text/plain": [
       "Cor     0      2     4    6      8\n",
       "Sexo                              \n",
       "0     256  22194  5502  235  25063\n",
       "1     101   9621  2889  117  10862"
      ]
     },
     "execution_count": 17,
     "metadata": {},
     "output_type": "execute_result"
    }
   ],
   "source": [
    "tabela1 = pd.crosstab(dados.Sexo,\n",
    "                     dados.Cor)\n",
    "tabela1"
   ]
  },
  {
   "cell_type": "markdown",
   "id": "6dd13a68",
   "metadata": {},
   "source": [
    "Com Zeros e uns fica mais difícil de entender, mas como antes, podemos renomear:"
   ]
  },
  {
   "cell_type": "code",
   "execution_count": 18,
   "id": "e31677a4",
   "metadata": {
    "scrolled": false
   },
   "outputs": [
    {
     "data": {
      "text/html": [
       "<div>\n",
       "<style scoped>\n",
       "    .dataframe tbody tr th:only-of-type {\n",
       "        vertical-align: middle;\n",
       "    }\n",
       "\n",
       "    .dataframe tbody tr th {\n",
       "        vertical-align: top;\n",
       "    }\n",
       "\n",
       "    .dataframe thead th {\n",
       "        text-align: right;\n",
       "    }\n",
       "</style>\n",
       "<table border=\"1\" class=\"dataframe\">\n",
       "  <thead>\n",
       "    <tr style=\"text-align: right;\">\n",
       "      <th>Cor</th>\n",
       "      <th>Indígena</th>\n",
       "      <th>Branca</th>\n",
       "      <th>Preta</th>\n",
       "      <th>Amarela</th>\n",
       "      <th>Parda</th>\n",
       "    </tr>\n",
       "    <tr>\n",
       "      <th>Sexo</th>\n",
       "      <th></th>\n",
       "      <th></th>\n",
       "      <th></th>\n",
       "      <th></th>\n",
       "      <th></th>\n",
       "    </tr>\n",
       "  </thead>\n",
       "  <tbody>\n",
       "    <tr>\n",
       "      <th>Masculino</th>\n",
       "      <td>256</td>\n",
       "      <td>22194</td>\n",
       "      <td>5502</td>\n",
       "      <td>235</td>\n",
       "      <td>25063</td>\n",
       "    </tr>\n",
       "    <tr>\n",
       "      <th>Feminino</th>\n",
       "      <td>101</td>\n",
       "      <td>9621</td>\n",
       "      <td>2889</td>\n",
       "      <td>117</td>\n",
       "      <td>10862</td>\n",
       "    </tr>\n",
       "  </tbody>\n",
       "</table>\n",
       "</div>"
      ],
      "text/plain": [
       "Cor        Indígena  Branca  Preta  Amarela  Parda\n",
       "Sexo                                              \n",
       "Masculino       256   22194   5502      235  25063\n",
       "Feminino        101    9621   2889      117  10862"
      ]
     },
     "execution_count": 18,
     "metadata": {},
     "output_type": "execute_result"
    }
   ],
   "source": [
    "tabela1.rename(index = sexo, inplace = True)\n",
    "tabela1.rename(columns = cor, inplace = True)\n",
    "tabela1"
   ]
  },
  {
   "cell_type": "markdown",
   "id": "d95a2cf4",
   "metadata": {},
   "source": [
    "Então podemos ver até como se fosse uma filtragem, em que separamos o sexo masculino do feminino e vemos quantos são de cada cor, por exemplo: Homens indígenas foram 256 entrevistados, já brancos foram 22194!"
   ]
  },
  {
   "cell_type": "markdown",
   "id": "59fb5092",
   "metadata": {},
   "source": [
    "Podemos fazer a mesma coisa para qualquer outras relação entre colunas! Mas ainda continuando nessa ideia, Podemos reescrever da forma de percentual:"
   ]
  },
  {
   "cell_type": "code",
   "execution_count": 19,
   "id": "7d13fd83",
   "metadata": {},
   "outputs": [
    {
     "data": {
      "text/html": [
       "<div>\n",
       "<style scoped>\n",
       "    .dataframe tbody tr th:only-of-type {\n",
       "        vertical-align: middle;\n",
       "    }\n",
       "\n",
       "    .dataframe tbody tr th {\n",
       "        vertical-align: top;\n",
       "    }\n",
       "\n",
       "    .dataframe thead th {\n",
       "        text-align: right;\n",
       "    }\n",
       "</style>\n",
       "<table border=\"1\" class=\"dataframe\">\n",
       "  <thead>\n",
       "    <tr style=\"text-align: right;\">\n",
       "      <th>Cor</th>\n",
       "      <th>Indígena</th>\n",
       "      <th>Branca</th>\n",
       "      <th>Preta</th>\n",
       "      <th>Amarela</th>\n",
       "      <th>Parda</th>\n",
       "    </tr>\n",
       "    <tr>\n",
       "      <th>Sexo</th>\n",
       "      <th></th>\n",
       "      <th></th>\n",
       "      <th></th>\n",
       "      <th></th>\n",
       "      <th></th>\n",
       "    </tr>\n",
       "  </thead>\n",
       "  <tbody>\n",
       "    <tr>\n",
       "      <th>Masculino</th>\n",
       "      <td>0.333160</td>\n",
       "      <td>28.883394</td>\n",
       "      <td>7.160333</td>\n",
       "      <td>0.305830</td>\n",
       "      <td>32.617126</td>\n",
       "    </tr>\n",
       "    <tr>\n",
       "      <th>Feminino</th>\n",
       "      <td>0.131442</td>\n",
       "      <td>12.520822</td>\n",
       "      <td>3.759761</td>\n",
       "      <td>0.152264</td>\n",
       "      <td>14.135867</td>\n",
       "    </tr>\n",
       "  </tbody>\n",
       "</table>\n",
       "</div>"
      ],
      "text/plain": [
       "Cor        Indígena     Branca     Preta   Amarela      Parda\n",
       "Sexo                                                         \n",
       "Masculino  0.333160  28.883394  7.160333  0.305830  32.617126\n",
       "Feminino   0.131442  12.520822  3.759761  0.152264  14.135867"
      ]
     },
     "execution_count": 19,
     "metadata": {},
     "output_type": "execute_result"
    }
   ],
   "source": [
    "tabela2 = pd.crosstab(dados.Sexo,\n",
    "                     dados.Cor,\n",
    "                     normalize = True) * 100\n",
    "tabela2.rename(index = sexo, inplace = True)\n",
    "tabela2.rename(columns = cor, inplace = True)\n",
    "tabela2"
   ]
  },
  {
   "cell_type": "markdown",
   "id": "8ab2e2c0",
   "metadata": {},
   "source": [
    "Tudo visto pelo percentual!"
   ]
  },
  {
   "cell_type": "markdown",
   "id": "fc7081a6",
   "metadata": {},
   "source": [
    "Esse método permite que façamos agregações de acordo com uma determinada função usando outra variável dentro do cruzamento. Por eemplo chamaremos a função agregadora _mean_ e calcularemos a média da **renda** que será o parâmetros values:"
   ]
  },
  {
   "cell_type": "code",
   "execution_count": 20,
   "id": "a98669f2",
   "metadata": {},
   "outputs": [
    {
     "data": {
      "text/html": [
       "<div>\n",
       "<style scoped>\n",
       "    .dataframe tbody tr th:only-of-type {\n",
       "        vertical-align: middle;\n",
       "    }\n",
       "\n",
       "    .dataframe tbody tr th {\n",
       "        vertical-align: top;\n",
       "    }\n",
       "\n",
       "    .dataframe thead th {\n",
       "        text-align: right;\n",
       "    }\n",
       "</style>\n",
       "<table border=\"1\" class=\"dataframe\">\n",
       "  <thead>\n",
       "    <tr style=\"text-align: right;\">\n",
       "      <th>Cor</th>\n",
       "      <th>Indígena</th>\n",
       "      <th>Branca</th>\n",
       "      <th>Preta</th>\n",
       "      <th>Amarela</th>\n",
       "      <th>Parda</th>\n",
       "    </tr>\n",
       "    <tr>\n",
       "      <th>Sexo</th>\n",
       "      <th></th>\n",
       "      <th></th>\n",
       "      <th></th>\n",
       "      <th></th>\n",
       "      <th></th>\n",
       "    </tr>\n",
       "  </thead>\n",
       "  <tbody>\n",
       "    <tr>\n",
       "      <th>Masculino</th>\n",
       "      <td>1081.710938</td>\n",
       "      <td>2925.744435</td>\n",
       "      <td>1603.861687</td>\n",
       "      <td>4758.251064</td>\n",
       "      <td>1659.577425</td>\n",
       "    </tr>\n",
       "    <tr>\n",
       "      <th>Feminino</th>\n",
       "      <td>2464.386139</td>\n",
       "      <td>2109.866750</td>\n",
       "      <td>1134.596400</td>\n",
       "      <td>3027.341880</td>\n",
       "      <td>1176.758516</td>\n",
       "    </tr>\n",
       "  </tbody>\n",
       "</table>\n",
       "</div>"
      ],
      "text/plain": [
       "Cor           Indígena       Branca        Preta      Amarela        Parda\n",
       "Sexo                                                                      \n",
       "Masculino  1081.710938  2925.744435  1603.861687  4758.251064  1659.577425\n",
       "Feminino   2464.386139  2109.866750  1134.596400  3027.341880  1176.758516"
      ]
     },
     "execution_count": 20,
     "metadata": {},
     "output_type": "execute_result"
    }
   ],
   "source": [
    "tabela3 = pd.crosstab(dados.Sexo,\n",
    "                     dados.Cor,\n",
    "                     aggfunc = \"mean\",\n",
    "                     values = dados.Renda) \n",
    "tabela3.rename(index = sexo, inplace = True)\n",
    "tabela3.rename(columns = cor, inplace = True)\n",
    "tabela3"
   ]
  },
  {
   "cell_type": "markdown",
   "id": "ad759678",
   "metadata": {},
   "source": [
    "Então temos aqui a renda média das pessoas separando por sexo e por cor, uma pessoa do sexo masculino da cor preta tem a renda média de 1603 unidades monetárias da região. Já uma mulher parda ganha em média 1176 reais."
   ]
  },
  {
   "cell_type": "markdown",
   "id": "ab764a98",
   "metadata": {},
   "source": [
    "Outro exemplos que podemos usar isso, fazendo isso por estados e sexo:"
   ]
  },
  {
   "cell_type": "code",
   "execution_count": 21,
   "id": "59341512",
   "metadata": {
    "scrolled": true
   },
   "outputs": [
    {
     "data": {
      "text/html": [
       "<div>\n",
       "<style scoped>\n",
       "    .dataframe tbody tr th:only-of-type {\n",
       "        vertical-align: middle;\n",
       "    }\n",
       "\n",
       "    .dataframe tbody tr th {\n",
       "        vertical-align: top;\n",
       "    }\n",
       "\n",
       "    .dataframe thead th {\n",
       "        text-align: right;\n",
       "    }\n",
       "</style>\n",
       "<table border=\"1\" class=\"dataframe\">\n",
       "  <thead>\n",
       "    <tr style=\"text-align: right;\">\n",
       "      <th>Sexo</th>\n",
       "      <th>Masculino</th>\n",
       "      <th>Feminino</th>\n",
       "    </tr>\n",
       "    <tr>\n",
       "      <th>UF</th>\n",
       "      <th></th>\n",
       "      <th></th>\n",
       "    </tr>\n",
       "  </thead>\n",
       "  <tbody>\n",
       "    <tr>\n",
       "      <th>Rondônia</th>\n",
       "      <td>1138</td>\n",
       "      <td>399</td>\n",
       "    </tr>\n",
       "    <tr>\n",
       "      <th>Acre</th>\n",
       "      <td>698</td>\n",
       "      <td>239</td>\n",
       "    </tr>\n",
       "    <tr>\n",
       "      <th>Amazonas</th>\n",
       "      <td>1518</td>\n",
       "      <td>688</td>\n",
       "    </tr>\n",
       "    <tr>\n",
       "      <th>Roraima</th>\n",
       "      <td>354</td>\n",
       "      <td>186</td>\n",
       "    </tr>\n",
       "    <tr>\n",
       "      <th>Pará</th>\n",
       "      <td>3146</td>\n",
       "      <td>1303</td>\n",
       "    </tr>\n",
       "    <tr>\n",
       "      <th>Amapá</th>\n",
       "      <td>330</td>\n",
       "      <td>182</td>\n",
       "    </tr>\n",
       "    <tr>\n",
       "      <th>Tocatins</th>\n",
       "      <td>958</td>\n",
       "      <td>348</td>\n",
       "    </tr>\n",
       "    <tr>\n",
       "      <th>Maranhão</th>\n",
       "      <td>1197</td>\n",
       "      <td>590</td>\n",
       "    </tr>\n",
       "    <tr>\n",
       "      <th>Piauí</th>\n",
       "      <td>857</td>\n",
       "      <td>354</td>\n",
       "    </tr>\n",
       "    <tr>\n",
       "      <th>Ceará</th>\n",
       "      <td>2227</td>\n",
       "      <td>1132</td>\n",
       "    </tr>\n",
       "    <tr>\n",
       "      <th>Rio Grande do Norte</th>\n",
       "      <td>679</td>\n",
       "      <td>294</td>\n",
       "    </tr>\n",
       "    <tr>\n",
       "      <th>Paraíba</th>\n",
       "      <td>902</td>\n",
       "      <td>372</td>\n",
       "    </tr>\n",
       "    <tr>\n",
       "      <th>Pernambuco</th>\n",
       "      <td>2544</td>\n",
       "      <td>1276</td>\n",
       "    </tr>\n",
       "    <tr>\n",
       "      <th>Alagoas</th>\n",
       "      <td>675</td>\n",
       "      <td>228</td>\n",
       "    </tr>\n",
       "    <tr>\n",
       "      <th>Sergipe</th>\n",
       "      <td>909</td>\n",
       "      <td>378</td>\n",
       "    </tr>\n",
       "    <tr>\n",
       "      <th>Bahia</th>\n",
       "      <td>3806</td>\n",
       "      <td>1911</td>\n",
       "    </tr>\n",
       "    <tr>\n",
       "      <th>Minas Gerais</th>\n",
       "      <td>5490</td>\n",
       "      <td>2196</td>\n",
       "    </tr>\n",
       "    <tr>\n",
       "      <th>Espírito Santo</th>\n",
       "      <td>1098</td>\n",
       "      <td>413</td>\n",
       "    </tr>\n",
       "    <tr>\n",
       "      <th>Rio de Janeiro</th>\n",
       "      <td>3618</td>\n",
       "      <td>1938</td>\n",
       "    </tr>\n",
       "    <tr>\n",
       "      <th>São Paulo</th>\n",
       "      <td>5892</td>\n",
       "      <td>2652</td>\n",
       "    </tr>\n",
       "    <tr>\n",
       "      <th>Paraná</th>\n",
       "      <td>3129</td>\n",
       "      <td>1227</td>\n",
       "    </tr>\n",
       "    <tr>\n",
       "      <th>Santa Catarina</th>\n",
       "      <td>1723</td>\n",
       "      <td>552</td>\n",
       "    </tr>\n",
       "    <tr>\n",
       "      <th>Rio Grande do Sul</th>\n",
       "      <td>4246</td>\n",
       "      <td>2076</td>\n",
       "    </tr>\n",
       "    <tr>\n",
       "      <th>Mato Grosso do Sul</th>\n",
       "      <td>987</td>\n",
       "      <td>453</td>\n",
       "    </tr>\n",
       "    <tr>\n",
       "      <th>Mato Grosso</th>\n",
       "      <td>1296</td>\n",
       "      <td>504</td>\n",
       "    </tr>\n",
       "    <tr>\n",
       "      <th>Goiás</th>\n",
       "      <td>2580</td>\n",
       "      <td>898</td>\n",
       "    </tr>\n",
       "    <tr>\n",
       "      <th>Distrito Federal</th>\n",
       "      <td>1253</td>\n",
       "      <td>801</td>\n",
       "    </tr>\n",
       "  </tbody>\n",
       "</table>\n",
       "</div>"
      ],
      "text/plain": [
       "Sexo                 Masculino  Feminino\n",
       "UF                                      \n",
       "Rondônia                  1138       399\n",
       "Acre                       698       239\n",
       "Amazonas                  1518       688\n",
       "Roraima                    354       186\n",
       "Pará                      3146      1303\n",
       "Amapá                      330       182\n",
       "Tocatins                   958       348\n",
       "Maranhão                  1197       590\n",
       "Piauí                      857       354\n",
       "Ceará                     2227      1132\n",
       "Rio Grande do Norte        679       294\n",
       "Paraíba                    902       372\n",
       "Pernambuco                2544      1276\n",
       "Alagoas                    675       228\n",
       "Sergipe                    909       378\n",
       "Bahia                     3806      1911\n",
       "Minas Gerais              5490      2196\n",
       "Espírito Santo            1098       413\n",
       "Rio de Janeiro            3618      1938\n",
       "São Paulo                 5892      2652\n",
       "Paraná                    3129      1227\n",
       "Santa Catarina            1723       552\n",
       "Rio Grande do Sul         4246      2076\n",
       "Mato Grosso do Sul         987       453\n",
       "Mato Grosso               1296       504\n",
       "Goiás                     2580       898\n",
       "Distrito Federal          1253       801"
      ]
     },
     "execution_count": 21,
     "metadata": {},
     "output_type": "execute_result"
    }
   ],
   "source": [
    "estados = {11:\"Rondônia\", 12:\"Acre\", 13:\"Amazonas\", 14:\"Roraima\", 15:\"Pará\", 16:\"Amapá\", 17: \"Tocatins\", 21: \"Maranhão\", 22:\"Piauí\", 23:\"Ceará\", 24:\"Rio Grande do Norte\", 25:\"Paraíba\", 26:\"Pernambuco\", 27:\"Alagoas\", 28:\"Sergipe\", 29: \"Bahia\", 31:\"Minas Gerais\", 32:\"Espírito Santo\", 33:\"Rio de Janeiro\", 35:\"São Paulo\", 41:\"Paraná\", 42:\"Santa Catarina\", 43:\"Rio Grande do Sul\", 50:\"Mato Grosso do Sul\", 51:\"Mato Grosso\", 52:\"Goiás\", 53:\"Distrito Federal\"}\n",
    "tabela4 = pd.crosstab(dados.UF,\n",
    "                     dados.Sexo)\n",
    "\n",
    "tabela4.rename(index = estados, inplace = True)\n",
    "tabela4.rename(columns = sexo, inplace = True)\n",
    "tabela4\n"
   ]
  },
  {
   "cell_type": "markdown",
   "id": "50ae831e",
   "metadata": {},
   "source": [
    "Então aqui vemos uma separação da quantidade de homens e mulheres que foram entrevistados por estado."
   ]
  },
  {
   "cell_type": "markdown",
   "id": "8cc08cc6",
   "metadata": {},
   "source": [
    "Podemos trabalhar em cima dessa tabela padrão e achar alguns valores quantitativos sobre cada estado, ou a altura máxima ou mínima, ou altura média por estado ou fazer a mesma coisa por renda."
   ]
  },
  {
   "cell_type": "markdown",
   "id": "a34ae72d",
   "metadata": {},
   "source": [
    "### Exemplo 1: Altura máxima de cada estado separando homem e mulher."
   ]
  },
  {
   "cell_type": "code",
   "execution_count": 22,
   "id": "85d0ec44",
   "metadata": {
    "scrolled": true
   },
   "outputs": [
    {
     "data": {
      "text/html": [
       "<div>\n",
       "<style scoped>\n",
       "    .dataframe tbody tr th:only-of-type {\n",
       "        vertical-align: middle;\n",
       "    }\n",
       "\n",
       "    .dataframe tbody tr th {\n",
       "        vertical-align: top;\n",
       "    }\n",
       "\n",
       "    .dataframe thead th {\n",
       "        text-align: right;\n",
       "    }\n",
       "</style>\n",
       "<table border=\"1\" class=\"dataframe\">\n",
       "  <thead>\n",
       "    <tr style=\"text-align: right;\">\n",
       "      <th>Sexo</th>\n",
       "      <th>Masculino</th>\n",
       "      <th>Feminino</th>\n",
       "    </tr>\n",
       "    <tr>\n",
       "      <th>UF</th>\n",
       "      <th></th>\n",
       "      <th></th>\n",
       "    </tr>\n",
       "  </thead>\n",
       "  <tbody>\n",
       "    <tr>\n",
       "      <th>Rondônia</th>\n",
       "      <td>1.938220</td>\n",
       "      <td>1.929639</td>\n",
       "    </tr>\n",
       "    <tr>\n",
       "      <th>Acre</th>\n",
       "      <td>1.917092</td>\n",
       "      <td>1.936058</td>\n",
       "    </tr>\n",
       "    <tr>\n",
       "      <th>Amazonas</th>\n",
       "      <td>1.978624</td>\n",
       "      <td>1.975803</td>\n",
       "    </tr>\n",
       "    <tr>\n",
       "      <th>Roraima</th>\n",
       "      <td>1.946004</td>\n",
       "      <td>1.891388</td>\n",
       "    </tr>\n",
       "    <tr>\n",
       "      <th>Pará</th>\n",
       "      <td>1.962313</td>\n",
       "      <td>1.927602</td>\n",
       "    </tr>\n",
       "    <tr>\n",
       "      <th>Amapá</th>\n",
       "      <td>1.919866</td>\n",
       "      <td>1.918828</td>\n",
       "    </tr>\n",
       "    <tr>\n",
       "      <th>Tocatins</th>\n",
       "      <td>1.977517</td>\n",
       "      <td>1.959500</td>\n",
       "    </tr>\n",
       "    <tr>\n",
       "      <th>Maranhão</th>\n",
       "      <td>1.990397</td>\n",
       "      <td>1.970943</td>\n",
       "    </tr>\n",
       "    <tr>\n",
       "      <th>Piauí</th>\n",
       "      <td>1.953232</td>\n",
       "      <td>1.937772</td>\n",
       "    </tr>\n",
       "    <tr>\n",
       "      <th>Ceará</th>\n",
       "      <td>1.968152</td>\n",
       "      <td>1.957409</td>\n",
       "    </tr>\n",
       "    <tr>\n",
       "      <th>Rio Grande do Norte</th>\n",
       "      <td>1.908770</td>\n",
       "      <td>1.994329</td>\n",
       "    </tr>\n",
       "    <tr>\n",
       "      <th>Paraíba</th>\n",
       "      <td>1.947737</td>\n",
       "      <td>1.926353</td>\n",
       "    </tr>\n",
       "    <tr>\n",
       "      <th>Pernambuco</th>\n",
       "      <td>1.988233</td>\n",
       "      <td>2.001359</td>\n",
       "    </tr>\n",
       "    <tr>\n",
       "      <th>Alagoas</th>\n",
       "      <td>1.931330</td>\n",
       "      <td>1.920250</td>\n",
       "    </tr>\n",
       "    <tr>\n",
       "      <th>Sergipe</th>\n",
       "      <td>1.981573</td>\n",
       "      <td>1.908766</td>\n",
       "    </tr>\n",
       "    <tr>\n",
       "      <th>Bahia</th>\n",
       "      <td>2.015830</td>\n",
       "      <td>1.935748</td>\n",
       "    </tr>\n",
       "    <tr>\n",
       "      <th>Minas Gerais</th>\n",
       "      <td>1.992238</td>\n",
       "      <td>1.986338</td>\n",
       "    </tr>\n",
       "    <tr>\n",
       "      <th>Espírito Santo</th>\n",
       "      <td>1.952422</td>\n",
       "      <td>1.913422</td>\n",
       "    </tr>\n",
       "    <tr>\n",
       "      <th>Rio de Janeiro</th>\n",
       "      <td>1.987758</td>\n",
       "      <td>1.940799</td>\n",
       "    </tr>\n",
       "    <tr>\n",
       "      <th>São Paulo</th>\n",
       "      <td>2.000559</td>\n",
       "      <td>1.980167</td>\n",
       "    </tr>\n",
       "    <tr>\n",
       "      <th>Paraná</th>\n",
       "      <td>2.028497</td>\n",
       "      <td>2.004185</td>\n",
       "    </tr>\n",
       "    <tr>\n",
       "      <th>Santa Catarina</th>\n",
       "      <td>1.969130</td>\n",
       "      <td>1.983164</td>\n",
       "    </tr>\n",
       "    <tr>\n",
       "      <th>Rio Grande do Sul</th>\n",
       "      <td>1.987299</td>\n",
       "      <td>1.993742</td>\n",
       "    </tr>\n",
       "    <tr>\n",
       "      <th>Mato Grosso do Sul</th>\n",
       "      <td>1.965365</td>\n",
       "      <td>1.944560</td>\n",
       "    </tr>\n",
       "    <tr>\n",
       "      <th>Mato Grosso</th>\n",
       "      <td>1.973783</td>\n",
       "      <td>1.944892</td>\n",
       "    </tr>\n",
       "    <tr>\n",
       "      <th>Goiás</th>\n",
       "      <td>1.959253</td>\n",
       "      <td>1.937588</td>\n",
       "    </tr>\n",
       "    <tr>\n",
       "      <th>Distrito Federal</th>\n",
       "      <td>1.940594</td>\n",
       "      <td>1.906094</td>\n",
       "    </tr>\n",
       "  </tbody>\n",
       "</table>\n",
       "</div>"
      ],
      "text/plain": [
       "Sexo                 Masculino  Feminino\n",
       "UF                                      \n",
       "Rondônia              1.938220  1.929639\n",
       "Acre                  1.917092  1.936058\n",
       "Amazonas              1.978624  1.975803\n",
       "Roraima               1.946004  1.891388\n",
       "Pará                  1.962313  1.927602\n",
       "Amapá                 1.919866  1.918828\n",
       "Tocatins              1.977517  1.959500\n",
       "Maranhão              1.990397  1.970943\n",
       "Piauí                 1.953232  1.937772\n",
       "Ceará                 1.968152  1.957409\n",
       "Rio Grande do Norte   1.908770  1.994329\n",
       "Paraíba               1.947737  1.926353\n",
       "Pernambuco            1.988233  2.001359\n",
       "Alagoas               1.931330  1.920250\n",
       "Sergipe               1.981573  1.908766\n",
       "Bahia                 2.015830  1.935748\n",
       "Minas Gerais          1.992238  1.986338\n",
       "Espírito Santo        1.952422  1.913422\n",
       "Rio de Janeiro        1.987758  1.940799\n",
       "São Paulo             2.000559  1.980167\n",
       "Paraná                2.028497  2.004185\n",
       "Santa Catarina        1.969130  1.983164\n",
       "Rio Grande do Sul     1.987299  1.993742\n",
       "Mato Grosso do Sul    1.965365  1.944560\n",
       "Mato Grosso           1.973783  1.944892\n",
       "Goiás                 1.959253  1.937588\n",
       "Distrito Federal      1.940594  1.906094"
      ]
     },
     "execution_count": 22,
     "metadata": {},
     "output_type": "execute_result"
    }
   ],
   "source": [
    "tabela5 = pd.crosstab(dados.UF,\n",
    "                     dados.Sexo,\n",
    "                     aggfunc = \"max\",\n",
    "                     values = dados.Altura)\n",
    "\n",
    "tabela5.rename(index = estados, inplace = True)\n",
    "tabela5.rename(columns = sexo, inplace = True)\n",
    "tabela5"
   ]
  },
  {
   "cell_type": "markdown",
   "id": "755d0273",
   "metadata": {},
   "source": [
    "### Exemplo 2: Altura média de cada estado separando homem e mulher."
   ]
  },
  {
   "cell_type": "code",
   "execution_count": 23,
   "id": "ad45cfc4",
   "metadata": {
    "scrolled": true
   },
   "outputs": [
    {
     "data": {
      "text/html": [
       "<div>\n",
       "<style scoped>\n",
       "    .dataframe tbody tr th:only-of-type {\n",
       "        vertical-align: middle;\n",
       "    }\n",
       "\n",
       "    .dataframe tbody tr th {\n",
       "        vertical-align: top;\n",
       "    }\n",
       "\n",
       "    .dataframe thead th {\n",
       "        text-align: right;\n",
       "    }\n",
       "</style>\n",
       "<table border=\"1\" class=\"dataframe\">\n",
       "  <thead>\n",
       "    <tr style=\"text-align: right;\">\n",
       "      <th>Sexo</th>\n",
       "      <th>Masculino</th>\n",
       "      <th>Feminino</th>\n",
       "    </tr>\n",
       "    <tr>\n",
       "      <th>UF</th>\n",
       "      <th></th>\n",
       "      <th></th>\n",
       "    </tr>\n",
       "  </thead>\n",
       "  <tbody>\n",
       "    <tr>\n",
       "      <th>Rondônia</th>\n",
       "      <td>1.705325</td>\n",
       "      <td>1.700093</td>\n",
       "    </tr>\n",
       "    <tr>\n",
       "      <th>Acre</th>\n",
       "      <td>1.698938</td>\n",
       "      <td>1.699622</td>\n",
       "    </tr>\n",
       "    <tr>\n",
       "      <th>Amazonas</th>\n",
       "      <td>1.698107</td>\n",
       "      <td>1.702427</td>\n",
       "    </tr>\n",
       "    <tr>\n",
       "      <th>Roraima</th>\n",
       "      <td>1.700592</td>\n",
       "      <td>1.695041</td>\n",
       "    </tr>\n",
       "    <tr>\n",
       "      <th>Pará</th>\n",
       "      <td>1.697556</td>\n",
       "      <td>1.699746</td>\n",
       "    </tr>\n",
       "    <tr>\n",
       "      <th>Amapá</th>\n",
       "      <td>1.700231</td>\n",
       "      <td>1.693648</td>\n",
       "    </tr>\n",
       "    <tr>\n",
       "      <th>Tocatins</th>\n",
       "      <td>1.698679</td>\n",
       "      <td>1.703521</td>\n",
       "    </tr>\n",
       "    <tr>\n",
       "      <th>Maranhão</th>\n",
       "      <td>1.699123</td>\n",
       "      <td>1.700896</td>\n",
       "    </tr>\n",
       "    <tr>\n",
       "      <th>Piauí</th>\n",
       "      <td>1.700241</td>\n",
       "      <td>1.700062</td>\n",
       "    </tr>\n",
       "    <tr>\n",
       "      <th>Ceará</th>\n",
       "      <td>1.701045</td>\n",
       "      <td>1.698884</td>\n",
       "    </tr>\n",
       "    <tr>\n",
       "      <th>Rio Grande do Norte</th>\n",
       "      <td>1.699421</td>\n",
       "      <td>1.698476</td>\n",
       "    </tr>\n",
       "    <tr>\n",
       "      <th>Paraíba</th>\n",
       "      <td>1.700628</td>\n",
       "      <td>1.695962</td>\n",
       "    </tr>\n",
       "    <tr>\n",
       "      <th>Pernambuco</th>\n",
       "      <td>1.699186</td>\n",
       "      <td>1.696060</td>\n",
       "    </tr>\n",
       "    <tr>\n",
       "      <th>Alagoas</th>\n",
       "      <td>1.691824</td>\n",
       "      <td>1.700072</td>\n",
       "    </tr>\n",
       "    <tr>\n",
       "      <th>Sergipe</th>\n",
       "      <td>1.702261</td>\n",
       "      <td>1.702129</td>\n",
       "    </tr>\n",
       "    <tr>\n",
       "      <th>Bahia</th>\n",
       "      <td>1.699543</td>\n",
       "      <td>1.698762</td>\n",
       "    </tr>\n",
       "    <tr>\n",
       "      <th>Minas Gerais</th>\n",
       "      <td>1.699423</td>\n",
       "      <td>1.701403</td>\n",
       "    </tr>\n",
       "    <tr>\n",
       "      <th>Espírito Santo</th>\n",
       "      <td>1.701802</td>\n",
       "      <td>1.700742</td>\n",
       "    </tr>\n",
       "    <tr>\n",
       "      <th>Rio de Janeiro</th>\n",
       "      <td>1.699235</td>\n",
       "      <td>1.702476</td>\n",
       "    </tr>\n",
       "    <tr>\n",
       "      <th>São Paulo</th>\n",
       "      <td>1.698500</td>\n",
       "      <td>1.701147</td>\n",
       "    </tr>\n",
       "    <tr>\n",
       "      <th>Paraná</th>\n",
       "      <td>1.700331</td>\n",
       "      <td>1.697146</td>\n",
       "    </tr>\n",
       "    <tr>\n",
       "      <th>Santa Catarina</th>\n",
       "      <td>1.700106</td>\n",
       "      <td>1.695273</td>\n",
       "    </tr>\n",
       "    <tr>\n",
       "      <th>Rio Grande do Sul</th>\n",
       "      <td>1.697625</td>\n",
       "      <td>1.700929</td>\n",
       "    </tr>\n",
       "    <tr>\n",
       "      <th>Mato Grosso do Sul</th>\n",
       "      <td>1.702043</td>\n",
       "      <td>1.696132</td>\n",
       "    </tr>\n",
       "    <tr>\n",
       "      <th>Mato Grosso</th>\n",
       "      <td>1.698088</td>\n",
       "      <td>1.698984</td>\n",
       "    </tr>\n",
       "    <tr>\n",
       "      <th>Goiás</th>\n",
       "      <td>1.700545</td>\n",
       "      <td>1.696974</td>\n",
       "    </tr>\n",
       "    <tr>\n",
       "      <th>Distrito Federal</th>\n",
       "      <td>1.702303</td>\n",
       "      <td>1.698693</td>\n",
       "    </tr>\n",
       "  </tbody>\n",
       "</table>\n",
       "</div>"
      ],
      "text/plain": [
       "Sexo                 Masculino  Feminino\n",
       "UF                                      \n",
       "Rondônia              1.705325  1.700093\n",
       "Acre                  1.698938  1.699622\n",
       "Amazonas              1.698107  1.702427\n",
       "Roraima               1.700592  1.695041\n",
       "Pará                  1.697556  1.699746\n",
       "Amapá                 1.700231  1.693648\n",
       "Tocatins              1.698679  1.703521\n",
       "Maranhão              1.699123  1.700896\n",
       "Piauí                 1.700241  1.700062\n",
       "Ceará                 1.701045  1.698884\n",
       "Rio Grande do Norte   1.699421  1.698476\n",
       "Paraíba               1.700628  1.695962\n",
       "Pernambuco            1.699186  1.696060\n",
       "Alagoas               1.691824  1.700072\n",
       "Sergipe               1.702261  1.702129\n",
       "Bahia                 1.699543  1.698762\n",
       "Minas Gerais          1.699423  1.701403\n",
       "Espírito Santo        1.701802  1.700742\n",
       "Rio de Janeiro        1.699235  1.702476\n",
       "São Paulo             1.698500  1.701147\n",
       "Paraná                1.700331  1.697146\n",
       "Santa Catarina        1.700106  1.695273\n",
       "Rio Grande do Sul     1.697625  1.700929\n",
       "Mato Grosso do Sul    1.702043  1.696132\n",
       "Mato Grosso           1.698088  1.698984\n",
       "Goiás                 1.700545  1.696974\n",
       "Distrito Federal      1.702303  1.698693"
      ]
     },
     "execution_count": 23,
     "metadata": {},
     "output_type": "execute_result"
    }
   ],
   "source": [
    "tabela6 = pd.crosstab(dados.UF,\n",
    "                     dados.Sexo,\n",
    "                     aggfunc = \"mean\",\n",
    "                     values = dados.Altura)\n",
    "\n",
    "tabela6.rename(index = estados, inplace = True)\n",
    "tabela6.rename(columns = sexo, inplace = True)\n",
    "tabela6"
   ]
  },
  {
   "cell_type": "markdown",
   "id": "806b001c",
   "metadata": {},
   "source": [
    "É engraçado que a média brasileira é 1.70 tanto para homens quanto para mulheres, variando entre 1,69m en alguns lugares e 1,70m em outros."
   ]
  },
  {
   "cell_type": "code",
   "execution_count": 24,
   "id": "e213156a",
   "metadata": {
    "scrolled": true
   },
   "outputs": [
    {
     "data": {
      "text/html": [
       "<div>\n",
       "<style scoped>\n",
       "    .dataframe tbody tr th:only-of-type {\n",
       "        vertical-align: middle;\n",
       "    }\n",
       "\n",
       "    .dataframe tbody tr th {\n",
       "        vertical-align: top;\n",
       "    }\n",
       "\n",
       "    .dataframe thead th {\n",
       "        text-align: right;\n",
       "    }\n",
       "</style>\n",
       "<table border=\"1\" class=\"dataframe\">\n",
       "  <thead>\n",
       "    <tr style=\"text-align: right;\">\n",
       "      <th>Sexo</th>\n",
       "      <th>Masculino</th>\n",
       "      <th>Feminino</th>\n",
       "    </tr>\n",
       "    <tr>\n",
       "      <th>UF</th>\n",
       "      <th></th>\n",
       "      <th></th>\n",
       "    </tr>\n",
       "  </thead>\n",
       "  <tbody>\n",
       "    <tr>\n",
       "      <th>Rondônia</th>\n",
       "      <td>1921.209139</td>\n",
       "      <td>1414.854637</td>\n",
       "    </tr>\n",
       "    <tr>\n",
       "      <th>Acre</th>\n",
       "      <td>1635.342407</td>\n",
       "      <td>1128.615063</td>\n",
       "    </tr>\n",
       "    <tr>\n",
       "      <th>Amazonas</th>\n",
       "      <td>1539.989460</td>\n",
       "      <td>1235.832849</td>\n",
       "    </tr>\n",
       "    <tr>\n",
       "      <th>Roraima</th>\n",
       "      <td>1875.788136</td>\n",
       "      <td>1608.112903</td>\n",
       "    </tr>\n",
       "    <tr>\n",
       "      <th>Pará</th>\n",
       "      <td>1509.741894</td>\n",
       "      <td>1131.884114</td>\n",
       "    </tr>\n",
       "    <tr>\n",
       "      <th>Amapá</th>\n",
       "      <td>1930.396970</td>\n",
       "      <td>1736.164835</td>\n",
       "    </tr>\n",
       "    <tr>\n",
       "      <th>Tocatins</th>\n",
       "      <td>1912.509395</td>\n",
       "      <td>1381.798851</td>\n",
       "    </tr>\n",
       "    <tr>\n",
       "      <th>Maranhão</th>\n",
       "      <td>1165.172097</td>\n",
       "      <td>723.752542</td>\n",
       "    </tr>\n",
       "    <tr>\n",
       "      <th>Piauí</th>\n",
       "      <td>1146.710618</td>\n",
       "      <td>899.858757</td>\n",
       "    </tr>\n",
       "    <tr>\n",
       "      <th>Ceará</th>\n",
       "      <td>1341.616974</td>\n",
       "      <td>1085.795053</td>\n",
       "    </tr>\n",
       "    <tr>\n",
       "      <th>Rio Grande do Norte</th>\n",
       "      <td>1459.050074</td>\n",
       "      <td>1080.676871</td>\n",
       "    </tr>\n",
       "    <tr>\n",
       "      <th>Paraíba</th>\n",
       "      <td>1364.993348</td>\n",
       "      <td>1119.704301</td>\n",
       "    </tr>\n",
       "    <tr>\n",
       "      <th>Pernambuco</th>\n",
       "      <td>1664.931211</td>\n",
       "      <td>1252.239812</td>\n",
       "    </tr>\n",
       "    <tr>\n",
       "      <th>Alagoas</th>\n",
       "      <td>1157.752593</td>\n",
       "      <td>1105.473684</td>\n",
       "    </tr>\n",
       "    <tr>\n",
       "      <th>Sergipe</th>\n",
       "      <td>1205.569857</td>\n",
       "      <td>877.150794</td>\n",
       "    </tr>\n",
       "    <tr>\n",
       "      <th>Bahia</th>\n",
       "      <td>1557.495271</td>\n",
       "      <td>1175.015175</td>\n",
       "    </tr>\n",
       "    <tr>\n",
       "      <th>Minas Gerais</th>\n",
       "      <td>2283.158288</td>\n",
       "      <td>1489.616576</td>\n",
       "    </tr>\n",
       "    <tr>\n",
       "      <th>Espírito Santo</th>\n",
       "      <td>2129.324226</td>\n",
       "      <td>1752.707022</td>\n",
       "    </tr>\n",
       "    <tr>\n",
       "      <th>Rio de Janeiro</th>\n",
       "      <td>2777.552792</td>\n",
       "      <td>1971.532508</td>\n",
       "    </tr>\n",
       "    <tr>\n",
       "      <th>São Paulo</th>\n",
       "      <td>2947.742872</td>\n",
       "      <td>1950.176471</td>\n",
       "    </tr>\n",
       "    <tr>\n",
       "      <th>Paraná</th>\n",
       "      <td>2767.429211</td>\n",
       "      <td>1796.263244</td>\n",
       "    </tr>\n",
       "    <tr>\n",
       "      <th>Santa Catarina</th>\n",
       "      <td>2688.304121</td>\n",
       "      <td>1792.114130</td>\n",
       "    </tr>\n",
       "    <tr>\n",
       "      <th>Rio Grande do Sul</th>\n",
       "      <td>2488.392840</td>\n",
       "      <td>1960.845376</td>\n",
       "    </tr>\n",
       "    <tr>\n",
       "      <th>Mato Grosso do Sul</th>\n",
       "      <td>2603.484296</td>\n",
       "      <td>1519.891832</td>\n",
       "    </tr>\n",
       "    <tr>\n",
       "      <th>Mato Grosso</th>\n",
       "      <td>2335.347994</td>\n",
       "      <td>1604.293651</td>\n",
       "    </tr>\n",
       "    <tr>\n",
       "      <th>Goiás</th>\n",
       "      <td>2222.632558</td>\n",
       "      <td>1339.376392</td>\n",
       "    </tr>\n",
       "    <tr>\n",
       "      <th>Distrito Federal</th>\n",
       "      <td>4863.366321</td>\n",
       "      <td>3269.883895</td>\n",
       "    </tr>\n",
       "  </tbody>\n",
       "</table>\n",
       "</div>"
      ],
      "text/plain": [
       "Sexo                   Masculino     Feminino\n",
       "UF                                           \n",
       "Rondônia             1921.209139  1414.854637\n",
       "Acre                 1635.342407  1128.615063\n",
       "Amazonas             1539.989460  1235.832849\n",
       "Roraima              1875.788136  1608.112903\n",
       "Pará                 1509.741894  1131.884114\n",
       "Amapá                1930.396970  1736.164835\n",
       "Tocatins             1912.509395  1381.798851\n",
       "Maranhão             1165.172097   723.752542\n",
       "Piauí                1146.710618   899.858757\n",
       "Ceará                1341.616974  1085.795053\n",
       "Rio Grande do Norte  1459.050074  1080.676871\n",
       "Paraíba              1364.993348  1119.704301\n",
       "Pernambuco           1664.931211  1252.239812\n",
       "Alagoas              1157.752593  1105.473684\n",
       "Sergipe              1205.569857   877.150794\n",
       "Bahia                1557.495271  1175.015175\n",
       "Minas Gerais         2283.158288  1489.616576\n",
       "Espírito Santo       2129.324226  1752.707022\n",
       "Rio de Janeiro       2777.552792  1971.532508\n",
       "São Paulo            2947.742872  1950.176471\n",
       "Paraná               2767.429211  1796.263244\n",
       "Santa Catarina       2688.304121  1792.114130\n",
       "Rio Grande do Sul    2488.392840  1960.845376\n",
       "Mato Grosso do Sul   2603.484296  1519.891832\n",
       "Mato Grosso          2335.347994  1604.293651\n",
       "Goiás                2222.632558  1339.376392\n",
       "Distrito Federal     4863.366321  3269.883895"
      ]
     },
     "execution_count": 24,
     "metadata": {},
     "output_type": "execute_result"
    }
   ],
   "source": [
    "#Exemplo2: Renda média de cada estado separando homem e mulher.\n",
    "tabela7 = pd.crosstab(dados.UF,\n",
    "                     dados.Sexo,\n",
    "                     aggfunc = \"mean\",\n",
    "                     values = dados.Renda)\n",
    "\n",
    "tabela7.rename(index = estados, inplace = True)\n",
    "tabela7.rename(columns = sexo, inplace = True)\n",
    "tabela7"
   ]
  },
  {
   "cell_type": "markdown",
   "id": "7750518b",
   "metadata": {},
   "source": [
    "Onde é possível ver os estados que ganham mais dinheiro em média, não necessariamente todos ganham muito teria que analisar a mediana e outros pontos. Podemos ver que em média, nas regiões do Sudeste, Sul e Centro-Oeste ganham mais."
   ]
  },
  {
   "cell_type": "markdown",
   "id": "dbdd58f5",
   "metadata": {},
   "source": [
    "## Distribuição de frequências quantitativas - classes personalizadas!\n",
    "\n",
    "Vamos dizer que agora eu quero separar em várias categorias as rendas, ou seja, vou separar de acordo como eu quiser. Só que o comando que eu quero utilizar, precisa saber tanto do mínimo quanto do máximo de renda, do valor que quero categorizar:\n",
    "\n",
    "### Exemplo 1: Separando por renda."
   ]
  },
  {
   "cell_type": "code",
   "execution_count": 25,
   "id": "44112736",
   "metadata": {},
   "outputs": [
    {
     "data": {
      "text/plain": [
       "0"
      ]
     },
     "execution_count": 25,
     "metadata": {},
     "output_type": "execute_result"
    }
   ],
   "source": [
    "dados.Renda.min()"
   ]
  },
  {
   "cell_type": "code",
   "execution_count": 26,
   "id": "708090ac",
   "metadata": {},
   "outputs": [
    {
     "data": {
      "text/plain": [
       "200000"
      ]
     },
     "execution_count": 26,
     "metadata": {},
     "output_type": "execute_result"
    }
   ],
   "source": [
    "dados.Renda.max()"
   ]
  },
  {
   "cell_type": "markdown",
   "id": "7f34e81f",
   "metadata": {},
   "source": [
    "Agora vamos precisar fazer duas listas para separar às classes/categorias:"
   ]
  },
  {
   "cell_type": "code",
   "execution_count": 27,
   "id": "3b5f58e5",
   "metadata": {},
   "outputs": [],
   "source": [
    "#Lista que separará o valores das rendas, começando da mínima e indo até a máxima:\n",
    "classes = [0,1576,3152,7880,15760,200000]\n",
    "\n",
    "#Lista que nomeará cada uma das categorias das rendas de acordo com a ordem de min até max:\n",
    "labels = [\"E\",\"D\",\"C\",\"B\",\"A\"]"
   ]
  },
  {
   "cell_type": "markdown",
   "id": "c658dbd3",
   "metadata": {},
   "source": [
    "Então agora usando o comando para fazer a separação de categorias:"
   ]
  },
  {
   "cell_type": "code",
   "execution_count": 28,
   "id": "dd75837b",
   "metadata": {},
   "outputs": [
    {
     "data": {
      "text/plain": [
       "0        E\n",
       "1        E\n",
       "2        E\n",
       "3        C\n",
       "4        E\n",
       "        ..\n",
       "76835    E\n",
       "76836    E\n",
       "76837    E\n",
       "76838    E\n",
       "76839    E\n",
       "Name: Renda, Length: 76840, dtype: category\n",
       "Categories (5, object): ['E' < 'D' < 'C' < 'B' < 'A']"
      ]
     },
     "execution_count": 28,
     "metadata": {},
     "output_type": "execute_result"
    }
   ],
   "source": [
    "# O primeiro parâmetro do cut é a variável que será categorizada, o que a gente quer colocar \n",
    "# é a Rena, então lá está.\n",
    "# O segundo parâmetro é os limites de cada classe, a lista de classes, que pega os valores da categorização\n",
    "# O terceiro é o nome de cada uma, sendo uma lista.\n",
    "# E o último comando é para incluir o valor mínimo que ficaria de fora caso fosse falso.\n",
    "\n",
    "\n",
    "pd.cut(x = dados.Renda,\n",
    "       bins = classes,\n",
    "       labels = labels,\n",
    "       include_lowest = True)"
   ]
  },
  {
   "cell_type": "markdown",
   "id": "ffa025f9",
   "metadata": {},
   "source": [
    "Agora para pegar esse valor e saber quanto tem em cada, podemos fazer o seguinte código."
   ]
  },
  {
   "cell_type": "code",
   "execution_count": 29,
   "id": "3c417fc1",
   "metadata": {},
   "outputs": [
    {
     "data": {
      "text/plain": [
       "E    49755\n",
       "D    16700\n",
       "C     7599\n",
       "B     2178\n",
       "A      608\n",
       "Name: Renda, dtype: int64"
      ]
     },
     "execution_count": 29,
     "metadata": {},
     "output_type": "execute_result"
    }
   ],
   "source": [
    "# Colocando o código dentro dos parênteses de value_counts, conseguimos ver quantos tem de cada.\n",
    "\n",
    "pd.value_counts(\n",
    "    pd.cut(x = dados.Renda,\n",
    "       bins = classes,\n",
    "       labels = labels,\n",
    "       include_lowest = True))"
   ]
  },
  {
   "cell_type": "code",
   "execution_count": 30,
   "id": "884f2a9c",
   "metadata": {},
   "outputs": [
    {
     "data": {
      "text/html": [
       "<div>\n",
       "<style scoped>\n",
       "    .dataframe tbody tr th:only-of-type {\n",
       "        vertical-align: middle;\n",
       "    }\n",
       "\n",
       "    .dataframe tbody tr th {\n",
       "        vertical-align: top;\n",
       "    }\n",
       "\n",
       "    .dataframe thead th {\n",
       "        text-align: right;\n",
       "    }\n",
       "</style>\n",
       "<table border=\"1\" class=\"dataframe\">\n",
       "  <thead>\n",
       "    <tr style=\"text-align: right;\">\n",
       "      <th></th>\n",
       "      <th>Frequência</th>\n",
       "      <th>Porcentagem (%)</th>\n",
       "    </tr>\n",
       "  </thead>\n",
       "  <tbody>\n",
       "    <tr>\n",
       "      <th>A</th>\n",
       "      <td>608</td>\n",
       "      <td>0.791255</td>\n",
       "    </tr>\n",
       "    <tr>\n",
       "      <th>B</th>\n",
       "      <td>2178</td>\n",
       "      <td>2.834461</td>\n",
       "    </tr>\n",
       "    <tr>\n",
       "      <th>C</th>\n",
       "      <td>7599</td>\n",
       "      <td>9.889381</td>\n",
       "    </tr>\n",
       "    <tr>\n",
       "      <th>D</th>\n",
       "      <td>16700</td>\n",
       "      <td>21.733472</td>\n",
       "    </tr>\n",
       "    <tr>\n",
       "      <th>E</th>\n",
       "      <td>49755</td>\n",
       "      <td>64.751432</td>\n",
       "    </tr>\n",
       "  </tbody>\n",
       "</table>\n",
       "</div>"
      ],
      "text/plain": [
       "   Frequência  Porcentagem (%)\n",
       "A         608         0.791255\n",
       "B        2178         2.834461\n",
       "C        7599         9.889381\n",
       "D       16700        21.733472\n",
       "E       49755        64.751432"
      ]
     },
     "execution_count": 30,
     "metadata": {},
     "output_type": "execute_result"
    }
   ],
   "source": [
    "#Valor chamar ele de frequência e depois criar o percentual e depois colocar numa tabela utiilzando dataframe:\n",
    "freq2 = pd.value_counts(\n",
    "    pd.cut(x = dados.Renda,\n",
    "       bins = classes,\n",
    "       labels = labels,\n",
    "       include_lowest = True))\n",
    "\n",
    "perc2 = pd.value_counts(\n",
    "    pd.cut(x = dados.Renda,\n",
    "       bins = classes,\n",
    "       labels = labels,\n",
    "       include_lowest = True), normalize = True) * 100\n",
    "dist_freq_quantitativa_renda = pd.DataFrame({\"Frequência\": freq2, \"Porcentagem (%)\": perc2})\n",
    "\n",
    "# Para ordenação inversa basta:\n",
    "dist_freq_quantitativa_renda.sort_index(ascending = False, inplace = True)\n",
    "dist_freq_quantitativa_renda"
   ]
  },
  {
   "cell_type": "markdown",
   "id": "8b66b01b",
   "metadata": {},
   "source": [
    "Por padrão, ele coloca do maior para o menor! Com o sort_index e ascending falso ele muda!\n",
    "\n",
    "Vamos fazer outra categorização personalizada fazendo por região do Brasil!"
   ]
  },
  {
   "cell_type": "markdown",
   "id": "518b3a68",
   "metadata": {},
   "source": [
    "### Exemplo 2: Quantidade de Pessoas por Região que foi entrevistada."
   ]
  },
  {
   "cell_type": "code",
   "execution_count": 31,
   "id": "e86ff08c",
   "metadata": {},
   "outputs": [
    {
     "data": {
      "text/plain": [
       "11"
      ]
     },
     "execution_count": 31,
     "metadata": {},
     "output_type": "execute_result"
    }
   ],
   "source": [
    "dados.UF.min()"
   ]
  },
  {
   "cell_type": "code",
   "execution_count": 32,
   "id": "b647d74f",
   "metadata": {},
   "outputs": [
    {
     "data": {
      "text/plain": [
       "53"
      ]
     },
     "execution_count": 32,
     "metadata": {},
     "output_type": "execute_result"
    }
   ],
   "source": [
    "dados.UF.max()"
   ]
  },
  {
   "cell_type": "code",
   "execution_count": 33,
   "id": "9841bd8e",
   "metadata": {},
   "outputs": [],
   "source": [
    "classes2 = [10,20,30,40,49,60] # Tem que ser 49 pois se for 50 ele entende que é do anterior, e o 50 é do próximo\n",
    "labels2 = [\"Norte\",\"Nordeste\",\"Sudeste\",\"Sul\",\"Centro-Oeste\"]"
   ]
  },
  {
   "cell_type": "code",
   "execution_count": 34,
   "id": "175a353d",
   "metadata": {},
   "outputs": [
    {
     "data": {
      "text/plain": [
       "['Norte', 'Norte', 'Norte', 'Norte', 'Norte', ..., 'Sul', 'Centro-Oeste', 'Centro-Oeste', 'Centro-Oeste', 'Centro-Oeste']\n",
       "Length: 27\n",
       "Categories (5, object): ['Norte' < 'Nordeste' < 'Sudeste' < 'Sul' < 'Centro-Oeste']"
      ]
     },
     "execution_count": 34,
     "metadata": {},
     "output_type": "execute_result"
    }
   ],
   "source": [
    "# Isso aqui é algo extra, ele vai pegar o array criado do unique e vai associar com a categoria, fazendo o novo array abaixo\n",
    "pd.cut(x = dados.UF.unique(),\n",
    "      bins = classes2,\n",
    "      labels = labels2)"
   ]
  },
  {
   "cell_type": "code",
   "execution_count": 35,
   "id": "0a6c2309",
   "metadata": {},
   "outputs": [
    {
     "data": {
      "text/plain": [
       "Nordeste        9\n",
       "Norte           7\n",
       "Sudeste         4\n",
       "Centro-Oeste    4\n",
       "Sul             3\n",
       "dtype: int64"
      ]
     },
     "execution_count": 35,
     "metadata": {},
     "output_type": "execute_result"
    }
   ],
   "source": [
    "# Fazendo o value_counts desse array nos entrega a quantidade de estados por região! FODA\n",
    "pd.value_counts(\n",
    "    pd.cut(x = dados.UF.unique(),\n",
    "    bins = classes2,\n",
    "    labels = labels2))"
   ]
  },
  {
   "cell_type": "code",
   "execution_count": 36,
   "id": "4ec07654",
   "metadata": {},
   "outputs": [
    {
     "data": {
      "text/html": [
       "<div>\n",
       "<style scoped>\n",
       "    .dataframe tbody tr th:only-of-type {\n",
       "        vertical-align: middle;\n",
       "    }\n",
       "\n",
       "    .dataframe tbody tr th {\n",
       "        vertical-align: top;\n",
       "    }\n",
       "\n",
       "    .dataframe thead th {\n",
       "        text-align: right;\n",
       "    }\n",
       "</style>\n",
       "<table border=\"1\" class=\"dataframe\">\n",
       "  <thead>\n",
       "    <tr style=\"text-align: right;\">\n",
       "      <th></th>\n",
       "      <th>Frequência</th>\n",
       "      <th>Porcentagem (%)</th>\n",
       "    </tr>\n",
       "  </thead>\n",
       "  <tbody>\n",
       "    <tr>\n",
       "      <th>Sudeste</th>\n",
       "      <td>23297</td>\n",
       "      <td>30.318844</td>\n",
       "    </tr>\n",
       "    <tr>\n",
       "      <th>Nordeste</th>\n",
       "      <td>20331</td>\n",
       "      <td>26.458876</td>\n",
       "    </tr>\n",
       "    <tr>\n",
       "      <th>Sul</th>\n",
       "      <td>12953</td>\n",
       "      <td>16.857106</td>\n",
       "    </tr>\n",
       "    <tr>\n",
       "      <th>Norte</th>\n",
       "      <td>11487</td>\n",
       "      <td>14.949245</td>\n",
       "    </tr>\n",
       "    <tr>\n",
       "      <th>Centro-Oeste</th>\n",
       "      <td>8772</td>\n",
       "      <td>11.415929</td>\n",
       "    </tr>\n",
       "  </tbody>\n",
       "</table>\n",
       "</div>"
      ],
      "text/plain": [
       "              Frequência  Porcentagem (%)\n",
       "Sudeste            23297        30.318844\n",
       "Nordeste           20331        26.458876\n",
       "Sul                12953        16.857106\n",
       "Norte              11487        14.949245\n",
       "Centro-Oeste        8772        11.415929"
      ]
     },
     "execution_count": 36,
     "metadata": {},
     "output_type": "execute_result"
    }
   ],
   "source": [
    "#Voltando a trajetória inicial:\n",
    "freq3 = pd.value_counts(\n",
    "    pd.cut(x = dados.UF,\n",
    "          bins = classes2,\n",
    "          labels = labels2))\n",
    "perc3 = pd.value_counts(\n",
    "    pd.cut(x = dados.UF,\n",
    "          bins = classes2,\n",
    "          labels = labels2),\n",
    "    normalize = True) * 100 \n",
    "\n",
    "dist_freq_quantitativa_estados = pd.DataFrame({\"Frequência\": freq3, \"Porcentagem (%)\": perc3})\n",
    "dist_freq_quantitativa_estados"
   ]
  },
  {
   "cell_type": "markdown",
   "id": "4f0447ae",
   "metadata": {},
   "source": [
    "Isso mostra que 30.3% dos entrevistados eram da região Sudeste, 26.4% eram do Nordeste e assim vai diminuindo até o Centro-Oeste com 11.4%!"
   ]
  },
  {
   "cell_type": "markdown",
   "id": "21738d8b",
   "metadata": {},
   "source": [
    "### Exemplo 3 : Estatura das pessoas (exemplo da Alura)"
   ]
  },
  {
   "cell_type": "code",
   "execution_count": 37,
   "id": "a19c0a38",
   "metadata": {},
   "outputs": [
    {
     "data": {
      "text/html": [
       "<div>\n",
       "<style scoped>\n",
       "    .dataframe tbody tr th:only-of-type {\n",
       "        vertical-align: middle;\n",
       "    }\n",
       "\n",
       "    .dataframe tbody tr th {\n",
       "        vertical-align: top;\n",
       "    }\n",
       "\n",
       "    .dataframe thead th {\n",
       "        text-align: right;\n",
       "    }\n",
       "</style>\n",
       "<table border=\"1\" class=\"dataframe\">\n",
       "  <thead>\n",
       "    <tr style=\"text-align: right;\">\n",
       "      <th>Estaturas</th>\n",
       "      <th>Frequência</th>\n",
       "      <th>Porcentagem (%)</th>\n",
       "    </tr>\n",
       "  </thead>\n",
       "  <tbody>\n",
       "    <tr>\n",
       "      <th>1 - Baixa</th>\n",
       "      <td>20529</td>\n",
       "      <td>26.716554</td>\n",
       "    </tr>\n",
       "    <tr>\n",
       "      <th>2 - Média</th>\n",
       "      <td>36162</td>\n",
       "      <td>47.061426</td>\n",
       "    </tr>\n",
       "    <tr>\n",
       "      <th>3 - Alta</th>\n",
       "      <td>20149</td>\n",
       "      <td>26.222020</td>\n",
       "    </tr>\n",
       "  </tbody>\n",
       "</table>\n",
       "</div>"
      ],
      "text/plain": [
       "Estaturas  Frequência  Porcentagem (%)\n",
       "1 - Baixa       20529        26.716554\n",
       "2 - Média       36162        47.061426\n",
       "3 - Alta        20149        26.222020"
      ]
     },
     "execution_count": 37,
     "metadata": {},
     "output_type": "execute_result"
    }
   ],
   "source": [
    "classes3 = [dados.Altura.min(), 1.65, 1.75, dados.Altura.max()]\n",
    "labels3 = ['1 - Baixa', '2 - Média', '3 - Alta']\n",
    "\n",
    "freq4 = pd.value_counts(\n",
    "    pd.cut(\n",
    "        x = dados.Altura,\n",
    "        bins = classes3,\n",
    "        labels = labels3,\n",
    "        include_lowest = True\n",
    "    )\n",
    ")\n",
    "\n",
    "perc4 = pd.value_counts(\n",
    "    pd.cut(\n",
    "        x = dados.Altura,\n",
    "        bins = classes3,\n",
    "        labels = labels3,\n",
    "        include_lowest = True\n",
    "    ), normalize = True\n",
    ") * 100\n",
    "\n",
    "dist_freq_altura = pd.DataFrame(\n",
    "    {'Frequência': freq4, 'Porcentagem (%)': perc4}\n",
    ")\n",
    "\n",
    "dist_freq_altura.rename_axis('Estaturas', axis= 'columns', inplace = True)\n",
    "\n",
    "dist_freq_altura.sort_index(ascending = True, inplace = True)\n",
    "\n",
    "dist_freq_altura"
   ]
  },
  {
   "cell_type": "markdown",
   "id": "fafaeeaf",
   "metadata": {},
   "source": [
    "De forma resumida, ele começa definindo as duas listas de classe e de labels, onde é definido pela altura mínima e máxima como extremos, e dá os nomes de Baixo média e alta.\n",
    "\n",
    "Faz a categorização com o cut e depois faz a contagem sobre os dados com o value_counts(), gerando a frequência, de forma semelhante ele faz o percentual acrescentando o normalize = True, por fim faz o data frame das estaturas, ordenando pela ordem do menos para o maior do index, com o ascending = True, que colocando o 1, 2 e 3 na frente torna possível ordenar da forma que deseja."
   ]
  },
  {
   "cell_type": "markdown",
   "id": "92227188",
   "metadata": {},
   "source": [
    "## Distribuição de frequência com classe de amplitude fixa."
   ]
  },
  {
   "cell_type": "markdown",
   "id": "9c24d385",
   "metadata": {},
   "source": [
    "Agora utilizaremos a regra de Sturges que se dá na forma de k = 1 + (10/3 log₁₀ n), que precisamos da biblioteca de numpy para fazer esse cálculo, mais especificamente para o logarítmo, e além disso, esse n é associado com a quantidade de registros que tem nos dados, e podemos encontrar isso com o .shape:"
   ]
  },
  {
   "cell_type": "code",
   "execution_count": 38,
   "id": "2197e88f",
   "metadata": {},
   "outputs": [
    {
     "data": {
      "text/plain": [
       "(76840, 7)"
      ]
     },
     "execution_count": 38,
     "metadata": {},
     "output_type": "execute_result"
    }
   ],
   "source": [
    "dados.shape"
   ]
  },
  {
   "cell_type": "markdown",
   "id": "f14ba478",
   "metadata": {},
   "source": [
    ">O primeiro valor é a quantidade de registros, número de linhas, e o segundo valor é a quantidade de variáveis, ou quantidade de colunas."
   ]
  },
  {
   "cell_type": "code",
   "execution_count": 39,
   "id": "b660a251",
   "metadata": {},
   "outputs": [],
   "source": [
    "n = dados.shape[0]"
   ]
  },
  {
   "cell_type": "code",
   "execution_count": 40,
   "id": "847d4270",
   "metadata": {},
   "outputs": [
    {
     "data": {
      "text/plain": [
       "17.285291187298853"
      ]
     },
     "execution_count": 40,
     "metadata": {},
     "output_type": "execute_result"
    }
   ],
   "source": [
    "k = 1 + (10/3)*np.log10(n)\n",
    "k"
   ]
  },
  {
   "cell_type": "markdown",
   "id": "c17ac496",
   "metadata": {},
   "source": [
    "Esse valor que saiu da regra de Sturges mostra em quantas categorias que poderia ser dividida de forma fixa."
   ]
  },
  {
   "cell_type": "code",
   "execution_count": 41,
   "id": "1df1d704",
   "metadata": {},
   "outputs": [
    {
     "data": {
      "text/plain": [
       "17"
      ]
     },
     "execution_count": 41,
     "metadata": {},
     "output_type": "execute_result"
    }
   ],
   "source": [
    "# Fazendo um arredondamento do valor. Round funciona pegando um valor de ponto flutuante e \n",
    "# aplicando nele, o número dentro do parênteses é a quantidade de casas decimais necessárias. \n",
    "# Deixar vazio ou com 0 é a mesma coisa. Aplicamos o int para que seja inteiro (isso já faria o trabalho do round.)\n",
    "k = int(k.round())\n",
    "k"
   ]
  },
  {
   "cell_type": "code",
   "execution_count": 42,
   "id": "0fd815c1",
   "metadata": {},
   "outputs": [
    {
     "data": {
      "text/plain": [
       "(-200.001, 11764.706]       75594\n",
       "(11764.706, 23529.412]       1022\n",
       "(23529.412, 35294.118]        169\n",
       "(35294.118, 47058.824]         19\n",
       "(47058.824, 58823.529]         16\n",
       "(58823.529, 70588.235]          5\n",
       "(70588.235, 82352.941]          4\n",
       "(82352.941, 94117.647]          1\n",
       "(94117.647, 105882.353]         6\n",
       "(105882.353, 117647.059]        0\n",
       "(117647.059, 129411.765]        1\n",
       "(129411.765, 141176.471]        0\n",
       "(141176.471, 152941.176]        0\n",
       "(152941.176, 164705.882]        0\n",
       "(164705.882, 176470.588]        0\n",
       "(176470.588, 188235.294]        0\n",
       "(188235.294, 200000.0]          3\n",
       "Name: Renda, dtype: int64"
      ]
     },
     "execution_count": 42,
     "metadata": {},
     "output_type": "execute_result"
    }
   ],
   "source": [
    "# Agora faremos o trabalho que fizemos anterior, só que baseado nessa categorização:\n",
    "# Ao invés de colocar a lista em bins, podemos simplesmente colocar o número de divisões que queremos!\n",
    "# Além disso, não foi colocado o labels pois boa sorte nomeando 17 níveis de renda auehaeuhauehae\n",
    "# Vimos anteriormente que o dataframe pode ser ordenado através do ascending, o \n",
    "# value_counts pode ser desordenado através do método sort\n",
    "\n",
    "freq5 = pd.value_counts(\n",
    "    pd.cut(\n",
    "        x = dados.Renda,\n",
    "        bins = k,\n",
    "        include_lowest=True),\n",
    "    sort = False)\n",
    "freq5"
   ]
  },
  {
   "cell_type": "code",
   "execution_count": 43,
   "id": "e1c77faa",
   "metadata": {},
   "outputs": [
    {
     "data": {
      "text/plain": [
       "(-200.001, 11764.706]       0.983784\n",
       "(11764.706, 23529.412]      0.013300\n",
       "(23529.412, 35294.118]      0.002199\n",
       "(35294.118, 47058.824]      0.000247\n",
       "(47058.824, 58823.529]      0.000208\n",
       "(58823.529, 70588.235]      0.000065\n",
       "(70588.235, 82352.941]      0.000052\n",
       "(82352.941, 94117.647]      0.000013\n",
       "(94117.647, 105882.353]     0.000078\n",
       "(105882.353, 117647.059]    0.000000\n",
       "(117647.059, 129411.765]    0.000013\n",
       "(129411.765, 141176.471]    0.000000\n",
       "(141176.471, 152941.176]    0.000000\n",
       "(152941.176, 164705.882]    0.000000\n",
       "(164705.882, 176470.588]    0.000000\n",
       "(176470.588, 188235.294]    0.000000\n",
       "(188235.294, 200000.0]      0.000039\n",
       "Name: Renda, dtype: float64"
      ]
     },
     "execution_count": 43,
     "metadata": {},
     "output_type": "execute_result"
    }
   ],
   "source": [
    "# Fazendo o mesmo para o percentual e fazendo a distribuição:\n",
    "perc5 = pd.value_counts(\n",
    "    pd.cut(\n",
    "        x = dados.Renda,\n",
    "        bins = k,\n",
    "        include_lowest=True),\n",
    "    sort = False,\n",
    "    normalize = True)\n",
    "perc5"
   ]
  },
  {
   "cell_type": "code",
   "execution_count": 44,
   "id": "722dd638",
   "metadata": {},
   "outputs": [
    {
     "data": {
      "text/html": [
       "<div>\n",
       "<style scoped>\n",
       "    .dataframe tbody tr th:only-of-type {\n",
       "        vertical-align: middle;\n",
       "    }\n",
       "\n",
       "    .dataframe tbody tr th {\n",
       "        vertical-align: top;\n",
       "    }\n",
       "\n",
       "    .dataframe thead th {\n",
       "        text-align: right;\n",
       "    }\n",
       "</style>\n",
       "<table border=\"1\" class=\"dataframe\">\n",
       "  <thead>\n",
       "    <tr style=\"text-align: right;\">\n",
       "      <th></th>\n",
       "      <th>Frequência</th>\n",
       "      <th>Porcentagem (%)</th>\n",
       "    </tr>\n",
       "  </thead>\n",
       "  <tbody>\n",
       "    <tr>\n",
       "      <th>(-200.001, 11764.706]</th>\n",
       "      <td>75594</td>\n",
       "      <td>0.983784</td>\n",
       "    </tr>\n",
       "    <tr>\n",
       "      <th>(11764.706, 23529.412]</th>\n",
       "      <td>1022</td>\n",
       "      <td>0.013300</td>\n",
       "    </tr>\n",
       "    <tr>\n",
       "      <th>(23529.412, 35294.118]</th>\n",
       "      <td>169</td>\n",
       "      <td>0.002199</td>\n",
       "    </tr>\n",
       "    <tr>\n",
       "      <th>(35294.118, 47058.824]</th>\n",
       "      <td>19</td>\n",
       "      <td>0.000247</td>\n",
       "    </tr>\n",
       "    <tr>\n",
       "      <th>(47058.824, 58823.529]</th>\n",
       "      <td>16</td>\n",
       "      <td>0.000208</td>\n",
       "    </tr>\n",
       "    <tr>\n",
       "      <th>(58823.529, 70588.235]</th>\n",
       "      <td>5</td>\n",
       "      <td>0.000065</td>\n",
       "    </tr>\n",
       "    <tr>\n",
       "      <th>(70588.235, 82352.941]</th>\n",
       "      <td>4</td>\n",
       "      <td>0.000052</td>\n",
       "    </tr>\n",
       "    <tr>\n",
       "      <th>(82352.941, 94117.647]</th>\n",
       "      <td>1</td>\n",
       "      <td>0.000013</td>\n",
       "    </tr>\n",
       "    <tr>\n",
       "      <th>(94117.647, 105882.353]</th>\n",
       "      <td>6</td>\n",
       "      <td>0.000078</td>\n",
       "    </tr>\n",
       "    <tr>\n",
       "      <th>(105882.353, 117647.059]</th>\n",
       "      <td>0</td>\n",
       "      <td>0.000000</td>\n",
       "    </tr>\n",
       "    <tr>\n",
       "      <th>(117647.059, 129411.765]</th>\n",
       "      <td>1</td>\n",
       "      <td>0.000013</td>\n",
       "    </tr>\n",
       "    <tr>\n",
       "      <th>(129411.765, 141176.471]</th>\n",
       "      <td>0</td>\n",
       "      <td>0.000000</td>\n",
       "    </tr>\n",
       "    <tr>\n",
       "      <th>(141176.471, 152941.176]</th>\n",
       "      <td>0</td>\n",
       "      <td>0.000000</td>\n",
       "    </tr>\n",
       "    <tr>\n",
       "      <th>(152941.176, 164705.882]</th>\n",
       "      <td>0</td>\n",
       "      <td>0.000000</td>\n",
       "    </tr>\n",
       "    <tr>\n",
       "      <th>(164705.882, 176470.588]</th>\n",
       "      <td>0</td>\n",
       "      <td>0.000000</td>\n",
       "    </tr>\n",
       "    <tr>\n",
       "      <th>(176470.588, 188235.294]</th>\n",
       "      <td>0</td>\n",
       "      <td>0.000000</td>\n",
       "    </tr>\n",
       "    <tr>\n",
       "      <th>(188235.294, 200000.0]</th>\n",
       "      <td>3</td>\n",
       "      <td>0.000039</td>\n",
       "    </tr>\n",
       "  </tbody>\n",
       "</table>\n",
       "</div>"
      ],
      "text/plain": [
       "                          Frequência  Porcentagem (%)\n",
       "(-200.001, 11764.706]          75594         0.983784\n",
       "(11764.706, 23529.412]          1022         0.013300\n",
       "(23529.412, 35294.118]           169         0.002199\n",
       "(35294.118, 47058.824]            19         0.000247\n",
       "(47058.824, 58823.529]            16         0.000208\n",
       "(58823.529, 70588.235]             5         0.000065\n",
       "(70588.235, 82352.941]             4         0.000052\n",
       "(82352.941, 94117.647]             1         0.000013\n",
       "(94117.647, 105882.353]            6         0.000078\n",
       "(105882.353, 117647.059]           0         0.000000\n",
       "(117647.059, 129411.765]           1         0.000013\n",
       "(129411.765, 141176.471]           0         0.000000\n",
       "(141176.471, 152941.176]           0         0.000000\n",
       "(152941.176, 164705.882]           0         0.000000\n",
       "(164705.882, 176470.588]           0         0.000000\n",
       "(176470.588, 188235.294]           0         0.000000\n",
       "(188235.294, 200000.0]             3         0.000039"
      ]
     },
     "execution_count": 44,
     "metadata": {},
     "output_type": "execute_result"
    }
   ],
   "source": [
    "dist_freq_quantitativa_renda2 = pd.DataFrame({\"Frequência\": freq5, \"Porcentagem (%)\": perc5})\n",
    "dist_freq_quantitativa_renda2.sort_index(ascending=True)"
   ]
  },
  {
   "cell_type": "markdown",
   "id": "c3997b7c",
   "metadata": {},
   "source": [
    "Essa regra de sturges é boa quando temos um valor quantitativo com várias possibilidades, quando é contínuo, o caso da renda ou da altura é um bom exemplo, já os outros tem valores qualitativos que não servem para isso."
   ]
  },
  {
   "cell_type": "markdown",
   "id": "c89b1194",
   "metadata": {},
   "source": [
    "## Histogramas!\n",
    "\n",
    "Para cá nós utilizaremos a biblioteca do seaborn, que é muito abrangente e só usaremos para o fim de histogramas! Fazendo um resumo do que será feito:\n",
    "- Definindo uma variável que vai guardar o histograma;\n",
    "- Definir a largura e altura de cada um dos blocos do histograma;\n",
    "- Definir o título e o tamanho de sua fonte;\n",
    "- Definir o nome do eixo horizontal, eixo x;\n",
    "- E por fim plotamos o histograma!"
   ]
  },
  {
   "cell_type": "code",
   "execution_count": 45,
   "id": "c088f106",
   "metadata": {},
   "outputs": [
    {
     "data": {
      "text/plain": [
       "<AxesSubplot:title={'center':'Distribuição de Frequências - Altura'}, xlabel='Metros', ylabel='Quantidade de pessoas'>"
      ]
     },
     "execution_count": 45,
     "metadata": {},
     "output_type": "execute_result"
    },
    {
     "data": {
      "image/png": "[encoded data removed]",
      "text/plain": [
       "<Figure size 864x432 with 1 Axes>"
      ]
     },
     "metadata": {
      "needs_background": "light"
     },
     "output_type": "display_data"
    }
   ],
   "source": [
    "# Esse kde = False, é para não aparecer a linha que acompanha os blocos \n",
    "# fazendo como se fosse uma média do comportamento tornando ele contínuo.\n",
    "\n",
    "# IMPORTANTE: Na versão da aula, o professor cria o histograma utilizando o método distplot, contudo quando\n",
    "# Fazendo por aqui, indica que distplot sai´ra das futuras versões então é melhor ou mudar \n",
    "# para displot ou histplot, dispot não tem título e não sei para que serve, já histplot é para \n",
    "# histograma de fato, e tudo pode ser utilizado. Por isso já está como histplot.\n",
    "\n",
    "ax = sns.histplot(dados.Altura, kde = False) # Definindo como histograma\n",
    "\n",
    "ax.figure.set_size_inches(12,6) #Largura e altura, tem um padrão, mas é melhor utilizar esse tamanho para o hist\n",
    "\n",
    "ax.set_title(\"Distribuição de Frequências - Altura\", fontsize = 18) # Título\n",
    "\n",
    "ax.set_xlabel(\"Metros\", fontsize = 14) # Nome do eixo horizontal\n",
    "\n",
    "ax.set_ylabel(\"Quantidade de pessoas\", fontsize= 14) # EXTRA: nome do eixo vertical\n",
    "\n",
    "ax"
   ]
  },
  {
   "cell_type": "code",
   "execution_count": 46,
   "id": "c3f856a2",
   "metadata": {},
   "outputs": [
    {
     "data": {
      "text/plain": [
       "<AxesSubplot:title={'center':'Distribuição de Frequências - Altura - KDE'}, xlabel='Metros', ylabel='Quantidade de pessoas'>"
      ]
     },
     "execution_count": 46,
     "metadata": {},
     "output_type": "execute_result"
    },
    {
     "data": {
      "image/png": "[encoded data removed]",
      "text/plain": [
       "<Figure size 864x432 with 1 Axes>"
      ]
     },
     "metadata": {
      "needs_background": "light"
     },
     "output_type": "display_data"
    }
   ],
   "source": [
    "# Fazendo agora com o kde para ter uma ideia de como fica:\n",
    "\n",
    "ax2 = sns.histplot(dados.Altura, kde = True) # Definindo como histograma\n",
    "\n",
    "ax2.figure.set_size_inches(12,6) #Largura e altura\n",
    "ax2.set_title('Distribuição de Frequências - Altura - KDE', fontsize=18) # Título\n",
    "ax2.set_xlabel(\"Metros\", fontsize = 14) # Nome do eixo horizontal\n",
    "ax2.set_ylabel(\"Quantidade de pessoas\", fontsize= 14) # EXTRA: nome do eixo vertical\n",
    "\n",
    "ax2"
   ]
  },
  {
   "cell_type": "markdown",
   "id": "60a88d15",
   "metadata": {},
   "source": [
    "Mas agora nós temos uma uma situação em que foi subdividido em várias categorias, temos uma forma de definir fixamente um número de bins, que não precisa da biblioteca do seaborn, basta do pandas, mas é aparentemente uma forma mais simples."
   ]
  },
  {
   "cell_type": "code",
   "execution_count": 47,
   "id": "54a550d6",
   "metadata": {},
   "outputs": [
    {
     "data": {
      "text/plain": [
       "<AxesSubplot:>"
      ]
     },
     "execution_count": 47,
     "metadata": {},
     "output_type": "execute_result"
    },
    {
     "data": {
      "image/png": "[encoded data removed]",
      "text/plain": [
       "<Figure size 432x288 with 1 Axes>"
      ]
     },
     "metadata": {
      "needs_background": "light"
     },
     "output_type": "display_data"
    }
   ],
   "source": [
    "dados.Altura.hist()"
   ]
  },
  {
   "cell_type": "markdown",
   "id": "3b96ed4e",
   "metadata": {},
   "source": [
    "Podemos também definir números mais certos:"
   ]
  },
  {
   "cell_type": "code",
   "execution_count": 48,
   "id": "92770b38",
   "metadata": {},
   "outputs": [
    {
     "data": {
      "text/plain": [
       "<AxesSubplot:>"
      ]
     },
     "execution_count": 48,
     "metadata": {},
     "output_type": "execute_result"
    },
    {
     "data": {
      "image/png": "[encoded data removed]",
      "text/plain": [
       "<Figure size 864x432 with 1 Axes>"
      ]
     },
     "metadata": {
      "needs_background": "light"
     },
     "output_type": "display_data"
    }
   ],
   "source": [
    "#Seriam classes dentro do parênteses.\n",
    "dados.Altura.hist(bins = 50, figsize = (12, 6))"
   ]
  },
  {
   "cell_type": "markdown",
   "id": "92923cd6",
   "metadata": {},
   "source": [
    "Assim podemos ter uma noção melhor de como fica o histograma, melhor que o anterior pelo menos.\n",
    "\n",
    "Mas agora voltando para uma distribuição anteriormente feita, vamos colocar ela na forma de histograma:"
   ]
  },
  {
   "cell_type": "code",
   "execution_count": 49,
   "id": "daf3b5ce",
   "metadata": {},
   "outputs": [
    {
     "data": {
      "text/html": [
       "<div>\n",
       "<style scoped>\n",
       "    .dataframe tbody tr th:only-of-type {\n",
       "        vertical-align: middle;\n",
       "    }\n",
       "\n",
       "    .dataframe tbody tr th {\n",
       "        vertical-align: top;\n",
       "    }\n",
       "\n",
       "    .dataframe thead th {\n",
       "        text-align: right;\n",
       "    }\n",
       "</style>\n",
       "<table border=\"1\" class=\"dataframe\">\n",
       "  <thead>\n",
       "    <tr style=\"text-align: right;\">\n",
       "      <th></th>\n",
       "      <th>Frequência</th>\n",
       "      <th>Porcentagem (%)</th>\n",
       "    </tr>\n",
       "  </thead>\n",
       "  <tbody>\n",
       "    <tr>\n",
       "      <th>A</th>\n",
       "      <td>608</td>\n",
       "      <td>0.791255</td>\n",
       "    </tr>\n",
       "    <tr>\n",
       "      <th>B</th>\n",
       "      <td>2178</td>\n",
       "      <td>2.834461</td>\n",
       "    </tr>\n",
       "    <tr>\n",
       "      <th>C</th>\n",
       "      <td>7599</td>\n",
       "      <td>9.889381</td>\n",
       "    </tr>\n",
       "    <tr>\n",
       "      <th>D</th>\n",
       "      <td>16700</td>\n",
       "      <td>21.733472</td>\n",
       "    </tr>\n",
       "    <tr>\n",
       "      <th>E</th>\n",
       "      <td>49755</td>\n",
       "      <td>64.751432</td>\n",
       "    </tr>\n",
       "  </tbody>\n",
       "</table>\n",
       "</div>"
      ],
      "text/plain": [
       "   Frequência  Porcentagem (%)\n",
       "A         608         0.791255\n",
       "B        2178         2.834461\n",
       "C        7599         9.889381\n",
       "D       16700        21.733472\n",
       "E       49755        64.751432"
      ]
     },
     "execution_count": 49,
     "metadata": {},
     "output_type": "execute_result"
    }
   ],
   "source": [
    "#Para lembrar qual é:\n",
    "dist_freq_quantitativa_renda"
   ]
  },
  {
   "cell_type": "code",
   "execution_count": 50,
   "id": "33461fa5",
   "metadata": {},
   "outputs": [
    {
     "data": {
      "text/plain": [
       "<AxesSubplot:>"
      ]
     },
     "execution_count": 50,
     "metadata": {},
     "output_type": "execute_result"
    },
    {
     "data": {
      "image/png": "[encoded data removed]",
      "text/plain": [
       "<Figure size 864x432 with 1 Axes>"
      ]
     },
     "metadata": {
      "needs_background": "light"
     },
     "output_type": "display_data"
    }
   ],
   "source": [
    "# Gráfico de barras dessa distribuição de frequências:\n",
    "dist_freq_quantitativa_renda[\"Frequência\"].plot.bar(width = 1, color = \"blue\", alpha = 0.2, figsize = (12,6))"
   ]
  },
  {
   "cell_type": "markdown",
   "id": "171b35e3",
   "metadata": {},
   "source": [
    "Está nessa ordem pois eu coloquei o ascending como False, e para explicar cada parâmetro da célula 54:\n",
    "* _[\"Frequência\"]_ é só para informar especificamente o que a gente quer desa distribuição;\n",
    "* plot define gráfico e _bar_ o seu tipo;\n",
    "* _width_ é a largura de cada uma das bases;\n",
    "* _color_ define a cor das barras;\n",
    "* _alpha_ define a transparência das barras;\n",
    "* _figsize_ assim como anteriormente define o tamanho da figura;"
   ]
  },
  {
   "cell_type": "markdown",
   "id": "0b88949c",
   "metadata": {},
   "source": [
    "# Aula3\n",
    "## Média (Aritmética)\n",
    "\n",
    "Soma de todos os valores de interesses com pesos iguais, e a divisão pelo total de vlaores somados.\n",
    "\n",
    "Começando com um novo dataframe mostrando com e fácil fazer uma média:"
   ]
  },
  {
   "cell_type": "code",
   "execution_count": 51,
   "id": "7839224f",
   "metadata": {},
   "outputs": [
    {
     "data": {
      "text/html": [
       "<div>\n",
       "<style scoped>\n",
       "    .dataframe tbody tr th:only-of-type {\n",
       "        vertical-align: middle;\n",
       "    }\n",
       "\n",
       "    .dataframe tbody tr th {\n",
       "        vertical-align: top;\n",
       "    }\n",
       "\n",
       "    .dataframe thead th {\n",
       "        text-align: right;\n",
       "    }\n",
       "</style>\n",
       "<table border=\"1\" class=\"dataframe\">\n",
       "  <thead>\n",
       "    <tr style=\"text-align: right;\">\n",
       "      <th>Matérias</th>\n",
       "      <th>Fulano</th>\n",
       "      <th>Beltrano</th>\n",
       "      <th>Sicrano</th>\n",
       "    </tr>\n",
       "  </thead>\n",
       "  <tbody>\n",
       "    <tr>\n",
       "      <th>Matemática</th>\n",
       "      <td>8</td>\n",
       "      <td>10.0</td>\n",
       "      <td>7.5</td>\n",
       "    </tr>\n",
       "    <tr>\n",
       "      <th>Português</th>\n",
       "      <td>10</td>\n",
       "      <td>2.0</td>\n",
       "      <td>8.0</td>\n",
       "    </tr>\n",
       "    <tr>\n",
       "      <th>Inglês</th>\n",
       "      <td>4</td>\n",
       "      <td>0.5</td>\n",
       "      <td>7.0</td>\n",
       "    </tr>\n",
       "    <tr>\n",
       "      <th>Geografia</th>\n",
       "      <td>8</td>\n",
       "      <td>1.0</td>\n",
       "      <td>8.0</td>\n",
       "    </tr>\n",
       "    <tr>\n",
       "      <th>História</th>\n",
       "      <td>6</td>\n",
       "      <td>3.0</td>\n",
       "      <td>8.0</td>\n",
       "    </tr>\n",
       "    <tr>\n",
       "      <th>Física</th>\n",
       "      <td>10</td>\n",
       "      <td>9.5</td>\n",
       "      <td>8.5</td>\n",
       "    </tr>\n",
       "    <tr>\n",
       "      <th>Química</th>\n",
       "      <td>8</td>\n",
       "      <td>10.0</td>\n",
       "      <td>7.0</td>\n",
       "    </tr>\n",
       "  </tbody>\n",
       "</table>\n",
       "</div>"
      ],
      "text/plain": [
       "Matérias    Fulano  Beltrano  Sicrano\n",
       "Matemática       8      10.0      7.5\n",
       "Português       10       2.0      8.0\n",
       "Inglês           4       0.5      7.0\n",
       "Geografia        8       1.0      8.0\n",
       "História         6       3.0      8.0\n",
       "Física          10       9.5      8.5\n",
       "Química          8      10.0      7.0"
      ]
     },
     "execution_count": 51,
     "metadata": {},
     "output_type": "execute_result"
    }
   ],
   "source": [
    "df = pd.DataFrame(data = {'Fulano': [8, 10, 4, 8, 6, 10, 8],\n",
    "                          'Beltrano': [10, 2, 0.5, 1, 3, 9.5, 10],\n",
    "                          'Sicrano': [7.5, 8, 7, 8, 8, 8.5, 7]},\n",
    "                 index = ['Matemática',\n",
    "                          'Português',\n",
    "                          'Inglês',\n",
    "                          'Geografia',\n",
    "                          'História',\n",
    "                          'Física',\n",
    "                          'Química'])\n",
    "df.rename_axis('Matérias', axis = 'columns', inplace = True)\n",
    "df"
   ]
  },
  {
   "cell_type": "markdown",
   "id": "04c3f218",
   "metadata": {},
   "source": [
    "Aqui temos então um conjunto de matérias de 3 pessoas, para fazer a média das notas, basta fazer:"
   ]
  },
  {
   "cell_type": "code",
   "execution_count": 52,
   "id": "cf2bab55",
   "metadata": {},
   "outputs": [
    {
     "data": {
      "text/plain": [
       "7.714285714285714"
      ]
     },
     "execution_count": 52,
     "metadata": {},
     "output_type": "execute_result"
    }
   ],
   "source": [
    "df[\"Fulano\"].mean()"
   ]
  },
  {
   "cell_type": "markdown",
   "id": "2102479a",
   "metadata": {},
   "source": [
    "Essa é a média de Fulano!\n",
    "\n",
    "Voltando a utilização dos dados principais:"
   ]
  },
  {
   "cell_type": "code",
   "execution_count": 53,
   "id": "f409ae44",
   "metadata": {},
   "outputs": [
    {
     "data": {
      "text/html": [
       "<div>\n",
       "<style scoped>\n",
       "    .dataframe tbody tr th:only-of-type {\n",
       "        vertical-align: middle;\n",
       "    }\n",
       "\n",
       "    .dataframe tbody tr th {\n",
       "        vertical-align: top;\n",
       "    }\n",
       "\n",
       "    .dataframe thead th {\n",
       "        text-align: right;\n",
       "    }\n",
       "</style>\n",
       "<table border=\"1\" class=\"dataframe\">\n",
       "  <thead>\n",
       "    <tr style=\"text-align: right;\">\n",
       "      <th></th>\n",
       "      <th>UF</th>\n",
       "      <th>Idade</th>\n",
       "      <th>Cor</th>\n",
       "      <th>Anos de Estudo</th>\n",
       "      <th>Renda</th>\n",
       "      <th>Altura</th>\n",
       "    </tr>\n",
       "    <tr>\n",
       "      <th>Sexo</th>\n",
       "      <th></th>\n",
       "      <th></th>\n",
       "      <th></th>\n",
       "      <th></th>\n",
       "      <th></th>\n",
       "      <th></th>\n",
       "    </tr>\n",
       "  </thead>\n",
       "  <tbody>\n",
       "    <tr>\n",
       "      <th>0</th>\n",
       "      <td>31.901991</td>\n",
       "      <td>44.046554</td>\n",
       "      <td>5.038685</td>\n",
       "      <td>9.120169</td>\n",
       "      <td>2192.441596</td>\n",
       "      <td>1.699443</td>\n",
       "    </tr>\n",
       "    <tr>\n",
       "      <th>1</th>\n",
       "      <td>31.937728</td>\n",
       "      <td>44.127554</td>\n",
       "      <td>5.018906</td>\n",
       "      <td>10.258584</td>\n",
       "      <td>1566.847393</td>\n",
       "      <td>1.699670</td>\n",
       "    </tr>\n",
       "  </tbody>\n",
       "</table>\n",
       "</div>"
      ],
      "text/plain": [
       "             UF      Idade       Cor  Anos de Estudo        Renda    Altura\n",
       "Sexo                                                                       \n",
       "0     31.901991  44.046554  5.038685        9.120169  2192.441596  1.699443\n",
       "1     31.937728  44.127554  5.018906       10.258584  1566.847393  1.699670"
      ]
     },
     "execution_count": 53,
     "metadata": {},
     "output_type": "execute_result"
    }
   ],
   "source": [
    "dados.groupby([\"Sexo\"]).mean()"
   ]
  },
  {
   "cell_type": "markdown",
   "id": "b2aff07e",
   "metadata": {},
   "source": [
    "Utilizando da forma groupby, ele vai grupar o que a gente quer pela coluna escolhida, colocando ela na linha e o resto na coluna, e pela função de terminada, contudo somente da forma de código colocada anteriormente, ele fará a média de tudo, mesmo aquelas informação que sejam qualitativas, como UF, Anos de estudo, trazendo uma informação que não faz sentido assim.\n",
    "\n",
    "O certo seria utilizar já definindo qual é a outra coluna que queremos trabalhar com:"
   ]
  },
  {
   "cell_type": "code",
   "execution_count": 54,
   "id": "5faf9f41",
   "metadata": {},
   "outputs": [
    {
     "data": {
      "text/plain": [
       "Sexo\n",
       "0    2192.441596\n",
       "1    1566.847393\n",
       "Name: Renda, dtype: float64"
      ]
     },
     "execution_count": 54,
     "metadata": {},
     "output_type": "execute_result"
    }
   ],
   "source": [
    "dados.groupby([\"Sexo\"]).Renda.mean()"
   ]
  },
  {
   "cell_type": "markdown",
   "id": "07a9e4b0",
   "metadata": {},
   "source": [
    "Assim mostramos a renda por sexo, de forma geral. E se fizermos ao contrário, a grupar por renda e escolher sexo para fazer a média? Vai só alterar linha por coluna? \n",
    "\n",
    "De fato vai, mas irá pegar todas as unidades possíveis de renda:"
   ]
  },
  {
   "cell_type": "code",
   "execution_count": 55,
   "id": "cc92ffbf",
   "metadata": {},
   "outputs": [
    {
     "data": {
      "text/plain": [
       "Renda\n",
       "0         0.361702\n",
       "5         0.000000\n",
       "6         0.000000\n",
       "8         0.500000\n",
       "10        0.555556\n",
       "            ...   \n",
       "80000     0.000000\n",
       "90000     0.000000\n",
       "100000    0.333333\n",
       "120000    1.000000\n",
       "200000    0.000000\n",
       "Name: Sexo, Length: 1606, dtype: float64"
      ]
     },
     "execution_count": 55,
     "metadata": {},
     "output_type": "execute_result"
    }
   ],
   "source": [
    "dados.groupby([\"Renda\"]).Sexo.mean()"
   ]
  },
  {
   "cell_type": "markdown",
   "id": "ea56352f",
   "metadata": {},
   "source": [
    "Ele pega todo caso de Renda e faz a média dos valores, se zero, implica que tem o mesmo número de mulheres e homens, mas tem vários outros casos que se torna difícil de visualizar ou até mesmo tirar informação dessa forma."
   ]
  },
  {
   "cell_type": "markdown",
   "id": "26ee909d",
   "metadata": {},
   "source": [
    "Média de quais estados cada sexo vive, até a interpretação disso é difícil de entender:"
   ]
  },
  {
   "cell_type": "code",
   "execution_count": 56,
   "id": "2f9576d0",
   "metadata": {},
   "outputs": [
    {
     "data": {
      "text/plain": [
       "Sexo\n",
       "0    31.901991\n",
       "1    31.937728\n",
       "Name: UF, dtype: float64"
      ]
     },
     "execution_count": 56,
     "metadata": {},
     "output_type": "execute_result"
    }
   ],
   "source": [
    "dados.groupby([\"Sexo\"]).UF.mean()"
   ]
  },
  {
   "cell_type": "markdown",
   "id": "cbe428b6",
   "metadata": {},
   "source": [
    "Lembrando que nem sempre a média e a melhor forma de de fato ver a média dos valores sendo analisados. Nesse caso fazendo a média da renda por sexo, é claro que a média em si não é tão bem acurada assim."
   ]
  },
  {
   "cell_type": "code",
   "execution_count": 57,
   "id": "361341fa",
   "metadata": {},
   "outputs": [
    {
     "data": {
      "text/html": [
       "<div>\n",
       "<style scoped>\n",
       "    .dataframe tbody tr th:only-of-type {\n",
       "        vertical-align: middle;\n",
       "    }\n",
       "\n",
       "    .dataframe tbody tr th {\n",
       "        vertical-align: top;\n",
       "    }\n",
       "\n",
       "    .dataframe thead th {\n",
       "        text-align: right;\n",
       "    }\n",
       "</style>\n",
       "<table border=\"1\" class=\"dataframe\">\n",
       "  <thead>\n",
       "    <tr style=\"text-align: right;\">\n",
       "      <th></th>\n",
       "      <th>Sexo</th>\n",
       "      <th>Idade</th>\n",
       "    </tr>\n",
       "  </thead>\n",
       "  <tbody>\n",
       "    <tr>\n",
       "      <th>0</th>\n",
       "      <td>H</td>\n",
       "      <td>53</td>\n",
       "    </tr>\n",
       "    <tr>\n",
       "      <th>1</th>\n",
       "      <td>M</td>\n",
       "      <td>72</td>\n",
       "    </tr>\n",
       "    <tr>\n",
       "      <th>2</th>\n",
       "      <td>M</td>\n",
       "      <td>54</td>\n",
       "    </tr>\n",
       "    <tr>\n",
       "      <th>3</th>\n",
       "      <td>M</td>\n",
       "      <td>27</td>\n",
       "    </tr>\n",
       "    <tr>\n",
       "      <th>4</th>\n",
       "      <td>M</td>\n",
       "      <td>30</td>\n",
       "    </tr>\n",
       "    <tr>\n",
       "      <th>5</th>\n",
       "      <td>H</td>\n",
       "      <td>40</td>\n",
       "    </tr>\n",
       "    <tr>\n",
       "      <th>6</th>\n",
       "      <td>H</td>\n",
       "      <td>58</td>\n",
       "    </tr>\n",
       "    <tr>\n",
       "      <th>7</th>\n",
       "      <td>H</td>\n",
       "      <td>32</td>\n",
       "    </tr>\n",
       "    <tr>\n",
       "      <th>8</th>\n",
       "      <td>M</td>\n",
       "      <td>44</td>\n",
       "    </tr>\n",
       "    <tr>\n",
       "      <th>9</th>\n",
       "      <td>M</td>\n",
       "      <td>51</td>\n",
       "    </tr>\n",
       "  </tbody>\n",
       "</table>\n",
       "</div>"
      ],
      "text/plain": [
       "  Sexo  Idade\n",
       "0    H     53\n",
       "1    M     72\n",
       "2    M     54\n",
       "3    M     27\n",
       "4    M     30\n",
       "5    H     40\n",
       "6    H     58\n",
       "7    H     32\n",
       "8    M     44\n",
       "9    M     51"
      ]
     },
     "execution_count": 57,
     "metadata": {},
     "output_type": "execute_result"
    }
   ],
   "source": [
    "# Exemplo em sala de aula:\n",
    "dataset = pd.DataFrame({\n",
    "    'Sexo': ['H', 'M', 'M', 'M', 'M', 'H', 'H', 'H', 'M', 'M'],\n",
    "    'Idade': [53, 72, 54, 27, 30, 40, 58, 32, 44, 51]\n",
    "})\n",
    "dataset"
   ]
  },
  {
   "cell_type": "code",
   "execution_count": 58,
   "id": "6f4574c1",
   "metadata": {},
   "outputs": [
    {
     "data": {
      "text/plain": [
       "46.1"
      ]
     },
     "execution_count": 58,
     "metadata": {},
     "output_type": "execute_result"
    }
   ],
   "source": [
    "#Média da idade\n",
    "dataset.Idade.mean()"
   ]
  },
  {
   "cell_type": "code",
   "execution_count": 59,
   "id": "64bae398",
   "metadata": {},
   "outputs": [
    {
     "data": {
      "text/html": [
       "<div>\n",
       "<style scoped>\n",
       "    .dataframe tbody tr th:only-of-type {\n",
       "        vertical-align: middle;\n",
       "    }\n",
       "\n",
       "    .dataframe tbody tr th {\n",
       "        vertical-align: top;\n",
       "    }\n",
       "\n",
       "    .dataframe thead th {\n",
       "        text-align: right;\n",
       "    }\n",
       "</style>\n",
       "<table border=\"1\" class=\"dataframe\">\n",
       "  <thead>\n",
       "    <tr style=\"text-align: right;\">\n",
       "      <th></th>\n",
       "      <th>Idade</th>\n",
       "    </tr>\n",
       "    <tr>\n",
       "      <th>Sexo</th>\n",
       "      <th></th>\n",
       "    </tr>\n",
       "  </thead>\n",
       "  <tbody>\n",
       "    <tr>\n",
       "      <th>H</th>\n",
       "      <td>45.750000</td>\n",
       "    </tr>\n",
       "    <tr>\n",
       "      <th>M</th>\n",
       "      <td>46.333333</td>\n",
       "    </tr>\n",
       "  </tbody>\n",
       "</table>\n",
       "</div>"
      ],
      "text/plain": [
       "          Idade\n",
       "Sexo           \n",
       "H     45.750000\n",
       "M     46.333333"
      ]
     },
     "execution_count": 59,
     "metadata": {},
     "output_type": "execute_result"
    }
   ],
   "source": [
    "# Média da idade por gênero, onde mostra todos os gêneros:\n",
    "dataset.groupby([\"Sexo\"]).mean()"
   ]
  },
  {
   "cell_type": "code",
   "execution_count": 60,
   "id": "979fa8b9",
   "metadata": {},
   "outputs": [
    {
     "data": {
      "text/plain": [
       "Idade    45.75\n",
       "Name: H, dtype: float64"
      ]
     },
     "execution_count": 60,
     "metadata": {},
     "output_type": "execute_result"
    }
   ],
   "source": [
    "# Caso eu queria de um gênero específico seja tanto para series quanto para DataFrame, \n",
    "# eu tenho que colocar loc[\"Nome do que eu quero\"] depois:\n",
    "dataset.groupby([\"Sexo\"]).mean().loc[\"H\"]"
   ]
  },
  {
   "cell_type": "markdown",
   "id": "71851bc8",
   "metadata": {},
   "source": [
    "## Mediana\n",
    "Caso ordenemos todos os registros de acordo com a coluna de nosso interesse da mediana, aquele que se encontrar no meio da ordenação, 50% para esquerda e para direita da ordenação é a mediana, caso tenha par registros, basta pegar o primeiro da direita que se encontra na média."
   ]
  },
  {
   "cell_type": "code",
   "execution_count": 61,
   "id": "b9ff90cc",
   "metadata": {},
   "outputs": [
    {
     "data": {
      "text/plain": [
       "Inglês         4\n",
       "História       6\n",
       "Matemática     8\n",
       "Geografia      8\n",
       "Química        8\n",
       "Português     10\n",
       "Física        10\n",
       "Name: Fulano, dtype: int64"
      ]
     },
     "execution_count": 61,
     "metadata": {},
     "output_type": "execute_result"
    }
   ],
   "source": [
    "# Achando a nota mediana do Fulano, ordenando por valor para ficar mais fácil de visualizar:\n",
    "notas_fulano = df.Fulano.sort_values()\n",
    "notas_fulano"
   ]
  },
  {
   "cell_type": "markdown",
   "id": "f229cd23",
   "metadata": {},
   "source": [
    " Para deixar de ser uma _series_ e tornar ela um DataFrame, podemos utilizar o método reset_index:"
   ]
  },
  {
   "cell_type": "code",
   "execution_count": 62,
   "id": "53e41b94",
   "metadata": {},
   "outputs": [
    {
     "data": {
      "text/html": [
       "<div>\n",
       "<style scoped>\n",
       "    .dataframe tbody tr th:only-of-type {\n",
       "        vertical-align: middle;\n",
       "    }\n",
       "\n",
       "    .dataframe tbody tr th {\n",
       "        vertical-align: top;\n",
       "    }\n",
       "\n",
       "    .dataframe thead th {\n",
       "        text-align: right;\n",
       "    }\n",
       "</style>\n",
       "<table border=\"1\" class=\"dataframe\">\n",
       "  <thead>\n",
       "    <tr style=\"text-align: right;\">\n",
       "      <th></th>\n",
       "      <th>index</th>\n",
       "      <th>Fulano</th>\n",
       "    </tr>\n",
       "  </thead>\n",
       "  <tbody>\n",
       "    <tr>\n",
       "      <th>0</th>\n",
       "      <td>Inglês</td>\n",
       "      <td>4</td>\n",
       "    </tr>\n",
       "    <tr>\n",
       "      <th>1</th>\n",
       "      <td>História</td>\n",
       "      <td>6</td>\n",
       "    </tr>\n",
       "    <tr>\n",
       "      <th>2</th>\n",
       "      <td>Matemática</td>\n",
       "      <td>8</td>\n",
       "    </tr>\n",
       "    <tr>\n",
       "      <th>3</th>\n",
       "      <td>Geografia</td>\n",
       "      <td>8</td>\n",
       "    </tr>\n",
       "    <tr>\n",
       "      <th>4</th>\n",
       "      <td>Química</td>\n",
       "      <td>8</td>\n",
       "    </tr>\n",
       "    <tr>\n",
       "      <th>5</th>\n",
       "      <td>Português</td>\n",
       "      <td>10</td>\n",
       "    </tr>\n",
       "    <tr>\n",
       "      <th>6</th>\n",
       "      <td>Física</td>\n",
       "      <td>10</td>\n",
       "    </tr>\n",
       "  </tbody>\n",
       "</table>\n",
       "</div>"
      ],
      "text/plain": [
       "        index  Fulano\n",
       "0      Inglês       4\n",
       "1    História       6\n",
       "2  Matemática       8\n",
       "3   Geografia       8\n",
       "4     Química       8\n",
       "5   Português      10\n",
       "6      Física      10"
      ]
     },
     "execution_count": 62,
     "metadata": {},
     "output_type": "execute_result"
    }
   ],
   "source": [
    "notas_fulano = notas_fulano.reset_index()\n",
    "notas_fulano"
   ]
  },
  {
   "cell_type": "code",
   "execution_count": 63,
   "id": "ffee82e6",
   "metadata": {},
   "outputs": [
    {
     "data": {
      "text/plain": [
       "8.0"
      ]
     },
     "execution_count": 63,
     "metadata": {},
     "output_type": "execute_result"
    }
   ],
   "source": [
    "notas_fulano.Fulano.median()\n",
    "# OU\n",
    "# df.Fulano.median()\n",
    "\n",
    "# Ambos terão o mesmo resultado."
   ]
  },
  {
   "cell_type": "markdown",
   "id": "44cb11b6",
   "metadata": {},
   "source": [
    "Outra forma de pegar a mediana é com _quantille_:\n",
    "Mas para que serve? Por padrão ele dá a mediana, mas pode ser alterado com os parâmetros, para ver melhor a descrição do método basta tirar o comentário da linha de código abaixo e rodar a célula."
   ]
  },
  {
   "cell_type": "code",
   "execution_count": 64,
   "id": "cc3ffade",
   "metadata": {},
   "outputs": [
    {
     "data": {
      "text/plain": [
       "8.0"
      ]
     },
     "execution_count": 64,
     "metadata": {},
     "output_type": "execute_result"
    }
   ],
   "source": [
    "# df.Fulano.quantile? # Para ver a descrição exata dada pelo notebook\n",
    "df.Fulano.quantile()"
   ]
  },
  {
   "cell_type": "markdown",
   "id": "c6831aad",
   "metadata": {},
   "source": [
    "## Moda\n",
    "É o valor mais frequente num conjunto de dados."
   ]
  },
  {
   "cell_type": "code",
   "execution_count": 65,
   "id": "b525a1cc",
   "metadata": {},
   "outputs": [
    {
     "data": {
      "text/html": [
       "<div>\n",
       "<style scoped>\n",
       "    .dataframe tbody tr th:only-of-type {\n",
       "        vertical-align: middle;\n",
       "    }\n",
       "\n",
       "    .dataframe tbody tr th {\n",
       "        vertical-align: top;\n",
       "    }\n",
       "\n",
       "    .dataframe thead th {\n",
       "        text-align: right;\n",
       "    }\n",
       "</style>\n",
       "<table border=\"1\" class=\"dataframe\">\n",
       "  <thead>\n",
       "    <tr style=\"text-align: right;\">\n",
       "      <th>Matérias</th>\n",
       "      <th>Fulano</th>\n",
       "      <th>Beltrano</th>\n",
       "      <th>Sicrano</th>\n",
       "    </tr>\n",
       "  </thead>\n",
       "  <tbody>\n",
       "    <tr>\n",
       "      <th>Matemática</th>\n",
       "      <td>8</td>\n",
       "      <td>10.0</td>\n",
       "      <td>7.5</td>\n",
       "    </tr>\n",
       "    <tr>\n",
       "      <th>Português</th>\n",
       "      <td>10</td>\n",
       "      <td>2.0</td>\n",
       "      <td>8.0</td>\n",
       "    </tr>\n",
       "    <tr>\n",
       "      <th>Inglês</th>\n",
       "      <td>4</td>\n",
       "      <td>0.5</td>\n",
       "      <td>7.0</td>\n",
       "    </tr>\n",
       "    <tr>\n",
       "      <th>Geografia</th>\n",
       "      <td>8</td>\n",
       "      <td>1.0</td>\n",
       "      <td>8.0</td>\n",
       "    </tr>\n",
       "    <tr>\n",
       "      <th>História</th>\n",
       "      <td>6</td>\n",
       "      <td>3.0</td>\n",
       "      <td>8.0</td>\n",
       "    </tr>\n",
       "    <tr>\n",
       "      <th>Física</th>\n",
       "      <td>10</td>\n",
       "      <td>9.5</td>\n",
       "      <td>8.5</td>\n",
       "    </tr>\n",
       "    <tr>\n",
       "      <th>Química</th>\n",
       "      <td>8</td>\n",
       "      <td>10.0</td>\n",
       "      <td>7.0</td>\n",
       "    </tr>\n",
       "  </tbody>\n",
       "</table>\n",
       "</div>"
      ],
      "text/plain": [
       "Matérias    Fulano  Beltrano  Sicrano\n",
       "Matemática       8      10.0      7.5\n",
       "Português       10       2.0      8.0\n",
       "Inglês           4       0.5      7.0\n",
       "Geografia        8       1.0      8.0\n",
       "História         6       3.0      8.0\n",
       "Física          10       9.5      8.5\n",
       "Química          8      10.0      7.0"
      ]
     },
     "execution_count": 65,
     "metadata": {},
     "output_type": "execute_result"
    }
   ],
   "source": [
    "# Para relembrar\n",
    "df"
   ]
  },
  {
   "cell_type": "code",
   "execution_count": 66,
   "id": "aa357a0b",
   "metadata": {},
   "outputs": [
    {
     "data": {
      "text/html": [
       "<div>\n",
       "<style scoped>\n",
       "    .dataframe tbody tr th:only-of-type {\n",
       "        vertical-align: middle;\n",
       "    }\n",
       "\n",
       "    .dataframe tbody tr th {\n",
       "        vertical-align: top;\n",
       "    }\n",
       "\n",
       "    .dataframe thead th {\n",
       "        text-align: right;\n",
       "    }\n",
       "</style>\n",
       "<table border=\"1\" class=\"dataframe\">\n",
       "  <thead>\n",
       "    <tr style=\"text-align: right;\">\n",
       "      <th>Matérias</th>\n",
       "      <th>Fulano</th>\n",
       "      <th>Beltrano</th>\n",
       "      <th>Sicrano</th>\n",
       "    </tr>\n",
       "  </thead>\n",
       "  <tbody>\n",
       "    <tr>\n",
       "      <th>0</th>\n",
       "      <td>8</td>\n",
       "      <td>10.0</td>\n",
       "      <td>8.0</td>\n",
       "    </tr>\n",
       "  </tbody>\n",
       "</table>\n",
       "</div>"
      ],
      "text/plain": [
       "Matérias  Fulano  Beltrano  Sicrano\n",
       "0              8      10.0      8.0"
      ]
     },
     "execution_count": 66,
     "metadata": {},
     "output_type": "execute_result"
    }
   ],
   "source": [
    "# Para pegar a moda, basta escrever o comando:\n",
    "df.mode()"
   ]
  },
  {
   "cell_type": "markdown",
   "id": "1fa97be3",
   "metadata": {},
   "source": [
    "Estamos vendo o caso em que todos só apresentam uma moda, mas caso fosse bimodal ou até multimodal o resultado seria outro."
   ]
  },
  {
   "cell_type": "code",
   "execution_count": 67,
   "id": "a97d759a",
   "metadata": {},
   "outputs": [
    {
     "data": {
      "text/plain": [
       "0    1\n",
       "1    2\n",
       "2    2\n",
       "3    3\n",
       "4    4\n",
       "5    4\n",
       "6    5\n",
       "7    6\n",
       "8    6\n",
       "dtype: int64"
      ]
     },
     "execution_count": 67,
     "metadata": {},
     "output_type": "execute_result"
    }
   ],
   "source": [
    "# Exemplo bimodal\n",
    "exemplo = pd.Series([1, 2, 2, 3, 4, 4, 5, 6, 6])\n",
    "exemplo"
   ]
  },
  {
   "cell_type": "code",
   "execution_count": 68,
   "id": "b2485e68",
   "metadata": {},
   "outputs": [
    {
     "data": {
      "text/plain": [
       "0    2\n",
       "1    4\n",
       "2    6\n",
       "dtype: int64"
      ]
     },
     "execution_count": 68,
     "metadata": {},
     "output_type": "execute_result"
    }
   ],
   "source": [
    "# Pegando a moda:\n",
    "exemplo.mode()"
   ]
  },
  {
   "cell_type": "markdown",
   "id": "12595457",
   "metadata": {},
   "source": [
    "Retornando assim um exemplo de caso multimodal.\n",
    "\n",
    "Moda é boa para ser usada em casos de variáveis qualitativas!\n",
    "\n",
    "Mas mesmo assim podemos usar na Renda, para ver quanto maior parte das pessoas recebem:"
   ]
  },
  {
   "cell_type": "code",
   "execution_count": 69,
   "id": "74ef68a7",
   "metadata": {},
   "outputs": [
    {
     "data": {
      "text/plain": [
       "0    788\n",
       "Name: Renda, dtype: int64"
      ]
     },
     "execution_count": 69,
     "metadata": {},
     "output_type": "execute_result"
    }
   ],
   "source": [
    "dados.Renda.mode()"
   ]
  },
  {
   "cell_type": "markdown",
   "id": "0e85fe8f",
   "metadata": {},
   "source": [
    "Então a moda é 788 reais, apesar de que a média é 2000 reais, então é possível ver que tem alguns casos que se destacam muito acima de 788 para tornar a média tão alta assim."
   ]
  },
  {
   "cell_type": "markdown",
   "id": "d5c05c19",
   "metadata": {},
   "source": [
    "## Relação entre média, mediana e moda."
   ]
  },
  {
   "attachments": {
    "image.png": {
     "image/png": "[encoded data removed]"
    }
   },
   "cell_type": "markdown",
   "id": "1a15b962",
   "metadata": {},
   "source": [
    "Matéria da aula 3, ele já havia escrevido antes, então eu nem tentei copiar, dá para ver depois no caderno dele. É importante entender a relação entre às 3 para ver como é a simetria do problema, se é assimétrico para direita ou para esquerda, ou simétrico, apesar de ser mais difícil.\n",
    "![image.png](attachment:image.png)\n"
   ]
  },
  {
   "cell_type": "markdown",
   "id": "e57eef50",
   "metadata": {},
   "source": [
    "# Aula4: Medidas Separatrizes\n",
    "\n",
    "Medidas separatrizes são aquelas que funcionam como a mediana, que separa 50% e 50%, que separam em porcentagens dos dados ordenados.\n",
    "\n",
    "Os quartis separam em 4 partes, decis em 10 partes, percentis em 100 partes.\n",
    "Para fazer essa separação basta usar o quantile que usamos anteriormente, só que especificando a forma que queremos. Lembrando que para fazer a separação em duas partes, precisa colocar aonde da ordenação queremos separar, só colocando uma separação.\n",
    "\n",
    "Para n separações, precisamos de n-1 valores para definir onde queremos separar."
   ]
  },
  {
   "cell_type": "code",
   "execution_count": 70,
   "id": "f8e8989a",
   "metadata": {},
   "outputs": [
    {
     "data": {
      "text/plain": [
       "1200.0"
      ]
     },
     "execution_count": 70,
     "metadata": {},
     "output_type": "execute_result"
    }
   ],
   "source": [
    "dados.Renda.quantile()"
   ]
  },
  {
   "cell_type": "code",
   "execution_count": 71,
   "id": "bd6d5f8e",
   "metadata": {},
   "outputs": [
    {
     "data": {
      "text/plain": [
       "1200.0"
      ]
     },
     "execution_count": 71,
     "metadata": {},
     "output_type": "execute_result"
    }
   ],
   "source": [
    "# Que é a mesma coisa que usar:\n",
    "dados.Renda.quantile(q = 0.5)"
   ]
  },
  {
   "cell_type": "code",
   "execution_count": 72,
   "id": "e6676477",
   "metadata": {},
   "outputs": [
    {
     "data": {
      "text/plain": [
       "0.25     788.0\n",
       "0.50    1200.0\n",
       "0.75    2000.0\n",
       "Name: Renda, dtype: float64"
      ]
     },
     "execution_count": 72,
     "metadata": {},
     "output_type": "execute_result"
    }
   ],
   "source": [
    "# Fazendo a linha de comando para os quartis\n",
    "dados.Renda.quantile([0.25,0.5,0.75])"
   ]
  },
  {
   "cell_type": "code",
   "execution_count": 73,
   "id": "b50176ce",
   "metadata": {},
   "outputs": [
    {
     "data": {
      "text/plain": [
       "[1, 2, 3, 4, 5, 6, 7, 8, 9]"
      ]
     },
     "execution_count": 73,
     "metadata": {},
     "output_type": "execute_result"
    }
   ],
   "source": [
    "# fazendo list comprehension para fazer  as separações para o quantile da forma de lista.\n",
    "[i for i in range(1,10)]"
   ]
  },
  {
   "cell_type": "code",
   "execution_count": 74,
   "id": "d0f2e447",
   "metadata": {},
   "outputs": [
    {
     "data": {
      "text/plain": [
       "0.1     350.0\n",
       "0.2     788.0\n",
       "0.3     800.0\n",
       "0.4    1000.0\n",
       "0.5    1200.0\n",
       "0.6    1500.0\n",
       "0.7    1900.0\n",
       "0.8    2500.0\n",
       "0.9    4000.0\n",
       "Name: Renda, dtype: float64"
      ]
     },
     "execution_count": 74,
     "metadata": {},
     "output_type": "execute_result"
    }
   ],
   "source": [
    "# Fazendo a linha de comando para os decis:\n",
    "# Precisamos colocar i/10 pois os valores tem que ser de 0 a 1, como se fosse a porcentagem dos dados.\n",
    "dados.Renda.quantile([i/10 for i in range(1,10)])"
   ]
  },
  {
   "cell_type": "markdown",
   "id": "834f2701",
   "metadata": {},
   "source": [
    "Disso podemos tirar, por exemplo, que 40% das pessoas entrevistadas ganham até 1000 reais. E somente 10% ganham acima de 4000 reais.\n",
    "\n",
    "Para o percentis, abaixo, temos mais casos uma vez que, temos melhores porcentagens sobre os valores das rendas."
   ]
  },
  {
   "cell_type": "code",
   "execution_count": 75,
   "id": "671e2475",
   "metadata": {
    "scrolled": true
   },
   "outputs": [
    {
     "data": {
      "text/plain": [
       "0.01        0.0\n",
       "0.02        0.0\n",
       "0.03        0.0\n",
       "0.04       50.0\n",
       "0.05      100.0\n",
       "         ...   \n",
       "0.95     6000.0\n",
       "0.96     7000.0\n",
       "0.97     8000.0\n",
       "0.98    10000.0\n",
       "0.99    15000.0\n",
       "Name: Renda, Length: 99, dtype: float64"
      ]
     },
     "execution_count": 75,
     "metadata": {},
     "output_type": "execute_result"
    }
   ],
   "source": [
    "# Fazendo para o percentis:\n",
    "dados.Renda.quantile([i/100 for i in range(1,100)])"
   ]
  },
  {
   "cell_type": "markdown",
   "id": "9ea57f59",
   "metadata": {},
   "source": [
    "A partir de agora faremos um histograma acumulativo de idade, para praticar a ideia de acumulativo e facilitar a visualização das medidas separatrizes:"
   ]
  },
  {
   "cell_type": "code",
   "execution_count": 76,
   "id": "4659b08e",
   "metadata": {},
   "outputs": [
    {
     "data": {
      "text/plain": [
       "<AxesSubplot:title={'center':'Distribuição de Frequência acumuladas de Idade'}, xlabel='Anos', ylabel='Acumulado'>"
      ]
     },
     "execution_count": 76,
     "metadata": {},
     "output_type": "execute_result"
    },
    {
     "data": {
      "image/png": "[encoded data removed]",
      "text/plain": [
       "<Figure size 1008x432 with 1 Axes>"
      ]
     },
     "metadata": {
      "needs_background": "light"
     },
     "output_type": "display_data"
    }
   ],
   "source": [
    "ax3 = sns.histplot(dados.Idade,\n",
    "                  cumulative = True,\n",
    "                  kde = True)\n",
    "ax3.figure.set_size_inches(14,6)\n",
    "ax3.set_title(\"Distribuição de Frequência acumuladas de Idade\", fontsize = 18)\n",
    "ax3.set_xlabel(\"Anos\", fontsize = 14)\n",
    "ax3.set_ylabel(\"Acumulado\", fontsize = 14)\n",
    "ax3"
   ]
  },
  {
   "cell_type": "code",
   "execution_count": 77,
   "id": "bcef7486",
   "metadata": {},
   "outputs": [
    {
     "data": {
      "text/plain": [
       "0.1    28.0\n",
       "0.2    33.0\n",
       "0.3    36.0\n",
       "0.4    40.0\n",
       "0.5    43.0\n",
       "0.6    47.0\n",
       "0.7    51.0\n",
       "0.8    55.0\n",
       "0.9    61.0\n",
       "Name: Idade, dtype: float64"
      ]
     },
     "execution_count": 77,
     "metadata": {},
     "output_type": "execute_result"
    }
   ],
   "source": [
    "# Vamos fazer o décis para a idade e checar com o histograma acumulativo para visualizar.\n",
    "dados.Idade.quantile([i/10 for i in range(1,10)])"
   ]
  },
  {
   "cell_type": "code",
   "execution_count": 78,
   "id": "7b23551a",
   "metadata": {},
   "outputs": [
    {
     "data": {
      "text/plain": [
       "<AxesSubplot:title={'center':'Distribuição de Frequência acumuladas de Idade'}, xlabel='Anos', ylabel='Acumulado'>"
      ]
     },
     "execution_count": 78,
     "metadata": {},
     "output_type": "execute_result"
    },
    {
     "data": {
      "image/png": "[encoded data removed]",
      "text/plain": [
       "<Figure size 1008x432 with 1 Axes>"
      ]
     },
     "metadata": {
      "needs_background": "light"
     },
     "output_type": "display_data"
    }
   ],
   "source": [
    "# Fazendo a mesma coisa só que agora nós alterando a quantidade de separações para 10 bins\n",
    "\n",
    "ax3 = sns.histplot(dados.Idade,\n",
    "                  cumulative = True,\n",
    "                  kde = True,\n",
    "                  bins = 10)\n",
    "ax3.figure.set_size_inches(14,6)\n",
    "ax3.set_title(\"Distribuição de Frequência acumuladas de Idade\", fontsize = 18)\n",
    "ax3.set_xlabel(\"Anos\", fontsize = 14)\n",
    "ax3.set_ylabel(\"Acumulado\", fontsize = 14)\n",
    "ax3"
   ]
  },
  {
   "cell_type": "markdown",
   "id": "b37938a3",
   "metadata": {},
   "source": [
    "Podemos fazer a comparação entre os dois, da series e do histograma acumulativo, e vemos que 90% das pessoas estão abaixo de 61 anos, por exemplo. Outra coisa é também é 10% tem menos de 28 anos."
   ]
  },
  {
   "attachments": {
    "image.png": {
     "image/png": "[encoded data removed]"
    }
   },
   "cell_type": "markdown",
   "id": "126d0e18",
   "metadata": {},
   "source": [
    "## Boxplot\n",
    "\n",
    "Boxplot dá uma idéia da posição, dispersão, assimetria, caudas e dados discrepantes (outliers). A posição central é dada pela mediana e a dispesão por _**IIQ**_. As posições relativas de _**Q1**_, _**Mediana**_ e _**Q3**_ dão uma noçao da simetria da distribuição. Os comprimentos das caudas são dados pelas linhas que vão do retângulo aos valores remotos e pelos valores atípicos.\n",
    "![image.png](attachment:image.png)"
   ]
  },
  {
   "cell_type": "markdown",
   "id": "a79a9f59",
   "metadata": {},
   "source": [
    "O cara faz cada Q, Q1 e Q3, como quartis, que um é 25% e o outro é 75%, e a mediana seria o 50%. A diferença entre os dois quartis é o IIQ, intervalo inter quatil, que é uma informação de _dispersão de dados_. Indo para os outliers precisamos fazer a diferença dos quartis extremos subtraído do IIQ. Não necessariamente depois dos limites extremos são outliers, eles seriam candidatos para outliers, temos que visualizar e interpretar para depois definir.\n",
    "\n",
    "Como fazer um boxplot:\n",
    "## Exemplo 1: Altura!"
   ]
  },
  {
   "cell_type": "code",
   "execution_count": 79,
   "id": "34f5a50a",
   "metadata": {},
   "outputs": [
    {
     "data": {
      "text/plain": [
       "<AxesSubplot:title={'center':'Altura'}, xlabel='Metros'>"
      ]
     },
     "execution_count": 79,
     "metadata": {},
     "output_type": "execute_result"
    },
    {
     "data": {
      "image/png": "[encoded data removed]",
      "text/plain": [
       "<Figure size 864x288 with 1 Axes>"
      ]
     },
     "metadata": {
      "needs_background": "light"
     },
     "output_type": "display_data"
    }
   ],
   "source": [
    "ax41 = sns.boxplot( x = dados.Altura,              # x = \"Altura\", data = dados - daria a mesma coisa\n",
    "                   orient = \"h\")                   # Definir a orientação do box plot para horizontal\n",
    "ax41.figure.set_size_inches(12,4)\n",
    "ax41.set_title(\"Altura\", fontsize = 18)\n",
    "ax41.set_xlabel(\"Metros\", fontsize = 14)\n",
    "ax41\n",
    "\n",
    "# Nota: Se eu fizesse a variável com y, ao invpes de x, e colocasse o orient ='v', \n",
    "# ficaria na vertical o boxplot.\n"
   ]
  },
  {
   "cell_type": "markdown",
   "id": "5b9b5cf7",
   "metadata": {},
   "source": [
    "## Exemplo 2: Altura separando Sexos"
   ]
  },
  {
   "cell_type": "code",
   "execution_count": 80,
   "id": "2c509338",
   "metadata": {},
   "outputs": [
    {
     "data": {
      "text/plain": [
       "<AxesSubplot:title={'center':'Altura'}, xlabel='Metros', ylabel='Sexo'>"
      ]
     },
     "execution_count": 80,
     "metadata": {},
     "output_type": "execute_result"
    },
    {
     "data": {
      "image/png": "[encoded data removed]",
      "text/plain": [
       "<Figure size 864x288 with 1 Axes>"
      ]
     },
     "metadata": {
      "needs_background": "light"
     },
     "output_type": "display_data"
    }
   ],
   "source": [
    "# Podemos acrescentar uma segunda variável no eixo y.\n",
    "\n",
    "ax42 = sns.boxplot( x = dados.Altura, y = dados.Sexo,             \n",
    "                   orient = \"h\")                   \n",
    "ax42.figure.set_size_inches(12,4)\n",
    "ax42.set_title(\"Altura\", fontsize = 18)\n",
    "ax42.set_xlabel(\"Metros\", fontsize = 14)\n",
    "ax42\n",
    "\n",
    "# Agora temos uma separação de altura por sexo. E vmos que para os dois casos ainda é bem simétrico!"
   ]
  },
  {
   "cell_type": "markdown",
   "id": "fb2f8805",
   "metadata": {},
   "source": [
    "## Exemplo 3: Renda!"
   ]
  },
  {
   "cell_type": "code",
   "execution_count": 81,
   "id": "8eab8efe",
   "metadata": {},
   "outputs": [
    {
     "data": {
      "text/plain": [
       "<AxesSubplot:title={'center':'Renda'}, xlabel='R$'>"
      ]
     },
     "execution_count": 81,
     "metadata": {},
     "output_type": "execute_result"
    },
    {
     "data": {
      "image/png": "[encoded data removed]",
      "text/plain": [
       "<Figure size 864x288 with 1 Axes>"
      ]
     },
     "metadata": {
      "needs_background": "light"
     },
     "output_type": "display_data"
    }
   ],
   "source": [
    "ax43 = sns.boxplot( x = dados.Renda,             \n",
    "                   orient = \"h\")                   \n",
    "ax43.figure.set_size_inches(12,4)\n",
    "ax43.set_title(\"Renda\", fontsize = 18)\n",
    "ax43.set_xlabel(\"R$\", fontsize = 14)\n",
    "ax43"
   ]
  },
  {
   "cell_type": "markdown",
   "id": "04bcba7a",
   "metadata": {},
   "source": [
    "Dessa forma não podemos ver tanto do box plot, pela assimetria que é puxada por causa dos casos de 20000, a forma de lidar com isso é fazer uma query que reduz a quantidade de casos extremos, fazemos uma filtragem basicamente:"
   ]
  },
  {
   "cell_type": "code",
   "execution_count": 82,
   "id": "36882fad",
   "metadata": {},
   "outputs": [
    {
     "data": {
      "text/plain": [
       "<AxesSubplot:title={'center':'Renda'}, xlabel='R$'>"
      ]
     },
     "execution_count": 82,
     "metadata": {},
     "output_type": "execute_result"
    },
    {
     "data": {
      "image/png": "[encoded data removed]",
      "text/plain": [
       "<Figure size 864x288 with 1 Axes>"
      ]
     },
     "metadata": {
      "needs_background": "light"
     },
     "output_type": "display_data"
    }
   ],
   "source": [
    "# faremos da forma do professor pela falta de conhecimento de fazer outra forma.\n",
    "ax43 = sns.boxplot( x = \"Renda\", data = dados.query(\"Renda < 10000\"),             \n",
    "                   orient = \"h\")                   \n",
    "ax43.figure.set_size_inches(12,4)\n",
    "ax43.set_title(\"Renda\", fontsize = 18)\n",
    "ax43.set_xlabel(\"R$\", fontsize = 14)\n",
    "ax43"
   ]
  },
  {
   "cell_type": "markdown",
   "id": "3c1bbe4d",
   "metadata": {},
   "source": [
    "Agora a distribuição está mais visível, conseguimos ver os quartis de uma forma mais adequada. Filtramos os casos maiores que 10 mil, contudo muito mais fácil de entender a renda."
   ]
  },
  {
   "cell_type": "markdown",
   "id": "19e99047",
   "metadata": {},
   "source": [
    "## Exemplo 4: Renda para ambos os Sexos:"
   ]
  },
  {
   "cell_type": "code",
   "execution_count": 83,
   "id": "a37985f3",
   "metadata": {},
   "outputs": [
    {
     "data": {
      "text/plain": [
       "<AxesSubplot:title={'center':'Renda'}, xlabel='R$', ylabel='Sexo'>"
      ]
     },
     "execution_count": 83,
     "metadata": {},
     "output_type": "execute_result"
    },
    {
     "data": {
      "image/png": "[encoded data removed]",
      "text/plain": [
       "<Figure size 864x288 with 1 Axes>"
      ]
     },
     "metadata": {
      "needs_background": "light"
     },
     "output_type": "display_data"
    }
   ],
   "source": [
    "ax44 = sns.boxplot( x = \"Renda\", y = \"Sexo\", data = dados.query(\"Renda < 10000\"),             \n",
    "                   orient = \"h\")                   \n",
    "ax44.figure.set_size_inches(12,4)\n",
    "ax44.set_title(\"Renda\", fontsize = 18)\n",
    "ax44.set_xlabel(\"R$\", fontsize = 14)\n",
    "ax44"
   ]
  },
  {
   "cell_type": "markdown",
   "id": "5f638766",
   "metadata": {},
   "source": [
    "Fica claro pela comparação entre as duas linhas, e tendo noção que 0 é masculino e 1 é feminino, que os homens entrevistados tem uma renda média maior do que as mulheres entrevistadas. Quase 25% dos homens recebem mais 50% das mulheres. Com o boxplot podemos tirar conclusões que seriam mais difícil de ver só no olho.\n",
    "\n",
    "Agora vamos fazer um boxplot para 'Anos de Estudo'\n",
    "\n",
    "## Exemplo 5: Anos de Estudo"
   ]
  },
  {
   "cell_type": "code",
   "execution_count": 84,
   "id": "741a4b41",
   "metadata": {},
   "outputs": [
    {
     "data": {
      "text/plain": [
       "<AxesSubplot:title={'center':'Anos de Estudo'}, xlabel='Anos'>"
      ]
     },
     "execution_count": 84,
     "metadata": {},
     "output_type": "execute_result"
    },
    {
     "data": {
      "image/png": "[encoded data removed]",
      "text/plain": [
       "<Figure size 864x288 with 1 Axes>"
      ]
     },
     "metadata": {
      "needs_background": "light"
     },
     "output_type": "display_data"
    }
   ],
   "source": [
    "# Lembrando que 17 anos não é um valor de fato, é para casos que n seja identificados, mas vamos dizer\n",
    "# para fins do exemplo que seja.\n",
    "ax45 = sns.boxplot( x = \"Anos de Estudo\", data = dados,             \n",
    "                   orient = \"h\")                   \n",
    "ax45.figure.set_size_inches(12,4)\n",
    "ax45.set_title(\"Anos de Estudo\", fontsize = 18)\n",
    "ax45.set_xlabel(\"Anos\", fontsize = 14)\n",
    "ax45"
   ]
  },
  {
   "cell_type": "markdown",
   "id": "dbe40976",
   "metadata": {},
   "source": [
    "Vendo é fácil de visualizar que tem uma Assimetria para a esquerda, e uma concentração grande de pessoas com 11 a 12 anos de estudo.\n",
    "\n",
    "Existe alguma diferença para ambos os sexos? Vamos ver.\n",
    "\n",
    "## Exemplo 6: Anos de Estudo ambos os Sexos"
   ]
  },
  {
   "cell_type": "code",
   "execution_count": 85,
   "id": "aa76a27f",
   "metadata": {},
   "outputs": [
    {
     "data": {
      "text/plain": [
       "<AxesSubplot:title={'center':'Anos de Estudo'}, xlabel='Anos', ylabel='Sexo'>"
      ]
     },
     "execution_count": 85,
     "metadata": {},
     "output_type": "execute_result"
    },
    {
     "data": {
      "image/png": "[encoded data removed]",
      "text/plain": [
       "<Figure size 864x288 with 1 Axes>"
      ]
     },
     "metadata": {
      "needs_background": "light"
     },
     "output_type": "display_data"
    }
   ],
   "source": [
    "ax45 = sns.boxplot( x = \"Anos de Estudo\", y = \"Sexo\", data = dados,             \n",
    "                   orient = \"h\")                   \n",
    "ax45.figure.set_size_inches(12,4)\n",
    "ax45.set_title(\"Anos de Estudo\", fontsize = 18)\n",
    "ax45.set_xlabel(\"Anos\", fontsize = 14)\n",
    "ax45"
   ]
  },
  {
   "cell_type": "markdown",
   "id": "2fd52fc3",
   "metadata": {},
   "source": [
    "Mulheres tem, em geral, uma maior quantidade de anos de estudo que homens, podendo ver claramente que 75% dos homens tem a mesma quantidade de anos de estudo que 50% das mulheres, e os outros 50% tem mais anos de estudo ainda."
   ]
  },
  {
   "attachments": {
    "image.png": {
     "image/png": "[encoded data removed]"
    }
   },
   "cell_type": "markdown",
   "id": "3f23ed1e",
   "metadata": {},
   "source": [
    "Temos aqui uma figura para ajudar a relacionar com as figuras entre relações de medidas separatrizes! Associando a mediana e os outros dois quartis com as possíveis simetrias. Facilitando entender como é o comportamento.\n",
    "\n",
    "![image.png](attachment:image.png)"
   ]
  },
  {
   "cell_type": "markdown",
   "id": "5cd1ebeb",
   "metadata": {},
   "source": [
    "## Exemplo 7: Exercício de Estados por Renda"
   ]
  },
  {
   "cell_type": "code",
   "execution_count": 86,
   "id": "b1e21b14",
   "metadata": {},
   "outputs": [
    {
     "data": {
      "text/plain": [
       "<AxesSubplot:title={'center':'Renda (R$) - Bahia X São Paulo'}, xlabel='R$', ylabel='UF'>"
      ]
     },
     "execution_count": 86,
     "metadata": {},
     "output_type": "execute_result"
    },
    {
     "data": {
      "image/png": "[encoded data removed]",
      "text/plain": [
       "<Figure size 864x432 with 1 Axes>"
      ]
     },
     "metadata": {
      "needs_background": "light"
     },
     "output_type": "display_data"
    }
   ],
   "source": [
    "ax46 = sns.boxplot(x = 'Renda', y = 'UF', data = dados.query('(UF==35 or UF==29) and Renda < 10000'), orient = 'h')\n",
    "\n",
    "ax46.figure.set_size_inches(12, 6)\n",
    "ax46.set_title('Renda (R$) - Bahia X São Paulo', fontsize=18)\n",
    "ax46.set_xlabel('R$', fontsize=14)\n",
    "ax46"
   ]
  },
  {
   "cell_type": "markdown",
   "id": "de64d119",
   "metadata": {},
   "source": [
    "# Aula5: Medidas de dispersão\n",
    "\n",
    "Aula focada naquilo que sobrou!\n",
    "## Desvio médio absoluto"
   ]
  },
  {
   "cell_type": "code",
   "execution_count": 87,
   "id": "4482e33c",
   "metadata": {},
   "outputs": [
    {
     "data": {
      "text/html": [
       "<div>\n",
       "<style scoped>\n",
       "    .dataframe tbody tr th:only-of-type {\n",
       "        vertical-align: middle;\n",
       "    }\n",
       "\n",
       "    .dataframe tbody tr th {\n",
       "        vertical-align: top;\n",
       "    }\n",
       "\n",
       "    .dataframe thead th {\n",
       "        text-align: right;\n",
       "    }\n",
       "</style>\n",
       "<table border=\"1\" class=\"dataframe\">\n",
       "  <thead>\n",
       "    <tr style=\"text-align: right;\">\n",
       "      <th>Matérias</th>\n",
       "      <th>Fulano</th>\n",
       "      <th>Beltrano</th>\n",
       "      <th>Sicrano</th>\n",
       "    </tr>\n",
       "  </thead>\n",
       "  <tbody>\n",
       "    <tr>\n",
       "      <th>Matemática</th>\n",
       "      <td>8</td>\n",
       "      <td>10.0</td>\n",
       "      <td>7.5</td>\n",
       "    </tr>\n",
       "    <tr>\n",
       "      <th>Português</th>\n",
       "      <td>10</td>\n",
       "      <td>2.0</td>\n",
       "      <td>8.0</td>\n",
       "    </tr>\n",
       "    <tr>\n",
       "      <th>Inglês</th>\n",
       "      <td>4</td>\n",
       "      <td>0.5</td>\n",
       "      <td>7.0</td>\n",
       "    </tr>\n",
       "    <tr>\n",
       "      <th>Geografia</th>\n",
       "      <td>8</td>\n",
       "      <td>1.0</td>\n",
       "      <td>8.0</td>\n",
       "    </tr>\n",
       "    <tr>\n",
       "      <th>História</th>\n",
       "      <td>6</td>\n",
       "      <td>3.0</td>\n",
       "      <td>8.0</td>\n",
       "    </tr>\n",
       "    <tr>\n",
       "      <th>Física</th>\n",
       "      <td>10</td>\n",
       "      <td>9.5</td>\n",
       "      <td>8.5</td>\n",
       "    </tr>\n",
       "    <tr>\n",
       "      <th>Química</th>\n",
       "      <td>8</td>\n",
       "      <td>10.0</td>\n",
       "      <td>7.0</td>\n",
       "    </tr>\n",
       "  </tbody>\n",
       "</table>\n",
       "</div>"
      ],
      "text/plain": [
       "Matérias    Fulano  Beltrano  Sicrano\n",
       "Matemática       8      10.0      7.5\n",
       "Português       10       2.0      8.0\n",
       "Inglês           4       0.5      7.0\n",
       "Geografia        8       1.0      8.0\n",
       "História         6       3.0      8.0\n",
       "Física          10       9.5      8.5\n",
       "Química          8      10.0      7.0"
      ]
     },
     "execution_count": 87,
     "metadata": {},
     "output_type": "execute_result"
    }
   ],
   "source": [
    "# Voltando à relação entre nota média de 3 alunos\n",
    "df"
   ]
  },
  {
   "cell_type": "code",
   "execution_count": 88,
   "id": "5cabb3fe",
   "metadata": {},
   "outputs": [
    {
     "data": {
      "text/plain": [
       "Matérias\n",
       "Fulano      7.714286\n",
       "Beltrano    5.142857\n",
       "Sicrano     7.714286\n",
       "dtype: float64"
      ]
     },
     "execution_count": 88,
     "metadata": {},
     "output_type": "execute_result"
    }
   ],
   "source": [
    "df.mean()"
   ]
  },
  {
   "cell_type": "markdown",
   "id": "018b371d",
   "metadata": {},
   "source": [
    "Fulano e Sicrano tem notas médias iguais, contudo comportamentos diferentes entre suas notas. Eles tbm têm a mesma mediana:"
   ]
  },
  {
   "cell_type": "code",
   "execution_count": 89,
   "id": "a4be7787",
   "metadata": {},
   "outputs": [
    {
     "data": {
      "text/plain": [
       "Matérias\n",
       "Fulano      8.0\n",
       "Beltrano    3.0\n",
       "Sicrano     8.0\n",
       "dtype: float64"
      ]
     },
     "execution_count": 89,
     "metadata": {},
     "output_type": "execute_result"
    }
   ],
   "source": [
    "df.median()"
   ]
  },
  {
   "attachments": {
    "image.png": {
     "image/png": "[encoded data removed]"
    }
   },
   "cell_type": "markdown",
   "id": "67cc9016",
   "metadata": {},
   "source": [
    "Mas podemos agora ver o desvio médio absoluto através de uma dada expressão matemática:\n",
    "![image.png](attachment:image.png)\n",
    "\n",
    "Que é basicamente a soma de todas as diferenças entre cada elemento e o valor médio.\n",
    "\n",
    "Vamos fazer para cada um dos casos."
   ]
  },
  {
   "cell_type": "code",
   "execution_count": 90,
   "id": "a45ed0da",
   "metadata": {},
   "outputs": [
    {
     "data": {
      "text/html": [
       "<div>\n",
       "<style scoped>\n",
       "    .dataframe tbody tr th:only-of-type {\n",
       "        vertical-align: middle;\n",
       "    }\n",
       "\n",
       "    .dataframe tbody tr th {\n",
       "        vertical-align: top;\n",
       "    }\n",
       "\n",
       "    .dataframe thead th {\n",
       "        text-align: right;\n",
       "    }\n",
       "</style>\n",
       "<table border=\"1\" class=\"dataframe\">\n",
       "  <thead>\n",
       "    <tr style=\"text-align: right;\">\n",
       "      <th></th>\n",
       "      <th>index</th>\n",
       "      <th>Fulano</th>\n",
       "    </tr>\n",
       "  </thead>\n",
       "  <tbody>\n",
       "    <tr>\n",
       "      <th>0</th>\n",
       "      <td>Inglês</td>\n",
       "      <td>4</td>\n",
       "    </tr>\n",
       "    <tr>\n",
       "      <th>1</th>\n",
       "      <td>História</td>\n",
       "      <td>6</td>\n",
       "    </tr>\n",
       "    <tr>\n",
       "      <th>2</th>\n",
       "      <td>Matemática</td>\n",
       "      <td>8</td>\n",
       "    </tr>\n",
       "    <tr>\n",
       "      <th>3</th>\n",
       "      <td>Geografia</td>\n",
       "      <td>8</td>\n",
       "    </tr>\n",
       "    <tr>\n",
       "      <th>4</th>\n",
       "      <td>Química</td>\n",
       "      <td>8</td>\n",
       "    </tr>\n",
       "    <tr>\n",
       "      <th>5</th>\n",
       "      <td>Português</td>\n",
       "      <td>10</td>\n",
       "    </tr>\n",
       "    <tr>\n",
       "      <th>6</th>\n",
       "      <td>Física</td>\n",
       "      <td>10</td>\n",
       "    </tr>\n",
       "  </tbody>\n",
       "</table>\n",
       "</div>"
      ],
      "text/plain": [
       "        index  Fulano\n",
       "0      Inglês       4\n",
       "1    História       6\n",
       "2  Matemática       8\n",
       "3   Geografia       8\n",
       "4     Química       8\n",
       "5   Português      10\n",
       "6      Física      10"
      ]
     },
     "execution_count": 90,
     "metadata": {},
     "output_type": "execute_result"
    }
   ],
   "source": [
    "notas_fulano"
   ]
  },
  {
   "cell_type": "code",
   "execution_count": 91,
   "id": "2afa080d",
   "metadata": {},
   "outputs": [
    {
     "data": {
      "text/plain": [
       "7.714285714285714"
      ]
     },
     "execution_count": 91,
     "metadata": {},
     "output_type": "execute_result"
    }
   ],
   "source": [
    "# para encontrar a média:\n",
    "nota_media_fulano = notas_fulano[\"Fulano\"].mean()\n",
    "nota_media_fulano"
   ]
  },
  {
   "cell_type": "code",
   "execution_count": 92,
   "id": "b39de322",
   "metadata": {},
   "outputs": [
    {
     "data": {
      "text/html": [
       "<div>\n",
       "<style scoped>\n",
       "    .dataframe tbody tr th:only-of-type {\n",
       "        vertical-align: middle;\n",
       "    }\n",
       "\n",
       "    .dataframe tbody tr th {\n",
       "        vertical-align: top;\n",
       "    }\n",
       "\n",
       "    .dataframe thead th {\n",
       "        text-align: right;\n",
       "    }\n",
       "</style>\n",
       "<table border=\"1\" class=\"dataframe\">\n",
       "  <thead>\n",
       "    <tr style=\"text-align: right;\">\n",
       "      <th></th>\n",
       "      <th>index</th>\n",
       "      <th>Fulano</th>\n",
       "      <th>Desvio</th>\n",
       "    </tr>\n",
       "  </thead>\n",
       "  <tbody>\n",
       "    <tr>\n",
       "      <th>0</th>\n",
       "      <td>Inglês</td>\n",
       "      <td>4</td>\n",
       "      <td>-3.714286</td>\n",
       "    </tr>\n",
       "    <tr>\n",
       "      <th>1</th>\n",
       "      <td>História</td>\n",
       "      <td>6</td>\n",
       "      <td>-1.714286</td>\n",
       "    </tr>\n",
       "    <tr>\n",
       "      <th>2</th>\n",
       "      <td>Matemática</td>\n",
       "      <td>8</td>\n",
       "      <td>0.285714</td>\n",
       "    </tr>\n",
       "    <tr>\n",
       "      <th>3</th>\n",
       "      <td>Geografia</td>\n",
       "      <td>8</td>\n",
       "      <td>0.285714</td>\n",
       "    </tr>\n",
       "    <tr>\n",
       "      <th>4</th>\n",
       "      <td>Química</td>\n",
       "      <td>8</td>\n",
       "      <td>0.285714</td>\n",
       "    </tr>\n",
       "    <tr>\n",
       "      <th>5</th>\n",
       "      <td>Português</td>\n",
       "      <td>10</td>\n",
       "      <td>2.285714</td>\n",
       "    </tr>\n",
       "    <tr>\n",
       "      <th>6</th>\n",
       "      <td>Física</td>\n",
       "      <td>10</td>\n",
       "      <td>2.285714</td>\n",
       "    </tr>\n",
       "  </tbody>\n",
       "</table>\n",
       "</div>"
      ],
      "text/plain": [
       "        index  Fulano    Desvio\n",
       "0      Inglês       4 -3.714286\n",
       "1    História       6 -1.714286\n",
       "2  Matemática       8  0.285714\n",
       "3   Geografia       8  0.285714\n",
       "4     Química       8  0.285714\n",
       "5   Português      10  2.285714\n",
       "6      Física      10  2.285714"
      ]
     },
     "execution_count": 92,
     "metadata": {},
     "output_type": "execute_result"
    }
   ],
   "source": [
    "#Criaremos agora a coluna desvio dentro do dataframe de fulano:\n",
    "notas_fulano[\"Desvio\"] = notas_fulano[\"Fulano\"] - nota_media_fulano\n",
    "notas_fulano"
   ]
  },
  {
   "cell_type": "markdown",
   "id": "20e08b11",
   "metadata": {},
   "source": [
    "E agora vemos na coluna 'Desvio' como cada uma das diferenças entre as notas para a nota média, tendo valores positivos e negativos."
   ]
  },
  {
   "cell_type": "code",
   "execution_count": 93,
   "id": "7e491748",
   "metadata": {},
   "outputs": [
    {
     "data": {
      "text/plain": [
       "-8.881784197001252e-16"
      ]
     },
     "execution_count": 93,
     "metadata": {},
     "output_type": "execute_result"
    }
   ],
   "source": [
    "# teremos que fazer um caso com a soma com só valores positivos!\n",
    "# Caso tentemos fazer a soma agora, gerará um valor negativo.\n",
    "# Por isso depois precisamos fazer o calculo com o absoluto do valor.\n",
    "notas_fulano['Desvio'].sum()"
   ]
  },
  {
   "cell_type": "code",
   "execution_count": 94,
   "id": "6de275d4",
   "metadata": {},
   "outputs": [
    {
     "data": {
      "text/html": [
       "<div>\n",
       "<style scoped>\n",
       "    .dataframe tbody tr th:only-of-type {\n",
       "        vertical-align: middle;\n",
       "    }\n",
       "\n",
       "    .dataframe tbody tr th {\n",
       "        vertical-align: top;\n",
       "    }\n",
       "\n",
       "    .dataframe thead th {\n",
       "        text-align: right;\n",
       "    }\n",
       "</style>\n",
       "<table border=\"1\" class=\"dataframe\">\n",
       "  <thead>\n",
       "    <tr style=\"text-align: right;\">\n",
       "      <th></th>\n",
       "      <th>index</th>\n",
       "      <th>Fulano</th>\n",
       "      <th>Desvio</th>\n",
       "      <th>|Desvio|</th>\n",
       "    </tr>\n",
       "  </thead>\n",
       "  <tbody>\n",
       "    <tr>\n",
       "      <th>0</th>\n",
       "      <td>Inglês</td>\n",
       "      <td>4</td>\n",
       "      <td>-3.714286</td>\n",
       "      <td>3.714286</td>\n",
       "    </tr>\n",
       "    <tr>\n",
       "      <th>1</th>\n",
       "      <td>História</td>\n",
       "      <td>6</td>\n",
       "      <td>-1.714286</td>\n",
       "      <td>1.714286</td>\n",
       "    </tr>\n",
       "    <tr>\n",
       "      <th>2</th>\n",
       "      <td>Matemática</td>\n",
       "      <td>8</td>\n",
       "      <td>0.285714</td>\n",
       "      <td>0.285714</td>\n",
       "    </tr>\n",
       "    <tr>\n",
       "      <th>3</th>\n",
       "      <td>Geografia</td>\n",
       "      <td>8</td>\n",
       "      <td>0.285714</td>\n",
       "      <td>0.285714</td>\n",
       "    </tr>\n",
       "    <tr>\n",
       "      <th>4</th>\n",
       "      <td>Química</td>\n",
       "      <td>8</td>\n",
       "      <td>0.285714</td>\n",
       "      <td>0.285714</td>\n",
       "    </tr>\n",
       "    <tr>\n",
       "      <th>5</th>\n",
       "      <td>Português</td>\n",
       "      <td>10</td>\n",
       "      <td>2.285714</td>\n",
       "      <td>2.285714</td>\n",
       "    </tr>\n",
       "    <tr>\n",
       "      <th>6</th>\n",
       "      <td>Física</td>\n",
       "      <td>10</td>\n",
       "      <td>2.285714</td>\n",
       "      <td>2.285714</td>\n",
       "    </tr>\n",
       "  </tbody>\n",
       "</table>\n",
       "</div>"
      ],
      "text/plain": [
       "        index  Fulano    Desvio  |Desvio|\n",
       "0      Inglês       4 -3.714286  3.714286\n",
       "1    História       6 -1.714286  1.714286\n",
       "2  Matemática       8  0.285714  0.285714\n",
       "3   Geografia       8  0.285714  0.285714\n",
       "4     Química       8  0.285714  0.285714\n",
       "5   Português      10  2.285714  2.285714\n",
       "6      Física      10  2.285714  2.285714"
      ]
     },
     "execution_count": 94,
     "metadata": {},
     "output_type": "execute_result"
    }
   ],
   "source": [
    "# Esse valor é muito próximo de zero.\n",
    "# Vamos agora fazer para o absoluto.\n",
    "# Pode ser assim, ou pode ser .abs()\n",
    "notas_fulano['|Desvio|'] = abs(notas_fulano['Desvio'])\n",
    "notas_fulano"
   ]
  },
  {
   "cell_type": "code",
   "execution_count": 95,
   "id": "ec9c598f",
   "metadata": {},
   "outputs": [
    {
     "data": {
      "text/plain": [
       "<AxesSubplot:>"
      ]
     },
     "execution_count": 95,
     "metadata": {},
     "output_type": "execute_result"
    },
    {
     "data": {
      "image/png": "[encoded data removed]",
      "text/plain": [
       "<Figure size 1008x432 with 1 Axes>"
      ]
     },
     "metadata": {
      "needs_background": "light"
     },
     "output_type": "display_data"
    }
   ],
   "source": [
    "# Agr vem um representação gráfica do que ele quer fazer:\n",
    "# Mostrando a média pela linha vermelha, e pegando os pontos pela\n",
    "# linha tracejada.\n",
    "ax5 = notas_fulano['Fulano'].plot(style = 'o')\n",
    "ax5.figure.set_size_inches(14, 6)\n",
    "ax5.hlines(y = nota_media_fulano, xmin = 0, xmax = notas_fulano.shape[0] - 1, colors = 'red')\n",
    "for i in range(notas_fulano.shape[0]):\n",
    "    ax5.vlines(x = i, ymin = nota_media_fulano, ymax = notas_fulano['Fulano'][i], linestyle='dashed')\n",
    "ax5"
   ]
  },
  {
   "cell_type": "markdown",
   "id": "59ffe28c",
   "metadata": {},
   "source": [
    "Trabalhar com desvio médio padrão  implica em pegar todos os pontos negativos, jogar eles lá para o lado de cima, e definir uma média do desvio de cada um dos pontos."
   ]
  },
  {
   "cell_type": "code",
   "execution_count": 96,
   "id": "7040e2a8",
   "metadata": {},
   "outputs": [
    {
     "data": {
      "text/plain": [
       "1.5510204081632655"
      ]
     },
     "execution_count": 96,
     "metadata": {},
     "output_type": "execute_result"
    }
   ],
   "source": [
    "notas_fulano['|Desvio|'].mean()"
   ]
  },
  {
   "cell_type": "code",
   "execution_count": 97,
   "id": "568e3eb6",
   "metadata": {},
   "outputs": [
    {
     "data": {
      "text/plain": [
       "1.5510204081632655"
      ]
     },
     "execution_count": 97,
     "metadata": {},
     "output_type": "execute_result"
    }
   ],
   "source": [
    "# Outra forma de fazer isso, mais simples, resumindo tudo que a gente fez:\n",
    "notas_fulano[\"Fulano\"].mad()"
   ]
  },
  {
   "cell_type": "code",
   "execution_count": 98,
   "id": "40cbf8a7",
   "metadata": {},
   "outputs": [
    {
     "data": {
      "text/plain": [
       "0.4693877551020408"
      ]
     },
     "execution_count": 98,
     "metadata": {},
     "output_type": "execute_result"
    }
   ],
   "source": [
    "# Dá no mesmo resultado como esperado. Fazendo agora dos outros alunos:\n",
    "df.Sicrano.mad()"
   ]
  },
  {
   "cell_type": "code",
   "execution_count": 99,
   "id": "24d83109",
   "metadata": {},
   "outputs": [
    {
     "data": {
      "text/plain": [
       "4.020408163265306"
      ]
     },
     "execution_count": 99,
     "metadata": {},
     "output_type": "execute_result"
    }
   ],
   "source": [
    "df.Beltrano.mad()"
   ]
  },
  {
   "cell_type": "markdown",
   "id": "44e41f2a",
   "metadata": {},
   "source": [
    "Isso depois pode ser pensado para o caso do data frame de dados, como é o desvio médio absoluto do pessoal que ganha renda?\n",
    "\n"
   ]
  },
  {
   "attachments": {
    "image.png": {
     "image/png": "[encoded data removed]"
    }
   },
   "cell_type": "markdown",
   "id": "d70a64c8",
   "metadata": {},
   "source": [
    "## Variância\n",
    "\n",
    "A variância é construída a partir das diferenças entre cada observação e a média dos dados. Ou seja, o desvio em torno da média. No cálculo da variância, os desvios em torno da média são elevados ao quadrado(evita número negativo). Portanto, calcularemos a soma do quadrado dos desvios dividido pelo número total.\n",
    "\n",
    "Existe diferença do cálculo para dados populacionais e amostrais. No caso de estatística, geralmente trabalharemos com amostrais.\n",
    "\n",
    "![image.png](attachment:image.png)\n",
    "\n",
    "O primeiro _sigma_ ao quadrado, sendo igual ao somatório dos desvios em relação à média populacional representado por _mi_ e dividido por 'n'.\n",
    "\n",
    "Já no segundo, dividiremos por \"**n - 1**\" conhecido como **Fator de correção de Bessel**, que teremos uma estimativa mais precisa do que o parâmetro populacional."
   ]
  },
  {
   "cell_type": "code",
   "execution_count": 100,
   "id": "95fe664e",
   "metadata": {},
   "outputs": [
    {
     "data": {
      "text/html": [
       "<div>\n",
       "<style scoped>\n",
       "    .dataframe tbody tr th:only-of-type {\n",
       "        vertical-align: middle;\n",
       "    }\n",
       "\n",
       "    .dataframe tbody tr th {\n",
       "        vertical-align: top;\n",
       "    }\n",
       "\n",
       "    .dataframe thead th {\n",
       "        text-align: right;\n",
       "    }\n",
       "</style>\n",
       "<table border=\"1\" class=\"dataframe\">\n",
       "  <thead>\n",
       "    <tr style=\"text-align: right;\">\n",
       "      <th></th>\n",
       "      <th>index</th>\n",
       "      <th>Fulano</th>\n",
       "      <th>Desvio</th>\n",
       "      <th>|Desvio|</th>\n",
       "      <th>(Desvio)^2</th>\n",
       "    </tr>\n",
       "  </thead>\n",
       "  <tbody>\n",
       "    <tr>\n",
       "      <th>0</th>\n",
       "      <td>Inglês</td>\n",
       "      <td>4</td>\n",
       "      <td>-3.714286</td>\n",
       "      <td>3.714286</td>\n",
       "      <td>13.795918</td>\n",
       "    </tr>\n",
       "    <tr>\n",
       "      <th>1</th>\n",
       "      <td>História</td>\n",
       "      <td>6</td>\n",
       "      <td>-1.714286</td>\n",
       "      <td>1.714286</td>\n",
       "      <td>2.938776</td>\n",
       "    </tr>\n",
       "    <tr>\n",
       "      <th>2</th>\n",
       "      <td>Matemática</td>\n",
       "      <td>8</td>\n",
       "      <td>0.285714</td>\n",
       "      <td>0.285714</td>\n",
       "      <td>0.081633</td>\n",
       "    </tr>\n",
       "    <tr>\n",
       "      <th>3</th>\n",
       "      <td>Geografia</td>\n",
       "      <td>8</td>\n",
       "      <td>0.285714</td>\n",
       "      <td>0.285714</td>\n",
       "      <td>0.081633</td>\n",
       "    </tr>\n",
       "    <tr>\n",
       "      <th>4</th>\n",
       "      <td>Química</td>\n",
       "      <td>8</td>\n",
       "      <td>0.285714</td>\n",
       "      <td>0.285714</td>\n",
       "      <td>0.081633</td>\n",
       "    </tr>\n",
       "    <tr>\n",
       "      <th>5</th>\n",
       "      <td>Português</td>\n",
       "      <td>10</td>\n",
       "      <td>2.285714</td>\n",
       "      <td>2.285714</td>\n",
       "      <td>5.224490</td>\n",
       "    </tr>\n",
       "    <tr>\n",
       "      <th>6</th>\n",
       "      <td>Física</td>\n",
       "      <td>10</td>\n",
       "      <td>2.285714</td>\n",
       "      <td>2.285714</td>\n",
       "      <td>5.224490</td>\n",
       "    </tr>\n",
       "  </tbody>\n",
       "</table>\n",
       "</div>"
      ],
      "text/plain": [
       "        index  Fulano    Desvio  |Desvio|  (Desvio)^2\n",
       "0      Inglês       4 -3.714286  3.714286   13.795918\n",
       "1    História       6 -1.714286  1.714286    2.938776\n",
       "2  Matemática       8  0.285714  0.285714    0.081633\n",
       "3   Geografia       8  0.285714  0.285714    0.081633\n",
       "4     Química       8  0.285714  0.285714    0.081633\n",
       "5   Português      10  2.285714  2.285714    5.224490\n",
       "6      Física      10  2.285714  2.285714    5.224490"
      ]
     },
     "execution_count": 100,
     "metadata": {},
     "output_type": "execute_result"
    }
   ],
   "source": [
    "notas_fulano[\"(Desvio)^2\"] = notas_fulano[\"Desvio\"].pow(2)\n",
    "notas_fulano"
   ]
  },
  {
   "cell_type": "code",
   "execution_count": 101,
   "id": "12aaab6d",
   "metadata": {},
   "outputs": [
    {
     "data": {
      "text/plain": [
       "4.57142857142857"
      ]
     },
     "execution_count": 101,
     "metadata": {},
     "output_type": "execute_result"
    }
   ],
   "source": [
    "notas_fulano[\"(Desvio)^2\"].sum() / (len(notas_fulano) -1)"
   ]
  },
  {
   "cell_type": "code",
   "execution_count": 102,
   "id": "a7b9f899",
   "metadata": {},
   "outputs": [
    {
     "data": {
      "text/plain": [
       "4.57142857142857"
      ]
     },
     "execution_count": 102,
     "metadata": {},
     "output_type": "execute_result"
    }
   ],
   "source": [
    "# forma mais simples utilizando pandas\n",
    "variancia_amostral = notas_fulano['Fulano'].var()\n",
    "variancia_amostral"
   ]
  },
  {
   "attachments": {
    "image.png": {
     "image/png": "[encoded data removed]"
    }
   },
   "cell_type": "markdown",
   "id": "3fc6af10",
   "metadata": {},
   "source": [
    "## Desvio padrão\n",
    "Medida de dispersão mais conhecida, a ponto de eu trocar com o desvio médio absoluto.\n",
    "\n",
    "Suas fórmulas são idênticas ao da variância, com o acrescento de uma raiz.\n",
    "![image.png](attachment:image.png)"
   ]
  },
  {
   "cell_type": "code",
   "execution_count": 103,
   "id": "a3f711e3",
   "metadata": {},
   "outputs": [
    {
     "data": {
      "text/plain": [
       "2.1380899352993947"
      ]
     },
     "execution_count": 103,
     "metadata": {},
     "output_type": "execute_result"
    }
   ],
   "source": [
    "# basta fazer a raiz quadrada  da variância!\n",
    "np.sqrt(variancia_amostral)"
   ]
  },
  {
   "cell_type": "code",
   "execution_count": 104,
   "id": "efcc24f0",
   "metadata": {},
   "outputs": [
    {
     "data": {
      "text/plain": [
       "2.1380899352993947"
      ]
     },
     "execution_count": 104,
     "metadata": {},
     "output_type": "execute_result"
    }
   ],
   "source": [
    "# Outra forma de fazer isso, a sua função padrão:\n",
    "desvio_padrao = notas_fulano[\"Fulano\"].std()\n",
    "desvio_padrao"
   ]
  },
  {
   "cell_type": "code",
   "execution_count": 105,
   "id": "c4158776",
   "metadata": {},
   "outputs": [
    {
     "data": {
      "text/html": [
       "<div>\n",
       "<style scoped>\n",
       "    .dataframe tbody tr th:only-of-type {\n",
       "        vertical-align: middle;\n",
       "    }\n",
       "\n",
       "    .dataframe tbody tr th {\n",
       "        vertical-align: top;\n",
       "    }\n",
       "\n",
       "    .dataframe thead th {\n",
       "        text-align: right;\n",
       "    }\n",
       "</style>\n",
       "<table border=\"1\" class=\"dataframe\">\n",
       "  <thead>\n",
       "    <tr style=\"text-align: right;\">\n",
       "      <th>Matérias</th>\n",
       "      <th>Fulano</th>\n",
       "      <th>Beltrano</th>\n",
       "      <th>Sicrano</th>\n",
       "    </tr>\n",
       "  </thead>\n",
       "  <tbody>\n",
       "    <tr>\n",
       "      <th>Matemática</th>\n",
       "      <td>8</td>\n",
       "      <td>10.0</td>\n",
       "      <td>7.5</td>\n",
       "    </tr>\n",
       "    <tr>\n",
       "      <th>Português</th>\n",
       "      <td>10</td>\n",
       "      <td>2.0</td>\n",
       "      <td>8.0</td>\n",
       "    </tr>\n",
       "    <tr>\n",
       "      <th>Inglês</th>\n",
       "      <td>4</td>\n",
       "      <td>0.5</td>\n",
       "      <td>7.0</td>\n",
       "    </tr>\n",
       "    <tr>\n",
       "      <th>Geografia</th>\n",
       "      <td>8</td>\n",
       "      <td>1.0</td>\n",
       "      <td>8.0</td>\n",
       "    </tr>\n",
       "    <tr>\n",
       "      <th>História</th>\n",
       "      <td>6</td>\n",
       "      <td>3.0</td>\n",
       "      <td>8.0</td>\n",
       "    </tr>\n",
       "    <tr>\n",
       "      <th>Física</th>\n",
       "      <td>10</td>\n",
       "      <td>9.5</td>\n",
       "      <td>8.5</td>\n",
       "    </tr>\n",
       "    <tr>\n",
       "      <th>Química</th>\n",
       "      <td>8</td>\n",
       "      <td>10.0</td>\n",
       "      <td>7.0</td>\n",
       "    </tr>\n",
       "  </tbody>\n",
       "</table>\n",
       "</div>"
      ],
      "text/plain": [
       "Matérias    Fulano  Beltrano  Sicrano\n",
       "Matemática       8      10.0      7.5\n",
       "Português       10       2.0      8.0\n",
       "Inglês           4       0.5      7.0\n",
       "Geografia        8       1.0      8.0\n",
       "História         6       3.0      8.0\n",
       "Física          10       9.5      8.5\n",
       "Química          8      10.0      7.0"
      ]
     },
     "execution_count": 105,
     "metadata": {},
     "output_type": "execute_result"
    }
   ],
   "source": [
    "# lembrando df\n",
    "df"
   ]
  },
  {
   "cell_type": "code",
   "execution_count": 106,
   "id": "c39d10f3",
   "metadata": {},
   "outputs": [
    {
     "data": {
      "text/plain": [
       "Matérias\n",
       "Fulano      7.714286\n",
       "Beltrano    5.142857\n",
       "Sicrano     7.714286\n",
       "dtype: float64"
      ]
     },
     "execution_count": 106,
     "metadata": {},
     "output_type": "execute_result"
    }
   ],
   "source": [
    "df.mean()"
   ]
  },
  {
   "cell_type": "code",
   "execution_count": 107,
   "id": "1c8bf07a",
   "metadata": {},
   "outputs": [
    {
     "data": {
      "text/plain": [
       "Matérias\n",
       "Fulano      8.0\n",
       "Beltrano    3.0\n",
       "Sicrano     8.0\n",
       "dtype: float64"
      ]
     },
     "execution_count": 107,
     "metadata": {},
     "output_type": "execute_result"
    }
   ],
   "source": [
    "df.median()"
   ]
  },
  {
   "cell_type": "code",
   "execution_count": 108,
   "id": "265f420e",
   "metadata": {},
   "outputs": [
    {
     "data": {
      "text/html": [
       "<div>\n",
       "<style scoped>\n",
       "    .dataframe tbody tr th:only-of-type {\n",
       "        vertical-align: middle;\n",
       "    }\n",
       "\n",
       "    .dataframe tbody tr th {\n",
       "        vertical-align: top;\n",
       "    }\n",
       "\n",
       "    .dataframe thead th {\n",
       "        text-align: right;\n",
       "    }\n",
       "</style>\n",
       "<table border=\"1\" class=\"dataframe\">\n",
       "  <thead>\n",
       "    <tr style=\"text-align: right;\">\n",
       "      <th>Matérias</th>\n",
       "      <th>Fulano</th>\n",
       "      <th>Beltrano</th>\n",
       "      <th>Sicrano</th>\n",
       "    </tr>\n",
       "  </thead>\n",
       "  <tbody>\n",
       "    <tr>\n",
       "      <th>0</th>\n",
       "      <td>8</td>\n",
       "      <td>10.0</td>\n",
       "      <td>8.0</td>\n",
       "    </tr>\n",
       "  </tbody>\n",
       "</table>\n",
       "</div>"
      ],
      "text/plain": [
       "Matérias  Fulano  Beltrano  Sicrano\n",
       "0              8      10.0      8.0"
      ]
     },
     "execution_count": 108,
     "metadata": {},
     "output_type": "execute_result"
    }
   ],
   "source": [
    "df.mode()"
   ]
  },
  {
   "cell_type": "code",
   "execution_count": 109,
   "id": "8476098a",
   "metadata": {},
   "outputs": [
    {
     "data": {
      "text/plain": [
       "Matérias\n",
       "Fulano      2.138090\n",
       "Beltrano    4.460141\n",
       "Sicrano     0.566947\n",
       "dtype: float64"
      ]
     },
     "execution_count": 109,
     "metadata": {},
     "output_type": "execute_result"
    }
   ],
   "source": [
    "df.std()"
   ]
  },
  {
   "cell_type": "markdown",
   "id": "c7303d33",
   "metadata": {},
   "source": [
    "Mostra que apesar de fulano e sicrano teram a mesma média, mediana e moda, parecendo ser o mesmo aluno, o desvio padrão mostra que sicrano tem pouco desvio, logo ele é mais constante nas notas, enquanto fulano tem um desvio maior e tira notas mais extremas."
   ]
  },
  {
   "cell_type": "code",
   "execution_count": 110,
   "id": "c33db941",
   "metadata": {},
   "outputs": [
    {
     "data": {
      "text/html": [
       "<div>\n",
       "<style scoped>\n",
       "    .dataframe tbody tr th:only-of-type {\n",
       "        vertical-align: middle;\n",
       "    }\n",
       "\n",
       "    .dataframe tbody tr th {\n",
       "        vertical-align: top;\n",
       "    }\n",
       "\n",
       "    .dataframe thead th {\n",
       "        text-align: right;\n",
       "    }\n",
       "</style>\n",
       "<table border=\"1\" class=\"dataframe\">\n",
       "  <thead>\n",
       "    <tr style=\"text-align: right;\">\n",
       "      <th></th>\n",
       "      <th>Sexo</th>\n",
       "      <th>Idade</th>\n",
       "    </tr>\n",
       "  </thead>\n",
       "  <tbody>\n",
       "    <tr>\n",
       "      <th>0</th>\n",
       "      <td>H</td>\n",
       "      <td>53</td>\n",
       "    </tr>\n",
       "    <tr>\n",
       "      <th>1</th>\n",
       "      <td>M</td>\n",
       "      <td>72</td>\n",
       "    </tr>\n",
       "    <tr>\n",
       "      <th>2</th>\n",
       "      <td>M</td>\n",
       "      <td>54</td>\n",
       "    </tr>\n",
       "    <tr>\n",
       "      <th>3</th>\n",
       "      <td>M</td>\n",
       "      <td>27</td>\n",
       "    </tr>\n",
       "    <tr>\n",
       "      <th>4</th>\n",
       "      <td>M</td>\n",
       "      <td>30</td>\n",
       "    </tr>\n",
       "    <tr>\n",
       "      <th>5</th>\n",
       "      <td>H</td>\n",
       "      <td>40</td>\n",
       "    </tr>\n",
       "    <tr>\n",
       "      <th>6</th>\n",
       "      <td>H</td>\n",
       "      <td>58</td>\n",
       "    </tr>\n",
       "    <tr>\n",
       "      <th>7</th>\n",
       "      <td>H</td>\n",
       "      <td>32</td>\n",
       "    </tr>\n",
       "    <tr>\n",
       "      <th>8</th>\n",
       "      <td>M</td>\n",
       "      <td>44</td>\n",
       "    </tr>\n",
       "    <tr>\n",
       "      <th>9</th>\n",
       "      <td>M</td>\n",
       "      <td>51</td>\n",
       "    </tr>\n",
       "  </tbody>\n",
       "</table>\n",
       "</div>"
      ],
      "text/plain": [
       "  Sexo  Idade\n",
       "0    H     53\n",
       "1    M     72\n",
       "2    M     54\n",
       "3    M     27\n",
       "4    M     30\n",
       "5    H     40\n",
       "6    H     58\n",
       "7    H     32\n",
       "8    M     44\n",
       "9    M     51"
      ]
     },
     "execution_count": 110,
     "metadata": {},
     "output_type": "execute_result"
    }
   ],
   "source": [
    "# Lembrando de dataset\n",
    "dataset"
   ]
  },
  {
   "cell_type": "code",
   "execution_count": 111,
   "id": "5e672ee5",
   "metadata": {},
   "outputs": [
    {
     "data": {
      "text/plain": [
       "14.184890239656813"
      ]
     },
     "execution_count": 111,
     "metadata": {},
     "output_type": "execute_result"
    }
   ],
   "source": [
    "dataset[\"Idade\"].std()"
   ]
  },
  {
   "cell_type": "code",
   "execution_count": 112,
   "id": "857a92f2",
   "metadata": {},
   "outputs": [
    {
     "data": {
      "text/html": [
       "<div>\n",
       "<style scoped>\n",
       "    .dataframe tbody tr th:only-of-type {\n",
       "        vertical-align: middle;\n",
       "    }\n",
       "\n",
       "    .dataframe tbody tr th {\n",
       "        vertical-align: top;\n",
       "    }\n",
       "\n",
       "    .dataframe thead th {\n",
       "        text-align: right;\n",
       "    }\n",
       "</style>\n",
       "<table border=\"1\" class=\"dataframe\">\n",
       "  <thead>\n",
       "    <tr style=\"text-align: right;\">\n",
       "      <th></th>\n",
       "      <th>Idade</th>\n",
       "    </tr>\n",
       "    <tr>\n",
       "      <th>Sexo</th>\n",
       "      <th></th>\n",
       "    </tr>\n",
       "  </thead>\n",
       "  <tbody>\n",
       "    <tr>\n",
       "      <th>H</th>\n",
       "      <td>11.898879</td>\n",
       "    </tr>\n",
       "    <tr>\n",
       "      <th>M</th>\n",
       "      <td>16.645320</td>\n",
       "    </tr>\n",
       "  </tbody>\n",
       "</table>\n",
       "</div>"
      ],
      "text/plain": [
       "          Idade\n",
       "Sexo           \n",
       "H     11.898879\n",
       "M     16.645320"
      ]
     },
     "execution_count": 112,
     "metadata": {},
     "output_type": "execute_result"
    }
   ],
   "source": [
    "dataset.groupby(\"Sexo\").std()"
   ]
  },
  {
   "cell_type": "code",
   "execution_count": 113,
   "id": "e90c308c",
   "metadata": {},
   "outputs": [
    {
     "data": {
      "text/plain": [
       "Idade    16.64532\n",
       "Name: M, dtype: float64"
      ]
     },
     "execution_count": 113,
     "metadata": {},
     "output_type": "execute_result"
    }
   ],
   "source": [
    "# Ou podemos ser mais precisos:\n",
    "dataset.groupby(['Sexo']).std().loc['M']"
   ]
  },
  {
   "cell_type": "markdown",
   "id": "ad15bc0e",
   "metadata": {},
   "source": [
    "# Aula6: Projeto Final"
   ]
  },
  {
   "cell_type": "code",
   "execution_count": null,
   "id": "528e5f64",
   "metadata": {},
   "outputs": [],
   "source": []
  }
 ],
 "metadata": {
  "kernelspec": {
   "display_name": "Python 3 (ipykernel)",
   "language": "python",
   "name": "python3"
  },
  "language_info": {
   "codemirror_mode": {
    "name": "ipython",
    "version": 3
   },
   "file_extension": ".py",
   "mimetype": "text/x-python",
   "name": "python",
   "nbconvert_exporter": "python",
   "pygments_lexer": "ipython3",
   "version": "3.8.10"
  }
 },
 "nbformat": 4,
 "nbformat_minor": 5
}
